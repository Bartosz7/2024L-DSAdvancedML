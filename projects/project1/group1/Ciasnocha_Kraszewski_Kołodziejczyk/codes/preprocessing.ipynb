{
 "cells": [
  {
   "cell_type": "markdown",
   "source": [
    "# Datasets preparation\n",
    "\n",
    "This notebook showcases how the datasets were prepared for the task of binary classification.\n",
    "A total of 9 datasets is featured including 3 small (<= 10 features) and 6 large datasets (> 10 features).\n",
    "The details about each of them can be found in `DATASETS.md`."
   ],
   "metadata": {
    "collapsed": false
   },
   "id": "68cba912cca3fb0e"
  },
  {
   "cell_type": "code",
   "outputs": [],
   "source": [
    "import matplotlib.pyplot as plt\n",
    "import numpy as np\n",
    "import pandas as pd\n",
    "import seaborn as sns\n",
    "from sklearn.linear_model import LogisticRegression\n",
    "from sklearn.metrics import accuracy_score, confusion_matrix, classification_report\n",
    "from sklearn.model_selection import train_test_split\n",
    "from ucimlrepo import fetch_ucirepo "
   ],
   "metadata": {
    "collapsed": false,
    "ExecuteTime": {
     "end_time": "2024-03-29T11:36:20.572929800Z",
     "start_time": "2024-03-29T11:36:19.623288400Z"
    }
   },
   "id": "f3ea5bbb91d375da",
   "execution_count": 1
  },
  {
   "cell_type": "code",
   "outputs": [],
   "source": [
    "base_dir = \"\"  # directory to keep the datasets in, links to download can be found in DATASETS.md"
   ],
   "metadata": {
    "collapsed": false,
    "ExecuteTime": {
     "end_time": "2024-03-29T11:36:20.642393200Z",
     "start_time": "2024-03-29T11:36:20.528972300Z"
    }
   },
   "id": "8d54e8072829f9bf",
   "execution_count": 2
  },
  {
   "cell_type": "code",
   "outputs": [],
   "source": [
    "def check_missing(data, verbose=True):\n",
    "    missing_percentage = data.isnull().sum() * 100 / len(data)\n",
    "    if verbose:\n",
    "        print(missing_percentage)\n",
    "    else:\n",
    "        return missing_percentage"
   ],
   "metadata": {
    "collapsed": false,
    "ExecuteTime": {
     "end_time": "2024-03-29T11:36:20.766498300Z",
     "start_time": "2024-03-29T11:36:20.638033500Z"
    }
   },
   "id": "96a6e1babbf4f1f3",
   "execution_count": 3
  },
  {
   "cell_type": "code",
   "outputs": [],
   "source": [
    "def test_logistic_regression(X: pd.DataFrame, y: pd.Series, test_size=0.2):\n",
    "    X_train, X_test, y_train, y_test = train_test_split(X, y, test_size=test_size, random_state=42)\n",
    "    model = LogisticRegression()\n",
    "    model.fit(X_train, y_train)\n",
    "    y_pred = model.predict(X_test)\n",
    "    print(accuracy_score(y_test, y_pred))\n",
    "    print(confusion_matrix(y_test, y_pred))\n",
    "    print(classification_report(y_test, y_pred))"
   ],
   "metadata": {
    "collapsed": false,
    "ExecuteTime": {
     "end_time": "2024-03-29T11:36:20.857270700Z",
     "start_time": "2024-03-29T11:36:20.739993800Z"
    }
   },
   "id": "11e2f88beb28cb46",
   "execution_count": 4
  },
  {
   "cell_type": "markdown",
   "source": [
    "### Wine Color Classification"
   ],
   "metadata": {
    "collapsed": false
   },
   "id": "5b56c8c07818422c"
  },
  {
   "cell_type": "code",
   "outputs": [
    {
     "name": "stdout",
     "output_type": "stream",
     "text": [
      "   fixed acidity  volatile acidity  citric acid  residual sugar  chlorides  \\\n",
      "0            7.4              0.70         0.00             1.9      0.076   \n",
      "1            7.8              0.88         0.00             2.6      0.098   \n",
      "2            7.8              0.76         0.04             2.3      0.092   \n",
      "3           11.2              0.28         0.56             1.9      0.075   \n",
      "4            7.4              0.70         0.00             1.9      0.076   \n",
      "\n",
      "   free sulfur dioxide  total sulfur dioxide  density    pH  sulphates  \\\n",
      "0                 11.0                  34.0   0.9978  3.51       0.56   \n",
      "1                 25.0                  67.0   0.9968  3.20       0.68   \n",
      "2                 15.0                  54.0   0.9970  3.26       0.65   \n",
      "3                 17.0                  60.0   0.9980  3.16       0.58   \n",
      "4                 11.0                  34.0   0.9978  3.51       0.56   \n",
      "\n",
      "   alcohol  quality wine_type  \n",
      "0      9.4        5       red  \n",
      "1      9.8        5       red  \n",
      "2      9.8        5       red  \n",
      "3      9.8        6       red  \n",
      "4      9.4        5       red  \n",
      "6497\n"
     ]
    }
   ],
   "source": [
    "red_wine_dataset = pd.read_csv(f'{base_dir}/wine_quality/winequality-red.csv', sep=';')\n",
    "white_wine_dataset = pd.read_csv(f'{base_dir}/wine_quality/winequality-white.csv', sep=';')\n",
    "\n",
    "red_wine_dataset['wine_type'] = 'red'\n",
    "white_wine_dataset['wine_type'] = 'white'\n",
    "data_in = pd.concat([red_wine_dataset, white_wine_dataset], ignore_index=True)\n",
    "\n",
    "print(data_in.head())\n",
    "print(len(data_in))"
   ],
   "metadata": {
    "collapsed": false,
    "ExecuteTime": {
     "end_time": "2024-03-29T11:36:20.965457700Z",
     "start_time": "2024-03-29T11:36:20.799813100Z"
    }
   },
   "id": "1cc13fb57ad4e976",
   "execution_count": 5
  },
  {
   "cell_type": "code",
   "outputs": [
    {
     "name": "stdout",
     "output_type": "stream",
     "text": [
      "fixed acidity           0.0\n",
      "volatile acidity        0.0\n",
      "citric acid             0.0\n",
      "residual sugar          0.0\n",
      "chlorides               0.0\n",
      "free sulfur dioxide     0.0\n",
      "total sulfur dioxide    0.0\n",
      "density                 0.0\n",
      "pH                      0.0\n",
      "sulphates               0.0\n",
      "alcohol                 0.0\n",
      "quality                 0.0\n",
      "wine_type               0.0\n",
      "dtype: float64\n"
     ]
    }
   ],
   "source": [
    "check_missing(data_in)"
   ],
   "metadata": {
    "collapsed": false,
    "ExecuteTime": {
     "end_time": "2024-03-29T11:36:21.031734Z",
     "start_time": "2024-03-29T11:36:20.946031400Z"
    }
   },
   "id": "856e312860a5ee63",
   "execution_count": 6
  },
  {
   "cell_type": "code",
   "outputs": [],
   "source": [
    "data = data_in.copy()\n",
    "data['target'] = data['wine_type'].map({'red': 0, 'white': 1})\n",
    "data = data.drop(['wine_type'], axis=1)"
   ],
   "metadata": {
    "collapsed": false,
    "ExecuteTime": {
     "end_time": "2024-03-29T11:36:21.221302800Z",
     "start_time": "2024-03-29T11:36:21.016484300Z"
    }
   },
   "id": "e7b7b282038471b8",
   "execution_count": 7
  },
  {
   "cell_type": "code",
   "outputs": [
    {
     "name": "stdout",
     "output_type": "stream",
     "text": [
      "[]\n",
      "0\n"
     ]
    }
   ],
   "source": [
    "cols = data.columns.difference(['target'])\n",
    "corr_matrix = data[data.columns.difference(['target'])].corr().abs()\n",
    "upper = corr_matrix.where(np.triu(np.ones(corr_matrix.shape), k=1).astype(bool))\n",
    "to_drop = [column for column in upper.columns if any(upper[column] > 0.8)]\n",
    "print(to_drop)\n",
    "print(len(to_drop))\n",
    "clean_data = data.copy()\n",
    "clean_data = clean_data.drop(to_drop, axis=1)"
   ],
   "metadata": {
    "collapsed": false,
    "ExecuteTime": {
     "end_time": "2024-03-29T11:36:21.306309800Z",
     "start_time": "2024-03-29T11:36:21.195908600Z"
    }
   },
   "id": "84643b6cd3f28813",
   "execution_count": 8
  },
  {
   "cell_type": "code",
   "outputs": [
    {
     "name": "stdout",
     "output_type": "stream",
     "text": [
      "0.9730769230769231\n",
      "[[317  24]\n",
      " [ 11 948]]\n",
      "              precision    recall  f1-score   support\n",
      "\n",
      "           0       0.97      0.93      0.95       341\n",
      "           1       0.98      0.99      0.98       959\n",
      "\n",
      "    accuracy                           0.97      1300\n",
      "   macro avg       0.97      0.96      0.96      1300\n",
      "weighted avg       0.97      0.97      0.97      1300\n"
     ]
    },
    {
     "name": "stderr",
     "output_type": "stream",
     "text": [
      "C:\\Users\\jkraszewski\\PycharmProjects\\advanced-ml-project\\.venv\\Lib\\site-packages\\sklearn\\linear_model\\_logistic.py:469: ConvergenceWarning: lbfgs failed to converge (status=1):\n",
      "STOP: TOTAL NO. of ITERATIONS REACHED LIMIT.\n",
      "\n",
      "Increase the number of iterations (max_iter) or scale the data as shown in:\n",
      "    https://scikit-learn.org/stable/modules/preprocessing.html\n",
      "Please also refer to the documentation for alternative solver options:\n",
      "    https://scikit-learn.org/stable/modules/linear_model.html#logistic-regression\n",
      "  n_iter_i = _check_optimize_result(\n"
     ]
    }
   ],
   "source": [
    "y = clean_data['target']\n",
    "X = clean_data.drop('target', axis=1)\n",
    "test_logistic_regression(X, y, test_size=0.2)"
   ],
   "metadata": {
    "collapsed": false,
    "ExecuteTime": {
     "end_time": "2024-03-29T11:36:21.599015600Z",
     "start_time": "2024-03-29T11:36:21.265071500Z"
    }
   },
   "id": "55eec99b61df8e4f",
   "execution_count": 9
  },
  {
   "cell_type": "code",
   "outputs": [],
   "source": [
    "clean_data.to_csv(\"datasets/wine_color_classification.csv\", index=False)"
   ],
   "metadata": {
    "collapsed": false,
    "ExecuteTime": {
     "end_time": "2024-03-29T11:36:21.737006800Z",
     "start_time": "2024-03-29T11:36:21.479326400Z"
    }
   },
   "id": "138a8fb15d25bd7d",
   "execution_count": 10
  },
  {
   "cell_type": "markdown",
   "source": [
    "### Mushroom Classification"
   ],
   "metadata": {
    "collapsed": false
   },
   "id": "e5802a50ad6fe16a"
  },
  {
   "cell_type": "code",
   "outputs": [
    {
     "name": "stdout",
     "output_type": "stream",
     "text": [
      "  cap-shape cap-surface cap-color bruises odor gill-attachment gill-spacing  \\\n",
      "0         x           s         n       t    p               f            c   \n",
      "1         x           s         y       t    a               f            c   \n",
      "2         b           s         w       t    l               f            c   \n",
      "3         x           y         w       t    p               f            c   \n",
      "4         x           s         g       f    n               f            w   \n",
      "\n",
      "  gill-size gill-color stalk-shape  ... stalk-color-above-ring  \\\n",
      "0         n          k           e  ...                      w   \n",
      "1         b          k           e  ...                      w   \n",
      "2         b          n           e  ...                      w   \n",
      "3         n          n           e  ...                      w   \n",
      "4         b          k           t  ...                      w   \n",
      "\n",
      "  stalk-color-below-ring veil-type veil-color ring-number ring-type  \\\n",
      "0                      w         p          w           o         p   \n",
      "1                      w         p          w           o         p   \n",
      "2                      w         p          w           o         p   \n",
      "3                      w         p          w           o         p   \n",
      "4                      w         p          w           o         e   \n",
      "\n",
      "  spore-print-color population habitat poisonous  \n",
      "0                 k          s       u         p  \n",
      "1                 n          n       g         e  \n",
      "2                 n          n       m         e  \n",
      "3                 k          s       u         p  \n",
      "4                 n          a       g         e  \n",
      "\n",
      "[5 rows x 23 columns]\n",
      "8124\n"
     ]
    }
   ],
   "source": [
    "data_in = fetch_ucirepo(id=73).data\n",
    "data_in = pd.concat([data_in.features, data_in.targets], axis=1)\n",
    "print(data_in.head())\n",
    "print(len(data_in))"
   ],
   "metadata": {
    "collapsed": false,
    "ExecuteTime": {
     "end_time": "2024-03-29T11:36:26.612672700Z",
     "start_time": "2024-03-29T11:36:21.605071800Z"
    }
   },
   "id": "c1a9cec3385e167",
   "execution_count": 11
  },
  {
   "cell_type": "code",
   "outputs": [
    {
     "name": "stdout",
     "output_type": "stream",
     "text": [
      "stalk-root    30.526834\n",
      "dtype: float64\n",
      "Series([], dtype: float64)\n"
     ]
    }
   ],
   "source": [
    "missing = check_missing(data_in, False)\n",
    "print(missing[missing > 0])\n",
    "filled_data = data_in.copy()\n",
    "filled_data['stalk-root'] = filled_data['stalk-root'].fillna('missing')\n",
    "missing = check_missing(filled_data, False)\n",
    "print(missing[missing > 0])"
   ],
   "metadata": {
    "collapsed": false,
    "ExecuteTime": {
     "end_time": "2024-03-29T11:36:26.707178800Z",
     "start_time": "2024-03-29T11:36:26.612672700Z"
    }
   },
   "id": "f41109da1717f49a",
   "execution_count": 12
  },
  {
   "cell_type": "code",
   "outputs": [
    {
     "name": "stdout",
     "output_type": "stream",
     "text": [
      "bruises_f [0 1]\n",
      "bruises_t [0 1]\n",
      "cap-color_b [0 1]\n",
      "cap-color_c [0 1]\n",
      "cap-color_e [0 1]\n",
      "cap-color_g [0 1]\n",
      "cap-color_n [0 1]\n",
      "cap-color_p [0 1]\n",
      "cap-color_r [0 1]\n",
      "cap-color_u [0 1]\n",
      "cap-color_w [0 1]\n",
      "cap-color_y [0 1]\n",
      "cap-shape_b [0 1]\n",
      "cap-shape_c [0 1]\n",
      "cap-shape_f [0 1]\n",
      "cap-shape_k [0 1]\n",
      "cap-shape_s [0 1]\n",
      "cap-shape_x [0 1]\n",
      "cap-surface_f [0 1]\n",
      "cap-surface_g [0 1]\n",
      "cap-surface_s [0 1]\n",
      "cap-surface_y [0 1]\n",
      "gill-attachment_a [0 1]\n",
      "gill-attachment_f [0 1]\n",
      "gill-color_b [0 1]\n",
      "gill-color_e [0 1]\n",
      "gill-color_g [0 1]\n",
      "gill-color_h [0 1]\n",
      "gill-color_k [0 1]\n",
      "gill-color_n [0 1]\n",
      "gill-color_o [0 1]\n",
      "gill-color_p [0 1]\n",
      "gill-color_r [0 1]\n",
      "gill-color_u [0 1]\n",
      "gill-color_w [0 1]\n",
      "gill-color_y [0 1]\n",
      "gill-size_b [0 1]\n",
      "gill-size_n [0 1]\n",
      "gill-spacing_c [0 1]\n",
      "gill-spacing_w [0 1]\n",
      "habitat_d [0 1]\n",
      "habitat_g [0 1]\n",
      "habitat_l [0 1]\n",
      "habitat_m [0 1]\n",
      "habitat_p [0 1]\n",
      "habitat_u [0 1]\n",
      "habitat_w [0 1]\n",
      "odor_a [0 1]\n",
      "odor_c [0 1]\n",
      "odor_f [0 1]\n",
      "odor_l [0 1]\n",
      "odor_m [0 1]\n",
      "odor_n [0 1]\n",
      "odor_p [0 1]\n",
      "odor_s [0 1]\n",
      "odor_y [0 1]\n",
      "population_a [0 1]\n",
      "population_c [0 1]\n",
      "population_n [0 1]\n",
      "population_s [0 1]\n",
      "population_v [0 1]\n",
      "population_y [0 1]\n",
      "ring-number_n [0 1]\n",
      "ring-number_o [0 1]\n",
      "ring-number_t [0 1]\n",
      "ring-type_e [0 1]\n",
      "ring-type_f [0 1]\n",
      "ring-type_l [0 1]\n",
      "ring-type_n [0 1]\n",
      "ring-type_p [0 1]\n",
      "spore-print-color_b [0 1]\n",
      "spore-print-color_h [0 1]\n",
      "spore-print-color_k [0 1]\n",
      "spore-print-color_n [0 1]\n",
      "spore-print-color_o [0 1]\n",
      "spore-print-color_r [0 1]\n",
      "spore-print-color_u [0 1]\n",
      "spore-print-color_w [0 1]\n",
      "spore-print-color_y [0 1]\n",
      "stalk-color-above-ring_b [0 1]\n",
      "stalk-color-above-ring_c [0 1]\n",
      "stalk-color-above-ring_e [0 1]\n",
      "stalk-color-above-ring_g [0 1]\n",
      "stalk-color-above-ring_n [0 1]\n",
      "stalk-color-above-ring_o [0 1]\n",
      "stalk-color-above-ring_p [0 1]\n",
      "stalk-color-above-ring_w [0 1]\n",
      "stalk-color-above-ring_y [0 1]\n",
      "stalk-color-below-ring_b [0 1]\n",
      "stalk-color-below-ring_c [0 1]\n",
      "stalk-color-below-ring_e [0 1]\n",
      "stalk-color-below-ring_g [0 1]\n",
      "stalk-color-below-ring_n [0 1]\n",
      "stalk-color-below-ring_o [0 1]\n",
      "stalk-color-below-ring_p [0 1]\n",
      "stalk-color-below-ring_w [0 1]\n",
      "stalk-color-below-ring_y [0 1]\n",
      "stalk-root_b [0 1]\n",
      "stalk-root_c [0 1]\n",
      "stalk-root_e [0 1]\n",
      "stalk-root_missing [0 1]\n",
      "stalk-root_r [0 1]\n",
      "stalk-shape_e [0 1]\n",
      "stalk-shape_t [0 1]\n",
      "stalk-surface-above-ring_f [0 1]\n",
      "stalk-surface-above-ring_k [0 1]\n",
      "stalk-surface-above-ring_s [0 1]\n",
      "stalk-surface-above-ring_y [0 1]\n",
      "stalk-surface-below-ring_f [0 1]\n",
      "stalk-surface-below-ring_k [0 1]\n",
      "stalk-surface-below-ring_s [0 1]\n",
      "stalk-surface-below-ring_y [0 1]\n",
      "veil-color_n [0 1]\n",
      "veil-color_o [0 1]\n",
      "veil-color_w [0 1]\n",
      "veil-color_y [0 1]\n",
      "veil-type_p [1]\n",
      "target [0 1]\n"
     ]
    }
   ],
   "source": [
    "encoded_data = filled_data.copy()\n",
    "for col in encoded_data.columns.difference(['poisonous']):\n",
    "    dummies = pd.get_dummies(encoded_data[col], dtype=int, prefix=col)\n",
    "    encoded_data = pd.concat([encoded_data, dummies], axis=1).drop(col, axis=1)\n",
    "encoded_data['target'] = encoded_data['poisonous'].map({'e': 0, 'p': 1})\n",
    "encoded_data = encoded_data.drop('poisonous', axis=1)\n",
    "for col in encoded_data.columns:\n",
    "    print(col, np.unique(encoded_data[col]))"
   ],
   "metadata": {
    "collapsed": false,
    "ExecuteTime": {
     "end_time": "2024-03-29T11:36:26.970045700Z",
     "start_time": "2024-03-29T11:36:26.658389400Z"
    }
   },
   "id": "ea2f653a12fbf9a8",
   "execution_count": 13
  },
  {
   "cell_type": "code",
   "outputs": [
    {
     "name": "stdout",
     "output_type": "stream",
     "text": [
      "['bruises_t', 'gill-attachment_f', 'gill-size_n', 'gill-spacing_w', 'ring-number_n', 'ring-number_t', 'ring-type_n', 'stalk-color-above-ring_c', 'stalk-color-above-ring_o', 'stalk-color-below-ring_c', 'stalk-color-below-ring_o', 'stalk-shape_t', 'veil-color_w', 'veil-color_y']\n",
      "14\n"
     ]
    }
   ],
   "source": [
    "cols = encoded_data.columns.difference(['target'])\n",
    "corr_matrix = encoded_data[encoded_data.columns.difference(['target'])].corr().abs()\n",
    "upper = corr_matrix.where(np.triu(np.ones(corr_matrix.shape), k=1).astype(bool))\n",
    "to_drop = [column for column in upper.columns if any(upper[column] > 0.9)]\n",
    "print(to_drop)\n",
    "print(len(to_drop))\n",
    "clean_data = encoded_data.copy()\n",
    "clean_data = clean_data.drop(to_drop, axis=1)"
   ],
   "metadata": {
    "collapsed": false,
    "ExecuteTime": {
     "end_time": "2024-03-29T11:36:27.403217100Z",
     "start_time": "2024-03-29T11:36:26.973491500Z"
    }
   },
   "id": "d8509880b24a960a",
   "execution_count": 14
  },
  {
   "cell_type": "code",
   "outputs": [
    {
     "name": "stdout",
     "output_type": "stream",
     "text": [
      "1.0\n",
      "[[843   0]\n",
      " [  0 782]]\n",
      "              precision    recall  f1-score   support\n",
      "\n",
      "           0       1.00      1.00      1.00       843\n",
      "           1       1.00      1.00      1.00       782\n",
      "\n",
      "    accuracy                           1.00      1625\n",
      "   macro avg       1.00      1.00      1.00      1625\n",
      "weighted avg       1.00      1.00      1.00      1625\n"
     ]
    }
   ],
   "source": [
    "y = clean_data['target']\n",
    "X = clean_data.drop('target', axis=1)\n",
    "test_logistic_regression(X, y, test_size=0.2)"
   ],
   "metadata": {
    "collapsed": false,
    "ExecuteTime": {
     "end_time": "2024-03-29T11:36:27.530639300Z",
     "start_time": "2024-03-29T11:36:27.403217100Z"
    }
   },
   "id": "8e498c704bd6a453",
   "execution_count": 15
  },
  {
   "cell_type": "code",
   "outputs": [],
   "source": [
    "clean_data.to_csv(\"datasets/mushroom_classification.csv\", index=False)"
   ],
   "metadata": {
    "collapsed": false,
    "ExecuteTime": {
     "end_time": "2024-03-29T11:36:27.719204200Z",
     "start_time": "2024-03-29T11:36:27.524459600Z"
    }
   },
   "id": "a01d87e60fe1314b",
   "execution_count": 16
  },
  {
   "cell_type": "markdown",
   "source": [
    "### Estimation of obesity levels based on eating habits and physical condition"
   ],
   "metadata": {
    "collapsed": false
   },
   "id": "906fe3055e3fb777"
  },
  {
   "cell_type": "code",
   "outputs": [
    {
     "name": "stdout",
     "output_type": "stream",
     "text": [
      "   Gender   Age  Height  Weight family_history_with_overweight FAVC  FCVC  \\\n",
      "0  Female  21.0    1.62    64.0                            yes   no   2.0   \n",
      "1  Female  21.0    1.52    56.0                            yes   no   3.0   \n",
      "2    Male  23.0    1.80    77.0                            yes   no   2.0   \n",
      "3    Male  27.0    1.80    87.0                             no   no   3.0   \n",
      "4    Male  22.0    1.78    89.8                             no   no   2.0   \n",
      "\n",
      "   NCP       CAEC SMOKE  CH2O  SCC  FAF  TUE        CALC  \\\n",
      "0  3.0  Sometimes    no   2.0   no  0.0  1.0          no   \n",
      "1  3.0  Sometimes   yes   3.0  yes  3.0  0.0   Sometimes   \n",
      "2  3.0  Sometimes    no   2.0   no  2.0  1.0  Frequently   \n",
      "3  3.0  Sometimes    no   2.0   no  2.0  0.0  Frequently   \n",
      "4  1.0  Sometimes    no   2.0   no  0.0  0.0   Sometimes   \n",
      "\n",
      "                  MTRANS           NObeyesdad  \n",
      "0  Public_Transportation        Normal_Weight  \n",
      "1  Public_Transportation        Normal_Weight  \n",
      "2  Public_Transportation        Normal_Weight  \n",
      "3                Walking   Overweight_Level_I  \n",
      "4  Public_Transportation  Overweight_Level_II  \n",
      "2111\n",
      "['Normal_Weight' 'Overweight_Level_I' 'Overweight_Level_II'\n",
      " 'Obesity_Type_I' 'Insufficient_Weight' 'Obesity_Type_II'\n",
      " 'Obesity_Type_III']\n",
      "['Sometimes' 'Frequently' 'Always' 'no']\n"
     ]
    }
   ],
   "source": [
    "data_in = fetch_ucirepo(id=544).data\n",
    "data_in = pd.concat([data_in.features, data_in.targets], axis=1)\n",
    "print(data_in.head())\n",
    "print(len(data_in))\n",
    "print(data_in['NObeyesdad'].unique())\n",
    "print(data_in['CAEC'].unique())"
   ],
   "metadata": {
    "collapsed": false,
    "ExecuteTime": {
     "end_time": "2024-03-29T11:36:32.022460500Z",
     "start_time": "2024-03-29T11:36:27.721743300Z"
    }
   },
   "id": "e944eb02efe9c0d5",
   "execution_count": 17
  },
  {
   "cell_type": "code",
   "outputs": [
    {
     "name": "stdout",
     "output_type": "stream",
     "text": [
      "Gender                            0.0\n",
      "Age                               0.0\n",
      "Height                            0.0\n",
      "Weight                            0.0\n",
      "family_history_with_overweight    0.0\n",
      "FAVC                              0.0\n",
      "FCVC                              0.0\n",
      "NCP                               0.0\n",
      "CAEC                              0.0\n",
      "SMOKE                             0.0\n",
      "CH2O                              0.0\n",
      "SCC                               0.0\n",
      "FAF                               0.0\n",
      "TUE                               0.0\n",
      "CALC                              0.0\n",
      "MTRANS                            0.0\n",
      "NObeyesdad                        0.0\n",
      "dtype: float64\n"
     ]
    }
   ],
   "source": [
    "missing = check_missing(data_in)"
   ],
   "metadata": {
    "collapsed": false,
    "ExecuteTime": {
     "end_time": "2024-03-29T11:36:32.073825Z",
     "start_time": "2024-03-29T11:36:32.013900600Z"
    }
   },
   "id": "3c8c5d806518672c",
   "execution_count": 18
  },
  {
   "cell_type": "code",
   "outputs": [
    {
     "name": "stdout",
     "output_type": "stream",
     "text": [
      "Age                               0.0\n",
      "Height                            0.0\n",
      "Weight                            0.0\n",
      "family_history_with_overweight    0.0\n",
      "FAVC                              0.0\n",
      "FCVC                              0.0\n",
      "NCP                               0.0\n",
      "SMOKE                             0.0\n",
      "CH2O                              0.0\n",
      "SCC                               0.0\n",
      "FAF                               0.0\n",
      "TUE                               0.0\n",
      "NObeyesdad                        0.0\n",
      "Gender_Female                     0.0\n",
      "Gender_Male                       0.0\n",
      "MTRANS_Automobile                 0.0\n",
      "MTRANS_Bike                       0.0\n",
      "MTRANS_Motorbike                  0.0\n",
      "MTRANS_Public_Transportation      0.0\n",
      "MTRANS_Walking                    0.0\n",
      "CAEC_Always                       0.0\n",
      "CAEC_Frequently                   0.0\n",
      "CAEC_Sometimes                    0.0\n",
      "CAEC_no                           0.0\n",
      "CALC_Always                       0.0\n",
      "CALC_Frequently                   0.0\n",
      "CALC_Sometimes                    0.0\n",
      "CALC_no                           0.0\n",
      "target                            0.0\n",
      "dtype: float64\n",
      "    Age  Height  Weight  family_history_with_overweight  FAVC  FCVC  NCP  \\\n",
      "0  21.0    1.62    64.0                               1     0   2.0  3.0   \n",
      "1  21.0    1.52    56.0                               1     0   3.0  3.0   \n",
      "2  23.0    1.80    77.0                               1     0   2.0  3.0   \n",
      "3  27.0    1.80    87.0                               0     0   3.0  3.0   \n",
      "4  22.0    1.78    89.8                               0     0   2.0  1.0   \n",
      "\n",
      "   SMOKE  CH2O  SCC  ...  MTRANS_Walking  CAEC_Always  CAEC_Frequently  \\\n",
      "0      0   2.0    0  ...               0            0                0   \n",
      "1      1   3.0    1  ...               0            0                0   \n",
      "2      0   2.0    0  ...               0            0                0   \n",
      "3      0   2.0    0  ...               1            0                0   \n",
      "4      0   2.0    0  ...               0            0                0   \n",
      "\n",
      "   CAEC_Sometimes  CAEC_no  CALC_Always  CALC_Frequently  CALC_Sometimes  \\\n",
      "0               1        0            0                0               0   \n",
      "1               1        0            0                0               1   \n",
      "2               1        0            0                1               0   \n",
      "3               1        0            0                1               0   \n",
      "4               1        0            0                0               1   \n",
      "\n",
      "   CALC_no  target  \n",
      "0        1       0  \n",
      "1        0       0  \n",
      "2        0       0  \n",
      "3        0       0  \n",
      "4        0       0  \n",
      "\n",
      "[5 rows x 28 columns]\n",
      "2111\n"
     ]
    }
   ],
   "source": [
    "data = data_in.copy()\n",
    "gender_dummies = pd.get_dummies(data['Gender'], dtype=int, prefix='Gender')\n",
    "data = pd.concat([data, gender_dummies], axis=1).drop('Gender', axis=1)\n",
    "main_transport_dummies = pd.get_dummies(data['MTRANS'], dtype=int, prefix='MTRANS')\n",
    "data = pd.concat([data, main_transport_dummies], axis=1).drop('MTRANS', axis=1)\n",
    "caec_dummies = pd.get_dummies(data['CAEC'], dtype=int, prefix='CAEC')\n",
    "data = pd.concat([data, caec_dummies], axis=1).drop('CAEC', axis=1)\n",
    "calc_dummies = pd.get_dummies(data['CALC'], dtype=int, prefix='CALC')\n",
    "data = pd.concat([data, calc_dummies], axis=1).drop('CALC', axis=1)\n",
    "data.replace('no', 0, inplace=True)\n",
    "data.replace('yes', 1, inplace=True)\n",
    "data['target'] = data['NObeyesdad'].map({\n",
    "    'Insufficient_Weight': 0,\n",
    "    'Normal_Weight': 0,\n",
    "    'Overweight_Level_I': 0,\n",
    "    'Overweight_Level_II': 0,\n",
    "    'Obesity_Type_I': 1,\n",
    "    'Obesity_Type_II': 1,\n",
    "    'Obesity_Type_III': 1\n",
    "})\n",
    "check_missing(data)\n",
    "data['target'] = data['target'].astype(int)\n",
    "data = data.drop('NObeyesdad', axis=1)\n",
    "print(data.head())\n",
    "print(len(data))\n",
    "# for col in data.columns:\n",
    "#     print(col, np.unique(data[col]))"
   ],
   "metadata": {
    "collapsed": false,
    "ExecuteTime": {
     "end_time": "2024-03-29T11:36:32.235685Z",
     "start_time": "2024-03-29T11:36:32.034608900Z"
    }
   },
   "id": "cb8aba43a760eb04",
   "execution_count": 19
  },
  {
   "cell_type": "code",
   "outputs": [
    {
     "name": "stdout",
     "output_type": "stream",
     "text": [
      "Age                               0.048394\n",
      "CAEC_Always                       0.019296\n",
      "CAEC_Frequently                   0.123224\n",
      "CAEC_Sometimes                    0.071790\n",
      "CAEC_no                           0.062930\n",
      "CALC_Always                       0.021514\n",
      "CALC_Frequently                   0.034848\n",
      "CALC_Sometimes                    0.037694\n",
      "CALC_no                           0.024163\n",
      "CH2O                              0.107930\n",
      "FAF                               0.189607\n",
      "FAVC                              0.064934\n",
      "FCVC                              0.274505\n",
      "Gender_Female                     1.000000\n",
      "Gender_Male                            NaN\n",
      "Height                                 NaN\n",
      "MTRANS_Automobile                      NaN\n",
      "MTRANS_Bike                            NaN\n",
      "MTRANS_Motorbike                       NaN\n",
      "MTRANS_Public_Transportation           NaN\n",
      "MTRANS_Walking                         NaN\n",
      "NCP                                    NaN\n",
      "SCC                                    NaN\n",
      "SMOKE                                  NaN\n",
      "TUE                                    NaN\n",
      "Weight                                 NaN\n",
      "family_history_with_overweight         NaN\n",
      "Name: Gender_Male, dtype: float64\n",
      "['CAEC_Sometimes', 'CALC_no', 'Gender_Male', 'MTRANS_Public_Transportation']\n",
      "4\n"
     ]
    }
   ],
   "source": [
    "cols = data.columns.difference(['target'])\n",
    "corr_matrix = data[data.columns.difference(['target'])].corr().abs()\n",
    "upper = corr_matrix.where(np.triu(np.ones(corr_matrix.shape), k=1).astype(bool))\n",
    "to_drop = [column for column in upper.columns if any(upper[column] > 0.8)]\n",
    "# print Gender_Male correlations\n",
    "print(upper['Gender_Male'])\n",
    "print(to_drop)\n",
    "print(len(to_drop))\n",
    "clean_data = data.copy()\n",
    "clean_data = clean_data.drop(to_drop, axis=1)"
   ],
   "metadata": {
    "collapsed": false,
    "ExecuteTime": {
     "end_time": "2024-03-29T11:36:32.315919400Z",
     "start_time": "2024-03-29T11:36:32.093297900Z"
    }
   },
   "id": "d153b8a603b48f95",
   "execution_count": 20
  },
  {
   "cell_type": "code",
   "outputs": [
    {
     "name": "stdout",
     "output_type": "stream",
     "text": [
      "0.9585553582001184\n",
      "[[903  29]\n",
      " [ 41 716]]\n",
      "              precision    recall  f1-score   support\n",
      "\n",
      "           0       0.96      0.97      0.96       932\n",
      "           1       0.96      0.95      0.95       757\n",
      "\n",
      "    accuracy                           0.96      1689\n",
      "   macro avg       0.96      0.96      0.96      1689\n",
      "weighted avg       0.96      0.96      0.96      1689\n"
     ]
    },
    {
     "name": "stderr",
     "output_type": "stream",
     "text": [
      "C:\\Users\\jkraszewski\\PycharmProjects\\advanced-ml-project\\.venv\\Lib\\site-packages\\sklearn\\linear_model\\_logistic.py:469: ConvergenceWarning: lbfgs failed to converge (status=1):\n",
      "STOP: TOTAL NO. of ITERATIONS REACHED LIMIT.\n",
      "\n",
      "Increase the number of iterations (max_iter) or scale the data as shown in:\n",
      "    https://scikit-learn.org/stable/modules/preprocessing.html\n",
      "Please also refer to the documentation for alternative solver options:\n",
      "    https://scikit-learn.org/stable/modules/linear_model.html#logistic-regression\n",
      "  n_iter_i = _check_optimize_result(\n"
     ]
    }
   ],
   "source": [
    "y = clean_data['target']\n",
    "X = clean_data.drop('target', axis=1)\n",
    "test_logistic_regression(X, y, test_size=0.8)"
   ],
   "metadata": {
    "collapsed": false,
    "ExecuteTime": {
     "end_time": "2024-03-29T11:36:32.374030900Z",
     "start_time": "2024-03-29T11:36:32.122538Z"
    }
   },
   "id": "ae84e62e869dc2af",
   "execution_count": 21
  },
  {
   "cell_type": "code",
   "outputs": [],
   "source": [
    "clean_data.to_csv(\"datasets/obesity_levels.csv\", index=False)"
   ],
   "metadata": {
    "collapsed": false,
    "ExecuteTime": {
     "end_time": "2024-03-29T11:36:32.525468600Z",
     "start_time": "2024-03-29T11:36:32.290647500Z"
    }
   },
   "id": "a0fdd82c89198eee",
   "execution_count": 22
  },
  {
   "cell_type": "markdown",
   "source": [
    "### Taiwanese Bankruptcy Prediction"
   ],
   "metadata": {
    "collapsed": false
   },
   "id": "f1715b351dfea7d7"
  },
  {
   "cell_type": "code",
   "outputs": [
    {
     "name": "stdout",
     "output_type": "stream",
     "text": [
      "6819\n",
      "   Bankrupt?   ROA(C) before interest and depreciation before interest  \\\n",
      "0          1                                           0.370594          \n",
      "1          1                                           0.464291          \n",
      "2          1                                           0.426071          \n",
      "3          1                                           0.399844          \n",
      "4          1                                           0.465022          \n",
      "\n",
      "    ROA(A) before interest and % after tax  \\\n",
      "0                                 0.424389   \n",
      "1                                 0.538214   \n",
      "2                                 0.499019   \n",
      "3                                 0.451265   \n",
      "4                                 0.538432   \n",
      "\n",
      "    ROA(B) before interest and depreciation after tax  \\\n",
      "0                                           0.405750    \n",
      "1                                           0.516730    \n",
      "2                                           0.472295    \n",
      "3                                           0.457733    \n",
      "4                                           0.522298    \n",
      "\n",
      "    Operating Gross Margin   Realized Sales Gross Margin  \\\n",
      "0                 0.601457                      0.601457   \n",
      "1                 0.610235                      0.610235   \n",
      "2                 0.601450                      0.601364   \n",
      "3                 0.583541                      0.583541   \n",
      "4                 0.598783                      0.598783   \n",
      "\n",
      "    Operating Profit Rate   Pre-tax net Interest Rate  \\\n",
      "0                0.998969                    0.796887   \n",
      "1                0.998946                    0.797380   \n",
      "2                0.998857                    0.796403   \n",
      "3                0.998700                    0.796967   \n",
      "4                0.998973                    0.797366   \n",
      "\n",
      "    After-tax net Interest Rate   Non-industry income and expenditure/revenue  \\\n",
      "0                      0.808809                                      0.302646   \n",
      "1                      0.809301                                      0.303556   \n",
      "2                      0.808388                                      0.302035   \n",
      "3                      0.808966                                      0.303350   \n",
      "4                      0.809304                                      0.303475   \n",
      "\n",
      "   ...   Net Income to Total Assets   Total assets to GNP price  \\\n",
      "0  ...                     0.716845                    0.009219   \n",
      "1  ...                     0.795297                    0.008323   \n",
      "2  ...                     0.774670                    0.040003   \n",
      "3  ...                     0.739555                    0.003252   \n",
      "4  ...                     0.795016                    0.003878   \n",
      "\n",
      "    No-credit Interval   Gross Profit to Sales  \\\n",
      "0             0.622879                0.601453   \n",
      "1             0.623652                0.610237   \n",
      "2             0.623841                0.601449   \n",
      "3             0.622929                0.583538   \n",
      "4             0.623521                0.598782   \n",
      "\n",
      "    Net Income to Stockholder's Equity   Liability to Equity  \\\n",
      "0                             0.827890              0.290202   \n",
      "1                             0.839969              0.283846   \n",
      "2                             0.836774              0.290189   \n",
      "3                             0.834697              0.281721   \n",
      "4                             0.839973              0.278514   \n",
      "\n",
      "    Degree of Financial Leverage (DFL)  \\\n",
      "0                             0.026601   \n",
      "1                             0.264577   \n",
      "2                             0.026555   \n",
      "3                             0.026697   \n",
      "4                             0.024752   \n",
      "\n",
      "    Interest Coverage Ratio (Interest expense to EBIT)   Net Income Flag  \\\n",
      "0                                           0.564050                   1   \n",
      "1                                           0.570175                   1   \n",
      "2                                           0.563706                   1   \n",
      "3                                           0.564663                   1   \n",
      "4                                           0.575617                   1   \n",
      "\n",
      "    Equity to Liability  \n",
      "0              0.016469  \n",
      "1              0.020794  \n",
      "2              0.016474  \n",
      "3              0.023982  \n",
      "4              0.035490  \n",
      "\n",
      "[5 rows x 96 columns]\n",
      "[1 0]\n",
      "6599 220\n"
     ]
    }
   ],
   "source": [
    "path = f\"{base_dir}/taiwanese bankruptcy prediction/data.csv\"\n",
    "data_in = pd.read_csv(path)\n",
    "print(len(data_in))\n",
    "print(data_in.head())\n",
    "print(data_in['Bankrupt?'].unique())\n",
    "print(len(data_in[data_in['Bankrupt?'] == 0]), len(data_in[data_in['Bankrupt?'] == 1]))"
   ],
   "metadata": {
    "collapsed": false,
    "ExecuteTime": {
     "end_time": "2024-03-29T11:36:32.723780400Z",
     "start_time": "2024-03-29T11:36:32.331821500Z"
    }
   },
   "id": "1aa5ccf91b864008",
   "execution_count": 23
  },
  {
   "cell_type": "code",
   "outputs": [
    {
     "name": "stdout",
     "output_type": "stream",
     "text": [
      "Index([], dtype='object')\n"
     ]
    }
   ],
   "source": [
    "missing = check_missing(data_in, False)\n",
    "missing_cols = missing[missing > 0].index\n",
    "print(missing_cols)"
   ],
   "metadata": {
    "collapsed": false,
    "ExecuteTime": {
     "end_time": "2024-03-29T11:36:32.757859400Z",
     "start_time": "2024-03-29T11:36:32.606874600Z"
    }
   },
   "id": "36e4dd168f366033",
   "execution_count": 24
  },
  {
   "cell_type": "code",
   "outputs": [],
   "source": [
    "data = data_in.copy()\n",
    "data['target'] = data['Bankrupt?']\n",
    "data = data.drop('Bankrupt?', axis=1)"
   ],
   "metadata": {
    "collapsed": false,
    "ExecuteTime": {
     "end_time": "2024-03-29T11:36:32.796591400Z",
     "start_time": "2024-03-29T11:36:32.624095300Z"
    }
   },
   "id": "14d7c54364a7dd5d",
   "execution_count": 25
  },
  {
   "cell_type": "code",
   "outputs": [
    {
     "name": "stdout",
     "output_type": "stream",
     "text": [
      "[' Continuous interest rate (after tax)', ' Current Liabilities/Equity', ' Current Liability to Equity', ' Current Liability to Liability', ' Debt ratio %', ' Equity to Long-term Liability', ' Liability to Equity', \" Net Income to Stockholder's Equity\", ' Net Value Per Share (B)', ' Net Value Per Share (C)', ' Net worth/Assets', ' Operating Funds to Liability', ' Operating Gross Margin', ' Operating Profit Per Share (Yuan ¥)', ' Operating Profit Rate', ' Operating profit/Paid-in capital', ' Per Share Net profit before tax (Yuan ¥)', ' Persistent EPS in the Last Four Seasons', ' Pre-tax net Interest Rate', ' ROA(A) before interest and % after tax', ' ROA(B) before interest and depreciation after tax', ' ROA(C) before interest and depreciation before interest', ' Realized Sales Gross Margin', ' Regular Net Profit Growth Rate', ' Working capitcal Turnover Rate']\n",
      "25\n"
     ]
    }
   ],
   "source": [
    "cols = data.columns.difference(['target'])\n",
    "corr_matrix = data[data.columns.difference(['target'])].corr().abs()\n",
    "upper = corr_matrix.where(np.triu(np.ones(corr_matrix.shape), k=1).astype(bool))\n",
    "to_drop = [column for column in upper.columns if any(upper[column] > 0.8)]\n",
    "print(to_drop)\n",
    "print(len(to_drop))\n",
    "clean_data = data.drop(to_drop, axis=1)"
   ],
   "metadata": {
    "collapsed": false,
    "ExecuteTime": {
     "end_time": "2024-03-29T11:36:33.016229600Z",
     "start_time": "2024-03-29T11:36:32.640078600Z"
    }
   },
   "id": "fe755f80f23b3212",
   "execution_count": 26
  },
  {
   "cell_type": "code",
   "outputs": [
    {
     "name": "stdout",
     "output_type": "stream",
     "text": [
      "0.9633431085043989\n",
      "[[3283   17]\n",
      " [ 108    2]]\n",
      "              precision    recall  f1-score   support\n",
      "\n",
      "           0       0.97      0.99      0.98      3300\n",
      "           1       0.11      0.02      0.03       110\n",
      "\n",
      "    accuracy                           0.96      3410\n",
      "   macro avg       0.54      0.51      0.51      3410\n",
      "weighted avg       0.94      0.96      0.95      3410\n"
     ]
    },
    {
     "name": "stderr",
     "output_type": "stream",
     "text": [
      "C:\\Users\\jkraszewski\\PycharmProjects\\advanced-ml-project\\.venv\\Lib\\site-packages\\sklearn\\linear_model\\_logistic.py:469: ConvergenceWarning: lbfgs failed to converge (status=1):\n",
      "STOP: TOTAL NO. of ITERATIONS REACHED LIMIT.\n",
      "\n",
      "Increase the number of iterations (max_iter) or scale the data as shown in:\n",
      "    https://scikit-learn.org/stable/modules/preprocessing.html\n",
      "Please also refer to the documentation for alternative solver options:\n",
      "    https://scikit-learn.org/stable/modules/linear_model.html#logistic-regression\n",
      "  n_iter_i = _check_optimize_result(\n"
     ]
    }
   ],
   "source": [
    "y = clean_data['target']\n",
    "X = clean_data.drop('target', axis=1)\n",
    "test_logistic_regression(X, y, test_size=0.5)"
   ],
   "metadata": {
    "collapsed": false,
    "ExecuteTime": {
     "end_time": "2024-03-29T11:36:33.193441300Z",
     "start_time": "2024-03-29T11:36:32.894009500Z"
    }
   },
   "id": "ec00de7581e5e916",
   "execution_count": 27
  },
  {
   "cell_type": "code",
   "outputs": [],
   "source": [
    "clean_data.to_csv(\"datasets/taiwanese_bankruptcy_prediction.csv\", index=False)"
   ],
   "metadata": {
    "collapsed": false,
    "ExecuteTime": {
     "end_time": "2024-03-29T11:36:34.077570800Z",
     "start_time": "2024-03-29T11:36:33.136109300Z"
    }
   },
   "id": "8165b749b6e180cc",
   "execution_count": 28
  },
  {
   "cell_type": "markdown",
   "source": [
    "### Room Occupancy Estimation"
   ],
   "metadata": {
    "collapsed": false
   },
   "id": "8f7a527562cf80bc"
  },
  {
   "cell_type": "code",
   "outputs": [
    {
     "name": "stdout",
     "output_type": "stream",
     "text": [
      "10129\n",
      "         Date      Time  S1_Temp  S2_Temp  S3_Temp  S4_Temp  S1_Light  \\\n",
      "0  2017/12/22  10:49:41    24.94    24.75    24.56    25.38       121   \n",
      "1  2017/12/22  10:50:12    24.94    24.75    24.56    25.44       121   \n",
      "2  2017/12/22  10:50:42    25.00    24.75    24.50    25.44       121   \n",
      "3  2017/12/22  10:51:13    25.00    24.75    24.56    25.44       121   \n",
      "4  2017/12/22  10:51:44    25.00    24.75    24.56    25.44       121   \n",
      "\n",
      "   S2_Light  S3_Light  S4_Light  S1_Sound  S2_Sound  S3_Sound  S4_Sound  \\\n",
      "0        34        53        40      0.08      0.19      0.06      0.06   \n",
      "1        33        53        40      0.93      0.05      0.06      0.06   \n",
      "2        34        53        40      0.43      0.11      0.08      0.06   \n",
      "3        34        53        40      0.41      0.10      0.10      0.09   \n",
      "4        34        54        40      0.18      0.06      0.06      0.06   \n",
      "\n",
      "   S5_CO2  S5_CO2_Slope  S6_PIR  S7_PIR  Room_Occupancy_Count  \n",
      "0     390      0.769231       0       0                     1  \n",
      "1     390      0.646154       0       0                     1  \n",
      "2     390      0.519231       0       0                     1  \n",
      "3     390      0.388462       0       0                     1  \n",
      "4     390      0.253846       0       0                     1  \n",
      "[1 2 3 0]\n",
      "8228 459\n",
      "748 694\n"
     ]
    }
   ],
   "source": [
    "path = f\"{base_dir}/room occupancy estimation/Occupancy_Estimation.csv\"\n",
    "data_in = pd.read_csv(path)\n",
    "print(len(data_in))\n",
    "print(data_in.head())\n",
    "print(data_in['Room_Occupancy_Count'].unique())\n",
    "print(len(data_in[data_in['Room_Occupancy_Count'] == 0]), len(data_in[data_in['Room_Occupancy_Count'] == 1]))\n",
    "print(len(data_in[data_in['Room_Occupancy_Count'] == 2]), len(data_in[data_in['Room_Occupancy_Count'] == 3]))\n"
   ],
   "metadata": {
    "collapsed": false,
    "ExecuteTime": {
     "end_time": "2024-03-29T11:36:34.160393100Z",
     "start_time": "2024-03-29T11:36:34.067418700Z"
    }
   },
   "id": "b39eb428192a4fe8",
   "execution_count": 29
  },
  {
   "cell_type": "code",
   "outputs": [
    {
     "name": "stdout",
     "output_type": "stream",
     "text": [
      "Date                    0.0\n",
      "Time                    0.0\n",
      "S1_Temp                 0.0\n",
      "S2_Temp                 0.0\n",
      "S3_Temp                 0.0\n",
      "S4_Temp                 0.0\n",
      "S1_Light                0.0\n",
      "S2_Light                0.0\n",
      "S3_Light                0.0\n",
      "S4_Light                0.0\n",
      "S1_Sound                0.0\n",
      "S2_Sound                0.0\n",
      "S3_Sound                0.0\n",
      "S4_Sound                0.0\n",
      "S5_CO2                  0.0\n",
      "S5_CO2_Slope            0.0\n",
      "S6_PIR                  0.0\n",
      "S7_PIR                  0.0\n",
      "Room_Occupancy_Count    0.0\n",
      "dtype: float64\n"
     ]
    }
   ],
   "source": [
    "check_missing(data_in)"
   ],
   "metadata": {
    "collapsed": false,
    "ExecuteTime": {
     "end_time": "2024-03-29T11:36:34.164795Z",
     "start_time": "2024-03-29T11:36:34.119938100Z"
    }
   },
   "id": "da8eea2bca23ae6d",
   "execution_count": 30
  },
  {
   "cell_type": "code",
   "outputs": [],
   "source": [
    "data = data_in.copy()\n",
    "data.drop(['Date', 'Time'], axis=1, inplace=True)\n",
    "data['target'] = data['Room_Occupancy_Count'].map({0: 0, 1: 0, 2: 1, 3: 1})\n",
    "data = data.drop('Room_Occupancy_Count', axis=1)"
   ],
   "metadata": {
    "collapsed": false,
    "ExecuteTime": {
     "end_time": "2024-03-29T11:36:34.214402600Z",
     "start_time": "2024-03-29T11:36:34.134834200Z"
    }
   },
   "id": "4ad537090e747eed",
   "execution_count": 31
  },
  {
   "cell_type": "code",
   "outputs": [
    {
     "name": "stdout",
     "output_type": "stream",
     "text": [
      "16\n",
      "['S2_Light', 'S3_Light', 'S3_Temp', 'S4_Temp', 'S5_CO2']\n",
      "5\n"
     ]
    }
   ],
   "source": [
    "cols = data.columns.difference(['target'])\n",
    "print(len(cols))\n",
    "corr_matrix = data[data.columns.difference(['target'])].corr().abs()\n",
    "# sns.heatmap(corr_matrix, annot=True)\n",
    "upper = corr_matrix.where(np.triu(np.ones(corr_matrix.shape), k=1).astype(bool))\n",
    "to_drop = [column for column in upper.columns if any(upper[column] > 0.8)]\n",
    "print(to_drop)\n",
    "print(len(to_drop))\n",
    "data.drop(to_drop, axis=1, inplace=True)"
   ],
   "metadata": {
    "collapsed": false,
    "ExecuteTime": {
     "end_time": "2024-03-29T11:36:34.435713300Z",
     "start_time": "2024-03-29T11:36:34.150709800Z"
    }
   },
   "id": "d1abdc03f86a7eb2",
   "execution_count": 32
  },
  {
   "cell_type": "code",
   "outputs": [
    {
     "name": "stdout",
     "output_type": "stream",
     "text": [
      "0.9692744323790721\n",
      "[[6859  100]\n",
      " [ 149  996]]\n",
      "              precision    recall  f1-score   support\n",
      "\n",
      "           0       0.98      0.99      0.98      6959\n",
      "           1       0.91      0.87      0.89      1145\n",
      "\n",
      "    accuracy                           0.97      8104\n",
      "   macro avg       0.94      0.93      0.94      8104\n",
      "weighted avg       0.97      0.97      0.97      8104\n"
     ]
    },
    {
     "name": "stderr",
     "output_type": "stream",
     "text": [
      "C:\\Users\\jkraszewski\\PycharmProjects\\advanced-ml-project\\.venv\\Lib\\site-packages\\sklearn\\linear_model\\_logistic.py:469: ConvergenceWarning: lbfgs failed to converge (status=1):\n",
      "STOP: TOTAL NO. of ITERATIONS REACHED LIMIT.\n",
      "\n",
      "Increase the number of iterations (max_iter) or scale the data as shown in:\n",
      "    https://scikit-learn.org/stable/modules/preprocessing.html\n",
      "Please also refer to the documentation for alternative solver options:\n",
      "    https://scikit-learn.org/stable/modules/linear_model.html#logistic-regression\n",
      "  n_iter_i = _check_optimize_result(\n"
     ]
    }
   ],
   "source": [
    "y = data['target']\n",
    "X = data.drop('target', axis=1)\n",
    "test_logistic_regression(X, y, test_size=0.8)"
   ],
   "metadata": {
    "collapsed": false,
    "ExecuteTime": {
     "end_time": "2024-03-29T11:36:34.446366600Z",
     "start_time": "2024-03-29T11:36:34.178725300Z"
    }
   },
   "id": "86f5f6b4df475db7",
   "execution_count": 33
  },
  {
   "cell_type": "code",
   "outputs": [],
   "source": [
    "data.to_csv(\"datasets/room_occupancy_estimation.csv\", index=False)"
   ],
   "metadata": {
    "collapsed": false,
    "ExecuteTime": {
     "end_time": "2024-03-29T11:36:34.747161400Z",
     "start_time": "2024-03-29T11:36:34.383940700Z"
    }
   },
   "id": "10ef4f521921cc10",
   "execution_count": 34
  },
  {
   "cell_type": "code",
   "outputs": [],
   "source": [],
   "metadata": {
    "collapsed": false,
    "ExecuteTime": {
     "end_time": "2024-03-29T11:36:34.747161400Z",
     "start_time": "2024-03-29T11:36:34.467931700Z"
    }
   },
   "id": "3392f33a1ef33b8",
   "execution_count": 34
  },
  {
   "cell_type": "markdown",
   "source": [
    "### Mice Protein Expression"
   ],
   "metadata": {
    "collapsed": false
   },
   "id": "eac86fc89675abcc"
  },
  {
   "cell_type": "code",
   "outputs": [
    {
     "name": "stdout",
     "output_type": "stream",
     "text": [
      "1080\n",
      "  MouseID  DYRK1A_N   ITSN1_N    BDNF_N     NR1_N    NR2A_N    pAKT_N  \\\n",
      "0   309_1  0.503644  0.747193  0.430175  2.816329  5.990152  0.218830   \n",
      "1   309_2  0.514617  0.689064  0.411770  2.789514  5.685038  0.211636   \n",
      "2   309_3  0.509183  0.730247  0.418309  2.687201  5.622059  0.209011   \n",
      "3   309_4  0.442107  0.617076  0.358626  2.466947  4.979503  0.222886   \n",
      "4   309_5  0.434940  0.617430  0.358802  2.365785  4.718679  0.213106   \n",
      "\n",
      "    pBRAF_N  pCAMKII_N   pCREB_N  ...   pCFOS_N     SYP_N  H3AcK18_N  \\\n",
      "0  0.177565   2.373744  0.232224  ...  0.108336  0.427099   0.114783   \n",
      "1  0.172817   2.292150  0.226972  ...  0.104315  0.441581   0.111974   \n",
      "2  0.175722   2.283337  0.230247  ...  0.106219  0.435777   0.111883   \n",
      "3  0.176463   2.152301  0.207004  ...  0.111262  0.391691   0.130405   \n",
      "4  0.173627   2.134014  0.192158  ...  0.110694  0.434154   0.118481   \n",
      "\n",
      "     EGR1_N  H3MeK4_N    CaNA_N  Genotype  Treatment  Behavior   class  \n",
      "0  0.131790  0.128186  1.675652   Control  Memantine       C/S  c-CS-m  \n",
      "1  0.135103  0.131119  1.743610   Control  Memantine       C/S  c-CS-m  \n",
      "2  0.133362  0.127431  1.926427   Control  Memantine       C/S  c-CS-m  \n",
      "3  0.147444  0.146901  1.700563   Control  Memantine       C/S  c-CS-m  \n",
      "4  0.140314  0.148380  1.839730   Control  Memantine       C/S  c-CS-m  \n",
      "\n",
      "[5 rows x 82 columns]\n",
      "['Control' 'Ts65Dn']\n",
      "570\n",
      "510\n"
     ]
    }
   ],
   "source": [
    "path = f\"{base_dir}/mice protein expression/Data_Cortex_Nuclear.xls\"\n",
    "data_in = pd.read_excel(path)\n",
    "print(len(data_in))\n",
    "print(data_in.head())\n",
    "print(data_in.Genotype.unique())\n",
    "print(len(data_in[data_in['Genotype'] == 'Control']))\n",
    "print(len(data_in[data_in['Genotype'] == 'Ts65Dn']))"
   ],
   "metadata": {
    "collapsed": false,
    "ExecuteTime": {
     "end_time": "2024-03-29T11:36:34.925879100Z",
     "start_time": "2024-03-29T11:36:34.478780700Z"
    }
   },
   "id": "8c3df34675036d32",
   "execution_count": 35
  },
  {
   "cell_type": "code",
   "outputs": [
    {
     "name": "stdout",
     "output_type": "stream",
     "text": [
      "49\n",
      "9\n",
      "ELK_N         1.392758\n",
      "MEK_N         0.371402\n",
      "Bcatenin_N    1.392758\n",
      "pCFOS_N       6.963788\n",
      "dtype: float64\n",
      "ELK_N\n",
      "mean 1.173399772153484\n",
      "mean control 1.194868624789189\n",
      "mean Ts65Dn 1.1498983654220907\n",
      "MEK_N\n",
      "mean 0.27278898873345764\n",
      "mean control 0.27034535320671377\n",
      "mean Ts65Dn 0.2755169921025641\n",
      "Bcatenin_N\n",
      "mean 2.1465499764802263\n",
      "mean control 2.143583148151351\n",
      "mean Ts65Dn 2.1497976879644973\n",
      "pCFOS_N\n",
      "mean 0.1311142802654691\n",
      "mean control 0.13292271553518517\n",
      "mean Ts65Dn 0.12900052475541124\n",
      "Series([], dtype: float64)\n"
     ]
    }
   ],
   "source": [
    "missing = check_missing(data_in, verbose=False)\n",
    "missing_cols = missing[missing > 0].index\n",
    "print(len(missing[missing > 0]))\n",
    "# print(data_in[data_in['DYRK1A_N'].isnull()][missing_cols])\n",
    "clean_data = data_in.dropna(subset=['DYRK1A_N'])\n",
    "new_missing = check_missing(clean_data, verbose=False)\n",
    "print(len(new_missing[new_missing > 0]))\n",
    "clean_data = clean_data.drop(['H3MeK4_N', 'EGR1_N', 'H3AcK18_N', 'BCL2_N', 'BAD_N'], axis=1)\n",
    "new_missing = check_missing(clean_data, verbose=False)\n",
    "print(new_missing[new_missing > 0])\n",
    "def mean_comparison(data, column):\n",
    "    print(column)\n",
    "    print('mean', data[column].mean())\n",
    "    print('mean control', data[data['Genotype'] == 'Control'][column].mean())\n",
    "    print('mean Ts65Dn', data[data['Genotype'] == 'Ts65Dn'][column].mean())\n",
    "remaining = ['ELK_N', 'MEK_N', 'Bcatenin_N', 'pCFOS_N']\n",
    "for col in remaining:\n",
    "    mean_comparison(clean_data, col)\n",
    "\n",
    "for col in remaining:\n",
    "    clean_data[col] = clean_data[col].fillna(clean_data[col].mean())\n",
    "new_missing = check_missing(clean_data, False)\n",
    "print(new_missing[new_missing > 0])"
   ],
   "metadata": {
    "collapsed": false,
    "ExecuteTime": {
     "end_time": "2024-03-29T11:36:34.998125100Z",
     "start_time": "2024-03-29T11:36:34.805756500Z"
    }
   },
   "id": "8c855680c9aefa46",
   "execution_count": 36
  },
  {
   "cell_type": "code",
   "outputs": [
    {
     "name": "stdout",
     "output_type": "stream",
     "text": [
      "   DYRK1A_N   ITSN1_N    BDNF_N     NR1_N    NR2A_N    pAKT_N   pBRAF_N  \\\n",
      "0  0.503644  0.747193  0.430175  2.816329  5.990152  0.218830  0.177565   \n",
      "1  0.514617  0.689064  0.411770  2.789514  5.685038  0.211636  0.172817   \n",
      "2  0.509183  0.730247  0.418309  2.687201  5.622059  0.209011  0.175722   \n",
      "3  0.442107  0.617076  0.358626  2.466947  4.979503  0.222886  0.176463   \n",
      "4  0.434940  0.617430  0.358802  2.365785  4.718679  0.213106  0.173627   \n",
      "\n",
      "   pCAMKII_N   pCREB_N    pELK_N  ...   PSD95_N    SNCA_N  Ubiquitin_N  \\\n",
      "0   2.373744  0.232224  1.750936  ...  2.014875  0.108234     1.044979   \n",
      "1   2.292150  0.226972  1.596377  ...  2.004605  0.109749     1.009883   \n",
      "2   2.283337  0.230247  1.561316  ...  2.016831  0.108196     0.996848   \n",
      "3   2.152301  0.207004  1.595086  ...  1.957233  0.119883     0.990225   \n",
      "4   2.134014  0.192158  1.504230  ...  2.009109  0.119524     0.997775   \n",
      "\n",
      "   pGSK3B_Tyr216_N     SHH_N     pS6_N   pCFOS_N     SYP_N    CaNA_N  target  \n",
      "0         0.831557  0.188852  0.106305  0.108336  0.427099  1.675652       0  \n",
      "1         0.849270  0.200404  0.106592  0.104315  0.441581  1.743610       0  \n",
      "2         0.846709  0.193685  0.108303  0.106219  0.435777  1.926427       0  \n",
      "3         0.833277  0.192112  0.103184  0.111262  0.391691  1.700563       0  \n",
      "4         0.878668  0.205604  0.104784  0.110694  0.434154  1.839730       0  \n",
      "\n",
      "[5 rows x 73 columns]\n"
     ]
    }
   ],
   "source": [
    "data = clean_data.copy()\n",
    "data = data.drop(['MouseID', 'Treatment','Behavior', 'class'], axis=1)\n",
    "data['target'] = data['Genotype'].map({'Control': 0, 'Ts65Dn': 1})\n",
    "data = data.drop('Genotype', axis=1)\n",
    "print(data.head())"
   ],
   "metadata": {
    "collapsed": false,
    "ExecuteTime": {
     "end_time": "2024-03-29T11:36:35.028503700Z",
     "start_time": "2024-03-29T11:36:34.851159800Z"
    }
   },
   "id": "26345a28a2f3c008",
   "execution_count": 37
  },
  {
   "cell_type": "code",
   "outputs": [
    {
     "name": "stdout",
     "output_type": "stream",
     "text": [
      "72\n",
      "['DYRK1A_N', 'ELK_N', 'ERK_N', 'ITSN1_N', 'NR1_N', 'NR2A_N', 'NR2B_N', 'RSK_N', 'TIAM1_N', 'TRKA_N', 'Tau_N', 'pBRAF_N', 'pELK_N', 'pERK_N', 'pMEK_N', 'pMTOR_N', 'pNR1_N', 'pNR2B_N', 'pPKCAB_N', 'pS6_N']\n",
      "20\n"
     ]
    }
   ],
   "source": [
    "cols = data.columns.difference(['target'])\n",
    "print(len(cols))\n",
    "corr_matrix = data[data.columns.difference(['target'])].corr().abs()\n",
    "upper = corr_matrix.where(np.triu(np.ones(corr_matrix.shape), k=1).astype(bool))\n",
    "to_drop = [column for column in upper.columns if any(upper[column] > 0.8)]\n",
    "print(to_drop)\n",
    "print(len(to_drop))\n",
    "# data.drop(to_drop, axis=1, inplace=True)"
   ],
   "metadata": {
    "collapsed": false,
    "ExecuteTime": {
     "end_time": "2024-03-29T11:36:35.102496100Z",
     "start_time": "2024-03-29T11:36:34.880778700Z"
    }
   },
   "id": "b8e239d7cc24fd99",
   "execution_count": 38
  },
  {
   "cell_type": "code",
   "outputs": [
    {
     "name": "stdout",
     "output_type": "stream",
     "text": [
      "0.925754060324826\n",
      "[[228   9]\n",
      " [ 23 171]]\n",
      "              precision    recall  f1-score   support\n",
      "\n",
      "           0       0.91      0.96      0.93       237\n",
      "           1       0.95      0.88      0.91       194\n",
      "\n",
      "    accuracy                           0.93       431\n",
      "   macro avg       0.93      0.92      0.92       431\n",
      "weighted avg       0.93      0.93      0.93       431\n"
     ]
    },
    {
     "name": "stderr",
     "output_type": "stream",
     "text": [
      "C:\\Users\\jkraszewski\\PycharmProjects\\advanced-ml-project\\.venv\\Lib\\site-packages\\sklearn\\linear_model\\_logistic.py:469: ConvergenceWarning: lbfgs failed to converge (status=1):\n",
      "STOP: TOTAL NO. of ITERATIONS REACHED LIMIT.\n",
      "\n",
      "Increase the number of iterations (max_iter) or scale the data as shown in:\n",
      "    https://scikit-learn.org/stable/modules/preprocessing.html\n",
      "Please also refer to the documentation for alternative solver options:\n",
      "    https://scikit-learn.org/stable/modules/linear_model.html#logistic-regression\n",
      "  n_iter_i = _check_optimize_result(\n"
     ]
    }
   ],
   "source": [
    "y = data['target']\n",
    "X = data.drop('target', axis=1)\n",
    "test_logistic_regression(X, y, test_size=0.4)"
   ],
   "metadata": {
    "collapsed": false,
    "ExecuteTime": {
     "end_time": "2024-03-29T11:36:35.345930600Z",
     "start_time": "2024-03-29T11:36:34.930827Z"
    }
   },
   "id": "734c0c181d822fcd",
   "execution_count": 39
  },
  {
   "cell_type": "code",
   "outputs": [],
   "source": [
    "data.to_csv(\"datasets/mice_protein_expression.csv\", index=False)"
   ],
   "metadata": {
    "collapsed": false,
    "ExecuteTime": {
     "end_time": "2024-03-29T11:36:35.372357200Z",
     "start_time": "2024-03-29T11:36:35.094012100Z"
    }
   },
   "id": "edaf5f31de535764",
   "execution_count": 40
  },
  {
   "cell_type": "markdown",
   "source": [
    "### Fertility"
   ],
   "metadata": {
    "collapsed": false
   },
   "id": "d202f00493d222a4"
  },
  {
   "cell_type": "code",
   "outputs": [
    {
     "name": "stdout",
     "output_type": "stream",
     "text": [
      "100\n",
      "   Season   Age  Childish diseases  Accident or serious trauma  \\\n",
      "0  spring  0.69                  0                           1   \n",
      "1  spring  0.94                  1                           0   \n",
      "2  spring  0.50                  1                           0   \n",
      "3  spring  0.75                  0                           1   \n",
      "4  spring  0.67                  1                           1   \n",
      "\n",
      "   Surgical intervention  High fevers in the last year  \\\n",
      "0                      1                             0   \n",
      "1                      1                             0   \n",
      "2                      0                             0   \n",
      "3                      1                             0   \n",
      "4                      0                             0   \n",
      "\n",
      "   Frequency of alcohol consumption  Smoking habit  \\\n",
      "0                               0.8              0   \n",
      "1                               0.8              1   \n",
      "2                               1.0             -1   \n",
      "3                               1.0             -1   \n",
      "4                               0.8             -1   \n",
      "\n",
      "   Number of hours spent sitting per day Output  \n",
      "0                                   0.88      N  \n",
      "1                                   0.31      O  \n",
      "2                                   0.50      N  \n",
      "3                                   0.38      N  \n",
      "4                                   0.50      O  \n",
      "N 88\n",
      "O 12\n"
     ]
    }
   ],
   "source": [
    "path = f\"{base_dir}/fertility/fertility_Diagnosis.txt\"\n",
    "data_in = pd.read_csv(path, header=None)\n",
    "data_in.rename(\n",
    "    columns={\n",
    "        0: 'Season',\n",
    "        1: 'Age',\n",
    "        2: 'Childish diseases',\n",
    "        3: 'Accident or serious trauma',\n",
    "        4: 'Surgical intervention',\n",
    "        5: 'High fevers in the last year',\n",
    "        6: 'Frequency of alcohol consumption',\n",
    "        7: 'Smoking habit',\n",
    "        8: 'Number of hours spent sitting per day',\n",
    "        9: 'Output'\n",
    "    },\n",
    "    inplace=True\n",
    ")\n",
    "data_in.Season = data_in.Season.map({-1: 'winter', -0.33: 'spring', 0.33: 'summer', 1: 'fall'})\n",
    "print(len(data_in))\n",
    "print(data_in.head())\n",
    "\n",
    "print('N', len(data_in[data_in['Output'] == 'N']))\n",
    "print('O', len(data_in[data_in['Output'] == 'O']))"
   ],
   "metadata": {
    "collapsed": false,
    "ExecuteTime": {
     "end_time": "2024-03-29T11:36:35.394096800Z",
     "start_time": "2024-03-29T11:36:35.218470200Z"
    }
   },
   "id": "f52ef3f87e963479",
   "execution_count": 41
  },
  {
   "cell_type": "code",
   "outputs": [
    {
     "name": "stdout",
     "output_type": "stream",
     "text": [
      "Season                                   0.0\n",
      "Age                                      0.0\n",
      "Childish diseases                        0.0\n",
      "Accident or serious trauma               0.0\n",
      "Surgical intervention                    0.0\n",
      "High fevers in the last year             0.0\n",
      "Frequency of alcohol consumption         0.0\n",
      "Smoking habit                            0.0\n",
      "Number of hours spent sitting per day    0.0\n",
      "Output                                   0.0\n",
      "dtype: float64\n",
      "Season ['fall' 'spring' 'summer' 'winter']\n",
      "Age [0.5  0.53 0.56 0.58 0.61 0.64 0.67 0.69 0.72 0.75 0.78 0.81 0.83 0.86\n",
      " 0.89 0.92 0.94 1.  ]\n",
      "Childish diseases [0 1]\n",
      "Accident or serious trauma [0 1]\n",
      "Surgical intervention [0 1]\n",
      "High fevers in the last year [-1  0  1]\n",
      "Frequency of alcohol consumption [0.2 0.4 0.6 0.8 1. ]\n",
      "Smoking habit [-1  0  1]\n",
      "Number of hours spent sitting per day [0.06 0.13 0.19 0.25 0.31 0.38 0.44 0.47 0.5  0.56 0.63 0.75 0.88 1.  ]\n",
      "Output ['N' 'O']\n"
     ]
    }
   ],
   "source": [
    "check_missing(data_in)\n",
    "for col in data_in.columns:\n",
    "    print(col, np.unique(data_in[col]))"
   ],
   "metadata": {
    "collapsed": false,
    "ExecuteTime": {
     "end_time": "2024-03-29T11:36:35.505447700Z",
     "start_time": "2024-03-29T11:36:35.246083600Z"
    }
   },
   "id": "1d11fc6c82718bc8",
   "execution_count": 42
  },
  {
   "cell_type": "code",
   "outputs": [
    {
     "name": "stdout",
     "output_type": "stream",
     "text": [
      "    Age  Childish diseases  Accident or serious trauma  Surgical intervention  \\\n",
      "0  0.69                  0                           1                      1   \n",
      "1  0.94                  1                           0                      1   \n",
      "2  0.50                  1                           0                      0   \n",
      "3  0.75                  0                           1                      1   \n",
      "4  0.67                  1                           1                      0   \n",
      "\n",
      "   High fevers in the last year  Frequency of alcohol consumption  \\\n",
      "0                             0                               0.8   \n",
      "1                             0                               0.8   \n",
      "2                             0                               1.0   \n",
      "3                             0                               1.0   \n",
      "4                             0                               0.8   \n",
      "\n",
      "   Smoking habit  Number of hours spent sitting per day  fall  spring  summer  \\\n",
      "0              0                                   0.88     0       1       0   \n",
      "1              1                                   0.31     0       1       0   \n",
      "2             -1                                   0.50     0       1       0   \n",
      "3             -1                                   0.38     0       1       0   \n",
      "4             -1                                   0.50     0       1       0   \n",
      "\n",
      "   winter  target  \n",
      "0       0       0  \n",
      "1       0       1  \n",
      "2       0       0  \n",
      "3       0       0  \n",
      "4       0       1  \n"
     ]
    }
   ],
   "source": [
    "data = data_in.copy()\n",
    "gender_dummies = pd.get_dummies(data['Season'], dtype=int)\n",
    "data = pd.concat([data, gender_dummies], axis=1).drop('Season', axis=1)\n",
    "data['target'] = data['Output'].map({'N': 0, 'O': 1})\n",
    "data = data.drop('Output', axis=1)\n",
    "print(data.head())"
   ],
   "metadata": {
    "collapsed": false,
    "ExecuteTime": {
     "end_time": "2024-03-29T11:36:35.509884Z",
     "start_time": "2024-03-29T11:36:35.266500300Z"
    }
   },
   "id": "d43a7f26104614ef",
   "execution_count": 43
  },
  {
   "cell_type": "code",
   "outputs": [
    {
     "data": {
      "text/plain": "<Figure size 640x480 with 2 Axes>",
      "image/png": "[encoded data removed]"
     },
     "metadata": {},
     "output_type": "display_data"
    }
   ],
   "source": [
    "cols = data.columns.difference(['target'])\n",
    "corr_matrix = data[data.columns.difference(['target'])].corr().abs()\n",
    "sns.heatmap(corr_matrix, annot=True)\n",
    "plt.show()"
   ],
   "metadata": {
    "collapsed": false,
    "ExecuteTime": {
     "end_time": "2024-03-29T11:36:36.334472200Z",
     "start_time": "2024-03-29T11:36:35.286725400Z"
    }
   },
   "id": "6071bf902d074078",
   "execution_count": 44
  },
  {
   "cell_type": "code",
   "outputs": [],
   "source": [],
   "metadata": {
    "collapsed": false,
    "ExecuteTime": {
     "end_time": "2024-03-29T11:36:36.369600600Z",
     "start_time": "2024-03-29T11:36:36.336653400Z"
    }
   },
   "id": "491dd50246193ae9",
   "execution_count": 44
  },
  {
   "cell_type": "code",
   "outputs": [
    {
     "name": "stdout",
     "output_type": "stream",
     "text": [
      "0.8857142857142857\n",
      "[[62  0]\n",
      " [ 8  0]]\n",
      "              precision    recall  f1-score   support\n",
      "\n",
      "           0       0.89      1.00      0.94        62\n",
      "           1       0.00      0.00      0.00         8\n",
      "\n",
      "    accuracy                           0.89        70\n",
      "   macro avg       0.44      0.50      0.47        70\n",
      "weighted avg       0.78      0.89      0.83        70\n"
     ]
    },
    {
     "name": "stderr",
     "output_type": "stream",
     "text": [
      "C:\\Users\\jkraszewski\\PycharmProjects\\advanced-ml-project\\.venv\\Lib\\site-packages\\sklearn\\metrics\\_classification.py:1509: UndefinedMetricWarning: Precision is ill-defined and being set to 0.0 in labels with no predicted samples. Use `zero_division` parameter to control this behavior.\n",
      "  _warn_prf(average, modifier, f\"{metric.capitalize()} is\", len(result))\n",
      "C:\\Users\\jkraszewski\\PycharmProjects\\advanced-ml-project\\.venv\\Lib\\site-packages\\sklearn\\metrics\\_classification.py:1509: UndefinedMetricWarning: Precision is ill-defined and being set to 0.0 in labels with no predicted samples. Use `zero_division` parameter to control this behavior.\n",
      "  _warn_prf(average, modifier, f\"{metric.capitalize()} is\", len(result))\n",
      "C:\\Users\\jkraszewski\\PycharmProjects\\advanced-ml-project\\.venv\\Lib\\site-packages\\sklearn\\metrics\\_classification.py:1509: UndefinedMetricWarning: Precision is ill-defined and being set to 0.0 in labels with no predicted samples. Use `zero_division` parameter to control this behavior.\n",
      "  _warn_prf(average, modifier, f\"{metric.capitalize()} is\", len(result))\n"
     ]
    }
   ],
   "source": [
    "y = data['target']\n",
    "X = data.drop('target', axis=1)\n",
    "test_logistic_regression(X, y, test_size=0.7)"
   ],
   "metadata": {
    "collapsed": false,
    "ExecuteTime": {
     "end_time": "2024-03-29T11:36:36.621181100Z",
     "start_time": "2024-03-29T11:36:36.345418800Z"
    }
   },
   "id": "a88cecf0cd70d79d",
   "execution_count": 45
  },
  {
   "cell_type": "code",
   "outputs": [],
   "source": [
    "data.to_csv(\"datasets/fertility.csv\", index=False)"
   ],
   "metadata": {
    "collapsed": false,
    "ExecuteTime": {
     "end_time": "2024-03-29T11:36:36.645010800Z",
     "start_time": "2024-03-29T11:36:36.386072600Z"
    }
   },
   "id": "9134375690afbd31",
   "execution_count": 46
  },
  {
   "cell_type": "markdown",
   "source": [
    "### Ajwa or Medjool"
   ],
   "metadata": {
    "collapsed": false
   },
   "id": "a308639ac045baec"
  },
  {
   "cell_type": "code",
   "outputs": [
    {
     "name": "stdout",
     "output_type": "stream",
     "text": [
      "20\n"
     ]
    }
   ],
   "source": [
    "path = f\"{base_dir}/ajwa or medjool/ajwa+or+medjool/AjwaOrMejdool.csv\"\n",
    "data_in = pd.read_csv(path, sep=';')\n",
    "print(len(data_in))"
   ],
   "metadata": {
    "collapsed": false,
    "ExecuteTime": {
     "end_time": "2024-03-29T11:36:36.776245Z",
     "start_time": "2024-03-29T11:36:36.397544700Z"
    }
   },
   "id": "106ef8a813e418c",
   "execution_count": 47
  },
  {
   "cell_type": "code",
   "outputs": [
    {
     "name": "stdout",
     "output_type": "stream",
     "text": [
      "Date Length (cm)           0.0\n",
      "Date Diameter (cm)         0.0\n",
      "Date Weight (g)            0.0\n",
      "Pit Length (cm)            0.0\n",
      "Calories (Kcal)            0.0\n",
      "Color                      0.0\n",
      "Class (Ajwa or Medjool)    0.0\n",
      "dtype: float64\n",
      "['BlackAjwa' 'BrownMedjool']\n"
     ]
    }
   ],
   "source": [
    "check_missing(data_in)\n",
    "check_color = data_in['Color'] + data_in['Class (Ajwa or Medjool)']\n",
    "print(np.unique(check_color))"
   ],
   "metadata": {
    "collapsed": false,
    "ExecuteTime": {
     "end_time": "2024-03-29T11:36:36.810835600Z",
     "start_time": "2024-03-29T11:36:36.411716900Z"
    }
   },
   "id": "35d2819f2de06868",
   "execution_count": 48
  },
  {
   "cell_type": "code",
   "outputs": [
    {
     "name": "stdout",
     "output_type": "stream",
     "text": [
      "['Ajwa' 'Medjool']\n"
     ]
    }
   ],
   "source": [
    "data = data_in.copy()\n",
    "print(np.unique(data['Class (Ajwa or Medjool)']))\n",
    "data['target'] = data['Class (Ajwa or Medjool)'].map({'Ajwa': 0, 'Medjool': 1})\n",
    "data = data.drop('Color', axis=1).drop('Class (Ajwa or Medjool)', axis=1)"
   ],
   "metadata": {
    "collapsed": false,
    "ExecuteTime": {
     "end_time": "2024-03-29T11:36:36.814204600Z",
     "start_time": "2024-03-29T11:36:36.425031600Z"
    }
   },
   "id": "afc9bbdf7ed7539a",
   "execution_count": 49
  },
  {
   "cell_type": "code",
   "outputs": [
    {
     "data": {
      "text/plain": "<Figure size 640x480 with 2 Axes>",
      "image/png": "[encoded data removed]"
     },
     "metadata": {},
     "output_type": "display_data"
    }
   ],
   "source": [
    "cols = data.columns.difference(['target'])\n",
    "corr_matrix = data[data.columns.difference(['target'])].corr().abs()\n",
    "sns.heatmap(corr_matrix, annot=True)\n",
    "plt.show()"
   ],
   "metadata": {
    "collapsed": false,
    "ExecuteTime": {
     "end_time": "2024-03-29T11:36:37.102054900Z",
     "start_time": "2024-03-29T11:36:36.440758800Z"
    }
   },
   "id": "7702277efa161a24",
   "execution_count": 50
  },
  {
   "cell_type": "code",
   "outputs": [
    {
     "name": "stdout",
     "output_type": "stream",
     "text": [
      "Index(['Date Diameter (cm)', 'Date Weight (g)', 'Pit Length (cm)', 'target'], dtype='object')\n"
     ]
    }
   ],
   "source": [
    "data.drop(['Calories (Kcal)', 'Date Length (cm)'], axis=1, inplace=True)\n",
    "print(data.columns)"
   ],
   "metadata": {
    "collapsed": false,
    "ExecuteTime": {
     "end_time": "2024-03-29T11:36:37.128417200Z",
     "start_time": "2024-03-29T11:36:36.902023100Z"
    }
   },
   "id": "3fb8829696bd3d4",
   "execution_count": 51
  },
  {
   "cell_type": "code",
   "outputs": [
    {
     "name": "stdout",
     "output_type": "stream",
     "text": [
      "0.9166666666666666\n",
      "[[6 0]\n",
      " [1 5]]\n",
      "              precision    recall  f1-score   support\n",
      "\n",
      "           0       0.86      1.00      0.92         6\n",
      "           1       1.00      0.83      0.91         6\n",
      "\n",
      "    accuracy                           0.92        12\n",
      "   macro avg       0.93      0.92      0.92        12\n",
      "weighted avg       0.93      0.92      0.92        12\n"
     ]
    }
   ],
   "source": [
    "y = data['target']\n",
    "X = data.drop('target', axis=1)\n",
    "test_logistic_regression(X, y, test_size=0.6)"
   ],
   "metadata": {
    "collapsed": false,
    "ExecuteTime": {
     "end_time": "2024-03-29T11:36:37.178586300Z",
     "start_time": "2024-03-29T11:36:36.913322300Z"
    }
   },
   "id": "dd2b12171f6ff561",
   "execution_count": 52
  },
  {
   "cell_type": "code",
   "outputs": [],
   "source": [
    "data.to_csv(\"datasets/ajwa_or_medjool.csv\", index=False)"
   ],
   "metadata": {
    "collapsed": false,
    "ExecuteTime": {
     "end_time": "2024-03-29T11:36:37.183135900Z",
     "start_time": "2024-03-29T11:36:36.957802500Z"
    }
   },
   "id": "b7f46daaa1d9c971",
   "execution_count": 53
  },
  {
   "cell_type": "markdown",
   "source": [
    "### NHANES survey age prediction"
   ],
   "metadata": {
    "collapsed": false
   },
   "id": "c29ed5ba481ab7ca"
  },
  {
   "cell_type": "code",
   "execution_count": 54,
   "id": "initial_id",
   "metadata": {
    "collapsed": true,
    "ExecuteTime": {
     "end_time": "2024-03-29T11:36:37.202623100Z",
     "start_time": "2024-03-29T11:36:36.969299200Z"
    }
   },
   "outputs": [
    {
     "name": "stdout",
     "output_type": "stream",
     "text": [
      "2278\n"
     ]
    }
   ],
   "source": [
    "path = f\"{base_dir}/nhanes survey age prediction/NHANES_age_prediction.csv\"\n",
    "data_in = pd.read_csv(path)\n",
    "data = data_in.copy()\n",
    "print(len(data))"
   ]
  },
  {
   "cell_type": "code",
   "outputs": [
    {
     "name": "stdout",
     "output_type": "stream",
     "text": [
      "SEQN         0.0\n",
      "age_group    0.0\n",
      "RIDAGEYR     0.0\n",
      "RIAGENDR     0.0\n",
      "PAQ605       0.0\n",
      "BMXBMI       0.0\n",
      "LBXGLU       0.0\n",
      "DIQ010       0.0\n",
      "LBXGLT       0.0\n",
      "LBXIN        0.0\n",
      "dtype: float64\n"
     ]
    }
   ],
   "source": [
    "check_missing(data_in)"
   ],
   "metadata": {
    "collapsed": false,
    "ExecuteTime": {
     "end_time": "2024-03-29T11:36:37.406021400Z",
     "start_time": "2024-03-29T11:36:36.987938900Z"
    }
   },
   "id": "1638b1eb67709e4c",
   "execution_count": 55
  },
  {
   "cell_type": "code",
   "outputs": [
    {
     "name": "stdout",
     "output_type": "stream",
     "text": [
      "['Adult' 'Senior']\n"
     ]
    }
   ],
   "source": [
    "print(np.unique(data['age_group']))\n",
    "data['target'] = data_in['age_group'].map({'Adult': 0, 'Senior': 1})\n",
    "data = data.drop('SEQN', axis=1).drop('age_group', axis=1)"
   ],
   "metadata": {
    "collapsed": false,
    "ExecuteTime": {
     "end_time": "2024-03-29T11:36:37.410835800Z",
     "start_time": "2024-03-29T11:36:37.000205600Z"
    }
   },
   "id": "bf590b23501faf98",
   "execution_count": 56
  },
  {
   "cell_type": "code",
   "outputs": [
    {
     "data": {
      "text/plain": "<Figure size 640x480 with 2 Axes>",
      "image/png": "[encoded data removed]"
     },
     "metadata": {},
     "output_type": "display_data"
    }
   ],
   "source": [
    "cols = data.columns.difference(['target'])\n",
    "corr_matrix = data[data.columns.difference(['target'])].corr().abs()\n",
    "sns.heatmap(corr_matrix, annot=True)\n",
    "plt.show()"
   ],
   "metadata": {
    "collapsed": false,
    "ExecuteTime": {
     "end_time": "2024-03-29T11:36:37.810906Z",
     "start_time": "2024-03-29T11:36:37.016953400Z"
    }
   },
   "id": "2db3045ec82ee44",
   "execution_count": 57
  },
  {
   "cell_type": "code",
   "outputs": [
    {
     "name": "stdout",
     "output_type": "stream",
     "text": [
      "['LBXGLU', 'LBXIN']\n"
     ]
    }
   ],
   "source": [
    "upper = corr_matrix.where(np.triu(np.ones(corr_matrix.shape), k=1).astype(bool))\n",
    "to_drop = [column for column in upper.columns if any(upper[column] > 0.5)]\n",
    "print(to_drop)\n",
    "data.drop(to_drop, axis=1, inplace=True)"
   ],
   "metadata": {
    "collapsed": false,
    "ExecuteTime": {
     "end_time": "2024-03-29T11:36:37.836576200Z",
     "start_time": "2024-03-29T11:36:37.762009Z"
    }
   },
   "id": "fc1832f8fdb6ef7",
   "execution_count": 58
  },
  {
   "cell_type": "code",
   "outputs": [
    {
     "name": "stdout",
     "output_type": "stream",
     "text": [
      "1.0\n",
      "[[382   0]\n",
      " [  0  74]]\n",
      "              precision    recall  f1-score   support\n",
      "\n",
      "           0       1.00      1.00      1.00       382\n",
      "           1       1.00      1.00      1.00        74\n",
      "\n",
      "    accuracy                           1.00       456\n",
      "   macro avg       1.00      1.00      1.00       456\n",
      "weighted avg       1.00      1.00      1.00       456\n"
     ]
    },
    {
     "name": "stderr",
     "output_type": "stream",
     "text": [
      "C:\\Users\\jkraszewski\\PycharmProjects\\advanced-ml-project\\.venv\\Lib\\site-packages\\sklearn\\linear_model\\_logistic.py:469: ConvergenceWarning: lbfgs failed to converge (status=1):\n",
      "STOP: TOTAL NO. of ITERATIONS REACHED LIMIT.\n",
      "\n",
      "Increase the number of iterations (max_iter) or scale the data as shown in:\n",
      "    https://scikit-learn.org/stable/modules/preprocessing.html\n",
      "Please also refer to the documentation for alternative solver options:\n",
      "    https://scikit-learn.org/stable/modules/linear_model.html#logistic-regression\n",
      "  n_iter_i = _check_optimize_result(\n"
     ]
    }
   ],
   "source": [
    "y = data['target']\n",
    "X = data.drop('target', axis=1)\n",
    "test_logistic_regression(X, y)"
   ],
   "metadata": {
    "collapsed": false,
    "ExecuteTime": {
     "end_time": "2024-03-29T11:36:38.102112300Z",
     "start_time": "2024-03-29T11:36:37.776629900Z"
    }
   },
   "id": "44c259c107375357",
   "execution_count": 59
  },
  {
   "cell_type": "code",
   "outputs": [],
   "source": [
    "data.to_csv(\"datasets/nhanes_survey_age_prediction.csv\", index=False)"
   ],
   "metadata": {
    "collapsed": false,
    "ExecuteTime": {
     "end_time": "2024-03-29T11:36:38.166829900Z",
     "start_time": "2024-03-29T11:36:37.940672100Z"
    }
   },
   "id": "47658ab725a9be2f",
   "execution_count": 60
  }
 ],
 "metadata": {
  "kernelspec": {
   "display_name": "Python 3",
   "language": "python",
   "name": "python3"
  },
  "language_info": {
   "codemirror_mode": {
    "name": "ipython",
    "version": 2
   },
   "file_extension": ".py",
   "mimetype": "text/x-python",
   "name": "python",
   "nbconvert_exporter": "python",
   "pygments_lexer": "ipython2",
   "version": "2.7.6"
  }
 },
 "nbformat": 4,
 "nbformat_minor": 5
}
