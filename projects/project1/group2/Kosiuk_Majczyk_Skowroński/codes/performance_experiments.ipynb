{
 "cells": [
  {
   "cell_type": "code",
   "execution_count": 1,
   "metadata": {},
   "outputs": [],
   "source": [
    "import numpy as np\n",
    "import pandas as pd\n",
    "import matplotlib.pyplot as plt\n",
    "import seaborn as sns\n",
    "\n",
    "from LogisticRegressors import SGD, ADAM, IWLS\n",
    "from sklearn.linear_model import LinearRegression\n",
    "\n",
    "from sklearn.model_selection import train_test_split\n",
    "from sklearn.metrics import balanced_accuracy_score as bal_acc\n",
    "\n",
    "import numpy as np\n",
    "\n",
    "import json\n",
    "import openml\n",
    "\n",
    "from tqdm.notebook import tqdm\n",
    "\n",
    "from utils import validate_datasets, preprocess_datasets, performance_test\n",
    "\n",
    "import warnings\n",
    "\n",
    "warnings.simplefilter(action=\"ignore\", category=FutureWarning)\n",
    "warnings.simplefilter(action=\"ignore\", category=RuntimeWarning)\n",
    "\n",
    "import random\n",
    "random.seed(42)\n",
    "np.random.seed(42)\n",
    "\n",
    "import copy"
   ]
  },
  {
   "cell_type": "code",
   "execution_count": 2,
   "metadata": {},
   "outputs": [
    {
     "name": "stdout",
     "output_type": "stream",
     "text": [
      "Dataset: banknote-authentication\n",
      "Binary target - OK\n",
      "Low dimensionality (4) when assumed small (<=10) - OK\n",
      "No missing values - OK\n",
      "No non-numeric columns - OK\n",
      "More rows (1372) than columns (4) - OK\n",
      "Dataset banknote-authentication is OK\n",
      "----------------------------------------------------------------------------------------------------\n",
      "\n",
      "Dataset: puma8NH\n",
      "Binary target - OK\n",
      "Low dimensionality (8) when assumed small (<=10) - OK\n",
      "No missing values - OK\n",
      "No non-numeric columns - OK\n",
      "More rows (8192) than columns (8) - OK\n",
      "Dataset puma8NH is OK\n",
      "----------------------------------------------------------------------------------------------------\n",
      "\n",
      "Dataset: phoneme\n",
      "Binary target - OK\n",
      "Low dimensionality (5) when assumed small (<=10) - OK\n",
      "No missing values - OK\n",
      "No non-numeric columns - OK\n",
      "More rows (5404) than columns (5) - OK\n",
      "Dataset phoneme is OK\n",
      "----------------------------------------------------------------------------------------------------\n",
      "\n",
      "Dataset: bank32nh\n",
      "Binary target - OK\n",
      "High dimensionality (32) when assumed large (>10) - OK\n",
      "No missing values - OK\n",
      "No non-numeric columns - OK\n",
      "More rows (8192) than columns (32) - OK\n",
      "Dataset bank32nh is OK\n",
      "----------------------------------------------------------------------------------------------------\n",
      "\n",
      "Dataset: PizzaCutter1\n",
      "Binary target - OK\n",
      "High dimensionality (37) when assumed large (>10) - OK\n",
      "No missing values - OK\n",
      "No non-numeric columns - OK\n",
      "More rows (661) than columns (37) - OK\n",
      "Dataset PizzaCutter1 is OK\n",
      "----------------------------------------------------------------------------------------------------\n",
      "\n",
      "Dataset: MegaWatt1\n",
      "Binary target - OK\n",
      "High dimensionality (37) when assumed large (>10) - OK\n",
      "No missing values - OK\n",
      "No non-numeric columns - OK\n",
      "More rows (253) than columns (37) - OK\n",
      "Dataset MegaWatt1 is OK\n",
      "----------------------------------------------------------------------------------------------------\n",
      "\n",
      "Dataset: analcatdata_authorship\n",
      "Binary target - OK\n",
      "High dimensionality (70) when assumed large (>10) - OK\n",
      "No missing values - OK\n",
      "No non-numeric columns - OK\n",
      "More rows (841) than columns (70) - OK\n",
      "Dataset analcatdata_authorship is OK\n",
      "----------------------------------------------------------------------------------------------------\n",
      "\n",
      "Dataset: mc1\n",
      "Binary target - OK\n",
      "High dimensionality (38) when assumed large (>10) - OK\n",
      "No missing values - OK\n",
      "No non-numeric columns - OK\n",
      "More rows (9466) than columns (38) - OK\n",
      "Dataset mc1 is OK\n",
      "----------------------------------------------------------------------------------------------------\n",
      "\n",
      "Dataset: twonorm\n",
      "Binary target - OK\n",
      "High dimensionality (20) when assumed large (>10) - OK\n",
      "No missing values - OK\n",
      "No non-numeric columns - OK\n",
      "More rows (7400) than columns (20) - OK\n",
      "Dataset twonorm is OK\n",
      "----------------------------------------------------------------------------------------------------\n",
      "\n",
      "All datasets are valid\n"
     ]
    }
   ],
   "source": [
    "with open(\"datasets.json\", \"r\") as file:\n",
    "    datasets = json.load(file)\n",
    "validate_datasets(datasets)"
   ]
  },
  {
   "cell_type": "code",
   "execution_count": 3,
   "metadata": {},
   "outputs": [
    {
     "name": "stdout",
     "output_type": "stream",
     "text": [
      "Preprocessing dataset banknote-authentication\n",
      "Columns with only one unique value were dropped: set()\n",
      "Columns to drop: ['V3'] because of collinearity\n",
      "\n",
      "Preprocessing dataset puma8NH\n",
      "Columns with only one unique value were dropped: set()\n",
      "Columns to drop: [] because of collinearity\n",
      "\n",
      "Preprocessing dataset phoneme\n",
      "Columns with only one unique value were dropped: set()\n",
      "Columns to drop: [] because of collinearity\n",
      "\n",
      "Preprocessing dataset bank32nh\n",
      "Columns with only one unique value were dropped: set()\n",
      "Columns to drop: [] because of collinearity\n",
      "\n",
      "Preprocessing dataset PizzaCutter1\n",
      "Columns with only one unique value were dropped: set()\n",
      "Columns to drop: ['f', 'g', 'i', 'k', 'm', 'n', 'p', 's', 'u', 'v', 'z', 'ab', 'ac', 'ad', 'ae', 'af', 'ag', 'ah', 'ai', 'aj', 'ak', 'al', 'am', 'ao'] because of collinearity\n",
      "\n",
      "Preprocessing dataset MegaWatt1\n",
      "Columns with only one unique value were dropped: set()\n",
      "Columns to drop: ['f', 'g', 'i', 'k', 'm', 'n', 'p', 's', 't', 'u', 'v', 'z', 'aa', 'ab', 'ac', 'ae', 'af', 'ag', 'ah', 'ai', 'aj', 'ak', 'al', 'am', 'ao'] because of collinearity\n",
      "\n",
      "Preprocessing dataset analcatdata_authorship\n",
      "Columns with only one unique value were dropped: set()\n",
      "Columns to drop: ['had'] because of collinearity\n",
      "\n",
      "Preprocessing dataset mc1\n",
      "Columns with only one unique value were dropped: set()\n",
      "Columns to drop: ['LOC_COMMENTS', 'CONDITION_COUNT', 'CYCLOMATIC_COMPLEXITY', 'DECISION_COUNT', 'DESIGN_COMPLEXITY', 'EDGE_COUNT', 'LOC_EXECUTABLE', 'HALSTEAD_DIFFICULTY', 'HALSTEAD_EFFORT', 'HALSTEAD_ERROR_EST', 'HALSTEAD_LENGTH', 'HALSTEAD_PROG_TIME', 'HALSTEAD_VOLUME', 'MODIFIED_CONDITION_COUNT', 'MULTIPLE_CONDITION_COUNT', 'NODE_COUNT', 'NORMALIZED_CYLOMATIC_COMPLEXITY', 'NUM_OPERANDS', 'NUM_OPERATORS', 'NUM_UNIQUE_OPERANDS', 'NUM_UNIQUE_OPERATORS', 'NUMBER_OF_LINES', 'LOC_TOTAL'] because of collinearity\n",
      "\n",
      "Preprocessing dataset twonorm\n",
      "Columns with only one unique value were dropped: set()\n",
      "Columns to drop: [] because of collinearity\n",
      "\n"
     ]
    }
   ],
   "source": [
    "datasets = preprocess_datasets(datasets, collinear_threshold=0.7)"
   ]
  },
  {
   "cell_type": "code",
   "execution_count": 4,
   "metadata": {},
   "outputs": [
    {
     "name": "stdout",
     "output_type": "stream",
     "text": [
      "Dataset: banknote-authentication\n",
      "Binary target - OK\n",
      "Low dimensionality (3) when assumed small (<=10) - OK\n",
      "No missing values - OK\n",
      "No non-numeric columns - OK\n",
      "More rows (1372) than columns (3) - OK\n",
      "Dataset banknote-authentication is OK\n",
      "----------------------------------------------------------------------------------------------------\n",
      "\n",
      "Dataset: puma8NH\n",
      "Binary target - OK\n",
      "Low dimensionality (8) when assumed small (<=10) - OK\n",
      "No missing values - OK\n",
      "No non-numeric columns - OK\n",
      "More rows (8192) than columns (8) - OK\n",
      "Dataset puma8NH is OK\n",
      "----------------------------------------------------------------------------------------------------\n",
      "\n",
      "Dataset: phoneme\n",
      "Binary target - OK\n",
      "Low dimensionality (5) when assumed small (<=10) - OK\n",
      "No missing values - OK\n",
      "No non-numeric columns - OK\n",
      "More rows (5404) than columns (5) - OK\n",
      "Dataset phoneme is OK\n",
      "----------------------------------------------------------------------------------------------------\n",
      "\n",
      "Dataset: bank32nh\n",
      "Binary target - OK\n",
      "High dimensionality (32) when assumed large (>10) - OK\n",
      "No missing values - OK\n",
      "No non-numeric columns - OK\n",
      "More rows (8192) than columns (32) - OK\n",
      "Dataset bank32nh is OK\n",
      "----------------------------------------------------------------------------------------------------\n",
      "\n",
      "Dataset: PizzaCutter1\n",
      "Binary target - OK\n",
      "High dimensionality (13) when assumed large (>10) - OK\n",
      "No missing values - OK\n",
      "No non-numeric columns - OK\n",
      "More rows (661) than columns (13) - OK\n",
      "Dataset PizzaCutter1 is OK\n",
      "----------------------------------------------------------------------------------------------------\n",
      "\n",
      "Dataset: MegaWatt1\n",
      "Binary target - OK\n",
      "High dimensionality (12) when assumed large (>10) - OK\n",
      "No missing values - OK\n",
      "No non-numeric columns - OK\n",
      "More rows (253) than columns (12) - OK\n",
      "Dataset MegaWatt1 is OK\n",
      "----------------------------------------------------------------------------------------------------\n",
      "\n",
      "Dataset: analcatdata_authorship\n",
      "Binary target - OK\n",
      "High dimensionality (69) when assumed large (>10) - OK\n",
      "No missing values - OK\n",
      "No non-numeric columns - OK\n",
      "More rows (841) than columns (69) - OK\n",
      "Dataset analcatdata_authorship is OK\n",
      "----------------------------------------------------------------------------------------------------\n",
      "\n",
      "Dataset: mc1\n",
      "Binary target - OK\n",
      "High dimensionality (15) when assumed large (>10) - OK\n",
      "No missing values - OK\n",
      "No non-numeric columns - OK\n",
      "More rows (9466) than columns (15) - OK\n",
      "Dataset mc1 is OK\n",
      "----------------------------------------------------------------------------------------------------\n",
      "\n",
      "Dataset: twonorm\n",
      "Binary target - OK\n",
      "High dimensionality (20) when assumed large (>10) - OK\n",
      "No missing values - OK\n",
      "No non-numeric columns - OK\n",
      "More rows (7400) than columns (20) - OK\n",
      "Dataset twonorm is OK\n",
      "----------------------------------------------------------------------------------------------------\n",
      "\n",
      "All datasets are valid\n"
     ]
    }
   ],
   "source": [
    "validate_datasets(datasets)"
   ]
  },
  {
   "cell_type": "markdown",
   "metadata": {},
   "source": [
    "# Batch 1"
   ]
  },
  {
   "cell_type": "code",
   "execution_count": 5,
   "metadata": {},
   "outputs": [],
   "source": [
    "import copy\n",
    "reslut_dict = dict.fromkeys(datasets.keys(), dict())\n",
    "reslut_dict['MegaWatt1']= {\n",
    "    \"test\" : \"test\"\n",
    "}\n",
    "for key in reslut_dict.keys():\n",
    "    reslut_dict[key] = {\n",
    "        \"SGD\": dict(),\n",
    "        \"ADAM\": dict(),\n",
    "        \"IWLS\": dict(),\n",
    "    }\n",
    "reslut_dict_interactions = copy.deepcopy(reslut_dict)\n",
    "\n",
    "keys = list(reslut_dict_interactions.keys())\n",
    "\n",
    "# remove large datasets from reslut_dict_interactions\n",
    "for key in keys:\n",
    "    if datasets[key]['size'] == 'large':\n",
    "        reslut_dict_interactions.pop(key)\n"
   ]
  },
  {
   "cell_type": "markdown",
   "metadata": {},
   "source": [
    "## All datasets no interactions"
   ]
  },
  {
   "cell_type": "code",
   "execution_count": 6,
   "metadata": {},
   "outputs": [
    {
     "data": {
      "application/vnd.jupyter.widget-view+json": {
       "model_id": "0df1339fc9c54936915e8e1ca540c5f8",
       "version_major": 2,
       "version_minor": 0
      },
      "text/plain": [
       "Datasets:   0%|          | 0/9 [00:00<?, ?it/s]"
      ]
     },
     "metadata": {},
     "output_type": "display_data"
    },
    {
     "name": "stdout",
     "output_type": "stream",
     "text": [
      "Dataset: banknote-authentication\n"
     ]
    },
    {
     "data": {
      "application/vnd.jupyter.widget-view+json": {
       "model_id": "4c14ac0b38d24b0bb34f3b0ca81d78d8",
       "version_major": 2,
       "version_minor": 0
      },
      "text/plain": [
       "Models:   0%|          | 0/3 [00:00<?, ?it/s]"
      ]
     },
     "metadata": {},
     "output_type": "display_data"
    },
    {
     "data": {
      "application/vnd.jupyter.widget-view+json": {
       "model_id": "015cf5d980994fb4be9a4f2962df6da8",
       "version_major": 2,
       "version_minor": 0
      },
      "text/plain": [
       "  0%|          | 0/5 [00:00<?, ?it/s]"
      ]
     },
     "metadata": {},
     "output_type": "display_data"
    },
    {
     "data": {
      "application/vnd.jupyter.widget-view+json": {
       "model_id": "08adf5f10301486e8861ea4a3a1ac842",
       "version_major": 2,
       "version_minor": 0
      },
      "text/plain": [
       "  0%|          | 0/5 [00:00<?, ?it/s]"
      ]
     },
     "metadata": {},
     "output_type": "display_data"
    },
    {
     "data": {
      "application/vnd.jupyter.widget-view+json": {
       "model_id": "b2dd978a977d4f1b9702e2344cc5e73f",
       "version_major": 2,
       "version_minor": 0
      },
      "text/plain": [
       "  0%|          | 0/5 [00:00<?, ?it/s]"
      ]
     },
     "metadata": {},
     "output_type": "display_data"
    },
    {
     "name": "stdout",
     "output_type": "stream",
     "text": [
      "Dataset: puma8NH\n"
     ]
    },
    {
     "data": {
      "application/vnd.jupyter.widget-view+json": {
       "model_id": "7eea3cba98f64633b29a5c6b11b60917",
       "version_major": 2,
       "version_minor": 0
      },
      "text/plain": [
       "Models:   0%|          | 0/3 [00:00<?, ?it/s]"
      ]
     },
     "metadata": {},
     "output_type": "display_data"
    },
    {
     "data": {
      "application/vnd.jupyter.widget-view+json": {
       "model_id": "dbfa6bc97c1a4c6bb8f4e0951bfacac9",
       "version_major": 2,
       "version_minor": 0
      },
      "text/plain": [
       "  0%|          | 0/5 [00:00<?, ?it/s]"
      ]
     },
     "metadata": {},
     "output_type": "display_data"
    },
    {
     "data": {
      "application/vnd.jupyter.widget-view+json": {
       "model_id": "423143f83d6044c283da921c8890dc81",
       "version_major": 2,
       "version_minor": 0
      },
      "text/plain": [
       "  0%|          | 0/5 [00:00<?, ?it/s]"
      ]
     },
     "metadata": {},
     "output_type": "display_data"
    },
    {
     "data": {
      "application/vnd.jupyter.widget-view+json": {
       "model_id": "f6a675b114784b65bafe16e6e7341d2a",
       "version_major": 2,
       "version_minor": 0
      },
      "text/plain": [
       "  0%|          | 0/5 [00:00<?, ?it/s]"
      ]
     },
     "metadata": {},
     "output_type": "display_data"
    },
    {
     "name": "stdout",
     "output_type": "stream",
     "text": [
      "Dataset: phoneme\n"
     ]
    },
    {
     "data": {
      "application/vnd.jupyter.widget-view+json": {
       "model_id": "cd8ebe73a72b44d99726eb9cf40829d2",
       "version_major": 2,
       "version_minor": 0
      },
      "text/plain": [
       "Models:   0%|          | 0/3 [00:00<?, ?it/s]"
      ]
     },
     "metadata": {},
     "output_type": "display_data"
    },
    {
     "data": {
      "application/vnd.jupyter.widget-view+json": {
       "model_id": "25ed8cff74a84224a2c53cb25d973ce7",
       "version_major": 2,
       "version_minor": 0
      },
      "text/plain": [
       "  0%|          | 0/5 [00:00<?, ?it/s]"
      ]
     },
     "metadata": {},
     "output_type": "display_data"
    },
    {
     "data": {
      "application/vnd.jupyter.widget-view+json": {
       "model_id": "5d47efbeba6e495c83c19a994fa13f63",
       "version_major": 2,
       "version_minor": 0
      },
      "text/plain": [
       "  0%|          | 0/5 [00:00<?, ?it/s]"
      ]
     },
     "metadata": {},
     "output_type": "display_data"
    },
    {
     "data": {
      "application/vnd.jupyter.widget-view+json": {
       "model_id": "6c8460282ed04b9ba4cd44e2061d9981",
       "version_major": 2,
       "version_minor": 0
      },
      "text/plain": [
       "  0%|          | 0/5 [00:00<?, ?it/s]"
      ]
     },
     "metadata": {},
     "output_type": "display_data"
    },
    {
     "name": "stdout",
     "output_type": "stream",
     "text": [
      "Dataset: bank32nh\n"
     ]
    },
    {
     "data": {
      "application/vnd.jupyter.widget-view+json": {
       "model_id": "c03c99a8d1274924ab5077b8ffa194c6",
       "version_major": 2,
       "version_minor": 0
      },
      "text/plain": [
       "Models:   0%|          | 0/3 [00:00<?, ?it/s]"
      ]
     },
     "metadata": {},
     "output_type": "display_data"
    },
    {
     "data": {
      "application/vnd.jupyter.widget-view+json": {
       "model_id": "702a2ba9b7d342e4b72e0891be443dfa",
       "version_major": 2,
       "version_minor": 0
      },
      "text/plain": [
       "  0%|          | 0/5 [00:00<?, ?it/s]"
      ]
     },
     "metadata": {},
     "output_type": "display_data"
    },
    {
     "data": {
      "application/vnd.jupyter.widget-view+json": {
       "model_id": "7f54415fa0e948a5bd0706a10b52b098",
       "version_major": 2,
       "version_minor": 0
      },
      "text/plain": [
       "  0%|          | 0/5 [00:00<?, ?it/s]"
      ]
     },
     "metadata": {},
     "output_type": "display_data"
    },
    {
     "data": {
      "application/vnd.jupyter.widget-view+json": {
       "model_id": "c778bd4ae2a94aa680862566edb75b09",
       "version_major": 2,
       "version_minor": 0
      },
      "text/plain": [
       "  0%|          | 0/5 [00:00<?, ?it/s]"
      ]
     },
     "metadata": {},
     "output_type": "display_data"
    },
    {
     "name": "stdout",
     "output_type": "stream",
     "text": [
      "Dataset: PizzaCutter1\n"
     ]
    },
    {
     "data": {
      "application/vnd.jupyter.widget-view+json": {
       "model_id": "328c4f2a03ff4ced83705b49ef8a9071",
       "version_major": 2,
       "version_minor": 0
      },
      "text/plain": [
       "Models:   0%|          | 0/3 [00:00<?, ?it/s]"
      ]
     },
     "metadata": {},
     "output_type": "display_data"
    },
    {
     "data": {
      "application/vnd.jupyter.widget-view+json": {
       "model_id": "9834fe424625449b9799e432f6489860",
       "version_major": 2,
       "version_minor": 0
      },
      "text/plain": [
       "  0%|          | 0/5 [00:00<?, ?it/s]"
      ]
     },
     "metadata": {},
     "output_type": "display_data"
    },
    {
     "data": {
      "application/vnd.jupyter.widget-view+json": {
       "model_id": "511853e140d04f538d2830202385a469",
       "version_major": 2,
       "version_minor": 0
      },
      "text/plain": [
       "  0%|          | 0/5 [00:00<?, ?it/s]"
      ]
     },
     "metadata": {},
     "output_type": "display_data"
    },
    {
     "data": {
      "application/vnd.jupyter.widget-view+json": {
       "model_id": "c57ecf7a4a524c04ba3a12bae43bfe25",
       "version_major": 2,
       "version_minor": 0
      },
      "text/plain": [
       "  0%|          | 0/5 [00:00<?, ?it/s]"
      ]
     },
     "metadata": {},
     "output_type": "display_data"
    },
    {
     "name": "stdout",
     "output_type": "stream",
     "text": [
      "Dataset: MegaWatt1\n"
     ]
    },
    {
     "data": {
      "application/vnd.jupyter.widget-view+json": {
       "model_id": "3c4c317607f441b0b017a5325b540aa2",
       "version_major": 2,
       "version_minor": 0
      },
      "text/plain": [
       "Models:   0%|          | 0/3 [00:00<?, ?it/s]"
      ]
     },
     "metadata": {},
     "output_type": "display_data"
    },
    {
     "data": {
      "application/vnd.jupyter.widget-view+json": {
       "model_id": "376b5bc9208c49f0991c9e0969445cef",
       "version_major": 2,
       "version_minor": 0
      },
      "text/plain": [
       "  0%|          | 0/5 [00:00<?, ?it/s]"
      ]
     },
     "metadata": {},
     "output_type": "display_data"
    },
    {
     "data": {
      "application/vnd.jupyter.widget-view+json": {
       "model_id": "74dc40821df74c0992e778595a358db7",
       "version_major": 2,
       "version_minor": 0
      },
      "text/plain": [
       "  0%|          | 0/5 [00:00<?, ?it/s]"
      ]
     },
     "metadata": {},
     "output_type": "display_data"
    },
    {
     "data": {
      "application/vnd.jupyter.widget-view+json": {
       "model_id": "1ea247570f3c45db9f1558be1fe8562d",
       "version_major": 2,
       "version_minor": 0
      },
      "text/plain": [
       "  0%|          | 0/5 [00:00<?, ?it/s]"
      ]
     },
     "metadata": {},
     "output_type": "display_data"
    },
    {
     "name": "stdout",
     "output_type": "stream",
     "text": [
      "Dataset: analcatdata_authorship\n"
     ]
    },
    {
     "data": {
      "application/vnd.jupyter.widget-view+json": {
       "model_id": "a924d1ef12f54f8e9f89220ade08328e",
       "version_major": 2,
       "version_minor": 0
      },
      "text/plain": [
       "Models:   0%|          | 0/3 [00:00<?, ?it/s]"
      ]
     },
     "metadata": {},
     "output_type": "display_data"
    },
    {
     "data": {
      "application/vnd.jupyter.widget-view+json": {
       "model_id": "3d502401a2cf4bf19a997d639c32ecb1",
       "version_major": 2,
       "version_minor": 0
      },
      "text/plain": [
       "  0%|          | 0/5 [00:00<?, ?it/s]"
      ]
     },
     "metadata": {},
     "output_type": "display_data"
    },
    {
     "data": {
      "application/vnd.jupyter.widget-view+json": {
       "model_id": "fda962067b9d4f5da8ce6a93f5603a32",
       "version_major": 2,
       "version_minor": 0
      },
      "text/plain": [
       "  0%|          | 0/5 [00:00<?, ?it/s]"
      ]
     },
     "metadata": {},
     "output_type": "display_data"
    },
    {
     "data": {
      "application/vnd.jupyter.widget-view+json": {
       "model_id": "7283c7cb4c3d49e9b85cebd197ac1bdc",
       "version_major": 2,
       "version_minor": 0
      },
      "text/plain": [
       "  0%|          | 0/5 [00:00<?, ?it/s]"
      ]
     },
     "metadata": {},
     "output_type": "display_data"
    },
    {
     "name": "stdout",
     "output_type": "stream",
     "text": [
      "Dataset: mc1\n"
     ]
    },
    {
     "data": {
      "application/vnd.jupyter.widget-view+json": {
       "model_id": "26766333582f4767a47bff655199b6ef",
       "version_major": 2,
       "version_minor": 0
      },
      "text/plain": [
       "Models:   0%|          | 0/3 [00:00<?, ?it/s]"
      ]
     },
     "metadata": {},
     "output_type": "display_data"
    },
    {
     "data": {
      "application/vnd.jupyter.widget-view+json": {
       "model_id": "50b506099ebd4a91aa75bf84ce5ae747",
       "version_major": 2,
       "version_minor": 0
      },
      "text/plain": [
       "  0%|          | 0/5 [00:00<?, ?it/s]"
      ]
     },
     "metadata": {},
     "output_type": "display_data"
    },
    {
     "data": {
      "application/vnd.jupyter.widget-view+json": {
       "model_id": "0392959eb45e4d80876b9005ba94fb77",
       "version_major": 2,
       "version_minor": 0
      },
      "text/plain": [
       "  0%|          | 0/5 [00:00<?, ?it/s]"
      ]
     },
     "metadata": {},
     "output_type": "display_data"
    },
    {
     "data": {
      "application/vnd.jupyter.widget-view+json": {
       "model_id": "5e2d1b5931ca4bb9b3a59f11ad871234",
       "version_major": 2,
       "version_minor": 0
      },
      "text/plain": [
       "  0%|          | 0/5 [00:00<?, ?it/s]"
      ]
     },
     "metadata": {},
     "output_type": "display_data"
    },
    {
     "name": "stdout",
     "output_type": "stream",
     "text": [
      "Dataset: twonorm\n"
     ]
    },
    {
     "data": {
      "application/vnd.jupyter.widget-view+json": {
       "model_id": "9668432181854b3a86d49b45964cc950",
       "version_major": 2,
       "version_minor": 0
      },
      "text/plain": [
       "Models:   0%|          | 0/3 [00:00<?, ?it/s]"
      ]
     },
     "metadata": {},
     "output_type": "display_data"
    },
    {
     "data": {
      "application/vnd.jupyter.widget-view+json": {
       "model_id": "80c76f945fd04bffaa80e0f4e7e12ba7",
       "version_major": 2,
       "version_minor": 0
      },
      "text/plain": [
       "  0%|          | 0/5 [00:00<?, ?it/s]"
      ]
     },
     "metadata": {},
     "output_type": "display_data"
    },
    {
     "data": {
      "application/vnd.jupyter.widget-view+json": {
       "model_id": "764de77f8144479392b27310e7fd46ef",
       "version_major": 2,
       "version_minor": 0
      },
      "text/plain": [
       "  0%|          | 0/5 [00:00<?, ?it/s]"
      ]
     },
     "metadata": {},
     "output_type": "display_data"
    },
    {
     "data": {
      "application/vnd.jupyter.widget-view+json": {
       "model_id": "90a36aa5f7f14c6f973e2969a701a17b",
       "version_major": 2,
       "version_minor": 0
      },
      "text/plain": [
       "  0%|          | 0/5 [00:00<?, ?it/s]"
      ]
     },
     "metadata": {},
     "output_type": "display_data"
    }
   ],
   "source": [
    "for dataset in tqdm(datasets.keys(), desc=\"Datasets\"):\n",
    "    print(f\"Dataset: {dataset}\")\n",
    "    X, y = datasets[dataset][\"X\"], datasets[dataset][\"y\"]\n",
    "    SGDs = [SGD(batch_size=1, epochs=500, intercept=True) for _ in range(5)]\n",
    "    ADAMs = [ADAM(batch_size=1, epochs=500, intercept=True) for _ in range(5)]\n",
    "    IWLSs = [IWLS(epochs=500, intercept=True) for _ in range(5)]\n",
    "    for model_name, models in tqdm(\n",
    "        {\n",
    "            \"SGD\": SGDs,\n",
    "            \"ADAM\": ADAMs,\n",
    "            \"IWLS\": IWLSs,\n",
    "        }.items(), desc=\"Models\"\n",
    "    ):\n",
    "        reslut_dict[dataset][model_name] = performance_test(X, y, models, model_name, test_size=0.2)\n",
    "    # print(reslut_dict)\n",
    "\n",
    "    with open(\"training_results.json\", \"w\") as file:\n",
    "        json.dump(reslut_dict, file)"
   ]
  },
  {
   "cell_type": "markdown",
   "metadata": {},
   "source": [
    "## Small datasets with interactions"
   ]
  },
  {
   "cell_type": "code",
   "execution_count": 7,
   "metadata": {},
   "outputs": [
    {
     "data": {
      "application/vnd.jupyter.widget-view+json": {
       "model_id": "0f429dd50a4b459e931ffc094f4b8349",
       "version_major": 2,
       "version_minor": 0
      },
      "text/plain": [
       "Datasets:   0%|          | 0/9 [00:00<?, ?it/s]"
      ]
     },
     "metadata": {},
     "output_type": "display_data"
    },
    {
     "name": "stdout",
     "output_type": "stream",
     "text": [
      "Dataset: banknote-authentication\n"
     ]
    },
    {
     "data": {
      "application/vnd.jupyter.widget-view+json": {
       "model_id": "84a9dcbe9a4d450c8e43e2194217049e",
       "version_major": 2,
       "version_minor": 0
      },
      "text/plain": [
       "Models:   0%|          | 0/3 [00:00<?, ?it/s]"
      ]
     },
     "metadata": {},
     "output_type": "display_data"
    },
    {
     "data": {
      "application/vnd.jupyter.widget-view+json": {
       "model_id": "c4287f4931994bcb9dd231dbe7c3000c",
       "version_major": 2,
       "version_minor": 0
      },
      "text/plain": [
       "  0%|          | 0/5 [00:00<?, ?it/s]"
      ]
     },
     "metadata": {},
     "output_type": "display_data"
    },
    {
     "data": {
      "application/vnd.jupyter.widget-view+json": {
       "model_id": "513fb4ecfdc74655b2094a96200093e6",
       "version_major": 2,
       "version_minor": 0
      },
      "text/plain": [
       "  0%|          | 0/5 [00:00<?, ?it/s]"
      ]
     },
     "metadata": {},
     "output_type": "display_data"
    },
    {
     "data": {
      "application/vnd.jupyter.widget-view+json": {
       "model_id": "9cbb9ca409ad4cf98911081cd3b901d9",
       "version_major": 2,
       "version_minor": 0
      },
      "text/plain": [
       "  0%|          | 0/5 [00:00<?, ?it/s]"
      ]
     },
     "metadata": {},
     "output_type": "display_data"
    },
    {
     "name": "stdout",
     "output_type": "stream",
     "text": [
      "Dataset: puma8NH\n"
     ]
    },
    {
     "data": {
      "application/vnd.jupyter.widget-view+json": {
       "model_id": "a9250f596ebb4f5f8691469c39d12cd3",
       "version_major": 2,
       "version_minor": 0
      },
      "text/plain": [
       "Models:   0%|          | 0/3 [00:00<?, ?it/s]"
      ]
     },
     "metadata": {},
     "output_type": "display_data"
    },
    {
     "data": {
      "application/vnd.jupyter.widget-view+json": {
       "model_id": "a78c3f900fbe44b3ab02cd98634269b4",
       "version_major": 2,
       "version_minor": 0
      },
      "text/plain": [
       "  0%|          | 0/5 [00:00<?, ?it/s]"
      ]
     },
     "metadata": {},
     "output_type": "display_data"
    },
    {
     "data": {
      "application/vnd.jupyter.widget-view+json": {
       "model_id": "1bdadfb4dfe945a28a743e6fb357f1ee",
       "version_major": 2,
       "version_minor": 0
      },
      "text/plain": [
       "  0%|          | 0/5 [00:00<?, ?it/s]"
      ]
     },
     "metadata": {},
     "output_type": "display_data"
    },
    {
     "data": {
      "application/vnd.jupyter.widget-view+json": {
       "model_id": "1a2c58d781dc4275b2ea21311ac0602f",
       "version_major": 2,
       "version_minor": 0
      },
      "text/plain": [
       "  0%|          | 0/5 [00:00<?, ?it/s]"
      ]
     },
     "metadata": {},
     "output_type": "display_data"
    },
    {
     "name": "stdout",
     "output_type": "stream",
     "text": [
      "Dataset: phoneme\n"
     ]
    },
    {
     "data": {
      "application/vnd.jupyter.widget-view+json": {
       "model_id": "f8ef0366617449ef9b3120b9d3d81227",
       "version_major": 2,
       "version_minor": 0
      },
      "text/plain": [
       "Models:   0%|          | 0/3 [00:00<?, ?it/s]"
      ]
     },
     "metadata": {},
     "output_type": "display_data"
    },
    {
     "data": {
      "application/vnd.jupyter.widget-view+json": {
       "model_id": "b30b9b3cd6504d0996cc0e536606fc91",
       "version_major": 2,
       "version_minor": 0
      },
      "text/plain": [
       "  0%|          | 0/5 [00:00<?, ?it/s]"
      ]
     },
     "metadata": {},
     "output_type": "display_data"
    },
    {
     "data": {
      "application/vnd.jupyter.widget-view+json": {
       "model_id": "ccc2fc89938c47e794db0373ff5b5de5",
       "version_major": 2,
       "version_minor": 0
      },
      "text/plain": [
       "  0%|          | 0/5 [00:00<?, ?it/s]"
      ]
     },
     "metadata": {},
     "output_type": "display_data"
    },
    {
     "data": {
      "application/vnd.jupyter.widget-view+json": {
       "model_id": "f7a707ada73d4aed8fb4177335524496",
       "version_major": 2,
       "version_minor": 0
      },
      "text/plain": [
       "  0%|          | 0/5 [00:00<?, ?it/s]"
      ]
     },
     "metadata": {},
     "output_type": "display_data"
    },
    {
     "name": "stdout",
     "output_type": "stream",
     "text": [
      "Skipping bank32nh because it is large.\n",
      "Skipping PizzaCutter1 because it is large.\n",
      "Skipping MegaWatt1 because it is large.\n",
      "Skipping analcatdata_authorship because it is large.\n",
      "Skipping mc1 because it is large.\n",
      "Skipping twonorm because it is large.\n"
     ]
    }
   ],
   "source": [
    "for dataset in tqdm(datasets.keys(), desc=\"Datasets\"):\n",
    "    if datasets[dataset]['size'] == \"large\":\n",
    "        print(f\"Skipping {dataset} because it is large.\")\n",
    "        continue\n",
    "    print(f\"Dataset: {dataset}\")\n",
    "    X, y = datasets[dataset][\"X\"], datasets[dataset][\"y\"]\n",
    "    SGDs = [SGD(batch_size=1, epochs=500, intercept=True, include_interactions=True) for _ in range(5)]\n",
    "    ADAMs = [ADAM(batch_size=1, epochs=500, intercept=True, include_interactions=True) for _ in range(5)]\n",
    "    IWLSs = [IWLS(epochs=500, intercept=True, include_interactions=True) for _ in range(5)]\n",
    "    for model_name, models in tqdm(\n",
    "        {\n",
    "            \"SGD\": SGDs,\n",
    "            \"ADAM\": ADAMs,\n",
    "            \"IWLS\": IWLSs,\n",
    "        }.items(), desc=\"Models\"\n",
    "    ):\n",
    "        reslut_dict_interactions[dataset][model_name] = performance_test(X, y, models, model_name, test_size=0.2)\n",
    "\n",
    "    with open(\"training_results_interactions.json\", \"w\") as file:\n",
    "        json.dump(reslut_dict_interactions, file)"
   ]
  }
 ],
 "metadata": {
  "kernelspec": {
   "display_name": "base",
   "language": "python",
   "name": "python3"
  },
  "language_info": {
   "codemirror_mode": {
    "name": "ipython",
    "version": 3
   },
   "file_extension": ".py",
   "mimetype": "text/x-python",
   "name": "python",
   "nbconvert_exporter": "python",
   "pygments_lexer": "ipython3",
   "version": "3.11.6"
  }
 },
 "nbformat": 4,
 "nbformat_minor": 2
}
