{
 "cells": [
  {
   "cell_type": "code",
   "execution_count": 1,
   "metadata": {},
   "outputs": [],
   "source": [
    "import warnings\n",
    "\n",
    "from openml import tasks, datasets\n",
    "from typing import Callable\n",
    "from pathlib import Path\n",
    "\n",
    "import pandas as pd\n",
    "import os\n",
    "\n",
    "warnings.simplefilter(action=\"ignore\", category=FutureWarning)"
   ]
  },
  {
   "cell_type": "code",
   "execution_count": 2,
   "metadata": {},
   "outputs": [],
   "source": [
    "os.chdir('..')"
   ]
  },
  {
   "cell_type": "code",
   "execution_count": 3,
   "metadata": {},
   "outputs": [],
   "source": [
    "from engine.preprocessing import eliminate_correlated_values, ensure_last_target, get_generic_preprocessing"
   ]
  },
  {
   "cell_type": "code",
   "execution_count": 4,
   "metadata": {},
   "outputs": [],
   "source": [
    "SMALL_TASKS_CNT: int = 3\n",
    "BIG_TASKS_CNT: int = 6\n",
    "\n",
    "FEATURES_TRESHOLD: int = 10\n",
    "\n",
    "ADDITIONAL_CONDITIONS: Callable = lambda task: task['NumberOfInstances'] < 10_000 \\\n",
    "    and task['NumberOfMissingValues'] == 0\n",
    "    \n",
    "DATA_PATH: str = Path('data')"
   ]
  },
  {
   "cell_type": "markdown",
   "metadata": {},
   "source": [
    "# Data filtering"
   ]
  },
  {
   "cell_type": "code",
   "execution_count": 5,
   "metadata": {},
   "outputs": [],
   "source": [
    "classification_tasks = tasks.list_tasks(\n",
    "        task_type=tasks.TaskType.SUPERVISED_CLASSIFICATION\n",
    "    )\n",
    "\n",
    "small_tasks = []\n",
    "big_tasks = []\n",
    "\n",
    "for task in classification_tasks.values():\n",
    "    if task.get(\"NumberOfClasses\") is None:\n",
    "        continue\n",
    "    if task['NumberOfInstances'] <= task['NumberOfFeatures']:\n",
    "        continue\n",
    "    if not ADDITIONAL_CONDITIONS(task):\n",
    "        continue\n",
    "    if task[\"NumberOfClasses\"] == 2:\n",
    "        if task['NumberOfFeatures'] > FEATURES_TRESHOLD:\n",
    "            big_tasks.append(task)\n",
    "        else:\n",
    "            small_tasks.append(task)"
   ]
  },
  {
   "cell_type": "code",
   "execution_count": 6,
   "metadata": {},
   "outputs": [],
   "source": [
    "small_tasks[:SMALL_TASKS_CNT]\n",
    "chosen_small_ids = [37, 3585, 3053]"
   ]
  },
  {
   "cell_type": "code",
   "execution_count": 21,
   "metadata": {},
   "outputs": [],
   "source": [
    "big_tasks[:BIG_TASKS_CNT]\n",
    "chosen_big_ids = [3, 31, 39, 3872, 52, 57]"
   ]
  },
  {
   "cell_type": "code",
   "execution_count": 10,
   "metadata": {},
   "outputs": [],
   "source": [
    "SELECTED_FEATURES = ['did', 'name', 'NumberOfFeatures', 'NumberOfInstances', 'NumberOfNumericFeatures', 'NumberOfSymbolicFeatures']"
   ]
  },
  {
   "cell_type": "code",
   "execution_count": 22,
   "metadata": {},
   "outputs": [],
   "source": [
    "summary = pd.DataFrame()\n",
    "\n",
    "for id_ in chosen_small_ids:\n",
    "    row = {key: [value] for key, value in classification_tasks[id_].items() if key in SELECTED_FEATURES}\n",
    "    row['type'] = 'Small'\n",
    "    row = pd.DataFrame(row)\n",
    "    summary = pd.concat([summary, row])\n",
    "    \n",
    "for id_ in chosen_big_ids:\n",
    "    row = {key: [value] for key, value in classification_tasks[id_].items() if key in SELECTED_FEATURES}\n",
    "    row['type'] = 'Big'\n",
    "    row = pd.DataFrame(row)\n",
    "    summary = pd.concat([summary, row])"
   ]
  },
  {
   "cell_type": "code",
   "execution_count": 28,
   "metadata": {},
   "outputs": [],
   "source": [
    "summary.rename(columns={'did': 'ID',\n",
    "                'NumberOfFeatures': '# Attributes',\n",
    "                'NumberOfInstances': '# Row',\n",
    "                'NumberOfNumericFeatures': '# Numeric Attributes',\n",
    "                'NumberOfSymbolicFeatures': '# Categoric Attributes'}).to_csv('data_info.csv', index=False)"
   ]
  },
  {
   "cell_type": "markdown",
   "metadata": {},
   "source": [
    "# Data downloading"
   ]
  },
  {
   "cell_type": "code",
   "execution_count": 8,
   "metadata": {},
   "outputs": [],
   "source": [
    "(DATA_PATH / 'small').mkdir(exist_ok=True)\n",
    "(DATA_PATH / 'big').mkdir(exist_ok=True)"
   ]
  },
  {
   "cell_type": "code",
   "execution_count": 9,
   "metadata": {},
   "outputs": [
    {
     "name": "stdout",
     "output_type": "stream",
     "text": [
      "SMALL\n",
      "{'tid': 37, 'ttid': <TaskType.SUPERVISED_CLASSIFICATION: 1>, 'did': 37, 'name': 'diabetes', 'task_type': 'Supervised Classification', 'status': 'active', 'estimation_procedure': '10-fold Crossvalidation', 'source_data': '37', 'target_feature': 'class', 'MajorityClassSize': 500, 'MaxNominalAttDistinctValues': 2, 'MinorityClassSize': 268, 'NumberOfClasses': 2, 'NumberOfFeatures': 9, 'NumberOfInstances': 768, 'NumberOfInstancesWithMissingValues': 0, 'NumberOfMissingValues': 0, 'NumberOfNumericFeatures': 8, 'NumberOfSymbolicFeatures': 1}\n",
      "Remaining variables:\n",
      "Index([0, 1, 2, 3, 4, 5, 6, 7], dtype='object')\n",
      "{'tid': 3585, 'ttid': <TaskType.SUPERVISED_CLASSIFICATION: 1>, 'did': 719, 'name': 'veteran', 'task_type': 'Supervised Classification', 'status': 'active', 'estimation_procedure': '10-fold Crossvalidation', 'evaluation_measures': 'predictive_accuracy', 'source_data': '719', 'target_feature': 'binaryClass', 'MajorityClassSize': 94, 'MaxNominalAttDistinctValues': 4, 'MinorityClassSize': 43, 'NumberOfClasses': 2, 'NumberOfFeatures': 8, 'NumberOfInstances': 137, 'NumberOfInstancesWithMissingValues': 0, 'NumberOfMissingValues': 0, 'NumberOfNumericFeatures': 3, 'NumberOfSymbolicFeatures': 5}\n",
      "Remaining variables:\n",
      "Index([0, 1, 2, 3, 4, 5, 6, 7, 8], dtype='object')\n",
      "{'tid': 3053, 'ttid': <TaskType.SUPERVISED_CLASSIFICATION: 1>, 'did': 333, 'name': 'monks-problems-1', 'task_type': 'Supervised Classification', 'status': 'active', 'estimation_procedure': '33% Holdout set', 'evaluation_measures': 'predictive_accuracy', 'source_data': '333', 'target_feature': 'class', 'MajorityClassSize': 278, 'MaxNominalAttDistinctValues': 4, 'MinorityClassSize': 278, 'NumberOfClasses': 2, 'NumberOfFeatures': 7, 'NumberOfInstances': 556, 'NumberOfInstancesWithMissingValues': 0, 'NumberOfMissingValues': 0, 'NumberOfNumericFeatures': 0, 'NumberOfSymbolicFeatures': 7}\n",
      "Remaining variables:\n",
      "Index([0, 1, 2, 3, 4, 5, 6, 7, 8, 9, 10], dtype='object')\n",
      "BIG\n",
      "{'tid': 3, 'ttid': <TaskType.SUPERVISED_CLASSIFICATION: 1>, 'did': 3, 'name': 'kr-vs-kp', 'task_type': 'Supervised Classification', 'status': 'active', 'estimation_procedure': '10-fold Crossvalidation', 'source_data': '3', 'target_feature': 'class', 'MajorityClassSize': 1669, 'MaxNominalAttDistinctValues': 3, 'MinorityClassSize': 1527, 'NumberOfClasses': 2, 'NumberOfFeatures': 37, 'NumberOfInstances': 3196, 'NumberOfInstancesWithMissingValues': 0, 'NumberOfMissingValues': 0, 'NumberOfNumericFeatures': 0, 'NumberOfSymbolicFeatures': 37}\n",
      "Remaining variables:\n",
      "Index([ 0,  1,  2,  3,  4,  5,  6,  7,  9, 10, 11, 12, 13, 14, 15, 16, 17, 18,\n",
      "       19, 20, 21, 22, 23, 24, 25, 26, 27, 28, 29, 30, 31, 32, 33, 34, 35, 36],\n",
      "      dtype='object')\n",
      "{'tid': 31, 'ttid': <TaskType.SUPERVISED_CLASSIFICATION: 1>, 'did': 31, 'name': 'credit-g', 'task_type': 'Supervised Classification', 'status': 'active', 'estimation_procedure': '10-fold Crossvalidation', 'source_data': '31', 'target_feature': 'class', 'MajorityClassSize': 700, 'MaxNominalAttDistinctValues': 10, 'MinorityClassSize': 300, 'NumberOfClasses': 2, 'NumberOfFeatures': 21, 'NumberOfInstances': 1000, 'NumberOfInstancesWithMissingValues': 0, 'NumberOfMissingValues': 0, 'NumberOfNumericFeatures': 7, 'NumberOfSymbolicFeatures': 14}\n",
      "Remaining variables:\n",
      "Index([ 0,  1,  2,  3,  4,  6,  7,  8,  9, 10, 11, 12, 13, 14, 15, 16, 17, 18,\n",
      "       19, 20, 21, 22, 23, 24, 25, 26, 27, 28, 29, 30, 31, 32, 33, 35, 36, 37,\n",
      "       38, 39, 40, 41, 42, 43, 44, 45, 46, 47],\n",
      "      dtype='object')\n",
      "{'tid': 39, 'ttid': <TaskType.SUPERVISED_CLASSIFICATION: 1>, 'did': 40, 'name': 'sonar', 'task_type': 'Supervised Classification', 'status': 'active', 'estimation_procedure': '10-fold Crossvalidation', 'evaluation_measures': 'predictive_accuracy', 'source_data': '40', 'target_feature': 'Class', 'MajorityClassSize': 111, 'MaxNominalAttDistinctValues': 2, 'MinorityClassSize': 97, 'NumberOfClasses': 2, 'NumberOfFeatures': 61, 'NumberOfInstances': 208, 'NumberOfInstancesWithMissingValues': 0, 'NumberOfMissingValues': 0, 'NumberOfNumericFeatures': 60, 'NumberOfSymbolicFeatures': 1}\n",
      "Remaining variables:\n",
      "Index([ 0,  1,  3,  4,  5,  6,  7,  9, 11, 13, 15, 18, 20, 22, 24, 27, 28, 30,\n",
      "       32, 34, 36, 39, 41, 43, 46, 48, 49, 50, 51, 52, 53, 54, 55, 56, 57, 58,\n",
      "       59],\n",
      "      dtype='object')\n",
      "{'tid': 3872, 'ttid': <TaskType.SUPERVISED_CLASSIFICATION: 1>, 'did': 1009, 'name': 'white-clover', 'task_type': 'Supervised Classification', 'status': 'active', 'estimation_procedure': '10-fold Crossvalidation', 'evaluation_measures': 'predictive_accuracy', 'source_data': '1009', 'target_feature': 'binaryClass', 'MajorityClassSize': 38, 'MaxNominalAttDistinctValues': 7, 'MinorityClassSize': 25, 'NumberOfClasses': 2, 'NumberOfFeatures': 32, 'NumberOfInstances': 63, 'NumberOfInstancesWithMissingValues': 0, 'NumberOfMissingValues': 0, 'NumberOfNumericFeatures': 27, 'NumberOfSymbolicFeatures': 5}\n"
     ]
    },
    {
     "name": "stderr",
     "output_type": "stream",
     "text": [
      "/mnt/linux/sync/studies/msc_1/aml/AdvancedML2024-proj-1/.venv/lib/python3.10/site-packages/statsmodels/stats/outliers_influence.py:198: RuntimeWarning: divide by zero encountered in scalar divide\n",
      "  vif = 1. / (1. - r_squared_i)\n"
     ]
    },
    {
     "name": "stdout",
     "output_type": "stream",
     "text": [
      "Remaining variables:\n",
      "Index([ 0,  3,  4,  6,  7,  9, 10, 13, 14, 15, 17, 18, 19, 20, 21, 22, 23, 24,\n",
      "       25, 26, 27, 28, 30, 32, 33, 34, 35, 38],\n",
      "      dtype='object')\n",
      "{'tid': 52, 'ttid': <TaskType.SUPERVISED_CLASSIFICATION: 1>, 'did': 53, 'name': 'heart-statlog', 'task_type': 'Supervised Classification', 'status': 'active', 'estimation_procedure': '10-fold Crossvalidation', 'evaluation_measures': 'predictive_accuracy', 'source_data': '53', 'target_feature': 'class', 'MajorityClassSize': 150, 'MaxNominalAttDistinctValues': 2, 'MinorityClassSize': 120, 'NumberOfClasses': 2, 'NumberOfFeatures': 14, 'NumberOfInstances': 270, 'NumberOfInstancesWithMissingValues': 0, 'NumberOfMissingValues': 0, 'NumberOfNumericFeatures': 13, 'NumberOfSymbolicFeatures': 1}\n",
      "Remaining variables:\n",
      "Index([0, 1, 2, 3, 4, 5, 6, 7, 8, 9, 10, 11, 12], dtype='object')\n",
      "{'tid': 57, 'ttid': <TaskType.SUPERVISED_CLASSIFICATION: 1>, 'did': 59, 'name': 'ionosphere', 'task_type': 'Supervised Classification', 'status': 'active', 'estimation_procedure': '10-fold Crossvalidation', 'evaluation_measures': 'predictive_accuracy', 'source_data': '59', 'target_feature': 'class', 'MajorityClassSize': 225, 'MaxNominalAttDistinctValues': 2, 'MinorityClassSize': 126, 'NumberOfClasses': 2, 'NumberOfFeatures': 35, 'NumberOfInstances': 351, 'NumberOfInstancesWithMissingValues': 0, 'NumberOfMissingValues': 0, 'NumberOfNumericFeatures': 34, 'NumberOfSymbolicFeatures': 1}\n"
     ]
    },
    {
     "name": "stderr",
     "output_type": "stream",
     "text": [
      "/mnt/linux/sync/studies/msc_1/aml/AdvancedML2024-proj-1/.venv/lib/python3.10/site-packages/statsmodels/regression/linear_model.py:1782: RuntimeWarning: invalid value encountered in scalar divide\n",
      "  return 1 - self.ssr/self.centered_tss\n"
     ]
    },
    {
     "name": "stdout",
     "output_type": "stream",
     "text": [
      "Remaining variables:\n",
      "Index([ 0,  1,  2,  3,  4,  5,  6,  7,  8,  9, 10, 11, 12, 13, 15, 16, 17, 18,\n",
      "       19, 21, 22, 23, 24, 25, 26, 27, 28, 29, 30, 31, 32, 33],\n",
      "      dtype='object')\n"
     ]
    }
   ],
   "source": [
    "print(\"SMALL\")\n",
    "for id_ in chosen_small_ids:\n",
    "    task = classification_tasks[id_]\n",
    "    task_name = task['name']\n",
    "    print(task)\n",
    "    target_name = task[\"target_feature\"]\n",
    "    data = datasets.get_dataset(task['did']).get_data()[0]\n",
    "    data = ensure_last_target(data, target_name)\n",
    "\n",
    "    X, y = data.iloc[:,:-1], data.iloc[:,-1]\n",
    "\n",
    "    pipeline = get_generic_preprocessing()\n",
    "    X = pipeline.fit_transform(X)\n",
    "    y = pd.get_dummies(y, drop_first=True).astype(int)\n",
    "    X = eliminate_correlated_values(pd.DataFrame(data=X))\n",
    "\n",
    "    df = pd.DataFrame(data=X)\n",
    "    df['target'] = y\n",
    "\n",
    "    df.to_csv(DATA_PATH / 'small' / f'{task_name}.csv', index=False)\n",
    "\n",
    "print(\"BIG\")\n",
    "for id_ in chosen_big_ids:\n",
    "    task = classification_tasks[id_]\n",
    "\n",
    "    task_name = task['name']\n",
    "    print(task)\n",
    "    target_name = task['target_feature']\n",
    "    data = datasets.get_dataset(task['did']).get_data()[0]\n",
    "    data = ensure_last_target(data, target_name)\n",
    "\n",
    "    X, y = data.iloc[:,:-1], data.iloc[:,-1]\n",
    "\n",
    "    pipeline = get_generic_preprocessing()\n",
    "    X = pipeline.fit_transform(X)\n",
    "    y = pd.get_dummies(y, drop_first=True).astype(int)\n",
    "    X = eliminate_correlated_values(pd.DataFrame(data=X))\n",
    "\n",
    "    df = pd.DataFrame(data=X)\n",
    "    df['target'] = y\n",
    "\n",
    "    df.to_csv(DATA_PATH / 'big' / f'{task_name}.csv', index=False)"
   ]
  }
 ],
 "metadata": {
  "kernelspec": {
   "display_name": "aml",
   "language": "python",
   "name": "python3"
  },
  "language_info": {
   "codemirror_mode": {
    "name": "ipython",
    "version": 3
   },
   "file_extension": ".py",
   "mimetype": "text/x-python",
   "name": "python",
   "nbconvert_exporter": "python",
   "pygments_lexer": "ipython3",
   "version": "3.10.13"
  }
 },
 "nbformat": 4,
 "nbformat_minor": 2
}
