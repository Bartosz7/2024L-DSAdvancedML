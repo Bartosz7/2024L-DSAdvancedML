{
 "cells": [
  {
   "cell_type": "code",
   "execution_count": 34,
   "metadata": {},
   "outputs": [
    {
     "name": "stdout",
     "output_type": "stream",
     "text": [
      "The autoreload extension is already loaded. To reload it, use:\n",
      "  %reload_ext autoreload\n"
     ]
    }
   ],
   "source": [
    "%load_ext autoreload\n",
    "%autoreload 2\n",
    "\n",
    "from data import fetch_data\n",
    "from sklearn.model_selection import train_test_split\n",
    "from sklearn.metrics import accuracy_score\n",
    "from collinearity import SelectNonCollinear\n",
    "import warnings\n",
    "from experiment import test_algorithms, plot_convergence, test_all_datasets\n",
    "import numpy as np\n",
    "import pandas as pd\n",
    "import seaborn as sns\n",
    "import matplotlib.pyplot as plt\n",
    "\n",
    "\n",
    "sns.set_theme(style=\"white\")\n",
    "warnings.filterwarnings(\"ignore\")"
   ]
  },
  {
   "cell_type": "code",
   "execution_count": 90,
   "metadata": {},
   "outputs": [
    {
     "name": "stdout",
     "output_type": "stream",
     "text": [
      "7\n",
      "7\n",
      "\n",
      "4\n",
      "4\n",
      "\n",
      "5\n",
      "5\n",
      "\n",
      "34\n",
      "33\n",
      "\n",
      "13\n",
      "12\n",
      "\n",
      "30\n",
      "30\n",
      "\n"
     ]
    }
   ],
   "source": [
    "data = fetch_data()\n",
    "small1_X, small1_y = data[\"small1\"]\n",
    "small2_X, small2_y = data[\"small2\"]\n",
    "small3_X, small3_y = data[\"small3\"]\n",
    "large1_X, large1_y = data[\"large1\"]\n",
    "large2_X, large2_y = data[\"large2\"]\n",
    "large3_X, large3_y = data[\"large3\"]\n",
    "large4_X, large4_y = data[\"large4\"]\n",
    "large5_X, large5_y = data[\"large5\"]\n",
    "large6_X, large6_y = data[\"large6\"]"
   ]
  },
  {
   "cell_type": "code",
   "execution_count": 83,
   "metadata": {},
   "outputs": [],
   "source": [
    "def corr_plot(X, threshold):\n",
    "    df = pd.DataFrame(X).corr()\n",
    "    # display(df >= threshold)\n",
    "\n",
    "    # plt.figure(figsize=(10, 10))\n",
    "    mask = np.triu(np.ones_like(df, dtype=bool))\n",
    "    sns.heatmap(\n",
    "        df,\n",
    "        # annot=True,\n",
    "        mask=mask,\n",
    "        # fmt=\".2f\",\n",
    "        # center=0.7,\n",
    "        vmin=0.7,\n",
    "        vmax=1.0,\n",
    "        linewidths=0.5,\n",
    "        cbar_kws={\"shrink\": 0.5},\n",
    "    )"
   ]
  },
  {
   "cell_type": "code",
   "execution_count": 87,
   "metadata": {},
   "outputs": [
    {
     "name": "stdout",
     "output_type": "stream",
     "text": [
      "Dataset: small1\n",
      "7\n",
      "3\n",
      "\n",
      "Dataset: small2\n",
      "4\n",
      "3\n",
      "\n",
      "Dataset: small3\n",
      "5\n",
      "4\n",
      "\n",
      "Dataset: large1\n",
      "33\n",
      "31\n",
      "\n",
      "Dataset: large2\n",
      "12\n",
      "8\n",
      "\n",
      "Dataset: large3\n",
      "30\n",
      "12\n",
      "\n",
      "Dataset: large4\n",
      "33\n",
      "22\n",
      "\n",
      "Dataset: large5\n",
      "41\n",
      "28\n",
      "\n",
      "Dataset: large6\n",
      "16\n",
      "4\n",
      "\n"
     ]
    }
   ],
   "source": [
    "threshold = 0.7\n",
    "\n",
    "for dataset in data:\n",
    "    X, y = data[dataset]\n",
    "    selector = SelectNonCollinear(threshold)\n",
    "    X_2 = selector.fit_transform(X)\n",
    "    print(f\"Dataset: {dataset}\")\n",
    "\n",
    "    # display(selector.get_support())\n",
    "\n",
    "    # corr_plot(X, threshold)\n",
    "    # plt.title(\"Original\")\n",
    "    # plt.show()\n",
    "\n",
    "    # corr_plot(X_2, threshold)\n",
    "    # plt.title(\"After removing collinear features\")\n",
    "    # plt.show()\n",
    "\n",
    "    print(X.shape[1])\n",
    "    print(X_2.shape[1])\n",
    "\n",
    "    # print(f\"{100*(1 -  X_2.shape[1] / X.shape[1]):.0f}% features removed\")\n",
    "    print()"
   ]
  }
 ],
 "metadata": {
  "kernelspec": {
   "display_name": "pyton-KAUIjG77-py3.12",
   "language": "python",
   "name": "python3"
  },
  "language_info": {
   "codemirror_mode": {
    "name": "ipython",
    "version": 3
   },
   "file_extension": ".py",
   "mimetype": "text/x-python",
   "name": "python",
   "nbconvert_exporter": "python",
   "pygments_lexer": "ipython3",
   "version": "3.12.0"
  }
 },
 "nbformat": 4,
 "nbformat_minor": 2
}
