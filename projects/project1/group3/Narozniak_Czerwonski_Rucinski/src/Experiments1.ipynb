{
 "cells": [
  {
   "cell_type": "code",
   "execution_count": 1,
   "metadata": {
    "ExecuteTime": {
     "end_time": "2024-04-03T11:06:46.636016Z",
     "start_time": "2024-04-03T11:06:46.626499Z"
    },
    "collapsed": false
   },
   "outputs": [],
   "source": [
    "%load_ext autoreload\n",
    "%autoreload 2"
   ]
  },
  {
   "cell_type": "code",
   "execution_count": 2,
   "metadata": {
    "ExecuteTime": {
     "end_time": "2024-04-03T11:06:47.722344Z",
     "start_time": "2024-04-03T11:06:46.632133Z"
    }
   },
   "outputs": [
    {
     "data": {
      "text/plain": [
       "{'divide': 'ignore', 'over': 'warn', 'under': 'ignore', 'invalid': 'ignore'}"
      ]
     },
     "execution_count": 2,
     "metadata": {},
     "output_type": "execute_result"
    }
   ],
   "source": [
    "import numpy as np\n",
    "import pandas as pd\n",
    "import matplotlib.pyplot as plt\n",
    "from Adam import AdamOptim\n",
    "from SGD import SGD\n",
    "from utils import *\n",
    "from sklearn.model_selection import train_test_split\n",
    "from sklearn.metrics import balanced_accuracy_score\n",
    "from Logreg import LogisticRegression\n",
    "from IRLS import IRLS\n",
    "from sklearn.preprocessing import LabelEncoder\n",
    "\n",
    "np.seterr(divide=\"ignore\")\n",
    "np.seterr(invalid=\"ignore\")\n",
    "np.seterr(over=\"ignore\")"
   ]
  },
  {
   "cell_type": "markdown",
   "metadata": {},
   "source": [
    "## NBA PLAYERS DATA ##"
   ]
  },
  {
   "cell_type": "code",
   "execution_count": 3,
   "metadata": {
    "ExecuteTime": {
     "end_time": "2024-04-03T11:06:47.751435Z",
     "start_time": "2024-04-03T11:06:47.723392Z"
    }
   },
   "outputs": [],
   "source": [
    "# data:\n",
    "url = \"data/big/nba-players.csv\"\n",
    "dataframe = pd.read_csv(url)\n",
    "dataframe.drop(\"name\", axis=1, inplace=True)\n",
    "dataframe.drop(\"Unnamed: 0\", axis=1, inplace=True)\n",
    "data = dataframe.values\n",
    "dataframe.head()\n",
    "\n",
    "X, y = data[:, :-1], data[:, -1]"
   ]
  },
  {
   "cell_type": "code",
   "execution_count": 4,
   "metadata": {
    "ExecuteTime": {
     "end_time": "2024-04-03T11:06:47.754462Z",
     "start_time": "2024-04-03T11:06:47.739825Z"
    }
   },
   "outputs": [
    {
     "data": {
      "text/plain": [
       "(1340, 19)"
      ]
     },
     "execution_count": 4,
     "metadata": {},
     "output_type": "execute_result"
    }
   ],
   "source": [
    "X.shape"
   ]
  },
  {
   "cell_type": "code",
   "execution_count": 5,
   "metadata": {
    "ExecuteTime": {
     "end_time": "2024-04-03T11:06:48.478805Z",
     "start_time": "2024-04-03T11:06:47.756638Z"
    }
   },
   "outputs": [
    {
     "name": "stderr",
     "output_type": "stream",
     "text": [
      "Epoch::   2%|▏         | 8/500 [00:00<00:04, 115.56it/s]\n"
     ]
    },
    {
     "name": "stdout",
     "output_type": "stream",
     "text": [
      "Early stopping after epoch 8\n",
      "Reverting to the weights corresponding to the lowest validation loss\n"
     ]
    },
    {
     "name": "stderr",
     "output_type": "stream",
     "text": [
      "Epoch::   2%|▏         | 8/500 [00:00<00:04, 105.49it/s]\n"
     ]
    },
    {
     "name": "stdout",
     "output_type": "stream",
     "text": [
      "Early stopping after epoch 8\n",
      "Reverting to the weights corresponding to the lowest validation loss\n"
     ]
    },
    {
     "name": "stderr",
     "output_type": "stream",
     "text": [
      "Epoch::   9%|▉         | 45/500 [00:00<00:02, 160.72it/s]\n"
     ]
    },
    {
     "name": "stdout",
     "output_type": "stream",
     "text": [
      "Early stopping after epoch 45\n",
      "Reverting to the weights corresponding to the lowest validation loss\n"
     ]
    },
    {
     "name": "stderr",
     "output_type": "stream",
     "text": [
      "Epoch::   1%|▏         | 7/500 [00:00<00:02, 173.80it/s]\n"
     ]
    },
    {
     "name": "stdout",
     "output_type": "stream",
     "text": [
      "Early stopping after epoch 7\n",
      "Reverting to the weights corresponding to the lowest validation loss\n"
     ]
    },
    {
     "name": "stderr",
     "output_type": "stream",
     "text": [
      "Epoch::   3%|▎         | 13/500 [00:00<00:02, 186.84it/s]"
     ]
    },
    {
     "name": "stdout",
     "output_type": "stream",
     "text": [
      "Early stopping after epoch 13\n",
      "Reverting to the weights corresponding to the lowest validation loss\n"
     ]
    },
    {
     "name": "stderr",
     "output_type": "stream",
     "text": [
      "\n"
     ]
    }
   ],
   "source": [
    "# ADAM\n",
    "splitting_seeds = [42, 43, 44, 45, 46]\n",
    "adam_accuracy = []\n",
    "with open(\"results/balance_accuracy_3.csv\", \"a\") as f:\n",
    "    f.write(f\"nba_data, adam\")\n",
    "    with open(\"losses.csv\", \"a\") as l:\n",
    "        l.write(f\"nba_data, adam\")\n",
    "        for seed in splitting_seeds:\n",
    "            X_train, X_test, y_train, y_test = train_test_split(\n",
    "                X, y, test_size=0.2, random_state=seed\n",
    "            )\n",
    "            X_train, X_val, y_train, y_val = train_test_split(\n",
    "                X_train, y_train, test_size=0.2, random_state=seed\n",
    "            )\n",
    "            logistic_regression_model = LogisticRegression(input_dim=X_train.shape[1])\n",
    "            adam_optimizer = AdamOptim(eta=0.01)\n",
    "\n",
    "            logistic_regression_model.train(\n",
    "                X_train,\n",
    "                y_train,\n",
    "                optimizer=adam_optimizer,\n",
    "                patience=5,\n",
    "                epochs=500,\n",
    "                batch_size=64,\n",
    "                X_val=X_val,\n",
    "                y_val=y_val,\n",
    "            )\n",
    "            y_pred = logistic_regression_model.predict(X_test)\n",
    "            adam_accuracy.append(balanced_accuracy_score(y_test, y_pred.round()))\n",
    "            f.write(f\", {balanced_accuracy_score(y_test,y_pred.round())}\")\n",
    "            if seed == 42:\n",
    "                l.write(f\", {logistic_regression_model.losses}\\n\")\n",
    "        f.write(\"\\n\")"
   ]
  },
  {
   "cell_type": "code",
   "execution_count": 6,
   "metadata": {
    "ExecuteTime": {
     "end_time": "2024-04-03T11:06:52.761267Z",
     "start_time": "2024-04-03T11:06:48.479318Z"
    }
   },
   "outputs": [
    {
     "name": "stderr",
     "output_type": "stream",
     "text": [
      "Epoch::   1%|          | 5/500 [00:00<00:57,  8.68it/s]\n"
     ]
    },
    {
     "name": "stdout",
     "output_type": "stream",
     "text": [
      "Early stopping after epoch 5\n",
      "Reverting to the weights corresponding to the lowest validation loss\n"
     ]
    },
    {
     "name": "stderr",
     "output_type": "stream",
     "text": [
      "Epoch::   1%|          | 6/500 [00:00<00:59,  8.31it/s]\n"
     ]
    },
    {
     "name": "stdout",
     "output_type": "stream",
     "text": [
      "Early stopping after epoch 6\n",
      "Reverting to the weights corresponding to the lowest validation loss\n"
     ]
    },
    {
     "name": "stderr",
     "output_type": "stream",
     "text": [
      "Epoch::   1%|          | 6/500 [00:01<01:40,  4.91it/s]\n"
     ]
    },
    {
     "name": "stdout",
     "output_type": "stream",
     "text": [
      "Early stopping after epoch 6\n",
      "Reverting to the weights corresponding to the lowest validation loss\n"
     ]
    },
    {
     "name": "stderr",
     "output_type": "stream",
     "text": [
      "Epoch::   1%|          | 5/500 [00:00<01:12,  6.79it/s]\n"
     ]
    },
    {
     "name": "stdout",
     "output_type": "stream",
     "text": [
      "Early stopping after epoch 5\n",
      "Reverting to the weights corresponding to the lowest validation loss\n"
     ]
    },
    {
     "name": "stderr",
     "output_type": "stream",
     "text": [
      "Epoch::   1%|          | 6/500 [00:00<01:05,  7.50it/s]"
     ]
    },
    {
     "name": "stdout",
     "output_type": "stream",
     "text": [
      "Early stopping after epoch 6\n",
      "Reverting to the weights corresponding to the lowest validation loss\n"
     ]
    },
    {
     "name": "stderr",
     "output_type": "stream",
     "text": [
      "\n"
     ]
    }
   ],
   "source": [
    "# IRLS\n",
    "splitting_seeds = [42, 43, 44, 45, 46]\n",
    "irls_accuracy = []\n",
    "with open(\"results/balance_accuracy_3.csv\", \"a\") as f:\n",
    "    f.write(f\"nba_data, irls\")\n",
    "    with open(\"losses.csv\", \"a\") as l:\n",
    "        l.write(f\"nba_data, irls\")\n",
    "        for seed in splitting_seeds:\n",
    "            X_train, X_test, y_train, y_test = train_test_split(\n",
    "                X, y, test_size=0.2, random_state=seed\n",
    "            )\n",
    "            X_train, X_val, y_train, y_val = train_test_split(\n",
    "                X_train, y_train, test_size=0.2, random_state=seed\n",
    "            )\n",
    "            logistic_regression_model = LogisticRegression(input_dim=X_train.shape[1])\n",
    "            irls_optimizer = IRLS()\n",
    "            # batch_size from 256 possible\n",
    "            logistic_regression_model.train(\n",
    "                X_train,\n",
    "                y_train,\n",
    "                optimizer=irls_optimizer,\n",
    "                patience=5,\n",
    "                epochs=500,\n",
    "                batch_size=X_train.shape[0],\n",
    "                X_val=X_val,\n",
    "                y_val=y_val,\n",
    "            )\n",
    "            y_pred = logistic_regression_model.predict(X_test)\n",
    "            irls_accuracy.append(balanced_accuracy_score(y_test, y_pred.round()))\n",
    "            f.write(f\", {balanced_accuracy_score(y_test,y_pred.round())}\")\n",
    "            if seed == 42:\n",
    "                l.write(f\", {logistic_regression_model.losses}\\n\")"
   ]
  },
  {
   "cell_type": "code",
   "execution_count": 7,
   "metadata": {
    "ExecuteTime": {
     "end_time": "2024-04-03T11:07:05.917478Z",
     "start_time": "2024-04-03T11:06:52.764535Z"
    }
   },
   "outputs": [
    {
     "name": "stderr",
     "output_type": "stream",
     "text": [
      "Epoch:: 100%|██████████| 500/500 [00:02<00:00, 170.54it/s]\n",
      "Epoch:: 100%|██████████| 500/500 [00:01<00:00, 272.26it/s]\n",
      "Epoch:: 100%|██████████| 500/500 [00:02<00:00, 179.86it/s]\n",
      "Epoch:: 100%|██████████| 500/500 [00:02<00:00, 170.59it/s]\n",
      "Epoch:: 100%|██████████| 500/500 [00:02<00:00, 213.67it/s]\n"
     ]
    }
   ],
   "source": [
    "# SGD\n",
    "splitting_seeds = [42, 43, 44, 45, 46]\n",
    "sgd_accuracy = []\n",
    "from sklearn.preprocessing import StandardScaler\n",
    "\n",
    "ss = StandardScaler()\n",
    "X_scaled = ss.fit_transform(X)\n",
    "with open(\"results/balance_accuracy_3.csv\", \"a\") as f:\n",
    "    f.write(f\"nba_data, sgd\")\n",
    "    with open(\"losses.csv\", \"a\") as l:\n",
    "        l.write(f\"nba_data, sgd\")\n",
    "        for seed in splitting_seeds:\n",
    "            X_train, X_test, y_train, y_test = train_test_split(\n",
    "                X_scaled, y, test_size=0.2, random_state=seed\n",
    "            )\n",
    "            X_train, X_val, y_train, y_val = train_test_split(\n",
    "                X_train, y_train, test_size=0.2, random_state=seed\n",
    "            )\n",
    "            logistic_regression_model = LogisticRegression(input_dim=X_train.shape[1])\n",
    "            sgd_optimizer = SGD(eta=0.00001)\n",
    "\n",
    "            logistic_regression_model.train(\n",
    "                X_train,\n",
    "                y_train,\n",
    "                optimizer=sgd_optimizer,\n",
    "                patience=10,\n",
    "                epochs=500,\n",
    "                batch_size=32,\n",
    "                X_val=X_val,\n",
    "                y_val=y_val,\n",
    "            )\n",
    "            y_pred = logistic_regression_model.predict(X_test)\n",
    "            sgd_accuracy.append(balanced_accuracy_score(y_test, y_pred.round()))\n",
    "            f.write(f\", {balanced_accuracy_score(y_test,y_pred.round())}\")\n",
    "            if seed == 42:\n",
    "                l.write(f\", {logistic_regression_model.losses}\\n\")"
   ]
  },
  {
   "cell_type": "code",
   "execution_count": 8,
   "metadata": {
    "ExecuteTime": {
     "end_time": "2024-04-03T11:07:15.608301Z",
     "start_time": "2024-04-03T11:07:05.941950Z"
    }
   },
   "outputs": [],
   "source": [
    "# Comparison Models\n",
    "from utils import fitComparisonModels\n",
    "\n",
    "splitting_seeds = [42, 43, 44, 45, 46]\n",
    "comparison_accuracy = []\n",
    "with open(\"results/balance_accuracy_3.csv\", \"a\") as f:\n",
    "    f.write(f\"data_set, algorithm\")\n",
    "    for seed in splitting_seeds:\n",
    "        X_train, X_test, y_train, y_test = train_test_split(\n",
    "            X, y, test_size=0.2, random_state=seed\n",
    "        )\n",
    "        y_lda, y_qda, y_dt, y_rf = fitComparisonModels(X_train, y_train, X_test)\n",
    "        f.write(f\", seed_{seed}_acc\")\n",
    "    f.write(\"\\n\")\n",
    "    f.write(f\"nba_data, lda\")\n",
    "    for seed in splitting_seeds:\n",
    "        X_train, X_test, y_train, y_test = train_test_split(\n",
    "            X, y, test_size=0.2, random_state=seed\n",
    "        )\n",
    "        y_lda, y_qda, y_dt, y_rf = fitComparisonModels(X_train, y_train, X_test)\n",
    "        f.write(f\", {balanced_accuracy_score(y_test, y_lda)}\")\n",
    "    f.write(\"\\n\")\n",
    "    f.write(f\"nba_data, qda\")\n",
    "    for seed in splitting_seeds:\n",
    "        X_train, X_test, y_train, y_test = train_test_split(\n",
    "            X, y, test_size=0.2, random_state=seed\n",
    "        )\n",
    "        y_lda, y_qda, y_dt, y_rf = fitComparisonModels(X_train, y_train, X_test)\n",
    "        f.write(f\", {balanced_accuracy_score(y_test, y_qda)}\")\n",
    "    f.write(\"\\n\")\n",
    "    f.write(f\"nba_data, dt\")\n",
    "    for seed in splitting_seeds:\n",
    "        X_train, X_test, y_train, y_test = train_test_split(\n",
    "            X, y, test_size=0.2, random_state=seed\n",
    "        )\n",
    "        y_lda, y_qda, y_dt, y_rf = fitComparisonModels(X_train, y_train, X_test)\n",
    "        f.write(f\", {balanced_accuracy_score(y_test, y_dt)}\")\n",
    "    f.write(\"\\n\")\n",
    "    f.write(f\"nba_data, rf\")\n",
    "    for seed in splitting_seeds:\n",
    "        X_train, X_test, y_train, y_test = train_test_split(\n",
    "            X, y, test_size=0.2, random_state=seed\n",
    "        )\n",
    "        y_lda, y_qda, y_dt, y_rf = fitComparisonModels(X_train, y_train, X_test)\n",
    "        f.write(f\", {balanced_accuracy_score(y_test, y_rf)}\")\n",
    "    f.write(\"\\n\")"
   ]
  },
  {
   "cell_type": "markdown",
   "metadata": {},
   "source": [
    "## SMOKING DATA ##"
   ]
  },
  {
   "cell_type": "code",
   "execution_count": 9,
   "metadata": {
    "ExecuteTime": {
     "end_time": "2024-04-03T11:07:15.742474Z",
     "start_time": "2024-04-03T11:07:15.608192Z"
    }
   },
   "outputs": [],
   "source": [
    "url = \"data/big/smoking.csv\"\n",
    "dataframe = pd.read_csv(url)\n",
    "dataframe.drop(\"oral\", axis=1, inplace=True)\n",
    "data = dataframe.values\n",
    "\n",
    "X, y = data[:, :-1], data[:, -1]\n",
    "X[:, 1] = LabelEncoder().fit_transform(X[:, 1])\n",
    "X[:, -1] = LabelEncoder().fit_transform(X[:, -1])"
   ]
  },
  {
   "cell_type": "code",
   "execution_count": 10,
   "metadata": {
    "ExecuteTime": {
     "end_time": "2024-04-03T11:07:15.755373Z",
     "start_time": "2024-04-03T11:07:15.742665Z"
    }
   },
   "outputs": [
    {
     "data": {
      "text/plain": [
       "(55692, 25)"
      ]
     },
     "execution_count": 10,
     "metadata": {},
     "output_type": "execute_result"
    }
   ],
   "source": [
    "X.shape"
   ]
  },
  {
   "cell_type": "code",
   "execution_count": 11,
   "metadata": {
    "ExecuteTime": {
     "end_time": "2024-04-03T11:07:36.327881Z",
     "start_time": "2024-04-03T11:07:15.757560Z"
    }
   },
   "outputs": [
    {
     "name": "stderr",
     "output_type": "stream",
     "text": [
      "Epoch::   5%|▌         | 25/500 [00:04<01:25,  5.55it/s]\n"
     ]
    },
    {
     "name": "stdout",
     "output_type": "stream",
     "text": [
      "Early stopping after epoch 25\n",
      "Reverting to the weights corresponding to the lowest validation loss\n"
     ]
    },
    {
     "name": "stderr",
     "output_type": "stream",
     "text": [
      "Epoch::   2%|▏         | 10/500 [00:01<01:35,  5.16it/s]\n"
     ]
    },
    {
     "name": "stdout",
     "output_type": "stream",
     "text": [
      "Early stopping after epoch 10\n",
      "Reverting to the weights corresponding to the lowest validation loss\n"
     ]
    },
    {
     "name": "stderr",
     "output_type": "stream",
     "text": [
      "Epoch::   6%|▌         | 30/500 [00:05<01:25,  5.51it/s]\n"
     ]
    },
    {
     "name": "stdout",
     "output_type": "stream",
     "text": [
      "Early stopping after epoch 30\n",
      "Reverting to the weights corresponding to the lowest validation loss\n"
     ]
    },
    {
     "name": "stderr",
     "output_type": "stream",
     "text": [
      "Epoch::   9%|▉         | 44/500 [00:07<01:13,  6.16it/s]\n"
     ]
    },
    {
     "name": "stdout",
     "output_type": "stream",
     "text": [
      "Early stopping after epoch 44\n",
      "Reverting to the weights corresponding to the lowest validation loss\n"
     ]
    },
    {
     "name": "stderr",
     "output_type": "stream",
     "text": [
      "Epoch::   1%|▏         | 7/500 [00:01<01:36,  5.10it/s]"
     ]
    },
    {
     "name": "stdout",
     "output_type": "stream",
     "text": [
      "Early stopping after epoch 7\n",
      "Reverting to the weights corresponding to the lowest validation loss\n"
     ]
    },
    {
     "name": "stderr",
     "output_type": "stream",
     "text": [
      "\n"
     ]
    }
   ],
   "source": [
    "# ADAM\n",
    "splitting_seeds = [42, 43, 44, 45, 46]\n",
    "adam_accuracy = []\n",
    "with open(\"results/balance_accuracy_3.csv\", \"a\") as f:\n",
    "    f.write(f\"smoking_data, adam\")\n",
    "    with open(\"losses.csv\", \"a\") as l:\n",
    "        l.write(f\"smoking_data, adam\")\n",
    "        for seed in splitting_seeds:\n",
    "            X_train, X_test, y_train, y_test = train_test_split(\n",
    "                X, y, test_size=0.2, random_state=seed\n",
    "            )\n",
    "            X_val, X_test, y_val, y_test = train_test_split(\n",
    "                X_test, y_test, test_size=0.2, random_state=seed\n",
    "            )\n",
    "            y_train = y_train.astype(\"int\")\n",
    "            y_test = y_test.astype(\"int\")\n",
    "\n",
    "            logistic_regression_model = LogisticRegression(input_dim=X_train.shape[1])\n",
    "            adam_optimizer = AdamOptim(eta=0.001)\n",
    "\n",
    "            logistic_regression_model.train(\n",
    "                X_train,\n",
    "                y_train,\n",
    "                optimizer=adam_optimizer,\n",
    "                patience=5,\n",
    "                epochs=500,\n",
    "                batch_size=64,\n",
    "                X_val=X_val,\n",
    "                y_val=y_val,\n",
    "            )\n",
    "            y_pred = logistic_regression_model.predict(X_test)\n",
    "            adam_accuracy.append(balanced_accuracy_score(y_test, y_pred.round()))\n",
    "            f.write(f\", {balanced_accuracy_score(y_test,y_pred.round())}\")\n",
    "            if seed == 42:\n",
    "                l.write(f\", {logistic_regression_model.losses}\\n\")"
   ]
  },
  {
   "cell_type": "code",
   "execution_count": 12,
   "metadata": {
    "ExecuteTime": {
     "end_time": "2024-04-03T11:10:21.722067Z",
     "start_time": "2024-04-03T11:07:36.331859Z"
    }
   },
   "outputs": [
    {
     "name": "stderr",
     "output_type": "stream",
     "text": [
      "Epoch::   1%|          | 5/500 [00:31<51:52,  6.29s/it]\n"
     ]
    },
    {
     "name": "stdout",
     "output_type": "stream",
     "text": [
      "Early stopping after epoch 5\n",
      "Reverting to the weights corresponding to the lowest validation loss\n"
     ]
    },
    {
     "name": "stderr",
     "output_type": "stream",
     "text": [
      "Epoch::   1%|          | 6/500 [00:40<55:34,  6.75s/it]\n"
     ]
    },
    {
     "name": "stdout",
     "output_type": "stream",
     "text": [
      "Early stopping after epoch 6\n",
      "Reverting to the weights corresponding to the lowest validation loss\n"
     ]
    },
    {
     "name": "stderr",
     "output_type": "stream",
     "text": [
      "Epoch::   1%|          | 5/500 [00:31<51:13,  6.21s/it]\n"
     ]
    },
    {
     "name": "stdout",
     "output_type": "stream",
     "text": [
      "Early stopping after epoch 5\n",
      "Reverting to the weights corresponding to the lowest validation loss\n"
     ]
    },
    {
     "name": "stderr",
     "output_type": "stream",
     "text": [
      "Epoch::   1%|          | 5/500 [00:29<49:28,  6.00s/it]\n"
     ]
    },
    {
     "name": "stdout",
     "output_type": "stream",
     "text": [
      "Early stopping after epoch 5\n",
      "Reverting to the weights corresponding to the lowest validation loss\n"
     ]
    },
    {
     "name": "stderr",
     "output_type": "stream",
     "text": [
      "Epoch::   1%|          | 5/500 [00:32<52:49,  6.40s/it]"
     ]
    },
    {
     "name": "stdout",
     "output_type": "stream",
     "text": [
      "Early stopping after epoch 5\n",
      "Reverting to the weights corresponding to the lowest validation loss\n"
     ]
    },
    {
     "name": "stderr",
     "output_type": "stream",
     "text": [
      "\n"
     ]
    }
   ],
   "source": [
    "# IRLS\n",
    "splitting_seeds = [42, 43, 44, 45, 46]\n",
    "from sklearn.preprocessing import StandardScaler\n",
    "\n",
    "ss = StandardScaler()\n",
    "X = ss.fit_transform(X)\n",
    "irls_accuracy = []\n",
    "with open(\"results/balance_accuracy_3.csv\", \"a\") as f:\n",
    "    f.write(f\"smoking_data, irls\")\n",
    "    with open(\"losses.csv\", \"a\") as l:\n",
    "        l.write(f\"smoking_data, irls\")\n",
    "        for seed in splitting_seeds:\n",
    "            X_train, X_test, y_train, y_test = train_test_split(\n",
    "                X, y, test_size=0.2, random_state=seed, stratify=y\n",
    "            )\n",
    "            X_val, X_test, y_val, y_test = train_test_split(\n",
    "                X_test, y_test, test_size=0.2, random_state=seed, stratify=y_test\n",
    "            )\n",
    "            y_train = y_train.astype(\"int\")\n",
    "            y_test = y_test.astype(\"int\")\n",
    "            logistic_regression_model = LogisticRegression(input_dim=X_train.shape[1])\n",
    "            irls_optimizer = IRLS()\n",
    "\n",
    "            logistic_regression_model.train(\n",
    "                X_train,\n",
    "                y_train,\n",
    "                optimizer=irls_optimizer,\n",
    "                patience=5,\n",
    "                epochs=500,\n",
    "                batch_size=16384,\n",
    "                X_val=X_val,\n",
    "                y_val=y_val,\n",
    "            )\n",
    "            y_pred = logistic_regression_model.predict(X_test)\n",
    "            irls_accuracy.append(balanced_accuracy_score(y_test, y_pred.round()))\n",
    "            f.write(f\", {balanced_accuracy_score(y_test,y_pred.round())}\")\n",
    "            if seed == 42:\n",
    "                l.write(f\", {logistic_regression_model.losses}\\n\")"
   ]
  },
  {
   "cell_type": "code",
   "execution_count": 13,
   "metadata": {
    "ExecuteTime": {
     "end_time": "2024-04-03T11:10:25.016433Z",
     "start_time": "2024-04-03T11:10:21.721744Z"
    }
   },
   "outputs": [
    {
     "name": "stderr",
     "output_type": "stream",
     "text": [
      "Epoch::   3%|▎         | 14/500 [00:00<00:14, 32.83it/s]\n"
     ]
    },
    {
     "name": "stdout",
     "output_type": "stream",
     "text": [
      "Early stopping after epoch 14\n",
      "Reverting to the weights corresponding to the lowest validation loss\n"
     ]
    },
    {
     "name": "stderr",
     "output_type": "stream",
     "text": [
      "Epoch::   3%|▎         | 17/500 [00:00<00:13, 35.63it/s]\n"
     ]
    },
    {
     "name": "stdout",
     "output_type": "stream",
     "text": [
      "Early stopping after epoch 17\n",
      "Reverting to the weights corresponding to the lowest validation loss\n"
     ]
    },
    {
     "name": "stderr",
     "output_type": "stream",
     "text": [
      "Epoch::   3%|▎         | 13/500 [00:00<00:13, 36.00it/s]\n"
     ]
    },
    {
     "name": "stdout",
     "output_type": "stream",
     "text": [
      "Early stopping after epoch 13\n",
      "Reverting to the weights corresponding to the lowest validation loss\n"
     ]
    },
    {
     "name": "stderr",
     "output_type": "stream",
     "text": [
      "Epoch::   9%|▉         | 45/500 [00:01<00:14, 31.99it/s]\n"
     ]
    },
    {
     "name": "stdout",
     "output_type": "stream",
     "text": [
      "Early stopping after epoch 45\n",
      "Reverting to the weights corresponding to the lowest validation loss\n"
     ]
    },
    {
     "name": "stderr",
     "output_type": "stream",
     "text": [
      "Epoch::   2%|▏         | 12/500 [00:00<00:14, 34.83it/s]"
     ]
    },
    {
     "name": "stdout",
     "output_type": "stream",
     "text": [
      "Early stopping after epoch 12\n",
      "Reverting to the weights corresponding to the lowest validation loss\n"
     ]
    },
    {
     "name": "stderr",
     "output_type": "stream",
     "text": [
      "\n"
     ]
    }
   ],
   "source": [
    "# SGD\n",
    "from sklearn.preprocessing import StandardScaler\n",
    "\n",
    "ss = StandardScaler()\n",
    "X_scaled = ss.fit_transform(X)\n",
    "splitting_seeds = [42, 43, 44, 45, 46]\n",
    "sgd_accuracy = []\n",
    "with open(\"results/balance_accuracy_3.csv\", \"a\") as f:\n",
    "    f.write(f\"smoking_data, sgd\")\n",
    "    with open(\"losses.csv\", \"a\") as l:\n",
    "        l.write(f\"smoking_data, sgd\")\n",
    "        for seed in splitting_seeds:\n",
    "            X_train, X_test, y_train, y_test = train_test_split(\n",
    "                X_scaled, y, test_size=0.2, random_state=seed\n",
    "            )\n",
    "            X_val, X_test, y_val, y_test = train_test_split(\n",
    "                X_test, y_test, test_size=0.2, random_state=seed\n",
    "            )\n",
    "            y_train = y_train.astype(\"int\")\n",
    "            y_test = y_test.astype(\"int\")\n",
    "            logistic_regression_model = LogisticRegression(input_dim=X_train.shape[1])\n",
    "            sgd_optimizer = SGD(eta=0.01)\n",
    "\n",
    "            logistic_regression_model.train(\n",
    "                X_train,\n",
    "                y_train,\n",
    "                optimizer=sgd_optimizer,\n",
    "                patience=5,\n",
    "                epochs=500,\n",
    "                batch_size=32,\n",
    "                X_val=X_val,\n",
    "                y_val=y_val,\n",
    "            )\n",
    "            y_pred = logistic_regression_model.predict(X_test)\n",
    "            sgd_accuracy.append(balanced_accuracy_score(y_test, y_pred.round()))\n",
    "            f.write(f\", {balanced_accuracy_score(y_test,y_pred.round())}\")\n",
    "            if seed == 42:\n",
    "                l.write(f\", {logistic_regression_model.losses}\\n\")\n",
    "    f.write(\"\\n\")"
   ]
  },
  {
   "cell_type": "code",
   "execution_count": 14,
   "metadata": {
    "ExecuteTime": {
     "end_time": "2024-04-03T11:13:48.686358Z",
     "start_time": "2024-04-03T11:10:25.053831Z"
    }
   },
   "outputs": [],
   "source": [
    "# Comparison Models\n",
    "from utils import fitComparisonModels\n",
    "\n",
    "splitting_seeds = [42, 43, 44, 45, 46]\n",
    "comparison_accuracy = []\n",
    "with open(\"results/balance_accuracy_3.csv\", \"a\") as f:\n",
    "    for seed in splitting_seeds:\n",
    "        X_train, X_test, y_train, y_test = train_test_split(\n",
    "            X, y, test_size=0.2, random_state=seed\n",
    "        )\n",
    "        y_train = y_train.astype(\"int\")\n",
    "        y_test = y_test.astype(\"int\")\n",
    "        y_lda, y_qda, y_dt, y_rf = fitComparisonModels(X_train, y_train, X_test)\n",
    "    f.write(\"\\n\")\n",
    "    f.write(f\"smoking_data, lda\")\n",
    "    for seed in splitting_seeds:\n",
    "        X_train, X_test, y_train, y_test = train_test_split(\n",
    "            X, y, test_size=0.2, random_state=seed\n",
    "        )\n",
    "        y_train = y_train.astype(\"int\")\n",
    "        y_test = y_test.astype(\"int\")\n",
    "        y_lda, y_qda, y_dt, y_rf = fitComparisonModels(X_train, y_train, X_test)\n",
    "        f.write(f\", {balanced_accuracy_score(y_test, y_lda)}\")\n",
    "    f.write(\"\\n\")\n",
    "    f.write(f\"smoking_data, qda\")\n",
    "    for seed in splitting_seeds:\n",
    "        X_train, X_test, y_train, y_test = train_test_split(\n",
    "            X, y, test_size=0.2, random_state=seed\n",
    "        )\n",
    "        y_train = y_train.astype(\"int\")\n",
    "        y_test = y_test.astype(\"int\")\n",
    "        y_lda, y_qda, y_dt, y_rf = fitComparisonModels(X_train, y_train, X_test)\n",
    "        f.write(f\", {balanced_accuracy_score(y_test, y_qda)}\")\n",
    "    f.write(\"\\n\")\n",
    "    f.write(f\"smoking_data, dt\")\n",
    "    for seed in splitting_seeds:\n",
    "        X_train, X_test, y_train, y_test = train_test_split(\n",
    "            X, y, test_size=0.2, random_state=seed\n",
    "        )\n",
    "        y_train = y_train.astype(\"int\")\n",
    "        y_test = y_test.astype(\"int\")\n",
    "        y_lda, y_qda, y_dt, y_rf = fitComparisonModels(X_train, y_train, X_test)\n",
    "        f.write(f\", {balanced_accuracy_score(y_test, y_dt)}\")\n",
    "    f.write(\"\\n\")\n",
    "    f.write(f\"smoking_data, rf\")\n",
    "    for seed in splitting_seeds:\n",
    "        X_train, X_test, y_train, y_test = train_test_split(\n",
    "            X, y, test_size=0.2, random_state=seed\n",
    "        )\n",
    "        y_train = y_train.astype(\"int\")\n",
    "        y_test = y_test.astype(\"int\")\n",
    "        y_lda, y_qda, y_dt, y_rf = fitComparisonModels(X_train, y_train, X_test)\n",
    "        f.write(f\", {balanced_accuracy_score(y_test, y_rf)}\")\n",
    "    f.write(\"\\n\")"
   ]
  },
  {
   "cell_type": "markdown",
   "metadata": {},
   "source": [
    "## BANANA DATA ##"
   ]
  },
  {
   "cell_type": "code",
   "execution_count": 15,
   "metadata": {
    "ExecuteTime": {
     "end_time": "2024-04-03T11:13:48.759904Z",
     "start_time": "2024-04-03T11:13:48.686211Z"
    }
   },
   "outputs": [
    {
     "data": {
      "text/plain": [
       "(8000, 7)"
      ]
     },
     "execution_count": 15,
     "metadata": {},
     "output_type": "execute_result"
    }
   ],
   "source": [
    "from sklearn.impute import SimpleImputer\n",
    "\n",
    "url = \"data/small/banana_quality.csv\"\n",
    "dataframe = pd.read_csv(url)\n",
    "data = dataframe.values\n",
    "dataframe.head()\n",
    "\n",
    "X, y = data[:, :-1], data[:, -1]\n",
    "y = LabelEncoder().fit_transform(y)\n",
    "X.shape"
   ]
  },
  {
   "cell_type": "code",
   "execution_count": 16,
   "metadata": {
    "ExecuteTime": {
     "end_time": "2024-04-03T11:13:58.877831Z",
     "start_time": "2024-04-03T11:13:48.761792Z"
    }
   },
   "outputs": [
    {
     "name": "stderr",
     "output_type": "stream",
     "text": [
      "Epoch::  10%|█         | 104/1024 [00:00<00:05, 160.14it/s]\n"
     ]
    },
    {
     "name": "stdout",
     "output_type": "stream",
     "text": [
      "Early stopping after epoch 104\n",
      "Reverting to the weights corresponding to the lowest validation loss\n",
      "accuracy : 0.8792029566677454\n"
     ]
    },
    {
     "name": "stderr",
     "output_type": "stream",
     "text": [
      "Epoch::   7%|▋         | 71/1024 [00:00<00:05, 162.37it/s]\n"
     ]
    },
    {
     "name": "stdout",
     "output_type": "stream",
     "text": [
      "Early stopping after epoch 71\n",
      "Reverting to the weights corresponding to the lowest validation loss\n",
      "accuracy : 0.880522356684812\n"
     ]
    },
    {
     "name": "stderr",
     "output_type": "stream",
     "text": [
      "Epoch::   7%|▋         | 76/1024 [00:00<00:05, 164.00it/s]\n"
     ]
    },
    {
     "name": "stdout",
     "output_type": "stream",
     "text": [
      "Early stopping after epoch 76\n",
      "Reverting to the weights corresponding to the lowest validation loss\n",
      "accuracy : 0.8818268766438655\n"
     ]
    },
    {
     "name": "stderr",
     "output_type": "stream",
     "text": [
      "Epoch::   9%|▉         | 96/1024 [00:00<00:05, 165.11it/s]\n"
     ]
    },
    {
     "name": "stdout",
     "output_type": "stream",
     "text": [
      "Early stopping after epoch 96\n",
      "Reverting to the weights corresponding to the lowest validation loss\n",
      "accuracy : 0.8789640856342538\n"
     ]
    },
    {
     "name": "stderr",
     "output_type": "stream",
     "text": [
      "Epoch:: 100%|██████████| 1024/1024 [00:06<00:00, 160.26it/s]\n"
     ]
    },
    {
     "name": "stdout",
     "output_type": "stream",
     "text": [
      "accuracy : 0.879189741514651\n"
     ]
    },
    {
     "data": {
      "image/png": "[encoded data removed]",
      "text/plain": [
       "<Figure size 640x480 with 1 Axes>"
      ]
     },
     "metadata": {},
     "output_type": "display_data"
    }
   ],
   "source": [
    "# ADAM\n",
    "splitting_seeds = [42, 43, 44, 45, 46]\n",
    "adam_accuracy = []\n",
    "with open(\"results/balance_accuracy_3.csv\", \"a\") as f:\n",
    "    f.write(f\"banana_data, adam\")\n",
    "    with open(\"losses.csv\", \"a\") as l:\n",
    "        l.write(f\"banana_data, adam\")\n",
    "        for seed in splitting_seeds:\n",
    "            X_train, X_test, y_train, y_test = train_test_split(\n",
    "                X, y, test_size=0.2, random_state=seed\n",
    "            )\n",
    "            X_train, X_val, y_train, y_val = train_test_split(\n",
    "                X_train, y_train, test_size=0.2, random_state=seed\n",
    "            )\n",
    "            logistic_regression_model = LogisticRegression(input_dim=X_train.shape[1])\n",
    "            adam_optimizer = AdamOptim(eta=0.01)\n",
    "\n",
    "            logistic_regression_model.train(\n",
    "                X_train,\n",
    "                y_train,\n",
    "                optimizer=adam_optimizer,\n",
    "                patience=5,\n",
    "                epochs=1024,\n",
    "                batch_size=64,\n",
    "                X_val=X_val,\n",
    "                y_val=y_val,\n",
    "            )\n",
    "            y_pred = logistic_regression_model.predict(X_test)\n",
    "            adam_accuracy.append(balanced_accuracy_score(y_test, y_pred.round()))\n",
    "            print(f\"accuracy : {balanced_accuracy_score(y_test,y_pred.round())}\")\n",
    "            logistic_regression_model.plot_loss()\n",
    "            f.write(f\", {balanced_accuracy_score(y_test,y_pred.round())}\")\n",
    "            if seed == 42:\n",
    "                l.write(f\", {logistic_regression_model.losses}\\n\")"
   ]
  },
  {
   "cell_type": "code",
   "execution_count": 17,
   "metadata": {
    "ExecuteTime": {
     "end_time": "2024-04-03T11:14:20.275007Z",
     "start_time": "2024-04-03T11:13:57.434158Z"
    }
   },
   "outputs": [
    {
     "name": "stderr",
     "output_type": "stream",
     "text": [
      "Epoch::   3%|▎         | 14/500 [00:05<03:10,  2.54it/s]\n"
     ]
    },
    {
     "name": "stdout",
     "output_type": "stream",
     "text": [
      "Early stopping after epoch 14\n",
      "Reverting to the weights corresponding to the lowest validation loss\n",
      "accuracy : 0.8785033432920757\n"
     ]
    },
    {
     "name": "stderr",
     "output_type": "stream",
     "text": [
      "Epoch::   2%|▏         | 12/500 [00:04<02:55,  2.78it/s]\n"
     ]
    },
    {
     "name": "stdout",
     "output_type": "stream",
     "text": [
      "Early stopping after epoch 12\n",
      "Reverting to the weights corresponding to the lowest validation loss\n",
      "accuracy : 0.8817320511197488\n"
     ]
    },
    {
     "name": "stderr",
     "output_type": "stream",
     "text": [
      "Epoch::   3%|▎         | 13/500 [00:03<02:09,  3.75it/s]\n"
     ]
    },
    {
     "name": "stdout",
     "output_type": "stream",
     "text": [
      "Early stopping after epoch 13\n",
      "Reverting to the weights corresponding to the lowest validation loss\n",
      "accuracy : 0.885646348762813\n"
     ]
    },
    {
     "name": "stderr",
     "output_type": "stream",
     "text": [
      "Epoch::   3%|▎         | 13/500 [00:03<02:20,  3.46it/s]\n"
     ]
    },
    {
     "name": "stdout",
     "output_type": "stream",
     "text": [
      "Early stopping after epoch 13\n",
      "Reverting to the weights corresponding to the lowest validation loss\n",
      "accuracy : 0.8789640856342538\n"
     ]
    },
    {
     "name": "stderr",
     "output_type": "stream",
     "text": [
      "Epoch::   4%|▎         | 18/500 [00:05<02:28,  3.26it/s]"
     ]
    },
    {
     "name": "stdout",
     "output_type": "stream",
     "text": [
      "Early stopping after epoch 18\n",
      "Reverting to the weights corresponding to the lowest validation loss\n",
      "accuracy : 0.8800092220972744\n"
     ]
    },
    {
     "name": "stderr",
     "output_type": "stream",
     "text": [
      "\n"
     ]
    },
    {
     "data": {
      "image/png": "[encoded data removed]",
      "text/plain": [
       "<Figure size 640x480 with 1 Axes>"
      ]
     },
     "metadata": {},
     "output_type": "display_data"
    }
   ],
   "source": [
    "# IRLS\n",
    "splitting_seeds = [42, 43, 44, 45, 46]\n",
    "irls_accuracy = []\n",
    "with open(\"results/balance_accuracy_3.csv\", \"a\") as f:\n",
    "    f.write(f\"banana_data, irls\")\n",
    "    with open(\"losses.csv\", \"a\") as l:\n",
    "        l.write(f\"banana_data, irls\")\n",
    "        for seed in splitting_seeds:\n",
    "            X_train, X_test, y_train, y_test = train_test_split(\n",
    "                X, y, test_size=0.2, random_state=seed\n",
    "            )\n",
    "            X_train, X_val, y_train, y_val = train_test_split(\n",
    "                X_train, y_train, test_size=0.2, random_state=seed\n",
    "            )\n",
    "            logistic_regression_model = LogisticRegression(input_dim=X_train.shape[1])\n",
    "            irls_optimizer = IRLS()\n",
    "\n",
    "            logistic_regression_model.train(\n",
    "                X_train,\n",
    "                y_train,\n",
    "                optimizer=irls_optimizer,\n",
    "                patience=10,\n",
    "                epochs=500,\n",
    "                batch_size=X_train.shape[0],\n",
    "                X_val=X_val,\n",
    "                y_val=y_val,\n",
    "            )\n",
    "            y_pred = logistic_regression_model.predict(X_test)\n",
    "            irls_accuracy.append(balanced_accuracy_score(y_test, y_pred.round()))\n",
    "            print(f\"accuracy : {balanced_accuracy_score(y_test,y_pred.round())}\")\n",
    "            f.write(f\", {balanced_accuracy_score(y_test,y_pred.round())}\")\n",
    "            logistic_regression_model.plot_loss()\n",
    "            if seed == 42:\n",
    "                l.write(f\", {logistic_regression_model.losses}\\n\")"
   ]
  },
  {
   "cell_type": "code",
   "execution_count": 18,
   "metadata": {
    "ExecuteTime": {
     "end_time": "2024-04-03T11:14:35.751662Z",
     "start_time": "2024-04-03T11:14:20.309888Z"
    }
   },
   "outputs": [
    {
     "name": "stderr",
     "output_type": "stream",
     "text": [
      "Epoch::   6%|▋         | 32/500 [00:00<00:04, 110.62it/s]\n"
     ]
    },
    {
     "name": "stdout",
     "output_type": "stream",
     "text": [
      "Early stopping after epoch 32\n",
      "Reverting to the weights corresponding to the lowest validation loss\n",
      "accuracy : 0.8840820018088634\n"
     ]
    },
    {
     "name": "stderr",
     "output_type": "stream",
     "text": [
      "Epoch:: 100%|██████████| 500/500 [00:03<00:00, 127.08it/s]\n"
     ]
    },
    {
     "name": "stdout",
     "output_type": "stream",
     "text": [
      "accuracy : 0.8855889724310777\n"
     ]
    },
    {
     "name": "stderr",
     "output_type": "stream",
     "text": [
      "Epoch:: 100%|██████████| 500/500 [00:03<00:00, 140.92it/s]\n"
     ]
    },
    {
     "name": "stdout",
     "output_type": "stream",
     "text": [
      "accuracy : 0.8687499999999999\n"
     ]
    },
    {
     "name": "stderr",
     "output_type": "stream",
     "text": [
      "Epoch:: 100%|██████████| 500/500 [00:03<00:00, 137.49it/s]\n"
     ]
    },
    {
     "name": "stdout",
     "output_type": "stream",
     "text": [
      "accuracy : 0.8725490808857999\n"
     ]
    },
    {
     "name": "stderr",
     "output_type": "stream",
     "text": [
      "Epoch:: 100%|██████████| 500/500 [00:03<00:00, 133.66it/s]\n"
     ]
    },
    {
     "name": "stdout",
     "output_type": "stream",
     "text": [
      "accuracy : 0.8607796616586425\n"
     ]
    },
    {
     "data": {
      "image/png": "[encoded data removed]",
      "text/plain": [
       "<Figure size 640x480 with 1 Axes>"
      ]
     },
     "metadata": {},
     "output_type": "display_data"
    }
   ],
   "source": [
    "# SGD\n",
    "ss = StandardScaler()\n",
    "X_scaled = ss.fit_transform(X)\n",
    "splitting_seeds = [42, 43, 44, 45, 46]\n",
    "sgd_accuracy = []\n",
    "with open(\"results/balance_accuracy_3.csv\", \"a\") as f:\n",
    "    f.write(f\"banana_data, sgd\")\n",
    "    with open(\"losses.csv\", \"a\") as l:\n",
    "        l.write(f\"banana_data, sgd\")\n",
    "        for seed in splitting_seeds:\n",
    "            X_train, X_test, y_train, y_test = train_test_split(\n",
    "                X_scaled, y, test_size=0.2, random_state=seed\n",
    "            )\n",
    "            X_val, X_test, y_val, y_test = train_test_split(\n",
    "                X_test, y_test, test_size=0.5, random_state=seed\n",
    "            )\n",
    "            logistic_regression_model = LogisticRegression(input_dim=X_train.shape[1])\n",
    "            sgd_optimizer = SGD(eta=0.01)\n",
    "\n",
    "            logistic_regression_model.train(\n",
    "                X_train,\n",
    "                y_train,\n",
    "                optimizer=sgd_optimizer,\n",
    "                patience=5,\n",
    "                epochs=500,\n",
    "                batch_size=32,\n",
    "                X_val=X_val,\n",
    "                y_val=y_val,\n",
    "            )\n",
    "            y_pred = logistic_regression_model.predict(X_test)\n",
    "            sgd_accuracy.append(balanced_accuracy_score(y_test, y_pred.round()))\n",
    "            print(f\"accuracy : {balanced_accuracy_score(y_test,y_pred.round())}\")\n",
    "            logistic_regression_model.plot_loss()\n",
    "            f.write(f\", {balanced_accuracy_score(y_test,y_pred.round())}\")\n",
    "            if seed == 42:\n",
    "                l.write(f\", {logistic_regression_model.losses}\\n\")"
   ]
  },
  {
   "cell_type": "code",
   "execution_count": 19,
   "metadata": {
    "ExecuteTime": {
     "end_time": "2024-04-03T11:15:00.482893Z",
     "start_time": "2024-04-03T11:14:35.760459Z"
    }
   },
   "outputs": [],
   "source": [
    "# Comparison Models\n",
    "from utils import fitComparisonModels\n",
    "\n",
    "splitting_seeds = [42, 43, 44, 45, 46]\n",
    "comparison_accuracy = []\n",
    "with open(\"results/balance_accuracy_3.csv\", \"a\") as f:\n",
    "    for seed in splitting_seeds:\n",
    "        X_train, X_test, y_train, y_test = train_test_split(\n",
    "            X, y, test_size=0.2, random_state=seed\n",
    "        )\n",
    "        y_lda, y_qda, y_dt, y_rf = fitComparisonModels(X_train, y_train, X_test)\n",
    "    f.write(f\"banana_data, lda\")\n",
    "    for seed in splitting_seeds:\n",
    "        X_train, X_test, y_train, y_test = train_test_split(\n",
    "            X, y, test_size=0.2, random_state=seed\n",
    "        )\n",
    "        y_lda, y_qda, y_dt, y_rf = fitComparisonModels(X_train, y_train, X_test)\n",
    "        f.write(f\", {balanced_accuracy_score(y_test, y_lda)}\")\n",
    "    f.write(\"\\n\")\n",
    "    f.write(f\"banana_data, qda\")\n",
    "    for seed in splitting_seeds:\n",
    "        X_train, X_test, y_train, y_test = train_test_split(\n",
    "            X, y, test_size=0.2, random_state=seed\n",
    "        )\n",
    "        y_lda, y_qda, y_dt, y_rf = fitComparisonModels(X_train, y_train, X_test)\n",
    "        f.write(f\", {balanced_accuracy_score(y_test, y_qda)}\")\n",
    "    f.write(\"\\n\")\n",
    "    f.write(f\"banana_data, dt\")\n",
    "    for seed in splitting_seeds:\n",
    "        X_train, X_test, y_train, y_test = train_test_split(\n",
    "            X, y, test_size=0.2, random_state=seed\n",
    "        )\n",
    "        y_lda, y_qda, y_dt, y_rf = fitComparisonModels(X_train, y_train, X_test)\n",
    "        f.write(f\", {balanced_accuracy_score(y_test, y_dt)}\")\n",
    "    f.write(\"\\n\")\n",
    "    f.write(f\"banana_data, rf\")\n",
    "    for seed in splitting_seeds:\n",
    "        X_train, X_test, y_train, y_test = train_test_split(\n",
    "            X, y, test_size=0.2, random_state=seed\n",
    "        )\n",
    "        y_lda, y_qda, y_dt, y_rf = fitComparisonModels(X_train, y_train, X_test)\n",
    "        f.write(f\", {balanced_accuracy_score(y_test, y_rf)}\")\n",
    "    f.write(\"\\n\")"
   ]
  },
  {
   "cell_type": "markdown",
   "metadata": {},
   "source": [
    "### with interactions ###"
   ]
  },
  {
   "cell_type": "code",
   "execution_count": 20,
   "metadata": {
    "ExecuteTime": {
     "end_time": "2024-04-03T11:15:00.534100Z",
     "start_time": "2024-04-03T11:15:00.482200Z"
    }
   },
   "outputs": [
    {
     "name": "stdout",
     "output_type": "stream",
     "text": [
      "7 28\n"
     ]
    }
   ],
   "source": [
    "from utils import createFeatureInteractions\n",
    "\n",
    "X_int = createFeatureInteractions(X)\n",
    "print(len(X[0]), len(X_int[0]))"
   ]
  },
  {
   "cell_type": "code",
   "execution_count": 21,
   "metadata": {
    "ExecuteTime": {
     "end_time": "2024-04-03T11:15:03.947751Z",
     "start_time": "2024-04-03T11:15:00.535356Z"
    }
   },
   "outputs": [
    {
     "name": "stderr",
     "output_type": "stream",
     "text": [
      "Epoch::  28%|██▊       | 140/500 [00:01<00:04, 73.07it/s]\n"
     ]
    },
    {
     "name": "stdout",
     "output_type": "stream",
     "text": [
      "Early stopping after epoch 140\n",
      "Reverting to the weights corresponding to the lowest validation loss\n"
     ]
    },
    {
     "name": "stderr",
     "output_type": "stream",
     "text": [
      "Epoch::  10%|█         | 52/500 [00:00<00:06, 72.70it/s]\n"
     ]
    },
    {
     "name": "stdout",
     "output_type": "stream",
     "text": [
      "Early stopping after epoch 52\n",
      "Reverting to the weights corresponding to the lowest validation loss\n"
     ]
    },
    {
     "name": "stderr",
     "output_type": "stream",
     "text": [
      "Epoch::   4%|▎         | 18/500 [00:00<00:06, 69.21it/s]\n"
     ]
    },
    {
     "name": "stdout",
     "output_type": "stream",
     "text": [
      "Early stopping after epoch 18\n",
      "Reverting to the weights corresponding to the lowest validation loss\n"
     ]
    },
    {
     "name": "stderr",
     "output_type": "stream",
     "text": [
      "Epoch::   2%|▏         | 9/500 [00:00<00:07, 64.80it/s]\n"
     ]
    },
    {
     "name": "stdout",
     "output_type": "stream",
     "text": [
      "Early stopping after epoch 9\n",
      "Reverting to the weights corresponding to the lowest validation loss\n"
     ]
    },
    {
     "name": "stderr",
     "output_type": "stream",
     "text": [
      "Epoch::   5%|▍         | 23/500 [00:00<00:06, 69.09it/s]"
     ]
    },
    {
     "name": "stdout",
     "output_type": "stream",
     "text": [
      "Early stopping after epoch 23\n",
      "Reverting to the weights corresponding to the lowest validation loss\n"
     ]
    },
    {
     "name": "stderr",
     "output_type": "stream",
     "text": [
      "\n"
     ]
    }
   ],
   "source": [
    "# ADAM\n",
    "splitting_seeds = [42, 43, 44, 45, 46]\n",
    "adam_accuracy = []\n",
    "with open(\"results/balance_accuracy_3.csv\", \"a\") as f:\n",
    "    f.write(f\"banana_data, adam+int\")\n",
    "    with open(\"losses.csv\", \"a\") as l:\n",
    "        l.write(f\"banana_data, adam+int\")\n",
    "        for seed in splitting_seeds:\n",
    "            X_train, X_test, y_train, y_test = train_test_split(\n",
    "                X_int, y, test_size=0.2, random_state=seed\n",
    "            )\n",
    "            X_train, X_val, y_train, y_val = train_test_split(\n",
    "                X_train, y_train, test_size=0.2, random_state=seed\n",
    "            )\n",
    "            logistic_regression_model = LogisticRegression(input_dim=X_train.shape[1])\n",
    "            adam_optimizer = AdamOptim(eta=0.01)\n",
    "\n",
    "            logistic_regression_model.train(\n",
    "                X_train,\n",
    "                y_train,\n",
    "                optimizer=adam_optimizer,\n",
    "                patience=5,\n",
    "                epochs=500,\n",
    "                batch_size=64,\n",
    "                X_val=X_val,\n",
    "                y_val=y_val,\n",
    "            )\n",
    "            y_pred = logistic_regression_model.predict(X_test)\n",
    "            adam_accuracy.append(balanced_accuracy_score(y_test, y_pred.round()))\n",
    "            f.write(f\", {balanced_accuracy_score(y_test,y_pred.round())}\")\n",
    "            if seed == 42:\n",
    "                l.write(f\", {logistic_regression_model.losses}\\n\")"
   ]
  },
  {
   "cell_type": "code",
   "execution_count": 22,
   "metadata": {
    "ExecuteTime": {
     "end_time": "2024-04-03T11:15:18.646398Z",
     "start_time": "2024-04-03T11:15:03.948108Z"
    }
   },
   "outputs": [
    {
     "name": "stderr",
     "output_type": "stream",
     "text": [
      "Epoch:: 100%|██████████| 500/500 [00:03<00:00, 152.21it/s]\n",
      "Epoch:: 100%|██████████| 500/500 [00:03<00:00, 130.43it/s]\n",
      "Epoch:: 100%|██████████| 500/500 [00:03<00:00, 152.62it/s]\n",
      "Epoch:: 100%|██████████| 500/500 [00:03<00:00, 157.35it/s]\n",
      "Epoch::  25%|██▌       | 125/500 [00:00<00:02, 147.07it/s]"
     ]
    },
    {
     "name": "stdout",
     "output_type": "stream",
     "text": [
      "Early stopping after epoch 125\n",
      "Reverting to the weights corresponding to the lowest validation loss\n"
     ]
    },
    {
     "name": "stderr",
     "output_type": "stream",
     "text": [
      "\n"
     ]
    }
   ],
   "source": [
    "# SGD\n",
    "splitting_seeds = [42, 43, 44, 45, 46]\n",
    "sgd_accuracy = []\n",
    "ss = StandardScaler()\n",
    "X_scaled = ss.fit_transform(X_int)\n",
    "with open(\"results/balance_accuracy_3.csv\", \"a\") as f:\n",
    "    f.write(f\"banana_data, sgd+int\")\n",
    "    with open(\"losses.csv\", \"a\") as l:\n",
    "        l.write(f\"banana_data, sgd+int\")\n",
    "        for seed in splitting_seeds:\n",
    "            X_train, X_test, y_train, y_test = train_test_split(\n",
    "                X_scaled, y, test_size=0.2, random_state=seed\n",
    "            )\n",
    "            X_val, X_test, y_val, y_test = train_test_split(\n",
    "                X_test, y_test, test_size=0.5, random_state=seed\n",
    "            )\n",
    "            logistic_regression_model = LogisticRegression(input_dim=X_train.shape[1])\n",
    "            sgd_optimizer = SGD(eta=0.01)\n",
    "\n",
    "            logistic_regression_model.train(\n",
    "                X_train,\n",
    "                y_train,\n",
    "                optimizer=sgd_optimizer,\n",
    "                patience=5,\n",
    "                epochs=500,\n",
    "                batch_size=64,\n",
    "                X_val=X_val,\n",
    "                y_val=y_val,\n",
    "            )\n",
    "            y_pred = logistic_regression_model.predict(X_test)\n",
    "            f.write(f\", {balanced_accuracy_score(y_test,y_pred.round())}\")\n",
    "            if seed == 42:\n",
    "                l.write(f\", {logistic_regression_model.losses}\\n\")"
   ]
  },
  {
   "cell_type": "code",
   "execution_count": 23,
   "metadata": {
    "ExecuteTime": {
     "end_time": "2024-04-03T11:16:11.548466Z",
     "start_time": "2024-04-03T11:15:18.655559Z"
    }
   },
   "outputs": [
    {
     "name": "stderr",
     "output_type": "stream",
     "text": [
      "Epoch::   3%|▎         | 17/500 [00:09<04:24,  1.83it/s]\n"
     ]
    },
    {
     "name": "stdout",
     "output_type": "stream",
     "text": [
      "Early stopping after epoch 17\n",
      "Reverting to the weights corresponding to the lowest train loss\n",
      "accuracy : 0.958116218679599\n"
     ]
    },
    {
     "name": "stderr",
     "output_type": "stream",
     "text": [
      "Epoch::   3%|▎         | 17/500 [00:10<04:46,  1.69it/s]\n"
     ]
    },
    {
     "name": "stdout",
     "output_type": "stream",
     "text": [
      "Early stopping after epoch 17\n",
      "Reverting to the weights corresponding to the lowest train loss\n",
      "accuracy : 0.9618750888906602\n"
     ]
    },
    {
     "name": "stderr",
     "output_type": "stream",
     "text": [
      "Epoch::   4%|▎         | 18/500 [00:10<04:33,  1.76it/s]\n"
     ]
    },
    {
     "name": "stdout",
     "output_type": "stream",
     "text": [
      "Early stopping after epoch 18\n",
      "Reverting to the weights corresponding to the lowest train loss\n",
      "accuracy : 0.9531075406444031\n"
     ]
    },
    {
     "name": "stderr",
     "output_type": "stream",
     "text": [
      "Epoch::   3%|▎         | 17/500 [00:08<04:08,  1.94it/s]\n"
     ]
    },
    {
     "name": "stdout",
     "output_type": "stream",
     "text": [
      "Early stopping after epoch 17\n",
      "Reverting to the weights corresponding to the lowest train loss\n",
      "accuracy : 0.9505427170868348\n"
     ]
    },
    {
     "name": "stderr",
     "output_type": "stream",
     "text": [
      "Epoch::   6%|▌         | 28/500 [00:14<04:02,  1.95it/s]"
     ]
    },
    {
     "name": "stdout",
     "output_type": "stream",
     "text": [
      "Early stopping after epoch 28\n",
      "Reverting to the weights corresponding to the lowest train loss\n",
      "accuracy : 0.9483264559699749\n"
     ]
    },
    {
     "name": "stderr",
     "output_type": "stream",
     "text": [
      "\n"
     ]
    }
   ],
   "source": [
    "# IRLS\n",
    "splitting_seeds = [42, 43, 44, 45, 46]\n",
    "irls_accuracy = []\n",
    "with open(\"results/balance_accuracy_3.csv\", \"a\") as f:\n",
    "    f.write(f\"banana_data, irls+int\")\n",
    "    with open(\"losses.csv\", \"a\") as l:\n",
    "        l.write(f\"banana_data, irls+int\")\n",
    "        for seed in splitting_seeds:\n",
    "            X_train, X_test, y_train, y_test = train_test_split(\n",
    "                X_int, y, test_size=0.2, random_state=seed\n",
    "            )\n",
    "            logistic_regression_model = LogisticRegression(input_dim=X_train.shape[1])\n",
    "            irls_optimizer = IRLS()\n",
    "\n",
    "            logistic_regression_model.train(\n",
    "                X_train,\n",
    "                y_train,\n",
    "                optimizer=irls_optimizer,\n",
    "                patience=10,\n",
    "                epochs=500,\n",
    "                batch_size=X_train.shape[0],\n",
    "            )\n",
    "            y_pred = logistic_regression_model.predict(X_test)\n",
    "            irls_accuracy.append(balanced_accuracy_score(y_test, y_pred.round()))\n",
    "            print(f\"accuracy : {balanced_accuracy_score(y_test,y_pred.round())}\")\n",
    "            f.write(f\", {balanced_accuracy_score(y_test,y_pred.round())}\")\n",
    "            if seed == 42:\n",
    "                l.write(f\", {logistic_regression_model.losses}\\n\")"
   ]
  },
  {
   "cell_type": "code",
   "execution_count": 24,
   "metadata": {
    "ExecuteTime": {
     "end_time": "2024-04-03T11:17:11.689444Z",
     "start_time": "2024-04-03T11:16:11.549502Z"
    }
   },
   "outputs": [],
   "source": [
    "# Comparison Models\n",
    "from utils import fitComparisonModels\n",
    "\n",
    "splitting_seeds = [42, 43, 44, 45, 46]\n",
    "comparison_accuracy = []\n",
    "with open(\"results/balance_accuracy_3.csv\", \"a\") as f:\n",
    "    for seed in splitting_seeds:\n",
    "        X_train, X_test, y_train, y_test = train_test_split(\n",
    "            X_int, y, test_size=0.2, random_state=seed\n",
    "        )\n",
    "        y_lda, y_qda, y_dt, y_rf = fitComparisonModels(X_train, y_train, X_test)\n",
    "    f.write(f\"banana_data, lda+int\")\n",
    "    for seed in splitting_seeds:\n",
    "        X_train, X_test, y_train, y_test = train_test_split(\n",
    "            X_int, y, test_size=0.2, random_state=seed\n",
    "        )\n",
    "        y_lda, y_qda, y_dt, y_rf = fitComparisonModels(X_train, y_train, X_test)\n",
    "        f.write(f\", {balanced_accuracy_score(y_test, y_lda)}\")\n",
    "    f.write(\"\\n\")\n",
    "    f.write(f\"banana_data, qda+int\")\n",
    "    for seed in splitting_seeds:\n",
    "        X_train, X_test, y_train, y_test = train_test_split(\n",
    "            X_int, y, test_size=0.2, random_state=seed\n",
    "        )\n",
    "        y_lda, y_qda, y_dt, y_rf = fitComparisonModels(X_train, y_train, X_test)\n",
    "        f.write(f\", {balanced_accuracy_score(y_test, y_qda)}\")\n",
    "    f.write(\"\\n\")\n",
    "    f.write(f\"banana_data, dt+int\")\n",
    "    for seed in splitting_seeds:\n",
    "        X_train, X_test, y_train, y_test = train_test_split(\n",
    "            X_int, y, test_size=0.2, random_state=seed\n",
    "        )\n",
    "        y_lda, y_qda, y_dt, y_rf = fitComparisonModels(X_train, y_train, X_test)\n",
    "        f.write(f\", {balanced_accuracy_score(y_test, y_dt)}\")\n",
    "    f.write(\"\\n\")\n",
    "    f.write(f\"banana_data, rf+int\")\n",
    "    for seed in splitting_seeds:\n",
    "        X_train, X_test, y_train, y_test = train_test_split(\n",
    "            X_int, y, test_size=0.2, random_state=seed\n",
    "        )\n",
    "        y_lda, y_qda, y_dt, y_rf = fitComparisonModels(X_train, y_train, X_test)\n",
    "        f.write(f\", {balanced_accuracy_score(y_test, y_rf)}\")\n",
    "    f.write(\"\\n\")"
   ]
  }
 ],
 "metadata": {
  "kernelspec": {
   "display_name": "Python 3",
   "language": "python",
   "name": "python3"
  },
  "language_info": {
   "codemirror_mode": {
    "name": "ipython",
    "version": 3
   },
   "file_extension": ".py",
   "mimetype": "text/x-python",
   "name": "python",
   "nbconvert_exporter": "python",
   "pygments_lexer": "ipython3",
   "version": "3.10.12"
  }
 },
 "nbformat": 4,
 "nbformat_minor": 2
}
