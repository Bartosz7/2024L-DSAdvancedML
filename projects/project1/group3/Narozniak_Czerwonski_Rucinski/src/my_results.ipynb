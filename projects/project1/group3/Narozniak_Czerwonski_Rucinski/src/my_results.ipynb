{
 "cells": [
  {
   "cell_type": "code",
   "execution_count": 1,
   "metadata": {},
   "outputs": [
    {
     "data": {
      "text/plain": [
       "{'divide': 'ignore', 'over': 'warn', 'under': 'ignore', 'invalid': 'ignore'}"
      ]
     },
     "execution_count": 1,
     "metadata": {},
     "output_type": "execute_result"
    }
   ],
   "source": [
    "import numpy as np\n",
    "import pandas as pd\n",
    "import matplotlib.pyplot as plt\n",
    "from Adam import AdamOptim\n",
    "from SGD import SGD\n",
    "from utils import *\n",
    "from sklearn.model_selection import train_test_split\n",
    "from sklearn.metrics import balanced_accuracy_score\n",
    "from Logreg_old import LogisticRegression\n",
    "from irls_optimizer import IRLS\n",
    "from sklearn.preprocessing import LabelEncoder\n",
    "np.seterr(divide = 'ignore') \n",
    "np.seterr(invalid='ignore')\n",
    "np.seterr(over ='ignore')\n"
   ]
  },
  {
   "cell_type": "markdown",
   "metadata": {},
   "source": [
    "## NBA PLAYERS DATA ##"
   ]
  },
  {
   "cell_type": "code",
   "execution_count": 2,
   "metadata": {},
   "outputs": [],
   "source": [
    "# data:\n",
    "url = 'data/big/nba-players.csv'\n",
    "dataframe = pd.read_csv(url)\n",
    "dataframe.drop('name', axis=1, inplace=True)\n",
    "dataframe.drop('Unnamed: 0', axis=1, inplace=True)\n",
    "data = dataframe.values\n",
    "dataframe.head()\n",
    "\n",
    "X,y = data[:,:-1], data[:,-1]\n"
   ]
  },
  {
   "cell_type": "code",
   "execution_count": 3,
   "metadata": {},
   "outputs": [
    {
     "name": "stdout",
     "output_type": "stream",
     "text": [
      "Early stopping after epoch 7\n",
      "accuracy : 0.6903054210746519\n",
      "Early stopping after epoch 9\n",
      "accuracy : 0.6804777268353427\n",
      "Early stopping after epoch 433\n",
      "accuracy : 0.6516731855714907\n",
      "Early stopping after epoch 8\n",
      "accuracy : 0.6896562214785519\n",
      "accuracy : 0.6270267151347297\n"
     ]
    },
    {
     "data": {
      "image/png": "[encoded data removed]",
      "text/plain": [
       "<Figure size 432x288 with 1 Axes>"
      ]
     },
     "metadata": {
      "needs_background": "light"
     },
     "output_type": "display_data"
    }
   ],
   "source": [
    "#ADAM\n",
    "splitting_seeds = [42, 43, 44, 45, 46]\n",
    "adam_accuracy = []\n",
    "for seed in splitting_seeds:\n",
    "    X_train, X_test, y_train, y_test = train_test_split(X, y, test_size=0.2, random_state=seed)\n",
    "    X_train, X_val, y_train, y_val = train_test_split(X_train, y_train, test_size=0.2, random_state=seed)\n",
    "    logistic_regression_model = LogisticRegression(input_dim=X_train.shape[1])\n",
    "    adam_optimizer = AdamOptim(eta=0.01)\n",
    "\n",
    "    logistic_regression_model.train(X_train, y_train, optimizer=adam_optimizer, patience=5, epochs=500, batch_size=64, X_val=X_val, y_val=y_val)\n",
    "    y_pred = logistic_regression_model.predict(X_test)\n",
    "    adam_accuracy.append(balanced_accuracy_score(y_test,y_pred.round()))\n",
    "    print(f\"accuracy : {balanced_accuracy_score(y_test,y_pred.round())}\")\n",
    "    logistic_regression_model.plot_loss()"
   ]
  },
  {
   "cell_type": "code",
   "execution_count": 4,
   "metadata": {},
   "outputs": [
    {
     "name": "stdout",
     "output_type": "stream",
     "text": [
      "Early stopping after epoch 5\n",
      "accuracy : 0.7100890562429024\n",
      "Early stopping after epoch 8\n",
      "accuracy : 0.6536480443765212\n",
      "Early stopping after epoch 7\n",
      "accuracy : 0.631588750232818\n",
      "Early stopping after epoch 5\n",
      "accuracy : 0.7227867356251901\n",
      "Early stopping after epoch 6\n",
      "accuracy : 0.6410478333621834\n"
     ]
    },
    {
     "data": {
      "image/png": "[encoded data removed]",
      "text/plain": [
       "<Figure size 432x288 with 1 Axes>"
      ]
     },
     "metadata": {
      "needs_background": "light"
     },
     "output_type": "display_data"
    }
   ],
   "source": [
    "#IRLS\n",
    "splitting_seeds = [42, 43, 44, 45, 46]\n",
    "irls_accuracy = []\n",
    "for seed in splitting_seeds:\n",
    "    X_train, X_test, y_train, y_test = train_test_split(X, y, test_size=0.2, random_state=seed)\n",
    "    X_train, X_val, y_train, y_val = train_test_split(X_train, y_train, test_size=0.2, random_state=seed)\n",
    "    logistic_regression_model = LogisticRegression(input_dim=X_train.shape[1])\n",
    "    irls_optimizer = IRLS()\n",
    "\n",
    "    logistic_regression_model.train(X_train, y_train, optimizer=irls_optimizer, patience=5, epochs=500, batch_size=64, X_val=X_val, y_val=y_val)\n",
    "    y_pred = logistic_regression_model.predict(X_test)\n",
    "    irls_accuracy.append(balanced_accuracy_score(y_test,y_pred.round()))\n",
    "    print(f\"accuracy : {balanced_accuracy_score(y_test,y_pred.round())}\")\n",
    "    logistic_regression_model.plot_loss()"
   ]
  },
  {
   "cell_type": "code",
   "execution_count": 5,
   "metadata": {},
   "outputs": [
    {
     "name": "stdout",
     "output_type": "stream",
     "text": [
      "Early stopping after epoch 10\n",
      "accuracy : 0.5\n",
      "Early stopping after epoch 10\n",
      "accuracy : 0.5\n",
      "Early stopping after epoch 10\n",
      "accuracy : 0.5\n",
      "Early stopping after epoch 10\n",
      "accuracy : 0.5\n",
      "Early stopping after epoch 10\n",
      "accuracy : 0.5\n"
     ]
    },
    {
     "data": {
      "image/png": "[encoded data removed]",
      "text/plain": [
       "<Figure size 432x288 with 1 Axes>"
      ]
     },
     "metadata": {
      "needs_background": "light"
     },
     "output_type": "display_data"
    }
   ],
   "source": [
    "#SGD\n",
    "splitting_seeds = [42, 43, 44, 45, 46]\n",
    "sgd_accuracy = []\n",
    "for seed in splitting_seeds:\n",
    "    X_train, X_test, y_train, y_test = train_test_split(X, y, test_size=0.2, random_state=seed)\n",
    "    X_train, X_val, y_train, y_val = train_test_split(X_train, y_train, test_size=0.2, random_state=seed)\n",
    "    logistic_regression_model = LogisticRegression(input_dim=X_train.shape[1])\n",
    "    sgd_optimizer = SGD(eta=0.001)\n",
    "\n",
    "    logistic_regression_model.train(X_train, y_train, optimizer=sgd_optimizer, patience=10, epochs=500, batch_size=1, X_val=X_val, y_val=y_val)\n",
    "    y_pred = logistic_regression_model.predict(X_test)\n",
    "    sgd_accuracy.append(balanced_accuracy_score(y_test,y_pred.round()))\n",
    "    print(f\"accuracy : {balanced_accuracy_score(y_test,y_pred.round())}\")\n",
    "    logistic_regression_model.plot_loss()"
   ]
  },
  {
   "cell_type": "code",
   "execution_count": 6,
   "metadata": {},
   "outputs": [
    {
     "name": "stdout",
     "output_type": "stream",
     "text": [
      "lda: 0.6785607554838324\n",
      "qda: 0.7042316657701273\n",
      "dt: 0.5969457892534815\n",
      "rf: 0.6675930906700137\n",
      "lda: 0.6446765155374428\n",
      "qda: 0.6522895794418974\n",
      "dt: 0.5671308088526632\n",
      "rf: 0.6399784909718684\n",
      "lda: 0.664555783199851\n",
      "qda: 0.6733718259141988\n",
      "dt: 0.6193580430868566\n",
      "rf: 0.672564723412181\n",
      "lda: 0.7238211134773349\n",
      "qda: 0.6611499847885609\n",
      "dt: 0.5739580164283541\n",
      "rf: 0.6762397322786735\n",
      "lda: 0.63017136922278\n",
      "qda: 0.6717442732675553\n",
      "dt: 0.5632104321735618\n",
      "rf: 0.5949166233916104\n"
     ]
    }
   ],
   "source": [
    "# Comparison Models\n",
    "from utils import fitComparisonModels\n",
    "splitting_seeds = [42, 43, 44, 45, 46]\n",
    "comparison_accuracy = []\n",
    "y_lda, y_qda, y_dt, y_rf = fitComparisonModels(X_train, y_train, X_test)\n",
    "splitting_seeds = [42, 43, 44, 45, 46]\n",
    "sgd_accuracy = []\n",
    "for seed in splitting_seeds:\n",
    "    X_train, X_test, y_train, y_test = train_test_split(X, y, test_size=0.2, random_state=seed)\n",
    "    y_lda, y_qda, y_dt, y_rf = fitComparisonModels(X_train, y_train, X_test)\n",
    "    sgd_accuracy.append((balanced_accuracy_score(y_test,y_lda), balanced_accuracy_score(y_test,y_qda), balanced_accuracy_score(y_test,y_dt), balanced_accuracy_score(y_test,y_rf)))\n",
    "    print(F\"lda: {balanced_accuracy_score(y_test,y_lda)}\")\n",
    "    print(f\"qda: {balanced_accuracy_score(y_test,y_qda)}\")\n",
    "    print(f\"dt: {balanced_accuracy_score(y_test,y_dt)}\")\n",
    "    print(f\"rf: {balanced_accuracy_score(y_test,y_rf)}\")"
   ]
  },
  {
   "cell_type": "markdown",
   "metadata": {},
   "source": [
    "## SMOKING DATA ##"
   ]
  },
  {
   "cell_type": "code",
   "execution_count": 8,
   "metadata": {},
   "outputs": [],
   "source": [
    "url = \"data/big/smoking.csv\"\n",
    "dataframe = pd.read_csv(url)\n",
    "dataframe.drop('oral', axis=1, inplace=True)\n",
    "data = dataframe.values\n",
    "\n",
    "X, y = data[:,:-1], data[:,-1]\n",
    "X[:,1] = LabelEncoder().fit_transform(X[:,1])\n",
    "X[:,-1] = LabelEncoder().fit_transform(X[:,-1])"
   ]
  },
  {
   "cell_type": "code",
   "execution_count": 8,
   "metadata": {},
   "outputs": [
    {
     "name": "stdout",
     "output_type": "stream",
     "text": [
      "Early stopping after epoch 16\n",
      "accuracy : 0.6189194201742141\n",
      "Early stopping after epoch 17\n",
      "accuracy : 0.6981088842319789\n",
      "Early stopping after epoch 22\n",
      "accuracy : 0.672524867715766\n",
      "Early stopping after epoch 19\n",
      "accuracy : 0.7264114677021603\n",
      "Early stopping after epoch 15\n",
      "accuracy : 0.5528672513092175\n"
     ]
    },
    {
     "data": {
      "image/png": "[encoded data removed]",
      "text/plain": [
       "<Figure size 432x288 with 1 Axes>"
      ]
     },
     "metadata": {
      "needs_background": "light"
     },
     "output_type": "display_data"
    }
   ],
   "source": [
    "#ADAM\n",
    "splitting_seeds = [42, 43, 44, 45, 46]\n",
    "adam_accuracy = []\n",
    "for seed in splitting_seeds:\n",
    "    X_train, X_test, y_train, y_test = train_test_split(X, y, test_size=0.2, random_state=seed)\n",
    "    y_train = y_train.astype('int')\n",
    "    y_test = y_test.astype('int')\n",
    "    logistic_regression_model = LogisticRegression(input_dim=X_train.shape[1])\n",
    "    adam_optimizer = AdamOptim(eta=0.01)\n",
    "\n",
    "    logistic_regression_model.train(X_train, y_train, optimizer=adam_optimizer, patience=5, epochs=500, batch_size=64)#, Xval=X_val, yval=y_val)\n",
    "    y_pred = logistic_regression_model.predict(X_test)\n",
    "    adam_accuracy.append(balanced_accuracy_score(y_test,y_pred.round()))\n",
    "    print(f\"accuracy : {balanced_accuracy_score(y_test,y_pred.round())}\")\n",
    "    logistic_regression_model.plot_loss()"
   ]
  },
  {
   "cell_type": "code",
   "execution_count": 3,
   "metadata": {},
   "outputs": [
    {
     "name": "stdout",
     "output_type": "stream",
     "text": [
      "[0.0 0.0 0.0 ... 0.0 0.0 0.0]\n",
      "0.0\n"
     ]
    },
    {
     "ename": "TypeError",
     "evalue": "loop of ufunc does not support argument 0 of type float which has no callable exp method",
     "output_type": "error",
     "traceback": [
      "\u001b[0;31m---------------------------------------------------------------------------\u001b[0m",
      "\u001b[0;31mAttributeError\u001b[0m                            Traceback (most recent call last)",
      "\u001b[0;31mAttributeError\u001b[0m: 'float' object has no attribute 'exp'",
      "\nThe above exception was the direct cause of the following exception:\n",
      "\u001b[0;31mTypeError\u001b[0m                                 Traceback (most recent call last)",
      "\u001b[0;32m/tmp/ipykernel_35372/3332837957.py\u001b[0m in \u001b[0;36m<module>\u001b[0;34m\u001b[0m\n\u001b[1;32m      9\u001b[0m     \u001b[0mirls_optimizer\u001b[0m \u001b[0;34m=\u001b[0m \u001b[0mIRLS\u001b[0m\u001b[0;34m(\u001b[0m\u001b[0;34m)\u001b[0m\u001b[0;34m\u001b[0m\u001b[0;34m\u001b[0m\u001b[0m\n\u001b[1;32m     10\u001b[0m \u001b[0;34m\u001b[0m\u001b[0m\n\u001b[0;32m---> 11\u001b[0;31m     \u001b[0mlogistic_regression_model\u001b[0m\u001b[0;34m.\u001b[0m\u001b[0mtrain\u001b[0m\u001b[0;34m(\u001b[0m\u001b[0mX_train\u001b[0m\u001b[0;34m,\u001b[0m \u001b[0my_train\u001b[0m\u001b[0;34m,\u001b[0m \u001b[0moptimizer\u001b[0m\u001b[0;34m=\u001b[0m\u001b[0mirls_optimizer\u001b[0m\u001b[0;34m,\u001b[0m \u001b[0mpatience\u001b[0m\u001b[0;34m=\u001b[0m\u001b[0;36m5\u001b[0m\u001b[0;34m,\u001b[0m \u001b[0mepochs\u001b[0m\u001b[0;34m=\u001b[0m\u001b[0;36m500\u001b[0m\u001b[0;34m,\u001b[0m \u001b[0mbatch_size\u001b[0m\u001b[0;34m=\u001b[0m\u001b[0;36m64\u001b[0m\u001b[0;34m)\u001b[0m\u001b[0;34m\u001b[0m\u001b[0;34m\u001b[0m\u001b[0m\n\u001b[0m\u001b[1;32m     12\u001b[0m     \u001b[0my_pred\u001b[0m \u001b[0;34m=\u001b[0m \u001b[0mlogistic_regression_model\u001b[0m\u001b[0;34m.\u001b[0m\u001b[0mpredict\u001b[0m\u001b[0;34m(\u001b[0m\u001b[0mX_test\u001b[0m\u001b[0;34m)\u001b[0m\u001b[0;34m\u001b[0m\u001b[0;34m\u001b[0m\u001b[0m\n\u001b[1;32m     13\u001b[0m     \u001b[0mirls_accuracy\u001b[0m\u001b[0;34m.\u001b[0m\u001b[0mappend\u001b[0m\u001b[0;34m(\u001b[0m\u001b[0mbalanced_accuracy_score\u001b[0m\u001b[0;34m(\u001b[0m\u001b[0my_test\u001b[0m\u001b[0;34m,\u001b[0m\u001b[0my_pred\u001b[0m\u001b[0;34m.\u001b[0m\u001b[0mround\u001b[0m\u001b[0;34m(\u001b[0m\u001b[0;34m)\u001b[0m\u001b[0;34m)\u001b[0m\u001b[0;34m)\u001b[0m\u001b[0;34m\u001b[0m\u001b[0;34m\u001b[0m\u001b[0m\n",
      "\u001b[0;32m~/AML/PROJ1/2024L-DSAdvancedML/projects/project1/group3/Narozniak_Czerwonski_Rucinski/src/Logreg_old.py\u001b[0m in \u001b[0;36mtrain\u001b[0;34m(self, X, y, optimizer, epochs, batch_size, X_val, y_val, patience)\u001b[0m\n\u001b[1;32m     79\u001b[0m                 \u001b[0;32melif\u001b[0m \u001b[0misinstance\u001b[0m\u001b[0;34m(\u001b[0m\u001b[0moptimizer\u001b[0m\u001b[0;34m,\u001b[0m \u001b[0mIRLS\u001b[0m\u001b[0;34m)\u001b[0m\u001b[0;34m:\u001b[0m\u001b[0;34m\u001b[0m\u001b[0;34m\u001b[0m\u001b[0m\n\u001b[1;32m     80\u001b[0m                     \u001b[0mB\u001b[0m \u001b[0;34m=\u001b[0m \u001b[0mnp\u001b[0m\u001b[0;34m.\u001b[0m\u001b[0mconcatenate\u001b[0m\u001b[0;34m(\u001b[0m\u001b[0;34m[\u001b[0m\u001b[0mnp\u001b[0m\u001b[0;34m.\u001b[0m\u001b[0marray\u001b[0m\u001b[0;34m(\u001b[0m\u001b[0;34m[\u001b[0m\u001b[0mself\u001b[0m\u001b[0;34m.\u001b[0m\u001b[0mbias\u001b[0m\u001b[0;34m]\u001b[0m\u001b[0;34m)\u001b[0m\u001b[0;34m,\u001b[0m \u001b[0mself\u001b[0m\u001b[0;34m.\u001b[0m\u001b[0mweights\u001b[0m\u001b[0;34m]\u001b[0m\u001b[0;34m)\u001b[0m\u001b[0;34m\u001b[0m\u001b[0;34m\u001b[0m\u001b[0m\n\u001b[0;32m---> 81\u001b[0;31m                     \u001b[0mself\u001b[0m\u001b[0;34m.\u001b[0m\u001b[0mweights\u001b[0m\u001b[0;34m,\u001b[0m \u001b[0mself\u001b[0m\u001b[0;34m.\u001b[0m\u001b[0mbias\u001b[0m \u001b[0;34m=\u001b[0m \u001b[0moptimizer\u001b[0m\u001b[0;34m.\u001b[0m\u001b[0mupdate\u001b[0m\u001b[0;34m(\u001b[0m\u001b[0mB\u001b[0m\u001b[0;34m,\u001b[0m \u001b[0mX\u001b[0m\u001b[0;34m,\u001b[0m \u001b[0my\u001b[0m\u001b[0;34m)\u001b[0m\u001b[0;34m\u001b[0m\u001b[0;34m\u001b[0m\u001b[0m\n\u001b[0m\u001b[1;32m     82\u001b[0m \u001b[0;34m\u001b[0m\u001b[0m\n\u001b[1;32m     83\u001b[0m                 \u001b[0mbatch_loss\u001b[0m \u001b[0;34m=\u001b[0m \u001b[0;34m-\u001b[0m\u001b[0mnp\u001b[0m\u001b[0;34m.\u001b[0m\u001b[0mmean\u001b[0m\u001b[0;34m(\u001b[0m\u001b[0my_batch\u001b[0m \u001b[0;34m*\u001b[0m \u001b[0mnp\u001b[0m\u001b[0;34m.\u001b[0m\u001b[0mlog\u001b[0m\u001b[0;34m(\u001b[0m\u001b[0ma\u001b[0m\u001b[0;34m)\u001b[0m \u001b[0;34m+\u001b[0m \u001b[0;34m(\u001b[0m\u001b[0;36m1\u001b[0m \u001b[0;34m-\u001b[0m \u001b[0my_batch\u001b[0m\u001b[0;34m)\u001b[0m \u001b[0;34m*\u001b[0m \u001b[0mnp\u001b[0m\u001b[0;34m.\u001b[0m\u001b[0mlog\u001b[0m\u001b[0;34m(\u001b[0m\u001b[0;36m1\u001b[0m \u001b[0;34m-\u001b[0m \u001b[0ma\u001b[0m\u001b[0;34m)\u001b[0m\u001b[0;34m)\u001b[0m\u001b[0;34m\u001b[0m\u001b[0;34m\u001b[0m\u001b[0m\n",
      "\u001b[0;32m~/AML/PROJ1/2024L-DSAdvancedML/projects/project1/group3/Narozniak_Czerwonski_Rucinski/src/irls_optimizer.py\u001b[0m in \u001b[0;36mupdate\u001b[0;34m(self, B, X, y)\u001b[0m\n\u001b[1;32m      9\u001b[0m         \u001b[0mprint\u001b[0m\u001b[0;34m(\u001b[0m\u001b[0mz\u001b[0m\u001b[0;34m)\u001b[0m\u001b[0;34m\u001b[0m\u001b[0;34m\u001b[0m\u001b[0m\n\u001b[1;32m     10\u001b[0m         \u001b[0mprint\u001b[0m\u001b[0;34m(\u001b[0m\u001b[0msum\u001b[0m\u001b[0;34m(\u001b[0m\u001b[0mz\u001b[0m\u001b[0;34m)\u001b[0m\u001b[0;34m)\u001b[0m\u001b[0;34m\u001b[0m\u001b[0;34m\u001b[0m\u001b[0m\n\u001b[0;32m---> 11\u001b[0;31m         \u001b[0mp\u001b[0m \u001b[0;34m=\u001b[0m \u001b[0;36m1\u001b[0m \u001b[0;34m/\u001b[0m \u001b[0;34m(\u001b[0m\u001b[0;36m1\u001b[0m \u001b[0;34m+\u001b[0m \u001b[0mnp\u001b[0m\u001b[0;34m.\u001b[0m\u001b[0mexp\u001b[0m\u001b[0;34m(\u001b[0m\u001b[0;34m-\u001b[0m\u001b[0mz\u001b[0m\u001b[0;34m)\u001b[0m\u001b[0;34m)\u001b[0m\u001b[0;34m\u001b[0m\u001b[0;34m\u001b[0m\u001b[0m\n\u001b[0m\u001b[1;32m     12\u001b[0m         \u001b[0mW\u001b[0m \u001b[0;34m=\u001b[0m \u001b[0mnp\u001b[0m\u001b[0;34m.\u001b[0m\u001b[0mdiagflat\u001b[0m\u001b[0;34m(\u001b[0m\u001b[0mp\u001b[0m \u001b[0;34m*\u001b[0m \u001b[0;34m(\u001b[0m\u001b[0;36m1\u001b[0m \u001b[0;34m-\u001b[0m \u001b[0mp\u001b[0m\u001b[0;34m)\u001b[0m\u001b[0;34m)\u001b[0m\u001b[0;34m\u001b[0m\u001b[0;34m\u001b[0m\u001b[0m\n\u001b[1;32m     13\u001b[0m         \u001b[0mW_inv\u001b[0m \u001b[0;34m=\u001b[0m \u001b[0mnp\u001b[0m\u001b[0;34m.\u001b[0m\u001b[0mdiagflat\u001b[0m\u001b[0;34m(\u001b[0m\u001b[0;36m1.\u001b[0m \u001b[0;34m/\u001b[0m \u001b[0mnp\u001b[0m\u001b[0;34m.\u001b[0m\u001b[0mdiagonal\u001b[0m\u001b[0;34m(\u001b[0m\u001b[0mW\u001b[0m\u001b[0;34m)\u001b[0m\u001b[0;34m)\u001b[0m\u001b[0;34m\u001b[0m\u001b[0;34m\u001b[0m\u001b[0m\n",
      "\u001b[0;31mTypeError\u001b[0m: loop of ufunc does not support argument 0 of type float which has no callable exp method"
     ]
    }
   ],
   "source": [
    "#IRLS\n",
    "splitting_seeds = [42, 43, 44, 45, 46]\n",
    "irls_accuracy = []\n",
    "for seed in splitting_seeds:\n",
    "    X_train, X_test, y_train, y_test = train_test_split(X, y, test_size=0.2, random_state=seed)\n",
    "    y_train = y_train.astype('int')\n",
    "    y_test = y_test.astype('int')\n",
    "    logistic_regression_model = LogisticRegression(input_dim=X_train.shape[1])\n",
    "    irls_optimizer = IRLS()\n",
    "\n",
    "    logistic_regression_model.train(X_train, y_train, optimizer=irls_optimizer, patience=5, epochs=500, batch_size=64)\n",
    "    y_pred = logistic_regression_model.predict(X_test)\n",
    "    irls_accuracy.append(balanced_accuracy_score(y_test,y_pred.round()))\n",
    "    print(f\"accuracy : {balanced_accuracy_score(y_test,y_pred.round())}\")\n",
    "    logistic_regression_model.plot_loss()"
   ]
  },
  {
   "cell_type": "code",
   "execution_count": 4,
   "metadata": {},
   "outputs": [
    {
     "name": "stdout",
     "output_type": "stream",
     "text": [
      "Early stopping after epoch 10\n",
      "accuracy : 0.5\n",
      "Early stopping after epoch 10\n",
      "accuracy : 0.5\n",
      "Early stopping after epoch 10\n",
      "accuracy : 0.5\n",
      "Early stopping after epoch 10\n",
      "accuracy : 0.5\n",
      "Early stopping after epoch 10\n",
      "accuracy : 0.5\n"
     ]
    },
    {
     "data": {
      "image/png": "[encoded data removed]",
      "text/plain": [
       "<Figure size 432x288 with 1 Axes>"
      ]
     },
     "metadata": {
      "needs_background": "light"
     },
     "output_type": "display_data"
    }
   ],
   "source": [
    "#SGD\n",
    "splitting_seeds = [42, 43, 44, 45, 46]\n",
    "sgd_accuracy = []\n",
    "for seed in splitting_seeds:\n",
    "    X_train, X_test, y_train, y_test = train_test_split(X, y, test_size=0.2, random_state=seed)\n",
    "    y_train = y_train.astype('int')\n",
    "    y_test = y_test.astype('int')\n",
    "    logistic_regression_model = LogisticRegression(input_dim=X_train.shape[1])\n",
    "    sgd_optimizer = SGD()\n",
    "\n",
    "    logistic_regression_model.train(X_train, y_train, optimizer=sgd_optimizer, patience=10, epochs=500, batch_size=32)\n",
    "    y_pred = logistic_regression_model.predict(X_test)\n",
    "    sgd_accuracy.append(balanced_accuracy_score(y_test,y_pred.round()))\n",
    "    print(f\"accuracy : {balanced_accuracy_score(y_test,y_pred.round())}\")\n",
    "    logistic_regression_model.plot_loss()"
   ]
  },
  {
   "cell_type": "code",
   "execution_count": 10,
   "metadata": {},
   "outputs": [
    {
     "name": "stdout",
     "output_type": "stream",
     "text": [
      "lda: 0.7391451033229804\n",
      "qda: 0.7272146062242413\n",
      "dt: 0.7479017494500091\n",
      "rf: 0.8234056666642672\n",
      "lda: 0.745349763402287\n",
      "qda: 0.7415276882144005\n",
      "dt: 0.7526719715180362\n",
      "rf: 0.8235751729624032\n",
      "lda: 0.741751362518593\n",
      "qda: 0.7396250760577121\n",
      "dt: 0.754763404677525\n",
      "rf: 0.8226833576986219\n",
      "lda: 0.7503095990672303\n",
      "qda: 0.7445017145490753\n",
      "dt: 0.7518372502553767\n",
      "rf: 0.8242277134415832\n",
      "lda: 0.7433894504832903\n",
      "qda: 0.7314483484049776\n",
      "dt: 0.7526066188364702\n",
      "rf: 0.8177315027066678\n"
     ]
    }
   ],
   "source": [
    "# Comparison Models\n",
    "from utils import fitComparisonModels\n",
    "splitting_seeds = [42, 43, 44, 45, 46]\n",
    "comparison_accuracy = []\n",
    "for seed in splitting_seeds:\n",
    "    X_train, X_test, y_train, y_test = train_test_split(X, y, test_size=0.2, random_state=seed)\n",
    "    y_train = y_train.astype('int')\n",
    "    y_test = y_test.astype('int')\n",
    "    y_lda, y_qda, y_dt, y_rf = fitComparisonModels(X_train, y_train, X_test)\n",
    "    comparison_accuracy.append((balanced_accuracy_score(y_test,y_lda), balanced_accuracy_score(y_test,y_qda), balanced_accuracy_score(y_test,y_dt), balanced_accuracy_score(y_test,y_rf)))\n",
    "    print(F\"lda: {balanced_accuracy_score(y_test,y_lda)}\")\n",
    "    print(f\"qda: {balanced_accuracy_score(y_test,y_qda)}\")\n",
    "    print(f\"dt: {balanced_accuracy_score(y_test,y_dt)}\")\n",
    "    print(f\"rf: {balanced_accuracy_score(y_test,y_rf)}\")"
   ]
  },
  {
   "cell_type": "markdown",
   "metadata": {},
   "source": [
    "## BANANA DATA ##"
   ]
  },
  {
   "cell_type": "code",
   "execution_count": 11,
   "metadata": {},
   "outputs": [],
   "source": [
    "from sklearn.impute import SimpleImputer\n",
    "url = 'data/small/banana_quality.csv'\n",
    "dataframe = pd.read_csv(url)\n",
    "data = dataframe.values\n",
    "dataframe.head()\n",
    "\n",
    "X,y = data[:,:-1], data[:,-1]\n",
    "y = LabelEncoder().fit_transform(y)\n"
   ]
  },
  {
   "cell_type": "code",
   "execution_count": 15,
   "metadata": {},
   "outputs": [
    {
     "name": "stdout",
     "output_type": "stream",
     "text": [
      "Early stopping after epoch 94\n",
      "accuracy : 0.8785627518021883\n",
      "Early stopping after epoch 72\n",
      "accuracy : 0.8811576807000598\n",
      "Early stopping after epoch 80\n",
      "accuracy : 0.8818268766438655\n",
      "Early stopping after epoch 94\n",
      "accuracy : 0.8789640856342538\n",
      "Early stopping after epoch 82\n",
      "accuracy : 0.8799323712866551\n"
     ]
    },
    {
     "data": {
      "image/png": "[encoded data removed]",
      "text/plain": [
       "<Figure size 432x288 with 1 Axes>"
      ]
     },
     "metadata": {
      "needs_background": "light"
     },
     "output_type": "display_data"
    }
   ],
   "source": [
    "#ADAM\n",
    "splitting_seeds = [42, 43, 44, 45, 46]\n",
    "adam_accuracy = []\n",
    "for seed in splitting_seeds:\n",
    "    X_train, X_test, y_train, y_test = train_test_split(X, y, test_size=0.2, random_state=seed)\n",
    "    X_train, X_val, y_train, y_val = train_test_split(X_train, y_train, test_size=0.2, random_state=seed)\n",
    "    logistic_regression_model = LogisticRegression(input_dim=X_train.shape[1])\n",
    "    adam_optimizer = AdamOptim(eta=0.01)\n",
    "\n",
    "    logistic_regression_model.train(X_train, y_train, optimizer=adam_optimizer, patience=5, epochs=500, batch_size=64, X_val=X_val, y_val=y_val)\n",
    "    y_pred = logistic_regression_model.predict(X_test)\n",
    "    adam_accuracy.append(balanced_accuracy_score(y_test,y_pred.round()))\n",
    "    print(f\"accuracy : {balanced_accuracy_score(y_test,y_pred.round())}\")\n",
    "    logistic_regression_model.plot_loss()"
   ]
  },
  {
   "cell_type": "code",
   "execution_count": 16,
   "metadata": {},
   "outputs": [
    {
     "name": "stdout",
     "output_type": "stream",
     "text": [
      "[0.0 0.0 0.0 ... 0.0 0.0 0.0]\n",
      "0.0\n"
     ]
    },
    {
     "ename": "TypeError",
     "evalue": "loop of ufunc does not support argument 0 of type float which has no callable exp method",
     "output_type": "error",
     "traceback": [
      "\u001b[0;31m---------------------------------------------------------------------------\u001b[0m",
      "\u001b[0;31mAttributeError\u001b[0m                            Traceback (most recent call last)",
      "\u001b[0;31mAttributeError\u001b[0m: 'float' object has no attribute 'exp'",
      "\nThe above exception was the direct cause of the following exception:\n",
      "\u001b[0;31mTypeError\u001b[0m                                 Traceback (most recent call last)",
      "\u001b[0;32m/tmp/ipykernel_35372/4073519750.py\u001b[0m in \u001b[0;36m<module>\u001b[0;34m\u001b[0m\n\u001b[1;32m      8\u001b[0m     \u001b[0mirls_optimizer\u001b[0m \u001b[0;34m=\u001b[0m \u001b[0mIRLS\u001b[0m\u001b[0;34m(\u001b[0m\u001b[0;34m)\u001b[0m\u001b[0;34m\u001b[0m\u001b[0;34m\u001b[0m\u001b[0m\n\u001b[1;32m      9\u001b[0m \u001b[0;34m\u001b[0m\u001b[0m\n\u001b[0;32m---> 10\u001b[0;31m     \u001b[0mlogistic_regression_model\u001b[0m\u001b[0;34m.\u001b[0m\u001b[0mtrain\u001b[0m\u001b[0;34m(\u001b[0m\u001b[0mX_train\u001b[0m\u001b[0;34m,\u001b[0m \u001b[0my_train\u001b[0m\u001b[0;34m,\u001b[0m \u001b[0moptimizer\u001b[0m\u001b[0;34m=\u001b[0m\u001b[0mirls_optimizer\u001b[0m\u001b[0;34m,\u001b[0m \u001b[0mpatience\u001b[0m\u001b[0;34m=\u001b[0m\u001b[0;36m10\u001b[0m\u001b[0;34m,\u001b[0m \u001b[0mepochs\u001b[0m\u001b[0;34m=\u001b[0m\u001b[0;36m500\u001b[0m\u001b[0;34m,\u001b[0m \u001b[0mbatch_size\u001b[0m\u001b[0;34m=\u001b[0m\u001b[0;36m32\u001b[0m\u001b[0;34m,\u001b[0m \u001b[0mX_val\u001b[0m\u001b[0;34m=\u001b[0m\u001b[0mX_val\u001b[0m\u001b[0;34m,\u001b[0m \u001b[0my_val\u001b[0m\u001b[0;34m=\u001b[0m\u001b[0my_val\u001b[0m\u001b[0;34m)\u001b[0m\u001b[0;34m\u001b[0m\u001b[0;34m\u001b[0m\u001b[0m\n\u001b[0m\u001b[1;32m     11\u001b[0m     \u001b[0my_pred\u001b[0m \u001b[0;34m=\u001b[0m \u001b[0mlogistic_regression_model\u001b[0m\u001b[0;34m.\u001b[0m\u001b[0mpredict\u001b[0m\u001b[0;34m(\u001b[0m\u001b[0mX_test\u001b[0m\u001b[0;34m)\u001b[0m\u001b[0;34m\u001b[0m\u001b[0;34m\u001b[0m\u001b[0m\n\u001b[1;32m     12\u001b[0m     \u001b[0mirls_accuracy\u001b[0m\u001b[0;34m.\u001b[0m\u001b[0mappend\u001b[0m\u001b[0;34m(\u001b[0m\u001b[0mbalanced_accuracy_score\u001b[0m\u001b[0;34m(\u001b[0m\u001b[0my_test\u001b[0m\u001b[0;34m,\u001b[0m\u001b[0my_pred\u001b[0m\u001b[0;34m.\u001b[0m\u001b[0mround\u001b[0m\u001b[0;34m(\u001b[0m\u001b[0;34m)\u001b[0m\u001b[0;34m)\u001b[0m\u001b[0;34m)\u001b[0m\u001b[0;34m\u001b[0m\u001b[0;34m\u001b[0m\u001b[0m\n",
      "\u001b[0;32m~/AML/PROJ1/2024L-DSAdvancedML/projects/project1/group3/Narozniak_Czerwonski_Rucinski/src/Logreg_old.py\u001b[0m in \u001b[0;36mtrain\u001b[0;34m(self, X, y, optimizer, epochs, batch_size, X_val, y_val, patience)\u001b[0m\n\u001b[1;32m     79\u001b[0m                 \u001b[0;32melif\u001b[0m \u001b[0misinstance\u001b[0m\u001b[0;34m(\u001b[0m\u001b[0moptimizer\u001b[0m\u001b[0;34m,\u001b[0m \u001b[0mIRLS\u001b[0m\u001b[0;34m)\u001b[0m\u001b[0;34m:\u001b[0m\u001b[0;34m\u001b[0m\u001b[0;34m\u001b[0m\u001b[0m\n\u001b[1;32m     80\u001b[0m                     \u001b[0mB\u001b[0m \u001b[0;34m=\u001b[0m \u001b[0mnp\u001b[0m\u001b[0;34m.\u001b[0m\u001b[0mconcatenate\u001b[0m\u001b[0;34m(\u001b[0m\u001b[0;34m[\u001b[0m\u001b[0mnp\u001b[0m\u001b[0;34m.\u001b[0m\u001b[0marray\u001b[0m\u001b[0;34m(\u001b[0m\u001b[0;34m[\u001b[0m\u001b[0mself\u001b[0m\u001b[0;34m.\u001b[0m\u001b[0mbias\u001b[0m\u001b[0;34m]\u001b[0m\u001b[0;34m)\u001b[0m\u001b[0;34m,\u001b[0m \u001b[0mself\u001b[0m\u001b[0;34m.\u001b[0m\u001b[0mweights\u001b[0m\u001b[0;34m]\u001b[0m\u001b[0;34m)\u001b[0m\u001b[0;34m\u001b[0m\u001b[0;34m\u001b[0m\u001b[0m\n\u001b[0;32m---> 81\u001b[0;31m                     \u001b[0mself\u001b[0m\u001b[0;34m.\u001b[0m\u001b[0mweights\u001b[0m\u001b[0;34m,\u001b[0m \u001b[0mself\u001b[0m\u001b[0;34m.\u001b[0m\u001b[0mbias\u001b[0m \u001b[0;34m=\u001b[0m \u001b[0moptimizer\u001b[0m\u001b[0;34m.\u001b[0m\u001b[0mupdate\u001b[0m\u001b[0;34m(\u001b[0m\u001b[0mB\u001b[0m\u001b[0;34m,\u001b[0m \u001b[0mX\u001b[0m\u001b[0;34m,\u001b[0m \u001b[0my\u001b[0m\u001b[0;34m)\u001b[0m\u001b[0;34m\u001b[0m\u001b[0;34m\u001b[0m\u001b[0m\n\u001b[0m\u001b[1;32m     82\u001b[0m \u001b[0;34m\u001b[0m\u001b[0m\n\u001b[1;32m     83\u001b[0m                 \u001b[0mbatch_loss\u001b[0m \u001b[0;34m=\u001b[0m \u001b[0;34m-\u001b[0m\u001b[0mnp\u001b[0m\u001b[0;34m.\u001b[0m\u001b[0mmean\u001b[0m\u001b[0;34m(\u001b[0m\u001b[0my_batch\u001b[0m \u001b[0;34m*\u001b[0m \u001b[0mnp\u001b[0m\u001b[0;34m.\u001b[0m\u001b[0mlog\u001b[0m\u001b[0;34m(\u001b[0m\u001b[0ma\u001b[0m\u001b[0;34m)\u001b[0m \u001b[0;34m+\u001b[0m \u001b[0;34m(\u001b[0m\u001b[0;36m1\u001b[0m \u001b[0;34m-\u001b[0m \u001b[0my_batch\u001b[0m\u001b[0;34m)\u001b[0m \u001b[0;34m*\u001b[0m \u001b[0mnp\u001b[0m\u001b[0;34m.\u001b[0m\u001b[0mlog\u001b[0m\u001b[0;34m(\u001b[0m\u001b[0;36m1\u001b[0m \u001b[0;34m-\u001b[0m \u001b[0ma\u001b[0m\u001b[0;34m)\u001b[0m\u001b[0;34m)\u001b[0m\u001b[0;34m\u001b[0m\u001b[0;34m\u001b[0m\u001b[0m\n",
      "\u001b[0;32m~/AML/PROJ1/2024L-DSAdvancedML/projects/project1/group3/Narozniak_Czerwonski_Rucinski/src/irls_optimizer.py\u001b[0m in \u001b[0;36mupdate\u001b[0;34m(self, B, X, y)\u001b[0m\n\u001b[1;32m      9\u001b[0m         \u001b[0mp\u001b[0m \u001b[0;34m=\u001b[0m \u001b[0;36m1\u001b[0m \u001b[0;34m/\u001b[0m \u001b[0;34m(\u001b[0m\u001b[0;36m1\u001b[0m \u001b[0;34m+\u001b[0m \u001b[0mnp\u001b[0m\u001b[0;34m.\u001b[0m\u001b[0mexp\u001b[0m\u001b[0;34m(\u001b[0m\u001b[0;34m-\u001b[0m\u001b[0mz\u001b[0m\u001b[0;34m)\u001b[0m\u001b[0;34m)\u001b[0m\u001b[0;34m\u001b[0m\u001b[0;34m\u001b[0m\u001b[0m\n\u001b[1;32m     10\u001b[0m         \u001b[0mW\u001b[0m \u001b[0;34m=\u001b[0m \u001b[0mnp\u001b[0m\u001b[0;34m.\u001b[0m\u001b[0mdiagflat\u001b[0m\u001b[0;34m(\u001b[0m\u001b[0mp\u001b[0m \u001b[0;34m*\u001b[0m \u001b[0;34m(\u001b[0m\u001b[0;36m1\u001b[0m \u001b[0;34m-\u001b[0m \u001b[0mp\u001b[0m\u001b[0;34m)\u001b[0m\u001b[0;34m)\u001b[0m\u001b[0;34m\u001b[0m\u001b[0;34m\u001b[0m\u001b[0m\n\u001b[0;32m---> 11\u001b[0;31m         \u001b[0mW_inv\u001b[0m \u001b[0;34m=\u001b[0m \u001b[0mnp\u001b[0m\u001b[0;34m.\u001b[0m\u001b[0mdiagflat\u001b[0m\u001b[0;34m(\u001b[0m\u001b[0;36m1.\u001b[0m \u001b[0;34m/\u001b[0m \u001b[0mnp\u001b[0m\u001b[0;34m.\u001b[0m\u001b[0mdiagonal\u001b[0m\u001b[0;34m(\u001b[0m\u001b[0mW\u001b[0m\u001b[0;34m)\u001b[0m\u001b[0;34m)\u001b[0m\u001b[0;34m\u001b[0m\u001b[0;34m\u001b[0m\u001b[0m\n\u001b[0m\u001b[1;32m     12\u001b[0m         \u001b[0mresponse\u001b[0m \u001b[0;34m=\u001b[0m \u001b[0mz\u001b[0m \u001b[0;34m+\u001b[0m \u001b[0mW_inv\u001b[0m \u001b[0;34m@\u001b[0m \u001b[0;34m(\u001b[0m\u001b[0my\u001b[0m \u001b[0;34m-\u001b[0m \u001b[0mp\u001b[0m\u001b[0;34m)\u001b[0m\u001b[0;34m\u001b[0m\u001b[0;34m\u001b[0m\u001b[0m\n\u001b[1;32m     13\u001b[0m         \u001b[0mxwx_inv\u001b[0m \u001b[0;34m=\u001b[0m \u001b[0mnp\u001b[0m\u001b[0;34m.\u001b[0m\u001b[0mlinalg\u001b[0m\u001b[0;34m.\u001b[0m\u001b[0minv\u001b[0m\u001b[0;34m(\u001b[0m\u001b[0mX_\u001b[0m\u001b[0;34m.\u001b[0m\u001b[0mT\u001b[0m \u001b[0;34m@\u001b[0m \u001b[0mW\u001b[0m \u001b[0;34m@\u001b[0m \u001b[0mX_\u001b[0m\u001b[0;34m)\u001b[0m\u001b[0;34m\u001b[0m\u001b[0;34m\u001b[0m\u001b[0m\n",
      "\u001b[0;31mTypeError\u001b[0m: loop of ufunc does not support argument 0 of type float which has no callable exp method"
     ]
    }
   ],
   "source": [
    "#IRLS\n",
    "splitting_seeds = [42, 43, 44, 45, 46]\n",
    "irls_accuracy = []\n",
    "for seed in splitting_seeds:\n",
    "    X_train, X_test, y_train, y_test = train_test_split(X, y, test_size=0.2, random_state=seed)\n",
    "    X_train, X_val, y_train, y_val = train_test_split(X_train, y_train, test_size=0.2, random_state=seed)\n",
    "    logistic_regression_model = LogisticRegression(input_dim=X_train.shape[1])\n",
    "    irls_optimizer = IRLS()\n",
    "\n",
    "    logistic_regression_model.train(X_train, y_train, optimizer=irls_optimizer, patience=10, epochs=500, batch_size=32, X_val=X_val, y_val=y_val)\n",
    "    y_pred = logistic_regression_model.predict(X_test)\n",
    "    irls_accuracy.append(balanced_accuracy_score(y_test,y_pred.round()))\n",
    "    print(f\"accuracy : {balanced_accuracy_score(y_test,y_pred.round())}\")\n",
    "    logistic_regression_model.plot_loss()"
   ]
  },
  {
   "cell_type": "code",
   "execution_count": 17,
   "metadata": {},
   "outputs": [
    {
     "name": "stdout",
     "output_type": "stream",
     "text": [
      "Early stopping after epoch 10\n",
      "accuracy : 0.5\n",
      "Early stopping after epoch 10\n",
      "accuracy : 0.5\n",
      "Early stopping after epoch 10\n",
      "accuracy : 0.5\n",
      "Early stopping after epoch 10\n",
      "accuracy : 0.5\n",
      "Early stopping after epoch 10\n",
      "accuracy : 0.5\n"
     ]
    },
    {
     "data": {
      "image/png": "[encoded data removed]",
      "text/plain": [
       "<Figure size 432x288 with 1 Axes>"
      ]
     },
     "metadata": {
      "needs_background": "light"
     },
     "output_type": "display_data"
    }
   ],
   "source": [
    "#SGD\n",
    "splitting_seeds = [42, 43, 44, 45, 46]\n",
    "sgd_accuracy = []\n",
    "for seed in splitting_seeds:\n",
    "    X_train, X_test, y_train, y_test = train_test_split(X, y, test_size=0.2, random_state=seed)\n",
    "    logistic_regression_model = LogisticRegression(input_dim=X_train.shape[1])\n",
    "    sgd_optimizer = SGD()\n",
    "\n",
    "    logistic_regression_model.train(X_train, y_train, optimizer=sgd_optimizer, patience=10, epochs=500, batch_size=32)\n",
    "    y_pred = logistic_regression_model.predict(X_test)\n",
    "    sgd_accuracy.append(balanced_accuracy_score(y_test,y_pred.round()))\n",
    "    print(f\"accuracy : {balanced_accuracy_score(y_test,y_pred.round())}\")\n",
    "    logistic_regression_model.plot_loss()"
   ]
  },
  {
   "cell_type": "code",
   "execution_count": 18,
   "metadata": {},
   "outputs": [
    {
     "name": "stdout",
     "output_type": "stream",
     "text": [
      "lda: 0.880126915338183\n",
      "qda: 0.9255087635369326\n",
      "dt: 0.9386263189080091\n",
      "rf: 0.9717848661510633\n",
      "lda: 0.8822861036742515\n",
      "qda: 0.924446455392127\n",
      "dt: 0.9319890721143552\n",
      "rf: 0.9719183659435069\n",
      "lda: 0.8826840699569762\n",
      "qda: 0.9207389209522425\n",
      "dt: 0.9318707130566872\n",
      "rf: 0.9699599455522059\n",
      "lda: 0.8763880552220888\n",
      "qda: 0.9172669067627051\n",
      "dt: 0.9272709083633454\n",
      "rf: 0.9694252701080432\n",
      "lda: 0.8867438625217418\n",
      "qda: 0.9270991642082249\n",
      "dt: 0.9293011751900488\n",
      "rf: 0.9692722228234361\n"
     ]
    }
   ],
   "source": [
    "# Comparison Models\n",
    "from utils import fitComparisonModels\n",
    "splitting_seeds = [42, 43, 44, 45, 46]\n",
    "comparison_accuracy = []\n",
    "y_lda, y_qda, y_dt, y_rf = fitComparisonModels(X_train, y_train, X_test)\n",
    "splitting_seeds = [42, 43, 44, 45, 46]\n",
    "sgd_accuracy = []\n",
    "for seed in splitting_seeds:\n",
    "    X_train, X_test, y_train, y_test = train_test_split(X, y, test_size=0.2, random_state=seed)\n",
    "    y_lda, y_qda, y_dt, y_rf = fitComparisonModels(X_train, y_train, X_test)\n",
    "    sgd_accuracy.append((balanced_accuracy_score(y_test,y_lda), balanced_accuracy_score(y_test,y_qda), balanced_accuracy_score(y_test,y_dt), balanced_accuracy_score(y_test,y_rf)))\n",
    "    print(F\"lda: {balanced_accuracy_score(y_test,y_lda)}\")\n",
    "    print(f\"qda: {balanced_accuracy_score(y_test,y_qda)}\")\n",
    "    print(f\"dt: {balanced_accuracy_score(y_test,y_dt)}\")\n",
    "    print(f\"rf: {balanced_accuracy_score(y_test,y_rf)}\")"
   ]
  },
  {
   "cell_type": "markdown",
   "metadata": {},
   "source": [
    "### with interactions ###"
   ]
  },
  {
   "cell_type": "code",
   "execution_count": 21,
   "metadata": {},
   "outputs": [
    {
     "name": "stdout",
     "output_type": "stream",
     "text": [
      "7 28\n"
     ]
    }
   ],
   "source": [
    "from utils import createFeatureInteractions\n",
    "X_int = createFeatureInteractions(X)\n",
    "print(len(X[0]),len(X_int[0]))"
   ]
  },
  {
   "cell_type": "code",
   "execution_count": 22,
   "metadata": {},
   "outputs": [
    {
     "name": "stdout",
     "output_type": "stream",
     "text": [
      "Early stopping after epoch 28\n",
      "accuracy : 0.9600368332762699\n",
      "Early stopping after epoch 28\n",
      "accuracy : 0.9612600827405986\n",
      "Early stopping after epoch 28\n",
      "accuracy : 0.9537240634557471\n",
      "Early stopping after epoch 31\n",
      "accuracy : 0.9498549419767908\n",
      "Early stopping after epoch 30\n",
      "accuracy : 0.9470717488578244\n"
     ]
    },
    {
     "data": {
      "image/png": "[encoded data removed]",
      "text/plain": [
       "<Figure size 432x288 with 1 Axes>"
      ]
     },
     "metadata": {
      "needs_background": "light"
     },
     "output_type": "display_data"
    }
   ],
   "source": [
    "#ADAM\n",
    "splitting_seeds = [42, 43, 44, 45, 46]\n",
    "adam_accuracy = []\n",
    "for seed in splitting_seeds:\n",
    "    X_train, X_test, y_train, y_test = train_test_split(X_int, y, test_size=0.2, random_state=seed)\n",
    "    logistic_regression_model = LogisticRegression(input_dim=X_train.shape[1])\n",
    "    adam_optimizer = AdamOptim(eta=0.01)\n",
    "\n",
    "    logistic_regression_model.train(X_train, y_train, optimizer=adam_optimizer, patience=5, epochs=500, batch_size=64)#, Xval=X_val, yval=y_val)\n",
    "    y_pred = logistic_regression_model.predict(X_test)\n",
    "    adam_accuracy.append(balanced_accuracy_score(y_test,y_pred.round()))\n",
    "    print(f\"accuracy : {balanced_accuracy_score(y_test,y_pred.round())}\")\n",
    "    logistic_regression_model.plot_loss()"
   ]
  },
  {
   "cell_type": "code",
   "execution_count": 23,
   "metadata": {},
   "outputs": [
    {
     "name": "stdout",
     "output_type": "stream",
     "text": [
      "Early stopping after epoch 5\n",
      "accuracy : 0.5\n",
      "Early stopping after epoch 5\n",
      "accuracy : 0.5\n",
      "Early stopping after epoch 5\n",
      "accuracy : 0.5\n",
      "Early stopping after epoch 5\n",
      "accuracy : 0.5\n",
      "Early stopping after epoch 5\n",
      "accuracy : 0.5\n"
     ]
    }
   ],
   "source": [
    "#SGD\n",
    "splitting_seeds = [42, 43, 44, 45, 46]\n",
    "sgd_accuracy = []\n",
    "for seed in splitting_seeds:\n",
    "    X_train, X_test, y_train, y_test = train_test_split(X_int, y, test_size=0.2, random_state=seed)\n",
    "    logistic_regression_model = LogisticRegression(input_dim=X_train.shape[1])\n",
    "    sgd_optimizer = SGD(eta=0.001)\n",
    "\n",
    "    logistic_regression_model.train(X_train, y_train, optimizer=sgd_optimizer, patience=5, epochs=500, batch_size=1)\n",
    "    y_pred = logistic_regression_model.predict(X_test)\n",
    "    sgd_accuracy.append(balanced_accuracy_score(y_test,y_pred.round()))\n",
    "    print(f\"accuracy : {balanced_accuracy_score(y_test,y_pred.round())}\")"
   ]
  },
  {
   "cell_type": "code",
   "execution_count": 25,
   "metadata": {},
   "outputs": [
    {
     "name": "stdout",
     "output_type": "stream",
     "text": [
      "[0.0 0.0 0.0 ... 0.0 0.0 0.0]\n",
      "0.0\n"
     ]
    },
    {
     "ename": "TypeError",
     "evalue": "loop of ufunc does not support argument 0 of type float which has no callable exp method",
     "output_type": "error",
     "traceback": [
      "\u001b[0;31m---------------------------------------------------------------------------\u001b[0m",
      "\u001b[0;31mAttributeError\u001b[0m                            Traceback (most recent call last)",
      "\u001b[0;31mAttributeError\u001b[0m: 'float' object has no attribute 'exp'",
      "\nThe above exception was the direct cause of the following exception:\n",
      "\u001b[0;31mTypeError\u001b[0m                                 Traceback (most recent call last)",
      "\u001b[0;32m/tmp/ipykernel_35372/2649279518.py\u001b[0m in \u001b[0;36m<module>\u001b[0;34m\u001b[0m\n\u001b[1;32m      7\u001b[0m     \u001b[0mirls_optimizer\u001b[0m \u001b[0;34m=\u001b[0m \u001b[0mIRLS\u001b[0m\u001b[0;34m(\u001b[0m\u001b[0;34m)\u001b[0m\u001b[0;34m\u001b[0m\u001b[0;34m\u001b[0m\u001b[0m\n\u001b[1;32m      8\u001b[0m \u001b[0;34m\u001b[0m\u001b[0m\n\u001b[0;32m----> 9\u001b[0;31m     \u001b[0mlogistic_regression_model\u001b[0m\u001b[0;34m.\u001b[0m\u001b[0mtrain\u001b[0m\u001b[0;34m(\u001b[0m\u001b[0mX_train\u001b[0m\u001b[0;34m,\u001b[0m \u001b[0my_train\u001b[0m\u001b[0;34m,\u001b[0m \u001b[0moptimizer\u001b[0m\u001b[0;34m=\u001b[0m\u001b[0mirls_optimizer\u001b[0m\u001b[0;34m,\u001b[0m \u001b[0mpatience\u001b[0m\u001b[0;34m=\u001b[0m\u001b[0;36m10\u001b[0m\u001b[0;34m,\u001b[0m \u001b[0mepochs\u001b[0m\u001b[0;34m=\u001b[0m\u001b[0;36m500\u001b[0m\u001b[0;34m,\u001b[0m \u001b[0mbatch_size\u001b[0m\u001b[0;34m=\u001b[0m\u001b[0;36m32\u001b[0m\u001b[0;34m)\u001b[0m\u001b[0;34m\u001b[0m\u001b[0;34m\u001b[0m\u001b[0m\n\u001b[0m\u001b[1;32m     10\u001b[0m     \u001b[0my_pred\u001b[0m \u001b[0;34m=\u001b[0m \u001b[0mlogistic_regression_model\u001b[0m\u001b[0;34m.\u001b[0m\u001b[0mpredict\u001b[0m\u001b[0;34m(\u001b[0m\u001b[0mX_test\u001b[0m\u001b[0;34m)\u001b[0m\u001b[0;34m\u001b[0m\u001b[0;34m\u001b[0m\u001b[0m\n\u001b[1;32m     11\u001b[0m     \u001b[0mirls_accuracy\u001b[0m\u001b[0;34m.\u001b[0m\u001b[0mappend\u001b[0m\u001b[0;34m(\u001b[0m\u001b[0mbalanced_accuracy_score\u001b[0m\u001b[0;34m(\u001b[0m\u001b[0my_test\u001b[0m\u001b[0;34m,\u001b[0m\u001b[0my_pred\u001b[0m\u001b[0;34m.\u001b[0m\u001b[0mround\u001b[0m\u001b[0;34m(\u001b[0m\u001b[0;34m)\u001b[0m\u001b[0;34m)\u001b[0m\u001b[0;34m)\u001b[0m\u001b[0;34m\u001b[0m\u001b[0;34m\u001b[0m\u001b[0m\n",
      "\u001b[0;32m~/AML/PROJ1/2024L-DSAdvancedML/projects/project1/group3/Narozniak_Czerwonski_Rucinski/src/Logreg_old.py\u001b[0m in \u001b[0;36mtrain\u001b[0;34m(self, X, y, optimizer, epochs, batch_size, X_val, y_val, patience)\u001b[0m\n\u001b[1;32m     79\u001b[0m                 \u001b[0;32melif\u001b[0m \u001b[0misinstance\u001b[0m\u001b[0;34m(\u001b[0m\u001b[0moptimizer\u001b[0m\u001b[0;34m,\u001b[0m \u001b[0mIRLS\u001b[0m\u001b[0;34m)\u001b[0m\u001b[0;34m:\u001b[0m\u001b[0;34m\u001b[0m\u001b[0;34m\u001b[0m\u001b[0m\n\u001b[1;32m     80\u001b[0m                     \u001b[0mB\u001b[0m \u001b[0;34m=\u001b[0m \u001b[0mnp\u001b[0m\u001b[0;34m.\u001b[0m\u001b[0mconcatenate\u001b[0m\u001b[0;34m(\u001b[0m\u001b[0;34m[\u001b[0m\u001b[0mnp\u001b[0m\u001b[0;34m.\u001b[0m\u001b[0marray\u001b[0m\u001b[0;34m(\u001b[0m\u001b[0;34m[\u001b[0m\u001b[0mself\u001b[0m\u001b[0;34m.\u001b[0m\u001b[0mbias\u001b[0m\u001b[0;34m]\u001b[0m\u001b[0;34m)\u001b[0m\u001b[0;34m,\u001b[0m \u001b[0mself\u001b[0m\u001b[0;34m.\u001b[0m\u001b[0mweights\u001b[0m\u001b[0;34m]\u001b[0m\u001b[0;34m)\u001b[0m\u001b[0;34m\u001b[0m\u001b[0;34m\u001b[0m\u001b[0m\n\u001b[0;32m---> 81\u001b[0;31m                     \u001b[0mself\u001b[0m\u001b[0;34m.\u001b[0m\u001b[0mweights\u001b[0m\u001b[0;34m,\u001b[0m \u001b[0mself\u001b[0m\u001b[0;34m.\u001b[0m\u001b[0mbias\u001b[0m \u001b[0;34m=\u001b[0m \u001b[0moptimizer\u001b[0m\u001b[0;34m.\u001b[0m\u001b[0mupdate\u001b[0m\u001b[0;34m(\u001b[0m\u001b[0mB\u001b[0m\u001b[0;34m,\u001b[0m \u001b[0mX\u001b[0m\u001b[0;34m,\u001b[0m \u001b[0my\u001b[0m\u001b[0;34m)\u001b[0m\u001b[0;34m\u001b[0m\u001b[0;34m\u001b[0m\u001b[0m\n\u001b[0m\u001b[1;32m     82\u001b[0m \u001b[0;34m\u001b[0m\u001b[0m\n\u001b[1;32m     83\u001b[0m                 \u001b[0mbatch_loss\u001b[0m \u001b[0;34m=\u001b[0m \u001b[0;34m-\u001b[0m\u001b[0mnp\u001b[0m\u001b[0;34m.\u001b[0m\u001b[0mmean\u001b[0m\u001b[0;34m(\u001b[0m\u001b[0my_batch\u001b[0m \u001b[0;34m*\u001b[0m \u001b[0mnp\u001b[0m\u001b[0;34m.\u001b[0m\u001b[0mlog\u001b[0m\u001b[0;34m(\u001b[0m\u001b[0ma\u001b[0m\u001b[0;34m)\u001b[0m \u001b[0;34m+\u001b[0m \u001b[0;34m(\u001b[0m\u001b[0;36m1\u001b[0m \u001b[0;34m-\u001b[0m \u001b[0my_batch\u001b[0m\u001b[0;34m)\u001b[0m \u001b[0;34m*\u001b[0m \u001b[0mnp\u001b[0m\u001b[0;34m.\u001b[0m\u001b[0mlog\u001b[0m\u001b[0;34m(\u001b[0m\u001b[0;36m1\u001b[0m \u001b[0;34m-\u001b[0m \u001b[0ma\u001b[0m\u001b[0;34m)\u001b[0m\u001b[0;34m)\u001b[0m\u001b[0;34m\u001b[0m\u001b[0;34m\u001b[0m\u001b[0m\n",
      "\u001b[0;32m~/AML/PROJ1/2024L-DSAdvancedML/projects/project1/group3/Narozniak_Czerwonski_Rucinski/src/irls_optimizer.py\u001b[0m in \u001b[0;36mupdate\u001b[0;34m(self, B, X, y)\u001b[0m\n\u001b[1;32m      9\u001b[0m         \u001b[0mp\u001b[0m \u001b[0;34m=\u001b[0m \u001b[0;36m1\u001b[0m \u001b[0;34m/\u001b[0m \u001b[0;34m(\u001b[0m\u001b[0;36m1\u001b[0m \u001b[0;34m+\u001b[0m \u001b[0mnp\u001b[0m\u001b[0;34m.\u001b[0m\u001b[0mexp\u001b[0m\u001b[0;34m(\u001b[0m\u001b[0;34m-\u001b[0m\u001b[0mz\u001b[0m\u001b[0;34m)\u001b[0m\u001b[0;34m)\u001b[0m\u001b[0;34m\u001b[0m\u001b[0;34m\u001b[0m\u001b[0m\n\u001b[1;32m     10\u001b[0m         \u001b[0mW\u001b[0m \u001b[0;34m=\u001b[0m \u001b[0mnp\u001b[0m\u001b[0;34m.\u001b[0m\u001b[0mdiagflat\u001b[0m\u001b[0;34m(\u001b[0m\u001b[0mp\u001b[0m \u001b[0;34m*\u001b[0m \u001b[0;34m(\u001b[0m\u001b[0;36m1\u001b[0m \u001b[0;34m-\u001b[0m \u001b[0mp\u001b[0m\u001b[0;34m)\u001b[0m\u001b[0;34m)\u001b[0m\u001b[0;34m\u001b[0m\u001b[0;34m\u001b[0m\u001b[0m\n\u001b[0;32m---> 11\u001b[0;31m         \u001b[0mW_inv\u001b[0m \u001b[0;34m=\u001b[0m \u001b[0mnp\u001b[0m\u001b[0;34m.\u001b[0m\u001b[0mdiagflat\u001b[0m\u001b[0;34m(\u001b[0m\u001b[0;36m1.\u001b[0m \u001b[0;34m/\u001b[0m \u001b[0mnp\u001b[0m\u001b[0;34m.\u001b[0m\u001b[0mdiagonal\u001b[0m\u001b[0;34m(\u001b[0m\u001b[0mW\u001b[0m\u001b[0;34m)\u001b[0m\u001b[0;34m)\u001b[0m\u001b[0;34m\u001b[0m\u001b[0;34m\u001b[0m\u001b[0m\n\u001b[0m\u001b[1;32m     12\u001b[0m         \u001b[0mresponse\u001b[0m \u001b[0;34m=\u001b[0m \u001b[0mz\u001b[0m \u001b[0;34m+\u001b[0m \u001b[0mW_inv\u001b[0m \u001b[0;34m@\u001b[0m \u001b[0;34m(\u001b[0m\u001b[0my\u001b[0m \u001b[0;34m-\u001b[0m \u001b[0mp\u001b[0m\u001b[0;34m)\u001b[0m\u001b[0;34m\u001b[0m\u001b[0;34m\u001b[0m\u001b[0m\n\u001b[1;32m     13\u001b[0m         \u001b[0mxwx_inv\u001b[0m \u001b[0;34m=\u001b[0m \u001b[0mnp\u001b[0m\u001b[0;34m.\u001b[0m\u001b[0mlinalg\u001b[0m\u001b[0;34m.\u001b[0m\u001b[0minv\u001b[0m\u001b[0;34m(\u001b[0m\u001b[0mX_\u001b[0m\u001b[0;34m.\u001b[0m\u001b[0mT\u001b[0m \u001b[0;34m@\u001b[0m \u001b[0mW\u001b[0m \u001b[0;34m@\u001b[0m \u001b[0mX_\u001b[0m\u001b[0;34m)\u001b[0m\u001b[0;34m\u001b[0m\u001b[0;34m\u001b[0m\u001b[0m\n",
      "\u001b[0;31mTypeError\u001b[0m: loop of ufunc does not support argument 0 of type float which has no callable exp method"
     ]
    }
   ],
   "source": [
    "#IRLS\n",
    "splitting_seeds = [42, 43, 44, 45, 46]\n",
    "irls_accuracy = []\n",
    "for seed in splitting_seeds:\n",
    "    X_train, X_test, y_train, y_test = train_test_split(X_int, y, test_size=0.2, random_state=seed)\n",
    "    logistic_regression_model = LogisticRegression(input_dim=X_train.shape[1])\n",
    "    irls_optimizer = IRLS()\n",
    "\n",
    "    logistic_regression_model.train(X_train, y_train, optimizer=irls_optimizer, patience=10, epochs=500, batch_size=32)\n",
    "    y_pred = logistic_regression_model.predict(X_test)\n",
    "    irls_accuracy.append(balanced_accuracy_score(y_test,y_pred.round()))\n",
    "    print(f\"accuracy : {balanced_accuracy_score(y_test,y_pred.round())}\")\n",
    "    logistic_regression_model.plot_loss()"
   ]
  },
  {
   "cell_type": "code",
   "execution_count": 26,
   "metadata": {},
   "outputs": [
    {
     "name": "stdout",
     "output_type": "stream",
     "text": [
      "lda: 0.880126915338183\n",
      "qda: 0.9255087635369326\n",
      "dt: 0.9367651128214509\n",
      "rf: 0.9743159813582349\n",
      "lda: 0.8822861036742515\n",
      "qda: 0.924446455392127\n",
      "dt: 0.9382610408060879\n",
      "rf: 0.9725333720935685\n",
      "lda: 0.8826840699569762\n",
      "qda: 0.9207389209522425\n",
      "dt: 0.9362551357366002\n",
      "rf: 0.97057646836355\n",
      "lda: 0.8763880552220888\n",
      "qda: 0.9172669067627051\n",
      "dt: 0.9260204081632653\n",
      "rf: 0.9675620248099239\n",
      "lda: 0.8867438625217418\n",
      "qda: 0.9270991642082249\n",
      "dt: 0.9358562356590898\n",
      "rf: 0.9650728749574575\n"
     ]
    }
   ],
   "source": [
    "# Comparison Models\n",
    "from utils import fitComparisonModels\n",
    "splitting_seeds = [42, 43, 44, 45, 46]\n",
    "comparison_accuracy = []\n",
    "y_lda, y_qda, y_dt, y_rf = fitComparisonModels(X_train, y_train, X_test)\n",
    "splitting_seeds = [42, 43, 44, 45, 46]\n",
    "sgd_accuracy = []\n",
    "for seed in splitting_seeds:\n",
    "    X_train, X_test, y_train, y_test = train_test_split(X, y, test_size=0.2, random_state=seed)\n",
    "    y_lda, y_qda, y_dt, y_rf = fitComparisonModels(X_train, y_train, X_test)\n",
    "    sgd_accuracy.append((balanced_accuracy_score(y_test,y_lda), balanced_accuracy_score(y_test,y_qda), balanced_accuracy_score(y_test,y_dt), balanced_accuracy_score(y_test,y_rf)))\n",
    "    print(F\"lda: {balanced_accuracy_score(y_test,y_lda)}\")\n",
    "    print(f\"qda: {balanced_accuracy_score(y_test,y_qda)}\")\n",
    "    print(f\"dt: {balanced_accuracy_score(y_test,y_dt)}\")\n",
    "    print(f\"rf: {balanced_accuracy_score(y_test,y_rf)}\")"
   ]
  }
 ],
 "metadata": {
  "kernelspec": {
   "display_name": "Python 3",
   "language": "python",
   "name": "python3"
  },
  "language_info": {
   "codemirror_mode": {
    "name": "ipython",
    "version": 3
   },
   "file_extension": ".py",
   "mimetype": "text/x-python",
   "name": "python",
   "nbconvert_exporter": "python",
   "pygments_lexer": "ipython3",
   "version": "3.10.12"
  }
 },
 "nbformat": 4,
 "nbformat_minor": 2
}
