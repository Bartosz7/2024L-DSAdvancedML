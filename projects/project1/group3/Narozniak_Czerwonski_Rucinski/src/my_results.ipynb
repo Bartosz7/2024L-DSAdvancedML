{
 "cells": [
  {
   "cell_type": "code",
   "execution_count": 9,
   "metadata": {},
   "outputs": [
    {
     "data": {
      "text/plain": [
       "{'divide': 'ignore', 'over': 'ignore', 'under': 'ignore', 'invalid': 'ignore'}"
      ]
     },
     "execution_count": 9,
     "metadata": {},
     "output_type": "execute_result"
    }
   ],
   "source": [
    "import numpy as np\n",
    "import pandas as pd\n",
    "import matplotlib.pyplot as plt\n",
    "from Adam import AdamOptim\n",
    "from SGD import SGD\n",
    "from utils import *\n",
    "from sklearn.model_selection import train_test_split\n",
    "from sklearn.metrics import balanced_accuracy_score\n",
    "from Logreg import LogisticRegression\n",
    "from irls_optimizer import IRLS\n",
    "from sklearn.preprocessing import LabelEncoder\n",
    "np.seterr(divide = 'ignore') \n",
    "np.seterr(invalid='ignore')\n",
    "np.seterr(over ='ignore')\n"
   ]
  },
  {
   "cell_type": "markdown",
   "metadata": {},
   "source": [
    "## NBA PLAYERS DATA ##"
   ]
  },
  {
   "cell_type": "code",
   "execution_count": 63,
   "metadata": {},
   "outputs": [],
   "source": [
    "# data:\n",
    "url = 'data/big/nba-players.csv'\n",
    "dataframe = pd.read_csv(url)\n",
    "dataframe.drop('name', axis=1, inplace=True)\n",
    "dataframe.drop('Unnamed: 0', axis=1, inplace=True)\n",
    "data = dataframe.values\n",
    "dataframe.head()\n",
    "\n",
    "X,y = data[:,:-1], data[:,-1]\n"
   ]
  },
  {
   "cell_type": "code",
   "execution_count": 6,
   "metadata": {},
   "outputs": [
    {
     "data": {
      "text/plain": [
       "(1340, 19)"
      ]
     },
     "execution_count": 6,
     "metadata": {},
     "output_type": "execute_result"
    }
   ],
   "source": [
    "X.shape"
   ]
  },
  {
   "cell_type": "code",
   "execution_count": 22,
   "metadata": {},
   "outputs": [
    {
     "name": "stderr",
     "output_type": "stream",
     "text": [
      "Epoch::   0%|          | 0/500 [00:00<?, ?it/s]"
     ]
    },
    {
     "name": "stderr",
     "output_type": "stream",
     "text": [
      "Epoch::   1%|          | 6/500 [00:00<00:06, 73.86it/s]\n"
     ]
    },
    {
     "name": "stdout",
     "output_type": "stream",
     "text": [
      "Early stopping after epoch 6\n",
      "Reverting to the weights corresponding to the lowest validation loss\n"
     ]
    },
    {
     "name": "stderr",
     "output_type": "stream",
     "text": [
      "Epoch::   2%|▏         | 8/500 [00:00<00:06, 77.41it/s]\n"
     ]
    },
    {
     "name": "stdout",
     "output_type": "stream",
     "text": [
      "Early stopping after epoch 8\n",
      "Reverting to the weights corresponding to the lowest validation loss\n"
     ]
    },
    {
     "name": "stderr",
     "output_type": "stream",
     "text": [
      "Epoch::  18%|█▊        | 88/500 [00:00<00:02, 174.69it/s]\n"
     ]
    },
    {
     "name": "stdout",
     "output_type": "stream",
     "text": [
      "Early stopping after epoch 88\n",
      "Reverting to the weights corresponding to the lowest validation loss\n"
     ]
    },
    {
     "name": "stderr",
     "output_type": "stream",
     "text": [
      "Epoch::   1%|▏         | 7/500 [00:00<00:03, 157.87it/s]\n"
     ]
    },
    {
     "name": "stdout",
     "output_type": "stream",
     "text": [
      "Early stopping after epoch 7\n",
      "Reverting to the weights corresponding to the lowest validation loss\n"
     ]
    },
    {
     "name": "stderr",
     "output_type": "stream",
     "text": [
      "Epoch::   2%|▏         | 11/500 [00:00<00:02, 222.61it/s]\n"
     ]
    },
    {
     "name": "stdout",
     "output_type": "stream",
     "text": [
      "Early stopping after epoch 11\n",
      "Reverting to the weights corresponding to the lowest validation loss\n"
     ]
    }
   ],
   "source": [
    "#ADAM\n",
    "splitting_seeds = [42, 43, 44, 45, 46]\n",
    "adam_accuracy = []\n",
    "with open('my_results.csv', 'a') as f:    \n",
    "    f.write(f\"nba_data, adam\")\n",
    "    with open('losses.csv', 'a') as l:\n",
    "        l.write(f\"nba_data, adam\")\n",
    "        for seed in splitting_seeds:\n",
    "            X_train, X_test, y_train, y_test = train_test_split(X, y, test_size=0.2, random_state=seed)\n",
    "            X_train, X_val, y_train, y_val = train_test_split(X_train, y_train, test_size=0.2, random_state=seed)\n",
    "            logistic_regression_model = LogisticRegression(input_dim=X_train.shape[1])\n",
    "            adam_optimizer = AdamOptim(eta=0.01)\n",
    "\n",
    "            logistic_regression_model.train(X_train, y_train, optimizer=adam_optimizer, patience=5, epochs=500, batch_size=64, X_val=X_val, y_val=y_val)\n",
    "            y_pred = logistic_regression_model.predict(X_test)\n",
    "            adam_accuracy.append(balanced_accuracy_score(y_test,y_pred.round()))\n",
    "            f.write(f\", {balanced_accuracy_score(y_test,y_pred.round())}\")\n",
    "            if seed == 42:\n",
    "                l.write(f\", {logistic_regression_model.losses}\\n\")\n",
    "        f.write('\\n')"
   ]
  },
  {
   "cell_type": "code",
   "execution_count": 23,
   "metadata": {},
   "outputs": [
    {
     "name": "stderr",
     "output_type": "stream",
     "text": [
      "Epoch::   1%|          | 6/500 [00:03<04:57,  1.66it/s]\n"
     ]
    },
    {
     "name": "stdout",
     "output_type": "stream",
     "text": [
      "Early stopping after epoch 6\n",
      "Reverting to the weights corresponding to the lowest validation loss\n"
     ]
    },
    {
     "name": "stderr",
     "output_type": "stream",
     "text": [
      "Epoch::   2%|▏         | 12/500 [00:06<04:15,  1.91it/s]\n"
     ]
    },
    {
     "name": "stdout",
     "output_type": "stream",
     "text": [
      "Early stopping after epoch 12\n",
      "Reverting to the weights corresponding to the lowest validation loss\n"
     ]
    },
    {
     "name": "stderr",
     "output_type": "stream",
     "text": [
      "Epoch::   2%|▏         | 9/500 [00:04<04:06,  1.99it/s]\n"
     ]
    },
    {
     "name": "stdout",
     "output_type": "stream",
     "text": [
      "Early stopping after epoch 9\n",
      "Reverting to the weights corresponding to the lowest validation loss\n"
     ]
    },
    {
     "name": "stderr",
     "output_type": "stream",
     "text": [
      "Epoch::   2%|▏         | 8/500 [00:04<04:36,  1.78it/s]\n"
     ]
    },
    {
     "name": "stdout",
     "output_type": "stream",
     "text": [
      "Early stopping after epoch 8\n",
      "Reverting to the weights corresponding to the lowest validation loss\n"
     ]
    },
    {
     "name": "stderr",
     "output_type": "stream",
     "text": [
      "Epoch::   1%|          | 6/500 [00:03<05:14,  1.57it/s]"
     ]
    },
    {
     "name": "stdout",
     "output_type": "stream",
     "text": [
      "Early stopping after epoch 6\n",
      "Reverting to the weights corresponding to the lowest validation loss\n"
     ]
    },
    {
     "name": "stderr",
     "output_type": "stream",
     "text": [
      "\n"
     ]
    }
   ],
   "source": [
    "#IRLS\n",
    "splitting_seeds = [42, 43, 44, 45, 46]\n",
    "irls_accuracy = []\n",
    "with open('my_results.csv', 'a') as f:    \n",
    "    f.write(f\"nba_data, irls\")\n",
    "    with open('losses.csv', 'a') as l:\n",
    "        l.write(f\"nba_data, irls\")\n",
    "        for seed in splitting_seeds:\n",
    "            X_train, X_test, y_train, y_test = train_test_split(X, y, test_size=0.2, random_state=seed)\n",
    "            X_train, X_val, y_train, y_val = train_test_split(X_train, y_train, test_size=0.2, random_state=seed)\n",
    "            logistic_regression_model = LogisticRegression(input_dim=X_train.shape[1])\n",
    "            irls_optimizer = IRLS()\n",
    "\n",
    "            logistic_regression_model.train(X_train, y_train, optimizer=irls_optimizer, patience=5, epochs=500, batch_size=64, X_val=X_val, y_val=y_val)\n",
    "            y_pred = logistic_regression_model.predict(X_test)\n",
    "            irls_accuracy.append(balanced_accuracy_score(y_test,y_pred.round()))\n",
    "            f.write(f\", {balanced_accuracy_score(y_test,y_pred.round())}\")\n",
    "            if seed == 42:\n",
    "                l.write(f\", {logistic_regression_model.losses}\\n\")"
   ]
  },
  {
   "cell_type": "code",
   "execution_count": 38,
   "metadata": {},
   "outputs": [
    {
     "name": "stderr",
     "output_type": "stream",
     "text": [
      "Epoch:: 100%|██████████| 500/500 [00:02<00:00, 208.95it/s]\n",
      "Epoch:: 100%|██████████| 500/500 [00:02<00:00, 214.37it/s]\n",
      "Epoch:: 100%|██████████| 500/500 [00:02<00:00, 236.95it/s]\n",
      "Epoch:: 100%|██████████| 500/500 [00:02<00:00, 197.30it/s]\n",
      "Epoch:: 100%|██████████| 500/500 [00:02<00:00, 245.27it/s]\n"
     ]
    }
   ],
   "source": [
    "#SGD\n",
    "splitting_seeds = [42, 43, 44, 45, 46]\n",
    "sgd_accuracy = []\n",
    "from sklearn.preprocessing import StandardScaler\n",
    "ss = StandardScaler()\n",
    "X_scaled = ss.fit_transform(X)\n",
    "with open('my_results.csv', 'a') as f:    \n",
    "    f.write(f\"nba_data, sgd\")\n",
    "    with open('losses.csv', 'a') as l:\n",
    "        l.write(f\"nba_data, sgd\")\n",
    "        for seed in splitting_seeds:\n",
    "            X_train, X_test, y_train, y_test = train_test_split(X_scaled, y, test_size=0.2, random_state=seed)\n",
    "            X_train, X_val, y_train, y_val = train_test_split(X_train, y_train, test_size=0.2, random_state=seed)\n",
    "            logistic_regression_model = LogisticRegression(input_dim=X_train.shape[1])\n",
    "            sgd_optimizer = SGD(eta=0.00001)\n",
    "\n",
    "            logistic_regression_model.train(X_train, y_train, optimizer=sgd_optimizer, patience=10, epochs=500, batch_size=32, X_val=X_val, y_val=y_val)\n",
    "            y_pred = logistic_regression_model.predict(X_test)\n",
    "            sgd_accuracy.append(balanced_accuracy_score(y_test,y_pred.round()))\n",
    "            f.write(f\", {balanced_accuracy_score(y_test,y_pred.round())}\")\n",
    "            if seed == 42:\n",
    "                l.write(f\", {logistic_regression_model.losses}\\n\")"
   ]
  },
  {
   "cell_type": "code",
   "execution_count": 64,
   "metadata": {},
   "outputs": [],
   "source": [
    "# Comparison Models\n",
    "from utils import fitComparisonModels\n",
    "splitting_seeds = [42, 43, 44, 45, 46]\n",
    "comparison_accuracy = []\n",
    "with open('my_results.csv', 'a') as f:    \n",
    "    f.write(f\"data_set, algorithm\")\n",
    "    for seed in splitting_seeds:\n",
    "        X_train, X_test, y_train, y_test = train_test_split(X, y, test_size=0.2, random_state=seed)\n",
    "        y_lda, y_qda, y_dt, y_rf = fitComparisonModels(X_train, y_train, X_test)\n",
    "        f.write(f\", seed_{seed}_acc\")\n",
    "    f.write('\\n')\n",
    "    f.write(f\"nba_data, lda\")\n",
    "    for seed in splitting_seeds:\n",
    "        X_train, X_test, y_train, y_test = train_test_split(X, y, test_size=0.2, random_state=seed)\n",
    "        y_lda, y_qda, y_dt, y_rf = fitComparisonModels(X_train, y_train, X_test)\n",
    "        f.write(f\", {balanced_accuracy_score(y_test, y_lda)}\")\n",
    "    f.write('\\n')\n",
    "    f.write(f\"nba_data, qda\")\n",
    "    for seed in splitting_seeds:\n",
    "        X_train, X_test, y_train, y_test = train_test_split(X, y, test_size=0.2, random_state=seed)\n",
    "        y_lda, y_qda, y_dt, y_rf = fitComparisonModels(X_train, y_train, X_test)\n",
    "        f.write(f\", {balanced_accuracy_score(y_test, y_qda)}\")\n",
    "    f.write('\\n')\n",
    "    f.write(f\"nba_data, dt\")\n",
    "    for seed in splitting_seeds:\n",
    "        X_train, X_test, y_train, y_test = train_test_split(X, y, test_size=0.2, random_state=seed)\n",
    "        y_lda, y_qda, y_dt, y_rf = fitComparisonModels(X_train, y_train, X_test)\n",
    "        f.write(f\", {balanced_accuracy_score(y_test, y_dt)}\")\n",
    "    f.write('\\n')\n",
    "    f.write(f\"nba_data, rf\")\n",
    "    for seed in splitting_seeds:\n",
    "        X_train, X_test, y_train, y_test = train_test_split(X, y, test_size=0.2, random_state=seed)\n",
    "        y_lda, y_qda, y_dt, y_rf = fitComparisonModels(X_train, y_train, X_test)\n",
    "        f.write(f\", {balanced_accuracy_score(y_test, y_rf)}\")\n",
    "    f.write('\\n')\n"
   ]
  },
  {
   "cell_type": "markdown",
   "metadata": {},
   "source": [
    "## SMOKING DATA ##"
   ]
  },
  {
   "cell_type": "code",
   "execution_count": 56,
   "metadata": {},
   "outputs": [],
   "source": [
    "url = \"data/big/smoking.csv\"\n",
    "dataframe = pd.read_csv(url)\n",
    "dataframe.drop('oral', axis=1, inplace=True)\n",
    "data = dataframe.values\n",
    "\n",
    "X, y = data[:,:-1], data[:,-1]\n",
    "X[:,1] = LabelEncoder().fit_transform(X[:,1])\n",
    "X[:,-1] = LabelEncoder().fit_transform(X[:,-1])"
   ]
  },
  {
   "cell_type": "code",
   "execution_count": 4,
   "metadata": {},
   "outputs": [
    {
     "data": {
      "text/plain": [
       "(55692, 25)"
      ]
     },
     "execution_count": 4,
     "metadata": {},
     "output_type": "execute_result"
    }
   ],
   "source": [
    "X.shape"
   ]
  },
  {
   "cell_type": "code",
   "execution_count": 40,
   "metadata": {},
   "outputs": [
    {
     "name": "stderr",
     "output_type": "stream",
     "text": [
      "Epoch::   6%|▋         | 32/500 [00:14<03:32,  2.20it/s]\n"
     ]
    },
    {
     "name": "stdout",
     "output_type": "stream",
     "text": [
      "Early stopping after epoch 32\n",
      "Reverting to the weights corresponding to the lowest validation loss\n"
     ]
    },
    {
     "name": "stderr",
     "output_type": "stream",
     "text": [
      "Epoch::   2%|▏         | 9/500 [00:04<03:52,  2.11it/s]\n"
     ]
    },
    {
     "name": "stdout",
     "output_type": "stream",
     "text": [
      "Early stopping after epoch 9\n",
      "Reverting to the weights corresponding to the lowest validation loss\n"
     ]
    },
    {
     "name": "stderr",
     "output_type": "stream",
     "text": [
      "Epoch::   2%|▏         | 9/500 [00:03<03:25,  2.39it/s]\n"
     ]
    },
    {
     "name": "stdout",
     "output_type": "stream",
     "text": [
      "Early stopping after epoch 9\n",
      "Reverting to the weights corresponding to the lowest validation loss\n"
     ]
    },
    {
     "name": "stderr",
     "output_type": "stream",
     "text": [
      "Epoch::   9%|▉         | 46/500 [00:19<03:16,  2.31it/s]\n"
     ]
    },
    {
     "name": "stdout",
     "output_type": "stream",
     "text": [
      "Early stopping after epoch 46\n",
      "Reverting to the weights corresponding to the lowest validation loss\n"
     ]
    },
    {
     "name": "stderr",
     "output_type": "stream",
     "text": [
      "Epoch::   2%|▏         | 8/500 [00:03<03:55,  2.09it/s]"
     ]
    },
    {
     "name": "stdout",
     "output_type": "stream",
     "text": [
      "Early stopping after epoch 8\n",
      "Reverting to the weights corresponding to the lowest validation loss\n"
     ]
    },
    {
     "name": "stderr",
     "output_type": "stream",
     "text": [
      "\n"
     ]
    }
   ],
   "source": [
    "#ADAM\n",
    "splitting_seeds = [42, 43, 44, 45, 46]\n",
    "adam_accuracy = []\n",
    "with open('my_results.csv', 'a') as f:    \n",
    "    f.write(f\"smoking_data, adam\")\n",
    "    with open('losses.csv', 'a') as l:\n",
    "        l.write(f\"smoking_data, adam\")\n",
    "        for seed in splitting_seeds:\n",
    "            X_train, X_test, y_train, y_test = train_test_split(X, y, test_size=0.2, random_state=seed)\n",
    "            X_val, X_test, y_val, y_test = train_test_split(X_test, y_test, test_size=0.2, random_state=seed)\n",
    "            y_train = y_train.astype('int')\n",
    "            y_test = y_test.astype('int')\n",
    "            \n",
    "            logistic_regression_model = LogisticRegression(input_dim=X_train.shape[1])\n",
    "            adam_optimizer = AdamOptim(eta=0.001)\n",
    "\n",
    "            logistic_regression_model.train(X_train, y_train, optimizer=adam_optimizer, patience=5, epochs=500, batch_size=64, X_val=X_val, y_val=y_val)\n",
    "            y_pred = logistic_regression_model.predict(X_test)\n",
    "            adam_accuracy.append(balanced_accuracy_score(y_test,y_pred.round()))\n",
    "            f.write(f\", {balanced_accuracy_score(y_test,y_pred.round())}\")\n",
    "            if seed == 42:\n",
    "                l.write(f\", {logistic_regression_model.losses}\\n\")"
   ]
  },
  {
   "cell_type": "code",
   "execution_count": 29,
   "metadata": {},
   "outputs": [
    {
     "name": "stderr",
     "output_type": "stream",
     "text": [
      "Epoch::   0%|          | 0/500 [00:06<?, ?it/s]\n"
     ]
    },
    {
     "ename": "MemoryError",
     "evalue": "Unable to allocate 14.8 GiB for an array with shape (44553, 44553) and data type float64",
     "output_type": "error",
     "traceback": [
      "\u001b[0;31m---------------------------------------------------------------------------\u001b[0m",
      "\u001b[0;31mMemoryError\u001b[0m                               Traceback (most recent call last)",
      "\u001b[0;32m/tmp/ipykernel_21656/625075159.py\u001b[0m in \u001b[0;36m<module>\u001b[0;34m\u001b[0m\n\u001b[1;32m     14\u001b[0m             \u001b[0mirls_optimizer\u001b[0m \u001b[0;34m=\u001b[0m \u001b[0mIRLS\u001b[0m\u001b[0;34m(\u001b[0m\u001b[0;34m)\u001b[0m\u001b[0;34m\u001b[0m\u001b[0;34m\u001b[0m\u001b[0m\n\u001b[1;32m     15\u001b[0m \u001b[0;34m\u001b[0m\u001b[0m\n\u001b[0;32m---> 16\u001b[0;31m             \u001b[0mlogistic_regression_model\u001b[0m\u001b[0;34m.\u001b[0m\u001b[0mtrain\u001b[0m\u001b[0;34m(\u001b[0m\u001b[0mX_train\u001b[0m\u001b[0;34m,\u001b[0m \u001b[0my_train\u001b[0m\u001b[0;34m,\u001b[0m \u001b[0moptimizer\u001b[0m\u001b[0;34m=\u001b[0m\u001b[0mirls_optimizer\u001b[0m\u001b[0;34m,\u001b[0m \u001b[0mpatience\u001b[0m\u001b[0;34m=\u001b[0m\u001b[0;36m5\u001b[0m\u001b[0;34m,\u001b[0m \u001b[0mepochs\u001b[0m\u001b[0;34m=\u001b[0m\u001b[0;36m500\u001b[0m\u001b[0;34m,\u001b[0m \u001b[0mbatch_size\u001b[0m\u001b[0;34m=\u001b[0m\u001b[0;36m32\u001b[0m\u001b[0;34m,\u001b[0m \u001b[0mX_val\u001b[0m\u001b[0;34m=\u001b[0m\u001b[0mX_val\u001b[0m\u001b[0;34m,\u001b[0m \u001b[0my_val\u001b[0m\u001b[0;34m=\u001b[0m\u001b[0my_val\u001b[0m\u001b[0;34m)\u001b[0m\u001b[0;34m\u001b[0m\u001b[0;34m\u001b[0m\u001b[0m\n\u001b[0m\u001b[1;32m     17\u001b[0m             \u001b[0my_pred\u001b[0m \u001b[0;34m=\u001b[0m \u001b[0mlogistic_regression_model\u001b[0m\u001b[0;34m.\u001b[0m\u001b[0mpredict\u001b[0m\u001b[0;34m(\u001b[0m\u001b[0mX_test\u001b[0m\u001b[0;34m)\u001b[0m\u001b[0;34m\u001b[0m\u001b[0;34m\u001b[0m\u001b[0m\n\u001b[1;32m     18\u001b[0m             \u001b[0mirls_accuracy\u001b[0m\u001b[0;34m.\u001b[0m\u001b[0mappend\u001b[0m\u001b[0;34m(\u001b[0m\u001b[0mbalanced_accuracy_score\u001b[0m\u001b[0;34m(\u001b[0m\u001b[0my_test\u001b[0m\u001b[0;34m,\u001b[0m\u001b[0my_pred\u001b[0m\u001b[0;34m.\u001b[0m\u001b[0mround\u001b[0m\u001b[0;34m(\u001b[0m\u001b[0;34m)\u001b[0m\u001b[0;34m)\u001b[0m\u001b[0;34m)\u001b[0m\u001b[0;34m\u001b[0m\u001b[0;34m\u001b[0m\u001b[0m\n",
      "\u001b[0;32m~/AML/PROJ1/2024L-DSAdvancedML/projects/project1/group3/Narozniak_Czerwonski_Rucinski/src/Logreg.py\u001b[0m in \u001b[0;36mtrain\u001b[0;34m(self, X, y, optimizer, epochs, batch_size, X_val, y_val, patience)\u001b[0m\n\u001b[1;32m     86\u001b[0m                     \u001b[0mB\u001b[0m \u001b[0;34m=\u001b[0m \u001b[0mnp\u001b[0m\u001b[0;34m.\u001b[0m\u001b[0mconcatenate\u001b[0m\u001b[0;34m(\u001b[0m\u001b[0;34m[\u001b[0m\u001b[0mnp\u001b[0m\u001b[0;34m.\u001b[0m\u001b[0marray\u001b[0m\u001b[0;34m(\u001b[0m\u001b[0;34m[\u001b[0m\u001b[0mself\u001b[0m\u001b[0;34m.\u001b[0m\u001b[0mbias\u001b[0m\u001b[0;34m]\u001b[0m\u001b[0;34m)\u001b[0m\u001b[0;34m,\u001b[0m \u001b[0mself\u001b[0m\u001b[0;34m.\u001b[0m\u001b[0mweights\u001b[0m\u001b[0;34m]\u001b[0m\u001b[0;34m)\u001b[0m\u001b[0;34m\u001b[0m\u001b[0;34m\u001b[0m\u001b[0m\n\u001b[1;32m     87\u001b[0m                     \u001b[0mB\u001b[0m \u001b[0;34m=\u001b[0m \u001b[0mB\u001b[0m\u001b[0;34m.\u001b[0m\u001b[0mastype\u001b[0m\u001b[0;34m(\u001b[0m\u001b[0mfloat\u001b[0m\u001b[0;34m)\u001b[0m\u001b[0;34m\u001b[0m\u001b[0;34m\u001b[0m\u001b[0m\n\u001b[0;32m---> 88\u001b[0;31m                     \u001b[0mself\u001b[0m\u001b[0;34m.\u001b[0m\u001b[0mweights\u001b[0m\u001b[0;34m,\u001b[0m \u001b[0mself\u001b[0m\u001b[0;34m.\u001b[0m\u001b[0mbias\u001b[0m \u001b[0;34m=\u001b[0m \u001b[0moptimizer\u001b[0m\u001b[0;34m.\u001b[0m\u001b[0mupdate\u001b[0m\u001b[0;34m(\u001b[0m\u001b[0mB\u001b[0m\u001b[0;34m,\u001b[0m \u001b[0mX\u001b[0m\u001b[0;34m,\u001b[0m \u001b[0my\u001b[0m\u001b[0;34m)\u001b[0m\u001b[0;34m\u001b[0m\u001b[0;34m\u001b[0m\u001b[0m\n\u001b[0m\u001b[1;32m     89\u001b[0m \u001b[0;34m\u001b[0m\u001b[0m\n\u001b[1;32m     90\u001b[0m             \u001b[0mz\u001b[0m \u001b[0;34m=\u001b[0m \u001b[0mnp\u001b[0m\u001b[0;34m.\u001b[0m\u001b[0mdot\u001b[0m\u001b[0;34m(\u001b[0m\u001b[0mX\u001b[0m\u001b[0;34m,\u001b[0m \u001b[0mself\u001b[0m\u001b[0;34m.\u001b[0m\u001b[0mweights\u001b[0m\u001b[0;34m)\u001b[0m \u001b[0;34m+\u001b[0m \u001b[0mself\u001b[0m\u001b[0;34m.\u001b[0m\u001b[0mbias\u001b[0m\u001b[0;34m\u001b[0m\u001b[0;34m\u001b[0m\u001b[0m\n",
      "\u001b[0;32m~/AML/PROJ1/2024L-DSAdvancedML/projects/project1/group3/Narozniak_Czerwonski_Rucinski/src/irls_optimizer.py\u001b[0m in \u001b[0;36mupdate\u001b[0;34m(self, B, X, y)\u001b[0m\n\u001b[1;32m     10\u001b[0m         \u001b[0mW\u001b[0m \u001b[0;34m=\u001b[0m \u001b[0mnp\u001b[0m\u001b[0;34m.\u001b[0m\u001b[0mdiagflat\u001b[0m\u001b[0;34m(\u001b[0m\u001b[0mp\u001b[0m \u001b[0;34m*\u001b[0m \u001b[0;34m(\u001b[0m\u001b[0;36m1\u001b[0m \u001b[0;34m-\u001b[0m \u001b[0mp\u001b[0m\u001b[0;34m)\u001b[0m\u001b[0;34m)\u001b[0m\u001b[0;34m\u001b[0m\u001b[0;34m\u001b[0m\u001b[0m\n\u001b[1;32m     11\u001b[0m         \u001b[0mW_inv\u001b[0m \u001b[0;34m=\u001b[0m \u001b[0mnp\u001b[0m\u001b[0;34m.\u001b[0m\u001b[0mdiagflat\u001b[0m\u001b[0;34m(\u001b[0m\u001b[0;36m1.\u001b[0m \u001b[0;34m/\u001b[0m \u001b[0mnp\u001b[0m\u001b[0;34m.\u001b[0m\u001b[0mdiagonal\u001b[0m\u001b[0;34m(\u001b[0m\u001b[0mW\u001b[0m\u001b[0;34m)\u001b[0m\u001b[0;34m)\u001b[0m\u001b[0;34m\u001b[0m\u001b[0;34m\u001b[0m\u001b[0m\n\u001b[0;32m---> 12\u001b[0;31m         \u001b[0mresponse\u001b[0m \u001b[0;34m=\u001b[0m \u001b[0mz\u001b[0m \u001b[0;34m+\u001b[0m \u001b[0mW_inv\u001b[0m \u001b[0;34m@\u001b[0m \u001b[0;34m(\u001b[0m\u001b[0my\u001b[0m \u001b[0;34m-\u001b[0m \u001b[0mp\u001b[0m\u001b[0;34m)\u001b[0m\u001b[0;34m\u001b[0m\u001b[0;34m\u001b[0m\u001b[0m\n\u001b[0m\u001b[1;32m     13\u001b[0m         \u001b[0;32mtry\u001b[0m\u001b[0;34m:\u001b[0m\u001b[0;34m\u001b[0m\u001b[0;34m\u001b[0m\u001b[0m\n\u001b[1;32m     14\u001b[0m             \u001b[0mxwx_inv\u001b[0m \u001b[0;34m=\u001b[0m \u001b[0mnp\u001b[0m\u001b[0;34m.\u001b[0m\u001b[0mlinalg\u001b[0m\u001b[0;34m.\u001b[0m\u001b[0mpinv\u001b[0m\u001b[0;34m(\u001b[0m\u001b[0mX_\u001b[0m\u001b[0;34m.\u001b[0m\u001b[0mT\u001b[0m \u001b[0;34m@\u001b[0m \u001b[0mW\u001b[0m \u001b[0;34m@\u001b[0m \u001b[0mX_\u001b[0m\u001b[0;34m)\u001b[0m\u001b[0;34m\u001b[0m\u001b[0;34m\u001b[0m\u001b[0m\n",
      "\u001b[0;31mMemoryError\u001b[0m: Unable to allocate 14.8 GiB for an array with shape (44553, 44553) and data type float64"
     ]
    }
   ],
   "source": [
    "#IRLS\n",
    "splitting_seeds = [42, 43, 44, 45, 46]\n",
    "irls_accuracy = []\n",
    "with open('my_results.csv', 'a') as f:    \n",
    "    f.write(f\"smoking_data, irls\")\n",
    "    with open('losses.csv', 'a') as l:\n",
    "        l.write(f\"smoking_data, irls\")\n",
    "        for seed in splitting_seeds:\n",
    "            X_train, X_test, y_train, y_test = train_test_split(X, y, test_size=0.2, random_state=seed)\n",
    "            X_val, X_test, y_val, y_test = train_test_split(X_test, y_test, test_size=0.2, random_state=seed)\n",
    "            y_train = y_train.astype('int')\n",
    "            y_test = y_test.astype('int')\n",
    "            logistic_regression_model = LogisticRegression(input_dim=X_train.shape[1])\n",
    "            irls_optimizer = IRLS()\n",
    "\n",
    "            logistic_regression_model.train(X_train, y_train, optimizer=irls_optimizer, patience=5, epochs=500, batch_size=32, X_val=X_val, y_val=y_val)\n",
    "            y_pred = logistic_regression_model.predict(X_test)\n",
    "            irls_accuracy.append(balanced_accuracy_score(y_test,y_pred.round()))\n",
    "            f.write(f\", {balanced_accuracy_score(y_test,y_pred.round())}\")\n",
    "            if seed == 42:\n",
    "                l.write(f\", {logistic_regression_model.losses}\\n\")"
   ]
  },
  {
   "cell_type": "code",
   "execution_count": 36,
   "metadata": {},
   "outputs": [
    {
     "name": "stderr",
     "output_type": "stream",
     "text": [
      "Epoch::   3%|▎         | 14/500 [00:01<00:44, 10.85it/s]\n"
     ]
    },
    {
     "name": "stdout",
     "output_type": "stream",
     "text": [
      "Early stopping after epoch 14\n",
      "Reverting to the weights corresponding to the lowest validation loss\n"
     ]
    },
    {
     "name": "stderr",
     "output_type": "stream",
     "text": [
      "Epoch::   3%|▎         | 17/500 [00:01<00:41, 11.58it/s]\n"
     ]
    },
    {
     "name": "stdout",
     "output_type": "stream",
     "text": [
      "Early stopping after epoch 17\n",
      "Reverting to the weights corresponding to the lowest validation loss\n"
     ]
    },
    {
     "name": "stderr",
     "output_type": "stream",
     "text": [
      "Epoch::   3%|▎         | 13/500 [00:01<00:40, 11.99it/s]\n"
     ]
    },
    {
     "name": "stdout",
     "output_type": "stream",
     "text": [
      "Early stopping after epoch 13\n",
      "Reverting to the weights corresponding to the lowest validation loss\n"
     ]
    },
    {
     "name": "stderr",
     "output_type": "stream",
     "text": [
      "Epoch::   9%|▉         | 45/500 [00:03<00:39, 11.50it/s]\n"
     ]
    },
    {
     "name": "stdout",
     "output_type": "stream",
     "text": [
      "Early stopping after epoch 45\n",
      "Reverting to the weights corresponding to the lowest validation loss\n"
     ]
    },
    {
     "name": "stderr",
     "output_type": "stream",
     "text": [
      "Epoch::   2%|▏         | 12/500 [00:01<00:41, 11.68it/s]"
     ]
    },
    {
     "name": "stdout",
     "output_type": "stream",
     "text": [
      "Early stopping after epoch 12\n",
      "Reverting to the weights corresponding to the lowest validation loss\n"
     ]
    },
    {
     "name": "stderr",
     "output_type": "stream",
     "text": [
      "\n"
     ]
    }
   ],
   "source": [
    "#SGD\n",
    "from sklearn.preprocessing import StandardScaler\n",
    "ss = StandardScaler()\n",
    "X_scaled = ss.fit_transform(X)\n",
    "splitting_seeds = [42, 43, 44, 45, 46]\n",
    "sgd_accuracy = []\n",
    "with open('my_results.csv', 'a') as f:    \n",
    "    f.write(f\"smoking_data, sgd\")\n",
    "    with open('losses.csv', 'a') as l:\n",
    "        l.write(f\"smoking_data, sgd\")\n",
    "        for seed in splitting_seeds:\n",
    "            X_train, X_test, y_train, y_test = train_test_split(X_scaled, y, test_size=0.2, random_state=seed)\n",
    "            X_val, X_test, y_val, y_test = train_test_split(X_test, y_test, test_size=0.2, random_state=seed)\n",
    "            y_train = y_train.astype('int')\n",
    "            y_test = y_test.astype('int')\n",
    "            logistic_regression_model = LogisticRegression(input_dim=X_train.shape[1])\n",
    "            sgd_optimizer = SGD(eta=0.01)\n",
    "\n",
    "            logistic_regression_model.train(X_train, y_train, optimizer=sgd_optimizer, patience=5, epochs=500, batch_size=32, X_val=X_val, y_val=y_val)\n",
    "            y_pred = logistic_regression_model.predict(X_test)\n",
    "            sgd_accuracy.append(balanced_accuracy_score(y_test,y_pred.round()))\n",
    "            f.write(f\", {balanced_accuracy_score(y_test,y_pred.round())}\")\n",
    "            if seed == 42:\n",
    "                l.write(f\", {logistic_regression_model.losses}\\n\")\n",
    "    f.write('\\n')"
   ]
  },
  {
   "cell_type": "code",
   "execution_count": 58,
   "metadata": {},
   "outputs": [],
   "source": [
    "# Comparison Models\n",
    "from utils import fitComparisonModels\n",
    "splitting_seeds = [42, 43, 44, 45, 46]\n",
    "comparison_accuracy = []\n",
    "with open('my_results.csv', 'a') as f:    \n",
    "    for seed in splitting_seeds:\n",
    "        X_train, X_test, y_train, y_test = train_test_split(X, y, test_size=0.2, random_state=seed)\n",
    "        y_train = y_train.astype('int')\n",
    "        y_test = y_test.astype('int')\n",
    "        y_lda, y_qda, y_dt, y_rf = fitComparisonModels(X_train, y_train, X_test)\n",
    "    f.write('\\n')\n",
    "    f.write(f\"smoking_data, lda\")\n",
    "    for seed in splitting_seeds:\n",
    "        X_train, X_test, y_train, y_test = train_test_split(X, y, test_size=0.2, random_state=seed)\n",
    "        y_train = y_train.astype('int')\n",
    "        y_test = y_test.astype('int')\n",
    "        y_lda, y_qda, y_dt, y_rf = fitComparisonModels(X_train, y_train, X_test)\n",
    "        f.write(f\", {balanced_accuracy_score(y_test, y_lda)}\")\n",
    "    f.write('\\n')\n",
    "    f.write(f\"smoking_data, qda\")\n",
    "    for seed in splitting_seeds:\n",
    "        X_train, X_test, y_train, y_test = train_test_split(X, y, test_size=0.2, random_state=seed)\n",
    "        y_train = y_train.astype('int')\n",
    "        y_test = y_test.astype('int')\n",
    "        y_lda, y_qda, y_dt, y_rf = fitComparisonModels(X_train, y_train, X_test)\n",
    "        f.write(f\", {balanced_accuracy_score(y_test, y_qda)}\")\n",
    "    f.write('\\n')\n",
    "    f.write(f\"smoking_data, dt\")\n",
    "    for seed in splitting_seeds:\n",
    "        X_train, X_test, y_train, y_test = train_test_split(X, y, test_size=0.2, random_state=seed)\n",
    "        y_train = y_train.astype('int')\n",
    "        y_test = y_test.astype('int')\n",
    "        y_lda, y_qda, y_dt, y_rf = fitComparisonModels(X_train, y_train, X_test)\n",
    "        f.write(f\", {balanced_accuracy_score(y_test, y_dt)}\")\n",
    "    f.write('\\n')\n",
    "    f.write(f\"smoking_data, rf\")\n",
    "    for seed in splitting_seeds:\n",
    "        X_train, X_test, y_train, y_test = train_test_split(X, y, test_size=0.2, random_state=seed)\n",
    "        y_train = y_train.astype('int')\n",
    "        y_test = y_test.astype('int')\n",
    "        y_lda, y_qda, y_dt, y_rf = fitComparisonModels(X_train, y_train, X_test)\n",
    "        f.write(f\", {balanced_accuracy_score(y_test, y_rf)}\")\n",
    "    f.write('\\n')\n"
   ]
  },
  {
   "cell_type": "markdown",
   "metadata": {},
   "source": [
    "## BANANA DATA ##"
   ]
  },
  {
   "cell_type": "code",
   "execution_count": 59,
   "metadata": {},
   "outputs": [
    {
     "data": {
      "text/plain": [
       "(8000, 7)"
      ]
     },
     "execution_count": 59,
     "metadata": {},
     "output_type": "execute_result"
    }
   ],
   "source": [
    "from sklearn.impute import SimpleImputer\n",
    "url = 'data/small/banana_quality.csv'\n",
    "dataframe = pd.read_csv(url)\n",
    "data = dataframe.values\n",
    "dataframe.head()\n",
    "\n",
    "X,y = data[:,:-1], data[:,-1]\n",
    "y = LabelEncoder().fit_transform(y)\n",
    "X.shape\n"
   ]
  },
  {
   "cell_type": "code",
   "execution_count": 42,
   "metadata": {},
   "outputs": [
    {
     "name": "stderr",
     "output_type": "stream",
     "text": [
      "Epoch::  21%|██        | 104/500 [00:01<00:05, 66.44it/s]\n"
     ]
    },
    {
     "name": "stdout",
     "output_type": "stream",
     "text": [
      "Early stopping after epoch 104\n",
      "Reverting to the weights corresponding to the lowest validation loss\n",
      "accuracy : 0.8792029566677454\n"
     ]
    },
    {
     "name": "stderr",
     "output_type": "stream",
     "text": [
      "Epoch::  14%|█▍        | 71/500 [00:01<00:07, 54.19it/s]\n"
     ]
    },
    {
     "name": "stdout",
     "output_type": "stream",
     "text": [
      "Early stopping after epoch 71\n",
      "Reverting to the weights corresponding to the lowest validation loss\n",
      "accuracy : 0.880522356684812\n"
     ]
    },
    {
     "name": "stderr",
     "output_type": "stream",
     "text": [
      "Epoch::  15%|█▌        | 76/500 [00:01<00:06, 66.33it/s]\n"
     ]
    },
    {
     "name": "stdout",
     "output_type": "stream",
     "text": [
      "Early stopping after epoch 76\n",
      "Reverting to the weights corresponding to the lowest validation loss\n",
      "accuracy : 0.8818268766438655\n"
     ]
    },
    {
     "name": "stderr",
     "output_type": "stream",
     "text": [
      "Epoch::  19%|█▉        | 96/500 [00:01<00:06, 65.99it/s]\n"
     ]
    },
    {
     "name": "stdout",
     "output_type": "stream",
     "text": [
      "Early stopping after epoch 96\n",
      "Reverting to the weights corresponding to the lowest validation loss\n",
      "accuracy : 0.8789640856342538\n"
     ]
    },
    {
     "name": "stderr",
     "output_type": "stream",
     "text": [
      "Epoch:: 100%|██████████| 500/500 [00:08<00:00, 58.13it/s]\n"
     ]
    },
    {
     "name": "stdout",
     "output_type": "stream",
     "text": [
      "accuracy : 0.8786008133638854\n"
     ]
    },
    {
     "data": {
      "image/png": "[encoded data removed]",
      "text/plain": [
       "<Figure size 432x288 with 1 Axes>"
      ]
     },
     "metadata": {
      "needs_background": "light"
     },
     "output_type": "display_data"
    }
   ],
   "source": [
    "#ADAM\n",
    "splitting_seeds = [42, 43, 44, 45, 46]\n",
    "adam_accuracy = []\n",
    "with open('my_results.csv', 'a') as f:    \n",
    "    f.write(f\"banana_data, adam\")\n",
    "    with open('losses.csv', 'a') as l:\n",
    "        l.write(f\"banana_data, adam\")\n",
    "        for seed in splitting_seeds:\n",
    "            X_train, X_test, y_train, y_test = train_test_split(X, y, test_size=0.2, random_state=seed)\n",
    "            X_train, X_val, y_train, y_val = train_test_split(X_train, y_train, test_size=0.2, random_state=seed)\n",
    "            logistic_regression_model = LogisticRegression(input_dim=X_train.shape[1])\n",
    "            adam_optimizer = AdamOptim(eta=0.01)\n",
    "\n",
    "            logistic_regression_model.train(X_train, y_train, optimizer=adam_optimizer, patience=5, epochs=500, batch_size=64, X_val=X_val, y_val=y_val)\n",
    "            y_pred = logistic_regression_model.predict(X_test)\n",
    "            adam_accuracy.append(balanced_accuracy_score(y_test,y_pred.round()))\n",
    "            print(f\"accuracy : {balanced_accuracy_score(y_test,y_pred.round())}\")\n",
    "            logistic_regression_model.plot_loss()\n",
    "            f.write(f\", {balanced_accuracy_score(y_test,y_pred.round())}\")\n",
    "            if seed == 42:\n",
    "                l.write(f\", {logistic_regression_model.losses}\\n\")"
   ]
  },
  {
   "cell_type": "code",
   "execution_count": 8,
   "metadata": {},
   "outputs": [
    {
     "name": "stderr",
     "output_type": "stream",
     "text": [
      "Epoch::   0%|          | 0/500 [00:47<?, ?it/s]\n"
     ]
    },
    {
     "ename": "UFuncTypeError",
     "evalue": "Cannot cast ufunc 'svd_n_s' input from dtype('O') to dtype('float64') with casting rule 'same_kind'",
     "output_type": "error",
     "traceback": [
      "\u001b[0;31m---------------------------------------------------------------------------\u001b[0m",
      "\u001b[0;31mUFuncTypeError\u001b[0m                            Traceback (most recent call last)",
      "\u001b[0;32m/tmp/ipykernel_16145/4073519750.py\u001b[0m in \u001b[0;36m<module>\u001b[0;34m\u001b[0m\n\u001b[1;32m      8\u001b[0m     \u001b[0mirls_optimizer\u001b[0m \u001b[0;34m=\u001b[0m \u001b[0mIRLS\u001b[0m\u001b[0;34m(\u001b[0m\u001b[0;34m)\u001b[0m\u001b[0;34m\u001b[0m\u001b[0;34m\u001b[0m\u001b[0m\n\u001b[1;32m      9\u001b[0m \u001b[0;34m\u001b[0m\u001b[0m\n\u001b[0;32m---> 10\u001b[0;31m     \u001b[0mlogistic_regression_model\u001b[0m\u001b[0;34m.\u001b[0m\u001b[0mtrain\u001b[0m\u001b[0;34m(\u001b[0m\u001b[0mX_train\u001b[0m\u001b[0;34m,\u001b[0m \u001b[0my_train\u001b[0m\u001b[0;34m,\u001b[0m \u001b[0moptimizer\u001b[0m\u001b[0;34m=\u001b[0m\u001b[0mirls_optimizer\u001b[0m\u001b[0;34m,\u001b[0m \u001b[0mpatience\u001b[0m\u001b[0;34m=\u001b[0m\u001b[0;36m10\u001b[0m\u001b[0;34m,\u001b[0m \u001b[0mepochs\u001b[0m\u001b[0;34m=\u001b[0m\u001b[0;36m500\u001b[0m\u001b[0;34m,\u001b[0m \u001b[0mbatch_size\u001b[0m\u001b[0;34m=\u001b[0m\u001b[0;36m32\u001b[0m\u001b[0;34m,\u001b[0m \u001b[0mX_val\u001b[0m\u001b[0;34m=\u001b[0m\u001b[0mX_val\u001b[0m\u001b[0;34m,\u001b[0m \u001b[0my_val\u001b[0m\u001b[0;34m=\u001b[0m\u001b[0my_val\u001b[0m\u001b[0;34m)\u001b[0m\u001b[0;34m\u001b[0m\u001b[0;34m\u001b[0m\u001b[0m\n\u001b[0m\u001b[1;32m     11\u001b[0m     \u001b[0my_pred\u001b[0m \u001b[0;34m=\u001b[0m \u001b[0mlogistic_regression_model\u001b[0m\u001b[0;34m.\u001b[0m\u001b[0mpredict\u001b[0m\u001b[0;34m(\u001b[0m\u001b[0mX_test\u001b[0m\u001b[0;34m)\u001b[0m\u001b[0;34m\u001b[0m\u001b[0;34m\u001b[0m\u001b[0m\n\u001b[1;32m     12\u001b[0m     \u001b[0mirls_accuracy\u001b[0m\u001b[0;34m.\u001b[0m\u001b[0mappend\u001b[0m\u001b[0;34m(\u001b[0m\u001b[0mbalanced_accuracy_score\u001b[0m\u001b[0;34m(\u001b[0m\u001b[0my_test\u001b[0m\u001b[0;34m,\u001b[0m\u001b[0my_pred\u001b[0m\u001b[0;34m.\u001b[0m\u001b[0mround\u001b[0m\u001b[0;34m(\u001b[0m\u001b[0;34m)\u001b[0m\u001b[0;34m)\u001b[0m\u001b[0;34m)\u001b[0m\u001b[0;34m\u001b[0m\u001b[0;34m\u001b[0m\u001b[0m\n",
      "\u001b[0;32m~/AML/PROJ1/2024L-DSAdvancedML/projects/project1/group3/Narozniak_Czerwonski_Rucinski/src/Logreg.py\u001b[0m in \u001b[0;36mtrain\u001b[0;34m(self, X, y, optimizer, epochs, batch_size, X_val, y_val, patience)\u001b[0m\n\u001b[1;32m     86\u001b[0m                     \u001b[0mB\u001b[0m \u001b[0;34m=\u001b[0m \u001b[0mnp\u001b[0m\u001b[0;34m.\u001b[0m\u001b[0mconcatenate\u001b[0m\u001b[0;34m(\u001b[0m\u001b[0;34m[\u001b[0m\u001b[0mnp\u001b[0m\u001b[0;34m.\u001b[0m\u001b[0marray\u001b[0m\u001b[0;34m(\u001b[0m\u001b[0;34m[\u001b[0m\u001b[0mself\u001b[0m\u001b[0;34m.\u001b[0m\u001b[0mbias\u001b[0m\u001b[0;34m]\u001b[0m\u001b[0;34m)\u001b[0m\u001b[0;34m,\u001b[0m \u001b[0mself\u001b[0m\u001b[0;34m.\u001b[0m\u001b[0mweights\u001b[0m\u001b[0;34m]\u001b[0m\u001b[0;34m)\u001b[0m\u001b[0;34m\u001b[0m\u001b[0;34m\u001b[0m\u001b[0m\n\u001b[1;32m     87\u001b[0m                     \u001b[0mB\u001b[0m \u001b[0;34m=\u001b[0m \u001b[0mB\u001b[0m\u001b[0;34m.\u001b[0m\u001b[0mastype\u001b[0m\u001b[0;34m(\u001b[0m\u001b[0mfloat\u001b[0m\u001b[0;34m)\u001b[0m\u001b[0;34m\u001b[0m\u001b[0;34m\u001b[0m\u001b[0m\n\u001b[0;32m---> 88\u001b[0;31m                     \u001b[0mself\u001b[0m\u001b[0;34m.\u001b[0m\u001b[0mweights\u001b[0m\u001b[0;34m,\u001b[0m \u001b[0mself\u001b[0m\u001b[0;34m.\u001b[0m\u001b[0mbias\u001b[0m \u001b[0;34m=\u001b[0m \u001b[0moptimizer\u001b[0m\u001b[0;34m.\u001b[0m\u001b[0mupdate\u001b[0m\u001b[0;34m(\u001b[0m\u001b[0mB\u001b[0m\u001b[0;34m,\u001b[0m \u001b[0mX\u001b[0m\u001b[0;34m,\u001b[0m \u001b[0my\u001b[0m\u001b[0;34m)\u001b[0m\u001b[0;34m\u001b[0m\u001b[0;34m\u001b[0m\u001b[0m\n\u001b[0m\u001b[1;32m     89\u001b[0m \u001b[0;34m\u001b[0m\u001b[0m\n\u001b[1;32m     90\u001b[0m             \u001b[0mz\u001b[0m \u001b[0;34m=\u001b[0m \u001b[0mnp\u001b[0m\u001b[0;34m.\u001b[0m\u001b[0mdot\u001b[0m\u001b[0;34m(\u001b[0m\u001b[0mX\u001b[0m\u001b[0;34m,\u001b[0m \u001b[0mself\u001b[0m\u001b[0;34m.\u001b[0m\u001b[0mweights\u001b[0m\u001b[0;34m)\u001b[0m \u001b[0;34m+\u001b[0m \u001b[0mself\u001b[0m\u001b[0;34m.\u001b[0m\u001b[0mbias\u001b[0m\u001b[0;34m\u001b[0m\u001b[0;34m\u001b[0m\u001b[0m\n",
      "\u001b[0;32m~/AML/PROJ1/2024L-DSAdvancedML/projects/project1/group3/Narozniak_Czerwonski_Rucinski/src/irls_optimizer.py\u001b[0m in \u001b[0;36mupdate\u001b[0;34m(self, B, X, y)\u001b[0m\n\u001b[1;32m     12\u001b[0m         \u001b[0mresponse\u001b[0m \u001b[0;34m=\u001b[0m \u001b[0mz\u001b[0m \u001b[0;34m+\u001b[0m \u001b[0mW_inv\u001b[0m \u001b[0;34m@\u001b[0m \u001b[0;34m(\u001b[0m\u001b[0my\u001b[0m \u001b[0;34m-\u001b[0m \u001b[0mp\u001b[0m\u001b[0;34m)\u001b[0m\u001b[0;34m\u001b[0m\u001b[0;34m\u001b[0m\u001b[0m\n\u001b[1;32m     13\u001b[0m         \u001b[0;32mtry\u001b[0m\u001b[0;34m:\u001b[0m\u001b[0;34m\u001b[0m\u001b[0;34m\u001b[0m\u001b[0m\n\u001b[0;32m---> 14\u001b[0;31m             \u001b[0mxwx_inv\u001b[0m \u001b[0;34m=\u001b[0m \u001b[0mnp\u001b[0m\u001b[0;34m.\u001b[0m\u001b[0mlinalg\u001b[0m\u001b[0;34m.\u001b[0m\u001b[0mpinv\u001b[0m\u001b[0;34m(\u001b[0m\u001b[0mX_\u001b[0m\u001b[0;34m.\u001b[0m\u001b[0mT\u001b[0m \u001b[0;34m@\u001b[0m \u001b[0mW\u001b[0m \u001b[0;34m@\u001b[0m \u001b[0mX_\u001b[0m\u001b[0;34m)\u001b[0m\u001b[0;34m\u001b[0m\u001b[0;34m\u001b[0m\u001b[0m\n\u001b[0m\u001b[1;32m     15\u001b[0m         \u001b[0;31m# In case correlated features were not removed\u001b[0m\u001b[0;34m\u001b[0m\u001b[0;34m\u001b[0m\u001b[0m\n\u001b[1;32m     16\u001b[0m         \u001b[0;32mexcept\u001b[0m \u001b[0mnp\u001b[0m\u001b[0;34m.\u001b[0m\u001b[0mlinalg\u001b[0m\u001b[0;34m.\u001b[0m\u001b[0mLinAlgError\u001b[0m \u001b[0;32mas\u001b[0m \u001b[0me\u001b[0m\u001b[0;34m:\u001b[0m\u001b[0;34m\u001b[0m\u001b[0;34m\u001b[0m\u001b[0m\n",
      "\u001b[0;32m~/.local/lib/python3.10/site-packages/numpy/linalg/linalg.py\u001b[0m in \u001b[0;36mpinv\u001b[0;34m(a, rcond, hermitian)\u001b[0m\n\u001b[1;32m   2020\u001b[0m         \u001b[0;32mreturn\u001b[0m \u001b[0mwrap\u001b[0m\u001b[0;34m(\u001b[0m\u001b[0mres\u001b[0m\u001b[0;34m)\u001b[0m\u001b[0;34m\u001b[0m\u001b[0;34m\u001b[0m\u001b[0m\n\u001b[1;32m   2021\u001b[0m     \u001b[0ma\u001b[0m \u001b[0;34m=\u001b[0m \u001b[0ma\u001b[0m\u001b[0;34m.\u001b[0m\u001b[0mconjugate\u001b[0m\u001b[0;34m(\u001b[0m\u001b[0;34m)\u001b[0m\u001b[0;34m\u001b[0m\u001b[0;34m\u001b[0m\u001b[0m\n\u001b[0;32m-> 2022\u001b[0;31m     \u001b[0mu\u001b[0m\u001b[0;34m,\u001b[0m \u001b[0ms\u001b[0m\u001b[0;34m,\u001b[0m \u001b[0mvt\u001b[0m \u001b[0;34m=\u001b[0m \u001b[0msvd\u001b[0m\u001b[0;34m(\u001b[0m\u001b[0ma\u001b[0m\u001b[0;34m,\u001b[0m \u001b[0mfull_matrices\u001b[0m\u001b[0;34m=\u001b[0m\u001b[0;32mFalse\u001b[0m\u001b[0;34m,\u001b[0m \u001b[0mhermitian\u001b[0m\u001b[0;34m=\u001b[0m\u001b[0mhermitian\u001b[0m\u001b[0;34m)\u001b[0m\u001b[0;34m\u001b[0m\u001b[0;34m\u001b[0m\u001b[0m\n\u001b[0m\u001b[1;32m   2023\u001b[0m \u001b[0;34m\u001b[0m\u001b[0m\n\u001b[1;32m   2024\u001b[0m     \u001b[0;31m# discard small singular values\u001b[0m\u001b[0;34m\u001b[0m\u001b[0;34m\u001b[0m\u001b[0m\n",
      "\u001b[0;32m~/.local/lib/python3.10/site-packages/numpy/linalg/linalg.py\u001b[0m in \u001b[0;36msvd\u001b[0;34m(a, full_matrices, compute_uv, hermitian)\u001b[0m\n\u001b[1;32m   1679\u001b[0m \u001b[0;34m\u001b[0m\u001b[0m\n\u001b[1;32m   1680\u001b[0m         \u001b[0msignature\u001b[0m \u001b[0;34m=\u001b[0m \u001b[0;34m'D->DdD'\u001b[0m \u001b[0;32mif\u001b[0m \u001b[0misComplexType\u001b[0m\u001b[0;34m(\u001b[0m\u001b[0mt\u001b[0m\u001b[0;34m)\u001b[0m \u001b[0;32melse\u001b[0m \u001b[0;34m'd->ddd'\u001b[0m\u001b[0;34m\u001b[0m\u001b[0;34m\u001b[0m\u001b[0m\n\u001b[0;32m-> 1681\u001b[0;31m         \u001b[0mu\u001b[0m\u001b[0;34m,\u001b[0m \u001b[0ms\u001b[0m\u001b[0;34m,\u001b[0m \u001b[0mvh\u001b[0m \u001b[0;34m=\u001b[0m \u001b[0mgufunc\u001b[0m\u001b[0;34m(\u001b[0m\u001b[0ma\u001b[0m\u001b[0;34m,\u001b[0m \u001b[0msignature\u001b[0m\u001b[0;34m=\u001b[0m\u001b[0msignature\u001b[0m\u001b[0;34m,\u001b[0m \u001b[0mextobj\u001b[0m\u001b[0;34m=\u001b[0m\u001b[0mextobj\u001b[0m\u001b[0;34m)\u001b[0m\u001b[0;34m\u001b[0m\u001b[0;34m\u001b[0m\u001b[0m\n\u001b[0m\u001b[1;32m   1682\u001b[0m         \u001b[0mu\u001b[0m \u001b[0;34m=\u001b[0m \u001b[0mu\u001b[0m\u001b[0;34m.\u001b[0m\u001b[0mastype\u001b[0m\u001b[0;34m(\u001b[0m\u001b[0mresult_t\u001b[0m\u001b[0;34m,\u001b[0m \u001b[0mcopy\u001b[0m\u001b[0;34m=\u001b[0m\u001b[0;32mFalse\u001b[0m\u001b[0;34m)\u001b[0m\u001b[0;34m\u001b[0m\u001b[0;34m\u001b[0m\u001b[0m\n\u001b[1;32m   1683\u001b[0m         \u001b[0ms\u001b[0m \u001b[0;34m=\u001b[0m \u001b[0ms\u001b[0m\u001b[0;34m.\u001b[0m\u001b[0mastype\u001b[0m\u001b[0;34m(\u001b[0m\u001b[0m_realType\u001b[0m\u001b[0;34m(\u001b[0m\u001b[0mresult_t\u001b[0m\u001b[0;34m)\u001b[0m\u001b[0;34m,\u001b[0m \u001b[0mcopy\u001b[0m\u001b[0;34m=\u001b[0m\u001b[0;32mFalse\u001b[0m\u001b[0;34m)\u001b[0m\u001b[0;34m\u001b[0m\u001b[0;34m\u001b[0m\u001b[0m\n",
      "\u001b[0;31mUFuncTypeError\u001b[0m: Cannot cast ufunc 'svd_n_s' input from dtype('O') to dtype('float64') with casting rule 'same_kind'"
     ]
    }
   ],
   "source": [
    "#IRLS\n",
    "splitting_seeds = [42, 43, 44, 45, 46]\n",
    "irls_accuracy = []\n",
    "for seed in splitting_seeds:\n",
    "    X_train, X_test, y_train, y_test = train_test_split(X, y, test_size=0.2, random_state=seed)\n",
    "    X_train, X_val, y_train, y_val = train_test_split(X_train, y_train, test_size=0.2, random_state=seed)\n",
    "    logistic_regression_model = LogisticRegression(input_dim=X_train.shape[1])\n",
    "    irls_optimizer = IRLS()\n",
    "\n",
    "    logistic_regression_model.train(X_train, y_train, optimizer=irls_optimizer, patience=10, epochs=500, batch_size=32, X_val=X_val, y_val=y_val)\n",
    "    y_pred = logistic_regression_model.predict(X_test)\n",
    "    irls_accuracy.append(balanced_accuracy_score(y_test,y_pred.round()))\n",
    "    print(f\"accuracy : {balanced_accuracy_score(y_test,y_pred.round())}\")\n",
    "    logistic_regression_model.plot_loss()"
   ]
  },
  {
   "cell_type": "code",
   "execution_count": 45,
   "metadata": {},
   "outputs": [
    {
     "name": "stderr",
     "output_type": "stream",
     "text": [
      "Epoch::   0%|          | 0/500 [00:00<?, ?it/s]"
     ]
    },
    {
     "name": "stderr",
     "output_type": "stream",
     "text": [
      "Epoch::   6%|▋         | 32/500 [00:00<00:08, 53.77it/s]\n"
     ]
    },
    {
     "name": "stdout",
     "output_type": "stream",
     "text": [
      "Early stopping after epoch 32\n",
      "Reverting to the weights corresponding to the lowest validation loss\n",
      "accuracy : 0.8840820018088634\n"
     ]
    },
    {
     "name": "stderr",
     "output_type": "stream",
     "text": [
      "Epoch:: 100%|██████████| 500/500 [00:08<00:00, 61.32it/s]\n"
     ]
    },
    {
     "name": "stdout",
     "output_type": "stream",
     "text": [
      "accuracy : 0.8855889724310777\n"
     ]
    },
    {
     "name": "stderr",
     "output_type": "stream",
     "text": [
      "Epoch:: 100%|██████████| 500/500 [00:06<00:00, 76.94it/s]\n"
     ]
    },
    {
     "name": "stdout",
     "output_type": "stream",
     "text": [
      "accuracy : 0.8687499999999999\n"
     ]
    },
    {
     "name": "stderr",
     "output_type": "stream",
     "text": [
      "Epoch:: 100%|██████████| 500/500 [00:05<00:00, 83.95it/s]\n"
     ]
    },
    {
     "name": "stdout",
     "output_type": "stream",
     "text": [
      "accuracy : 0.8725490808857999\n"
     ]
    },
    {
     "name": "stderr",
     "output_type": "stream",
     "text": [
      "Epoch:: 100%|██████████| 500/500 [00:06<00:00, 81.22it/s]\n"
     ]
    },
    {
     "name": "stdout",
     "output_type": "stream",
     "text": [
      "accuracy : 0.8607796616586425\n"
     ]
    },
    {
     "data": {
      "image/png": "[encoded data removed]",
      "text/plain": [
       "<Figure size 432x288 with 1 Axes>"
      ]
     },
     "metadata": {
      "needs_background": "light"
     },
     "output_type": "display_data"
    }
   ],
   "source": [
    "#SGD\n",
    "ss = StandardScaler()\n",
    "X_scaled = ss.fit_transform(X)\n",
    "splitting_seeds = [42, 43, 44, 45, 46]\n",
    "sgd_accuracy = []\n",
    "with open('my_results.csv', 'a') as f:    \n",
    "    f.write(f\"banana_data, sgd\")\n",
    "    with open('losses.csv', 'a') as l:\n",
    "        l.write(f\"banana_data, sgd\")\n",
    "        for seed in splitting_seeds:\n",
    "            X_train, X_test, y_train, y_test = train_test_split(X_scaled, y, test_size=0.2, random_state=seed)\n",
    "            X_val, X_test, y_val, y_test = train_test_split(X_test, y_test, test_size=0.5, random_state=seed)\n",
    "            logistic_regression_model = LogisticRegression(input_dim=X_train.shape[1])\n",
    "            sgd_optimizer = SGD(eta = 0.01)\n",
    "\n",
    "            logistic_regression_model.train(X_train, y_train, optimizer=sgd_optimizer, patience=5, epochs=500, batch_size=32, X_val=X_val, y_val=y_val)\n",
    "            y_pred = logistic_regression_model.predict(X_test)\n",
    "            sgd_accuracy.append(balanced_accuracy_score(y_test,y_pred.round()))\n",
    "            print(f\"accuracy : {balanced_accuracy_score(y_test,y_pred.round())}\")\n",
    "            logistic_regression_model.plot_loss()\n",
    "            f.write(f\", {balanced_accuracy_score(y_test,y_pred.round())}\")\n",
    "            if seed == 42:\n",
    "                l.write(f\", {logistic_regression_model.losses}\\n\")"
   ]
  },
  {
   "cell_type": "code",
   "execution_count": 60,
   "metadata": {},
   "outputs": [],
   "source": [
    "# Comparison Models\n",
    "from utils import fitComparisonModels\n",
    "splitting_seeds = [42, 43, 44, 45, 46]\n",
    "comparison_accuracy = []\n",
    "with open('my_results.csv', 'a') as f:    \n",
    "    for seed in splitting_seeds:\n",
    "        X_train, X_test, y_train, y_test = train_test_split(X, y, test_size=0.2, random_state=seed)\n",
    "        y_lda, y_qda, y_dt, y_rf = fitComparisonModels(X_train, y_train, X_test)\n",
    "    f.write(f\"banana_data, lda\")\n",
    "    for seed in splitting_seeds:\n",
    "        X_train, X_test, y_train, y_test = train_test_split(X, y, test_size=0.2, random_state=seed)\n",
    "        y_lda, y_qda, y_dt, y_rf = fitComparisonModels(X_train, y_train, X_test)\n",
    "        f.write(f\", {balanced_accuracy_score(y_test, y_lda)}\")\n",
    "    f.write('\\n')\n",
    "    f.write(f\"banana_data, qda\")\n",
    "    for seed in splitting_seeds:\n",
    "        X_train, X_test, y_train, y_test = train_test_split(X, y, test_size=0.2, random_state=seed)\n",
    "        y_lda, y_qda, y_dt, y_rf = fitComparisonModels(X_train, y_train, X_test)\n",
    "        f.write(f\", {balanced_accuracy_score(y_test, y_qda)}\")\n",
    "    f.write('\\n')\n",
    "    f.write(f\"banana_data, dt\")\n",
    "    for seed in splitting_seeds:\n",
    "        X_train, X_test, y_train, y_test = train_test_split(X, y, test_size=0.2, random_state=seed)\n",
    "        y_lda, y_qda, y_dt, y_rf = fitComparisonModels(X_train, y_train, X_test)\n",
    "        f.write(f\", {balanced_accuracy_score(y_test, y_dt)}\")\n",
    "    f.write('\\n')\n",
    "    f.write(f\"banana_data, rf\")\n",
    "    for seed in splitting_seeds:\n",
    "        X_train, X_test, y_train, y_test = train_test_split(X, y, test_size=0.2, random_state=seed)\n",
    "        y_lda, y_qda, y_dt, y_rf = fitComparisonModels(X_train, y_train, X_test)\n",
    "        f.write(f\", {balanced_accuracy_score(y_test, y_rf)}\")\n",
    "    f.write('\\n')\n"
   ]
  },
  {
   "cell_type": "markdown",
   "metadata": {},
   "source": [
    "### with interactions ###"
   ]
  },
  {
   "cell_type": "code",
   "execution_count": 61,
   "metadata": {},
   "outputs": [
    {
     "name": "stdout",
     "output_type": "stream",
     "text": [
      "7 28\n"
     ]
    }
   ],
   "source": [
    "from utils import createFeatureInteractions\n",
    "X_int = createFeatureInteractions(X)\n",
    "print(len(X[0]),len(X_int[0]))"
   ]
  },
  {
   "cell_type": "code",
   "execution_count": 48,
   "metadata": {},
   "outputs": [
    {
     "name": "stderr",
     "output_type": "stream",
     "text": [
      "Epoch::   0%|          | 0/500 [00:00<?, ?it/s]"
     ]
    },
    {
     "name": "stderr",
     "output_type": "stream",
     "text": [
      "Epoch::  28%|██▊       | 140/500 [00:06<00:17, 20.71it/s]\n"
     ]
    },
    {
     "name": "stdout",
     "output_type": "stream",
     "text": [
      "Early stopping after epoch 140\n",
      "Reverting to the weights corresponding to the lowest validation loss\n"
     ]
    },
    {
     "name": "stderr",
     "output_type": "stream",
     "text": [
      "Epoch::  10%|█         | 52/500 [00:02<00:20, 21.55it/s]\n"
     ]
    },
    {
     "name": "stdout",
     "output_type": "stream",
     "text": [
      "Early stopping after epoch 52\n",
      "Reverting to the weights corresponding to the lowest validation loss\n"
     ]
    },
    {
     "name": "stderr",
     "output_type": "stream",
     "text": [
      "Epoch::   4%|▎         | 18/500 [00:00<00:22, 21.79it/s]\n"
     ]
    },
    {
     "name": "stdout",
     "output_type": "stream",
     "text": [
      "Early stopping after epoch 18\n",
      "Reverting to the weights corresponding to the lowest validation loss\n"
     ]
    },
    {
     "name": "stderr",
     "output_type": "stream",
     "text": [
      "Epoch::   2%|▏         | 9/500 [00:00<00:26, 18.43it/s]\n"
     ]
    },
    {
     "name": "stdout",
     "output_type": "stream",
     "text": [
      "Early stopping after epoch 9\n",
      "Reverting to the weights corresponding to the lowest validation loss\n"
     ]
    },
    {
     "name": "stderr",
     "output_type": "stream",
     "text": [
      "Epoch::   5%|▍         | 23/500 [00:01<00:21, 22.70it/s]"
     ]
    },
    {
     "name": "stdout",
     "output_type": "stream",
     "text": [
      "Early stopping after epoch 23\n",
      "Reverting to the weights corresponding to the lowest validation loss\n"
     ]
    },
    {
     "name": "stderr",
     "output_type": "stream",
     "text": [
      "\n"
     ]
    }
   ],
   "source": [
    "#ADAM\n",
    "splitting_seeds = [42, 43, 44, 45, 46]\n",
    "adam_accuracy = []\n",
    "with open('my_results.csv', 'a') as f:    \n",
    "    f.write(f\"banana_data, adam+int\")\n",
    "    with open('losses.csv', 'a') as l:\n",
    "        l.write(f\"banana_data, adam+int\")\n",
    "        for seed in splitting_seeds:\n",
    "            X_train, X_test, y_train, y_test = train_test_split(X_int, y, test_size=0.2, random_state=seed)\n",
    "            X_train, X_val, y_train, y_val = train_test_split(X_train, y_train, test_size=0.2, random_state=seed)\n",
    "            logistic_regression_model = LogisticRegression(input_dim=X_train.shape[1])\n",
    "            adam_optimizer = AdamOptim(eta=0.01)\n",
    "\n",
    "            logistic_regression_model.train(X_train, y_train, optimizer=adam_optimizer, patience=5, epochs=500, batch_size=64, X_val=X_val, y_val=y_val)\n",
    "            y_pred = logistic_regression_model.predict(X_test)\n",
    "            adam_accuracy.append(balanced_accuracy_score(y_test,y_pred.round()))\n",
    "            f.write(f\", {balanced_accuracy_score(y_test,y_pred.round())}\")\n",
    "            if seed == 42:\n",
    "                l.write(f\", {logistic_regression_model.losses}\\n\")"
   ]
  },
  {
   "cell_type": "code",
   "execution_count": 49,
   "metadata": {},
   "outputs": [
    {
     "name": "stderr",
     "output_type": "stream",
     "text": [
      "Epoch:: 100%|██████████| 500/500 [00:05<00:00, 88.95it/s] \n",
      "Epoch:: 100%|██████████| 500/500 [00:05<00:00, 93.34it/s] \n",
      "Epoch:: 100%|██████████| 500/500 [00:05<00:00, 93.11it/s] \n",
      "Epoch:: 100%|██████████| 500/500 [00:05<00:00, 92.43it/s] \n",
      "Epoch::  25%|██▌       | 125/500 [00:01<00:03, 94.30it/s]"
     ]
    },
    {
     "name": "stdout",
     "output_type": "stream",
     "text": [
      "Early stopping after epoch 125\n",
      "Reverting to the weights corresponding to the lowest validation loss\n"
     ]
    },
    {
     "name": "stderr",
     "output_type": "stream",
     "text": [
      "\n"
     ]
    }
   ],
   "source": [
    "#SGD\n",
    "splitting_seeds = [42, 43, 44, 45, 46]\n",
    "sgd_accuracy = []\n",
    "ss = StandardScaler()\n",
    "X_scaled = ss.fit_transform(X_int)\n",
    "with open('my_results.csv', 'a') as f:    \n",
    "    f.write(f\"banana_data, sgd+int\")\n",
    "    with open('losses.csv', 'a') as l:\n",
    "        l.write(f\"banana_data, sgd+int\")\n",
    "        for seed in splitting_seeds:\n",
    "            X_train, X_test, y_train, y_test = train_test_split(X_scaled, y, test_size=0.2, random_state=seed)\n",
    "            X_val, X_test, y_val, y_test = train_test_split(X_test, y_test, test_size=0.5, random_state=seed)\n",
    "            logistic_regression_model = LogisticRegression(input_dim=X_train.shape[1])\n",
    "            sgd_optimizer = SGD(eta=0.01)\n",
    "\n",
    "            logistic_regression_model.train(X_train, y_train, optimizer=sgd_optimizer, patience=5, epochs=500, batch_size=64, X_val=X_val, y_val=y_val)\n",
    "            y_pred = logistic_regression_model.predict(X_test)\n",
    "            f.write(f\", {balanced_accuracy_score(y_test,y_pred.round())}\")\n",
    "            if seed == 42:\n",
    "                l.write(f\", {logistic_regression_model.losses}\\n\")"
   ]
  },
  {
   "cell_type": "code",
   "execution_count": 7,
   "metadata": {},
   "outputs": [
    {
     "name": "stderr",
     "output_type": "stream",
     "text": [
      "Epoch::   0%|          | 0/500 [00:00<?, ?it/s]"
     ]
    },
    {
     "name": "stderr",
     "output_type": "stream",
     "text": [
      "Epoch::   0%|          | 0/500 [05:23<?, ?it/s]\n"
     ]
    },
    {
     "ename": "UFuncTypeError",
     "evalue": "Cannot cast ufunc 'svd_n_s' input from dtype('O') to dtype('float64') with casting rule 'same_kind'",
     "output_type": "error",
     "traceback": [
      "\u001b[0;31m---------------------------------------------------------------------------\u001b[0m",
      "\u001b[0;31mUFuncTypeError\u001b[0m                            Traceback (most recent call last)",
      "\u001b[0;32m/tmp/ipykernel_4364/2649279518.py\u001b[0m in \u001b[0;36m<module>\u001b[0;34m\u001b[0m\n\u001b[1;32m      7\u001b[0m     \u001b[0mirls_optimizer\u001b[0m \u001b[0;34m=\u001b[0m \u001b[0mIRLS\u001b[0m\u001b[0;34m(\u001b[0m\u001b[0;34m)\u001b[0m\u001b[0;34m\u001b[0m\u001b[0;34m\u001b[0m\u001b[0m\n\u001b[1;32m      8\u001b[0m \u001b[0;34m\u001b[0m\u001b[0m\n\u001b[0;32m----> 9\u001b[0;31m     \u001b[0mlogistic_regression_model\u001b[0m\u001b[0;34m.\u001b[0m\u001b[0mtrain\u001b[0m\u001b[0;34m(\u001b[0m\u001b[0mX_train\u001b[0m\u001b[0;34m,\u001b[0m \u001b[0my_train\u001b[0m\u001b[0;34m,\u001b[0m \u001b[0moptimizer\u001b[0m\u001b[0;34m=\u001b[0m\u001b[0mirls_optimizer\u001b[0m\u001b[0;34m,\u001b[0m \u001b[0mpatience\u001b[0m\u001b[0;34m=\u001b[0m\u001b[0;36m10\u001b[0m\u001b[0;34m,\u001b[0m \u001b[0mepochs\u001b[0m\u001b[0;34m=\u001b[0m\u001b[0;36m500\u001b[0m\u001b[0;34m,\u001b[0m \u001b[0mbatch_size\u001b[0m\u001b[0;34m=\u001b[0m\u001b[0;36m32\u001b[0m\u001b[0;34m)\u001b[0m\u001b[0;34m\u001b[0m\u001b[0;34m\u001b[0m\u001b[0m\n\u001b[0m\u001b[1;32m     10\u001b[0m     \u001b[0my_pred\u001b[0m \u001b[0;34m=\u001b[0m \u001b[0mlogistic_regression_model\u001b[0m\u001b[0;34m.\u001b[0m\u001b[0mpredict\u001b[0m\u001b[0;34m(\u001b[0m\u001b[0mX_test\u001b[0m\u001b[0;34m)\u001b[0m\u001b[0;34m\u001b[0m\u001b[0;34m\u001b[0m\u001b[0m\n\u001b[1;32m     11\u001b[0m     \u001b[0mirls_accuracy\u001b[0m\u001b[0;34m.\u001b[0m\u001b[0mappend\u001b[0m\u001b[0;34m(\u001b[0m\u001b[0mbalanced_accuracy_score\u001b[0m\u001b[0;34m(\u001b[0m\u001b[0my_test\u001b[0m\u001b[0;34m,\u001b[0m\u001b[0my_pred\u001b[0m\u001b[0;34m.\u001b[0m\u001b[0mround\u001b[0m\u001b[0;34m(\u001b[0m\u001b[0;34m)\u001b[0m\u001b[0;34m)\u001b[0m\u001b[0;34m)\u001b[0m\u001b[0;34m\u001b[0m\u001b[0;34m\u001b[0m\u001b[0m\n",
      "\u001b[0;32m~/AML/PROJ1/2024L-DSAdvancedML/projects/project1/group3/Narozniak_Czerwonski_Rucinski/src/Logreg.py\u001b[0m in \u001b[0;36mtrain\u001b[0;34m(self, X, y, optimizer, epochs, batch_size, X_val, y_val, patience)\u001b[0m\n\u001b[1;32m     86\u001b[0m                     \u001b[0mB\u001b[0m \u001b[0;34m=\u001b[0m \u001b[0mnp\u001b[0m\u001b[0;34m.\u001b[0m\u001b[0mconcatenate\u001b[0m\u001b[0;34m(\u001b[0m\u001b[0;34m[\u001b[0m\u001b[0mnp\u001b[0m\u001b[0;34m.\u001b[0m\u001b[0marray\u001b[0m\u001b[0;34m(\u001b[0m\u001b[0;34m[\u001b[0m\u001b[0mself\u001b[0m\u001b[0;34m.\u001b[0m\u001b[0mbias\u001b[0m\u001b[0;34m]\u001b[0m\u001b[0;34m)\u001b[0m\u001b[0;34m,\u001b[0m \u001b[0mself\u001b[0m\u001b[0;34m.\u001b[0m\u001b[0mweights\u001b[0m\u001b[0;34m]\u001b[0m\u001b[0;34m)\u001b[0m\u001b[0;34m\u001b[0m\u001b[0;34m\u001b[0m\u001b[0m\n\u001b[1;32m     87\u001b[0m                     \u001b[0mB\u001b[0m \u001b[0;34m=\u001b[0m \u001b[0mB\u001b[0m\u001b[0;34m.\u001b[0m\u001b[0mastype\u001b[0m\u001b[0;34m(\u001b[0m\u001b[0mfloat\u001b[0m\u001b[0;34m)\u001b[0m\u001b[0;34m\u001b[0m\u001b[0;34m\u001b[0m\u001b[0m\n\u001b[0;32m---> 88\u001b[0;31m                     \u001b[0mself\u001b[0m\u001b[0;34m.\u001b[0m\u001b[0mweights\u001b[0m\u001b[0;34m,\u001b[0m \u001b[0mself\u001b[0m\u001b[0;34m.\u001b[0m\u001b[0mbias\u001b[0m \u001b[0;34m=\u001b[0m \u001b[0moptimizer\u001b[0m\u001b[0;34m.\u001b[0m\u001b[0mupdate\u001b[0m\u001b[0;34m(\u001b[0m\u001b[0mB\u001b[0m\u001b[0;34m,\u001b[0m \u001b[0mX\u001b[0m\u001b[0;34m,\u001b[0m \u001b[0my\u001b[0m\u001b[0;34m)\u001b[0m\u001b[0;34m\u001b[0m\u001b[0;34m\u001b[0m\u001b[0m\n\u001b[0m\u001b[1;32m     89\u001b[0m \u001b[0;34m\u001b[0m\u001b[0m\n\u001b[1;32m     90\u001b[0m             \u001b[0mz\u001b[0m \u001b[0;34m=\u001b[0m \u001b[0mnp\u001b[0m\u001b[0;34m.\u001b[0m\u001b[0mdot\u001b[0m\u001b[0;34m(\u001b[0m\u001b[0mX\u001b[0m\u001b[0;34m,\u001b[0m \u001b[0mself\u001b[0m\u001b[0;34m.\u001b[0m\u001b[0mweights\u001b[0m\u001b[0;34m)\u001b[0m \u001b[0;34m+\u001b[0m \u001b[0mself\u001b[0m\u001b[0;34m.\u001b[0m\u001b[0mbias\u001b[0m\u001b[0;34m\u001b[0m\u001b[0;34m\u001b[0m\u001b[0m\n",
      "\u001b[0;32m~/AML/PROJ1/2024L-DSAdvancedML/projects/project1/group3/Narozniak_Czerwonski_Rucinski/src/irls_optimizer.py\u001b[0m in \u001b[0;36mupdate\u001b[0;34m(self, B, X, y)\u001b[0m\n\u001b[1;32m     12\u001b[0m         \u001b[0mresponse\u001b[0m \u001b[0;34m=\u001b[0m \u001b[0mz\u001b[0m \u001b[0;34m+\u001b[0m \u001b[0mW_inv\u001b[0m \u001b[0;34m@\u001b[0m \u001b[0;34m(\u001b[0m\u001b[0my\u001b[0m \u001b[0;34m-\u001b[0m \u001b[0mp\u001b[0m\u001b[0;34m)\u001b[0m\u001b[0;34m\u001b[0m\u001b[0;34m\u001b[0m\u001b[0m\n\u001b[1;32m     13\u001b[0m         \u001b[0;32mtry\u001b[0m\u001b[0;34m:\u001b[0m\u001b[0;34m\u001b[0m\u001b[0;34m\u001b[0m\u001b[0m\n\u001b[0;32m---> 14\u001b[0;31m             \u001b[0mxwx_inv\u001b[0m \u001b[0;34m=\u001b[0m \u001b[0mnp\u001b[0m\u001b[0;34m.\u001b[0m\u001b[0mlinalg\u001b[0m\u001b[0;34m.\u001b[0m\u001b[0mpinv\u001b[0m\u001b[0;34m(\u001b[0m\u001b[0mX_\u001b[0m\u001b[0;34m.\u001b[0m\u001b[0mT\u001b[0m \u001b[0;34m@\u001b[0m \u001b[0mW\u001b[0m \u001b[0;34m@\u001b[0m \u001b[0mX_\u001b[0m\u001b[0;34m)\u001b[0m\u001b[0;34m\u001b[0m\u001b[0;34m\u001b[0m\u001b[0m\n\u001b[0m\u001b[1;32m     15\u001b[0m         \u001b[0;31m# In case correlated features were not removed\u001b[0m\u001b[0;34m\u001b[0m\u001b[0;34m\u001b[0m\u001b[0m\n\u001b[1;32m     16\u001b[0m         \u001b[0;32mexcept\u001b[0m \u001b[0mnp\u001b[0m\u001b[0;34m.\u001b[0m\u001b[0mlinalg\u001b[0m\u001b[0;34m.\u001b[0m\u001b[0mLinAlgError\u001b[0m \u001b[0;32mas\u001b[0m \u001b[0me\u001b[0m\u001b[0;34m:\u001b[0m\u001b[0;34m\u001b[0m\u001b[0;34m\u001b[0m\u001b[0m\n",
      "\u001b[0;32m~/.local/lib/python3.10/site-packages/numpy/linalg/linalg.py\u001b[0m in \u001b[0;36mpinv\u001b[0;34m(a, rcond, hermitian)\u001b[0m\n\u001b[1;32m   2020\u001b[0m         \u001b[0;32mreturn\u001b[0m \u001b[0mwrap\u001b[0m\u001b[0;34m(\u001b[0m\u001b[0mres\u001b[0m\u001b[0;34m)\u001b[0m\u001b[0;34m\u001b[0m\u001b[0;34m\u001b[0m\u001b[0m\n\u001b[1;32m   2021\u001b[0m     \u001b[0ma\u001b[0m \u001b[0;34m=\u001b[0m \u001b[0ma\u001b[0m\u001b[0;34m.\u001b[0m\u001b[0mconjugate\u001b[0m\u001b[0;34m(\u001b[0m\u001b[0;34m)\u001b[0m\u001b[0;34m\u001b[0m\u001b[0;34m\u001b[0m\u001b[0m\n\u001b[0;32m-> 2022\u001b[0;31m     \u001b[0mu\u001b[0m\u001b[0;34m,\u001b[0m \u001b[0ms\u001b[0m\u001b[0;34m,\u001b[0m \u001b[0mvt\u001b[0m \u001b[0;34m=\u001b[0m \u001b[0msvd\u001b[0m\u001b[0;34m(\u001b[0m\u001b[0ma\u001b[0m\u001b[0;34m,\u001b[0m \u001b[0mfull_matrices\u001b[0m\u001b[0;34m=\u001b[0m\u001b[0;32mFalse\u001b[0m\u001b[0;34m,\u001b[0m \u001b[0mhermitian\u001b[0m\u001b[0;34m=\u001b[0m\u001b[0mhermitian\u001b[0m\u001b[0;34m)\u001b[0m\u001b[0;34m\u001b[0m\u001b[0;34m\u001b[0m\u001b[0m\n\u001b[0m\u001b[1;32m   2023\u001b[0m \u001b[0;34m\u001b[0m\u001b[0m\n\u001b[1;32m   2024\u001b[0m     \u001b[0;31m# discard small singular values\u001b[0m\u001b[0;34m\u001b[0m\u001b[0;34m\u001b[0m\u001b[0m\n",
      "\u001b[0;32m~/.local/lib/python3.10/site-packages/numpy/linalg/linalg.py\u001b[0m in \u001b[0;36msvd\u001b[0;34m(a, full_matrices, compute_uv, hermitian)\u001b[0m\n\u001b[1;32m   1679\u001b[0m \u001b[0;34m\u001b[0m\u001b[0m\n\u001b[1;32m   1680\u001b[0m         \u001b[0msignature\u001b[0m \u001b[0;34m=\u001b[0m \u001b[0;34m'D->DdD'\u001b[0m \u001b[0;32mif\u001b[0m \u001b[0misComplexType\u001b[0m\u001b[0;34m(\u001b[0m\u001b[0mt\u001b[0m\u001b[0;34m)\u001b[0m \u001b[0;32melse\u001b[0m \u001b[0;34m'd->ddd'\u001b[0m\u001b[0;34m\u001b[0m\u001b[0;34m\u001b[0m\u001b[0m\n\u001b[0;32m-> 1681\u001b[0;31m         \u001b[0mu\u001b[0m\u001b[0;34m,\u001b[0m \u001b[0ms\u001b[0m\u001b[0;34m,\u001b[0m \u001b[0mvh\u001b[0m \u001b[0;34m=\u001b[0m \u001b[0mgufunc\u001b[0m\u001b[0;34m(\u001b[0m\u001b[0ma\u001b[0m\u001b[0;34m,\u001b[0m \u001b[0msignature\u001b[0m\u001b[0;34m=\u001b[0m\u001b[0msignature\u001b[0m\u001b[0;34m,\u001b[0m \u001b[0mextobj\u001b[0m\u001b[0;34m=\u001b[0m\u001b[0mextobj\u001b[0m\u001b[0;34m)\u001b[0m\u001b[0;34m\u001b[0m\u001b[0;34m\u001b[0m\u001b[0m\n\u001b[0m\u001b[1;32m   1682\u001b[0m         \u001b[0mu\u001b[0m \u001b[0;34m=\u001b[0m \u001b[0mu\u001b[0m\u001b[0;34m.\u001b[0m\u001b[0mastype\u001b[0m\u001b[0;34m(\u001b[0m\u001b[0mresult_t\u001b[0m\u001b[0;34m,\u001b[0m \u001b[0mcopy\u001b[0m\u001b[0;34m=\u001b[0m\u001b[0;32mFalse\u001b[0m\u001b[0;34m)\u001b[0m\u001b[0;34m\u001b[0m\u001b[0;34m\u001b[0m\u001b[0m\n\u001b[1;32m   1683\u001b[0m         \u001b[0ms\u001b[0m \u001b[0;34m=\u001b[0m \u001b[0ms\u001b[0m\u001b[0;34m.\u001b[0m\u001b[0mastype\u001b[0m\u001b[0;34m(\u001b[0m\u001b[0m_realType\u001b[0m\u001b[0;34m(\u001b[0m\u001b[0mresult_t\u001b[0m\u001b[0;34m)\u001b[0m\u001b[0;34m,\u001b[0m \u001b[0mcopy\u001b[0m\u001b[0;34m=\u001b[0m\u001b[0;32mFalse\u001b[0m\u001b[0;34m)\u001b[0m\u001b[0;34m\u001b[0m\u001b[0;34m\u001b[0m\u001b[0m\n",
      "\u001b[0;31mUFuncTypeError\u001b[0m: Cannot cast ufunc 'svd_n_s' input from dtype('O') to dtype('float64') with casting rule 'same_kind'"
     ]
    }
   ],
   "source": [
    "#IRLS\n",
    "splitting_seeds = [42, 43, 44, 45, 46]\n",
    "irls_accuracy = []\n",
    "for seed in splitting_seeds:\n",
    "    X_train, X_test, y_train, y_test = train_test_split(X_int, y, test_size=0.2, random_state=seed)\n",
    "    logistic_regression_model = LogisticRegression(input_dim=X_train.shape[1])\n",
    "    irls_optimizer = IRLS()\n",
    "\n",
    "    logistic_regression_model.train(X_train, y_train, optimizer=irls_optimizer, patience=10, epochs=500, batch_size=32)\n",
    "    y_pred = logistic_regression_model.predict(X_test)\n",
    "    irls_accuracy.append(balanced_accuracy_score(y_test,y_pred.round()))\n",
    "    print(f\"accuracy : {balanced_accuracy_score(y_test,y_pred.round())}\")\n",
    "    logistic_regression_model.plot_loss()"
   ]
  },
  {
   "cell_type": "code",
   "execution_count": 62,
   "metadata": {},
   "outputs": [],
   "source": [
    "# Comparison Models\n",
    "from utils import fitComparisonModels\n",
    "splitting_seeds = [42, 43, 44, 45, 46]\n",
    "comparison_accuracy = []\n",
    "with open('my_results.csv', 'a') as f:    \n",
    "    for seed in splitting_seeds:\n",
    "        X_train, X_test, y_train, y_test = train_test_split(X_int, y, test_size=0.2, random_state=seed)\n",
    "        y_lda, y_qda, y_dt, y_rf = fitComparisonModels(X_train, y_train, X_test)\n",
    "    f.write(f\"banana_data, lda+int\")\n",
    "    for seed in splitting_seeds:\n",
    "        X_train, X_test, y_train, y_test = train_test_split(X_int, y, test_size=0.2, random_state=seed)\n",
    "        y_lda, y_qda, y_dt, y_rf = fitComparisonModels(X_train, y_train, X_test)\n",
    "        f.write(f\", {balanced_accuracy_score(y_test, y_lda)}\")\n",
    "    f.write('\\n')\n",
    "    f.write(f\"banana_data, qda+int\")\n",
    "    for seed in splitting_seeds:\n",
    "        X_train, X_test, y_train, y_test = train_test_split(X_int, y, test_size=0.2, random_state=seed)\n",
    "        y_lda, y_qda, y_dt, y_rf = fitComparisonModels(X_train, y_train, X_test)\n",
    "        f.write(f\", {balanced_accuracy_score(y_test, y_qda)}\")\n",
    "    f.write('\\n')\n",
    "    f.write(f\"banana_data, dt+int\")\n",
    "    for seed in splitting_seeds:\n",
    "        X_train, X_test, y_train, y_test = train_test_split(X_int, y, test_size=0.2, random_state=seed)\n",
    "        y_lda, y_qda, y_dt, y_rf = fitComparisonModels(X_train, y_train, X_test)\n",
    "        f.write(f\", {balanced_accuracy_score(y_test, y_dt)}\")\n",
    "    f.write('\\n')\n",
    "    f.write(f\"banana_data, rf+int\")\n",
    "    for seed in splitting_seeds:\n",
    "        X_train, X_test, y_train, y_test = train_test_split(X_int, y, test_size=0.2, random_state=seed)\n",
    "        y_lda, y_qda, y_dt, y_rf = fitComparisonModels(X_train, y_train, X_test)\n",
    "        f.write(f\", {balanced_accuracy_score(y_test, y_rf)}\")\n",
    "    f.write('\\n')\n"
   ]
  }
 ],
 "metadata": {
  "kernelspec": {
   "display_name": "Python 3",
   "language": "python",
   "name": "python3"
  },
  "language_info": {
   "codemirror_mode": {
    "name": "ipython",
    "version": 3
   },
   "file_extension": ".py",
   "mimetype": "text/x-python",
   "name": "python",
   "nbconvert_exporter": "python",
   "pygments_lexer": "ipython3",
   "version": "3.10.12"
  }
 },
 "nbformat": 4,
 "nbformat_minor": 2
}
