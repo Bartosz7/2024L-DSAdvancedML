{
 "cells": [
  {
   "cell_type": "code",
   "execution_count": 1,
   "metadata": {
    "ExecuteTime": {
     "end_time": "2024-04-03T10:56:12.951094Z",
     "start_time": "2024-04-03T10:56:11.501130Z"
    }
   },
   "outputs": [],
   "source": [
    "import numpy as np\n",
    "import pandas as pd\n",
    "import matplotlib.pyplot as plt\n",
    "from Adam import AdamOptim\n",
    "from SGD import SGD\n",
    "from utils import *\n",
    "from sklearn.model_selection import train_test_split\n",
    "from sklearn.metrics import balanced_accuracy_score, accuracy_score\n",
    "from Logreg import LogisticRegression\n",
    "from irls_optimizer import IRLS\n",
    "from sklearn.preprocessing import LabelEncoder\n",
    "np.seterr(divide = 'ignore') \n",
    "np.seterr(invalid='ignore')\n",
    "np.seterr(over ='ignore')\n",
    "from sklearn.preprocessing import StandardScaler\n",
    "from scipy.io import arff"
   ],
   "id": "c2d1a9f3da2cccf0"
  },
  {
   "cell_type": "markdown",
   "metadata": {},
   "source": [
    "# Biodeg"
   ],
   "id": "8c1b88642c35e340"
  },
  {
   "cell_type": "markdown",
   "metadata": {},
   "source": [
    "## Balanced accuracy"
   ],
   "id": "ecc9c7a70c7b44e"
  },
  {
   "cell_type": "code",
   "execution_count": 2,
   "metadata": {
    "ExecuteTime": {
     "end_time": "2024-04-03T10:56:13.248775Z",
     "start_time": "2024-04-03T10:56:12.951294Z"
    }
   },
   "outputs": [
    {
     "ename": "FileNotFoundError",
     "evalue": "[Errno 2] No such file or directory: 'data/big/biodeg.arff'",
     "output_type": "error",
     "traceback": [
      "\u001B[0;31m---------------------------------------------------------------------------\u001B[0m",
      "\u001B[0;31mFileNotFoundError\u001B[0m                         Traceback (most recent call last)",
      "Cell \u001B[0;32mIn[2], line 1\u001B[0m\n\u001B[0;32m----> 1\u001B[0m arff_file \u001B[38;5;241m=\u001B[39m \u001B[43marff\u001B[49m\u001B[38;5;241;43m.\u001B[39;49m\u001B[43mloadarff\u001B[49m\u001B[43m(\u001B[49m\u001B[38;5;124;43m'\u001B[39;49m\u001B[38;5;124;43mdata/big/biodeg.arff\u001B[39;49m\u001B[38;5;124;43m'\u001B[39;49m\u001B[43m)\u001B[49m\n\u001B[1;32m      2\u001B[0m df \u001B[38;5;241m=\u001B[39m pd\u001B[38;5;241m.\u001B[39mDataFrame(arff_file[\u001B[38;5;241m0\u001B[39m])\n",
      "File \u001B[0;32m~/.pyenv/versions/3.9.16/envs/DEaV/lib/python3.9/site-packages/scipy/io/arff/_arffread.py:800\u001B[0m, in \u001B[0;36mloadarff\u001B[0;34m(f)\u001B[0m\n\u001B[1;32m    798\u001B[0m     ofile \u001B[38;5;241m=\u001B[39m f\n\u001B[1;32m    799\u001B[0m \u001B[38;5;28;01melse\u001B[39;00m:\n\u001B[0;32m--> 800\u001B[0m     ofile \u001B[38;5;241m=\u001B[39m \u001B[38;5;28;43mopen\u001B[39;49m\u001B[43m(\u001B[49m\u001B[43mf\u001B[49m\u001B[43m,\u001B[49m\u001B[43m \u001B[49m\u001B[38;5;124;43m'\u001B[39;49m\u001B[38;5;124;43mrt\u001B[39;49m\u001B[38;5;124;43m'\u001B[39;49m\u001B[43m)\u001B[49m\n\u001B[1;32m    801\u001B[0m \u001B[38;5;28;01mtry\u001B[39;00m:\n\u001B[1;32m    802\u001B[0m     \u001B[38;5;28;01mreturn\u001B[39;00m _loadarff(ofile)\n",
      "\u001B[0;31mFileNotFoundError\u001B[0m: [Errno 2] No such file or directory: 'data/big/biodeg.arff'"
     ]
    }
   ],
   "source": [
    "arff_file = arff.loadarff('data/big/biodeg.arff')\n",
    "df = pd.DataFrame(arff_file[0])"
   ],
   "id": "13b94f064775cc7"
  },
  {
   "cell_type": "code",
   "execution_count": null,
   "metadata": {
    "ExecuteTime": {
     "end_time": "2024-04-03T10:56:13.373418Z",
     "start_time": "2024-04-03T10:56:13.269381Z"
    }
   },
   "outputs": [],
   "source": [
    "y = df.iloc[:,-1].astype(int).values -1\n",
    "X = df.iloc[:,:-1].values"
   ],
   "id": "f14510abb9ddd9b5"
  },
  {
   "cell_type": "code",
   "execution_count": null,
   "metadata": {
    "collapsed": true,
    "ExecuteTime": {
     "start_time": "2024-04-03T10:56:13.272946Z"
    }
   },
   "outputs": [],
   "source": [
    "#All\n",
    "splitting_seeds = [42, 43, 44, 45, 46]\n",
    "\n",
    "balancedAdam = []\n",
    "balancedSGD = []\n",
    "balancedIRLS = []\n",
    "\n",
    "for seed in splitting_seeds:\n",
    "    Xtrain, Xtest, ytrain, ytest = train_test_split(X, y, test_size=0.2, random_state=seed)\n",
    "    Xtrain, Xval, ytrain, yval = train_test_split(Xtrain, ytrain, test_size=0.2, random_state=seed)\n",
    "    \n",
    "    scaler = StandardScaler()\n",
    "    Xtrain = scaler.fit_transform(Xtrain)\n",
    "    Xval = scaler.transform(Xval)\n",
    "    Xtest = scaler.transform(Xtest)\n",
    "\n",
    "    \n",
    "    logAdam = LogisticRegression(input_dim=Xtrain.shape[1])\n",
    "    logSGD = LogisticRegression(input_dim=Xtrain.shape[1])\n",
    "    logIRLS = LogisticRegression(input_dim=Xtrain.shape[1])\n",
    "    logAdam.train(Xtrain, ytrain, optimizer=AdamOptim(eta=0.01), epochs=500, batch_size=32, X_val=Xval, y_val=yval, patience=5)\n",
    "    logSGD.train(Xtrain, ytrain, optimizer=SGD(eta=0.01), epochs=500, batch_size=32, X_val=Xval, y_val=yval, patience=5)\n",
    "    logIRLS.train(Xtrain, ytrain, optimizer=IRLS(), epochs=500, batch_size=Xtrain.shape[0], X_val=Xval, y_val=yval, patience=5)\n",
    "    \n",
    "    predAdam = logAdam.predict(Xtest)\n",
    "    predSGD = logSGD.predict(Xtest)\n",
    "    predIRLS = logIRLS.predict(Xtest)\n",
    "    \n",
    "    balancedAdam.append(balanced_accuracy_score(ytest,predAdam.round()))\n",
    "    balancedSGD.append(balanced_accuracy_score(ytest,predSGD.round()))\n",
    "    balancedIRLS.append(balanced_accuracy_score(ytest,predIRLS.round()))\n",
    "    \n",
    "\n",
    "    \n",
    "biodegBalanced = {\"adam\": balancedAdam,\n",
    "                    \"sgd\": balancedSGD,\n",
    "                    \"irls\": balancedIRLS}"
   ],
   "id": "2be164fbe62bf9fe"
  },
  {
   "cell_type": "code",
   "execution_count": null,
   "metadata": {
    "scrolled": true,
    "ExecuteTime": {
     "start_time": "2024-04-03T10:56:13.276741Z"
    }
   },
   "outputs": [],
   "source": [
    "biodegBalanced"
   ],
   "id": "cd307817c302fe9d"
  },
  {
   "cell_type": "markdown",
   "metadata": {},
   "source": [
    "# Convergence"
   ],
   "id": "752fb7fa65c9e26b"
  },
  {
   "cell_type": "code",
   "execution_count": null,
   "metadata": {
    "collapsed": true,
    "ExecuteTime": {
     "start_time": "2024-04-03T10:56:13.281117Z"
    }
   },
   "outputs": [],
   "source": [
    "Xtrain, Xtest, ytrain, ytest = train_test_split(X, y, test_size=0.2, random_state=2)\n",
    "Xtrain, Xval, ytrain, yval = train_test_split(Xtrain, ytrain, test_size=0.2, random_state=2)\n",
    "\n",
    "scaler = StandardScaler()\n",
    "Xtrain = scaler.fit_transform(Xtrain)\n",
    "Xval = scaler.transform(Xval)\n",
    "\n",
    "logAdam = LogisticRegression(input_dim=Xtrain.shape[1])\n",
    "logSGD = LogisticRegression(input_dim=Xtrain.shape[1])\n",
    "logIRLS = LogisticRegression(input_dim=Xtrain.shape[1])\n",
    "logAdam.train(Xtrain, ytrain, optimizer=AdamOptim(eta=0.01), epochs=500, batch_size=32, X_val=Xval, y_val=yval, patience=5)\n",
    "logSGD.train(Xtrain, ytrain, optimizer=SGD(eta=0.01), epochs=500, batch_size=32, X_val=Xval, y_val=yval, patience=5)\n",
    "logIRLS.train(Xtrain, ytrain, optimizer=IRLS(), epochs=500, batch_size=Xtrain.shape[0], X_val=Xval, y_val=yval, patience=5)\n",
    "\n",
    "biodegConvergence = {\"adam\": logAdam.get_params()[4],\n",
    "                       \"sgd\": logSGD.get_params()[4],\n",
    "                       \"irls\": logIRLS.get_params()[4]}"
   ],
   "id": "1401066bcaa62e84"
  },
  {
   "cell_type": "code",
   "execution_count": null,
   "metadata": {
    "scrolled": true,
    "ExecuteTime": {
     "start_time": "2024-04-03T10:56:13.284654Z"
    }
   },
   "outputs": [],
   "source": [
    "logAdam.plot_loss()"
   ],
   "id": "b62e3bbc5a1430c0"
  },
  {
   "cell_type": "code",
   "execution_count": null,
   "metadata": {
    "scrolled": true,
    "ExecuteTime": {
     "start_time": "2024-04-03T10:56:13.287165Z"
    }
   },
   "outputs": [],
   "source": [
    "logSGD.plot_loss()"
   ],
   "id": "31f533b9738e59a0"
  },
  {
   "cell_type": "code",
   "execution_count": null,
   "metadata": {
    "scrolled": true,
    "ExecuteTime": {
     "start_time": "2024-04-03T10:56:13.290090Z"
    }
   },
   "outputs": [],
   "source": [
    "logIRLS.plot_loss()"
   ],
   "id": "bbb826e48eb42e96"
  },
  {
   "cell_type": "code",
   "execution_count": null,
   "metadata": {
    "ExecuteTime": {
     "start_time": "2024-04-03T10:56:13.293386Z"
    }
   },
   "outputs": [],
   "source": [
    "for key, value in biodegConvergence.items():\n",
    "    np.save(f\"results/loss/{key}/biodeg\", np.array(value))"
   ],
   "id": "9611600f4bb590a1"
  },
  {
   "cell_type": "markdown",
   "metadata": {},
   "source": [
    "## Comparison with other models"
   ],
   "id": "304cc2c4b95de75f"
  },
  {
   "cell_type": "code",
   "execution_count": null,
   "metadata": {
    "ExecuteTime": {
     "start_time": "2024-04-03T10:56:13.297105Z"
    }
   },
   "outputs": [],
   "source": [
    "#All\n",
    "splitting_seeds = [42, 43, 44, 45, 46]\n",
    "\n",
    "# compAdam = []\n",
    "# compSGD = []\n",
    "# compIRLS = []\n",
    "compLDA = []\n",
    "compQDA = []\n",
    "compTree = []\n",
    "compForest = []\n",
    "\n",
    "for seed in splitting_seeds:\n",
    "    Xtrain, Xtest, ytrain, ytest = train_test_split(X, y, test_size=0.2, random_state=seed)\n",
    "    \n",
    "    scaler = StandardScaler()\n",
    "    Xtrain = scaler.fit_transform(Xtrain)\n",
    "    Xtest = scaler.transform(Xtest)\n",
    "\n",
    "    \n",
    "#     logAdam = LogisticRegression(input_dim=Xtrain.shape[1])\n",
    "#     logSGD = LogisticRegression(input_dim=Xtrain.shape[1])\n",
    "#     logIRLS = LogisticRegression(input_dim=Xtrain.shape[1])\n",
    "#     logAdam.train(Xtrain, ytrain, optimizer=AdamOptim(eta=0.01), epochs=500, batch_size=32, patience=5)\n",
    "#     logSGD.train(Xtrain, ytrain, optimizer=SGD(eta=0.01), epochs=500, batch_size=32, patience=5)\n",
    "#     logIRLS.train(Xtrain, ytrain, optimizer=IRLS(), epochs=500, batch_size=32, patience=5)\n",
    "    \n",
    "#     predAdam = logAdam.predict(Xtest)\n",
    "#     predSGD = logSGD.predict(Xtest)\n",
    "#     predIRLS = logIRLS.predict(Xtest)\n",
    "    \n",
    "#     compAdam.append(balanced_accuracy_score(ytest,predAdam.round()))\n",
    "#     compSGD.append(balanced_accuracy_score(ytest,predSGD.round()))\n",
    "#     compIRLS.append(balanced_accuracy_score(ytest,predIRLS.round()))\n",
    "    \n",
    "    lda, qda, tree, forest = fitComparisonModels(Xtrain, ytrain, Xtest)\n",
    "    \n",
    "    compLDA.append(balanced_accuracy_score(lda, ytest))\n",
    "    compQDA.append(balanced_accuracy_score(qda, ytest))\n",
    "    compTree.append(balanced_accuracy_score(tree, ytest))\n",
    "    compForest.append(balanced_accuracy_score(forest, ytest))\n",
    "    \n",
    "    \n",
    "biodegComp = { \"lda\": compLDA,\n",
    "                \"qda\": compQDA,\n",
    "                \"dt\": compTree,\n",
    "                \"rf\": compForest}\n",
    "    \n"
   ],
   "id": "cd630cb9d85c2210"
  },
  {
   "cell_type": "code",
   "execution_count": null,
   "metadata": {
    "scrolled": false,
    "ExecuteTime": {
     "start_time": "2024-04-03T10:56:13.301372Z"
    }
   },
   "outputs": [],
   "source": [
    "biodegComp"
   ],
   "id": "c028e6c150768e93"
  },
  {
   "cell_type": "markdown",
   "metadata": {},
   "source": [
    "# Parkinson"
   ],
   "id": "18d2eed2444f8758"
  },
  {
   "cell_type": "markdown",
   "metadata": {},
   "source": [
    "## Balanced accuracy"
   ],
   "id": "c6e27c0579ba1569"
  },
  {
   "cell_type": "code",
   "execution_count": null,
   "metadata": {
    "ExecuteTime": {
     "start_time": "2024-04-03T10:56:13.304515Z"
    }
   },
   "outputs": [],
   "source": [
    "parkinson = pd.read_csv(\"data/big/parkinsons.csv\")\n",
    "y = parkinson[\"status\"].values\n",
    "X = parkinson.drop(['name', 'status'], axis=1).values"
   ],
   "id": "413298fc965e222a"
  },
  {
   "cell_type": "code",
   "execution_count": null,
   "metadata": {
    "ExecuteTime": {
     "start_time": "2024-04-03T10:56:13.307887Z"
    }
   },
   "outputs": [],
   "source": [
    "#All\n",
    "splitting_seeds = [42, 43, 44, 45, 46]\n",
    "\n",
    "balancedAdam = []\n",
    "balancedSGD = []\n",
    "balancedIRLS = []\n",
    "\n",
    "for seed in splitting_seeds:\n",
    "    Xtrain, Xtest, ytrain, ytest = train_test_split(X, y, test_size=0.2, random_state=seed)\n",
    "    Xtrain, Xval, ytrain, yval = train_test_split(Xtrain, ytrain, test_size=0.2, random_state=seed)\n",
    "    \n",
    "    scaler = StandardScaler()\n",
    "    Xtrain = scaler.fit_transform(Xtrain)\n",
    "    Xval = scaler.transform(Xval)\n",
    "    Xtest = scaler.transform(Xtest)\n",
    "\n",
    "    \n",
    "    logAdam = LogisticRegression(input_dim=Xtrain.shape[1])\n",
    "    logSGD = LogisticRegression(input_dim=Xtrain.shape[1])\n",
    "    logIRLS = LogisticRegression(input_dim=Xtrain.shape[1])\n",
    "    logAdam.train(Xtrain, ytrain, optimizer=AdamOptim(eta=0.01), epochs=500, batch_size=32, X_val=Xval, y_val=yval, patience=5)\n",
    "    logSGD.train(Xtrain, ytrain, optimizer=SGD(eta=0.01), epochs=500, batch_size=32, X_val=Xval, y_val=yval, patience=5)\n",
    "    logIRLS.train(Xtrain, ytrain, optimizer=IRLS(), epochs=500, batch_size=Xtrain.shape[0], X_val=Xval, y_val=yval, patience=5)\n",
    "    \n",
    "    predAdam = logAdam.predict(Xtest)\n",
    "    predSGD = logSGD.predict(Xtest)\n",
    "    predIRLS = logIRLS.predict(Xtest)\n",
    "    \n",
    "    balancedAdam.append(balanced_accuracy_score(ytest,predAdam.round()))\n",
    "    balancedSGD.append(balanced_accuracy_score(ytest,predSGD.round()))\n",
    "    balancedIRLS.append(balanced_accuracy_score(ytest,predIRLS.round()))\n",
    "    \n",
    "\n",
    "    \n",
    "parkinsonBalanced = {\"adam\": balancedAdam,\n",
    "                    \"sgd\": balancedSGD,\n",
    "                    \"irls\": balancedIRLS}"
   ],
   "id": "44a1b72cd2f5701d"
  },
  {
   "cell_type": "code",
   "execution_count": null,
   "metadata": {
    "ExecuteTime": {
     "start_time": "2024-04-03T10:56:13.312010Z"
    }
   },
   "outputs": [],
   "source": [
    "parkinsonBalanced = {\"adam\": balancedAdam,\n",
    "                    \"sgd\": balancedSGD,\n",
    "                    \"irls\": balancedIRLS}"
   ],
   "id": "239a809d69b7b3e"
  },
  {
   "cell_type": "markdown",
   "metadata": {},
   "source": [
    "## Convergence"
   ],
   "id": "fc91e786a2ee5bfe"
  },
  {
   "cell_type": "code",
   "execution_count": null,
   "metadata": {
    "scrolled": true,
    "ExecuteTime": {
     "start_time": "2024-04-03T10:56:13.314631Z"
    }
   },
   "outputs": [],
   "source": [
    "Xtrain, Xval, ytrain, yval = train_test_split(Xtrain, ytrain, test_size=0.2, random_state=1)\n",
    "scaler = StandardScaler()\n",
    "Xtrain = scaler.fit_transform(Xtrain)\n",
    "Xval = scaler.transform(Xval)\n",
    "\n",
    "logAdam = LogisticRegression(input_dim=Xtrain.shape[1])\n",
    "logSGD = LogisticRegression(input_dim=Xtrain.shape[1])\n",
    "logIRLS = LogisticRegression(input_dim=Xtrain.shape[1])\n",
    "logAdam.train(Xtrain, ytrain, optimizer=AdamOptim(eta=0.01), epochs=500, batch_size=32, X_val=Xval, y_val=yval, patience=5)\n",
    "logSGD.train(Xtrain, ytrain, optimizer=SGD(eta=0.01), epochs=500, batch_size=32, X_val=Xval, y_val=yval, patience=5)\n",
    "logIRLS.train(Xtrain, ytrain, optimizer=IRLS(), epochs=500, batch_size=Xtrain.shape[0], X_val=Xval, y_val=yval, patience=5)"
   ],
   "id": "5dada7038058dbe6"
  },
  {
   "cell_type": "code",
   "execution_count": null,
   "metadata": {
    "ExecuteTime": {
     "start_time": "2024-04-03T10:56:13.318136Z"
    }
   },
   "outputs": [],
   "source": [
    "logAdam.plot_loss()"
   ],
   "id": "15e5facbe12b286"
  },
  {
   "cell_type": "code",
   "execution_count": null,
   "metadata": {
    "ExecuteTime": {
     "start_time": "2024-04-03T10:56:13.324696Z"
    }
   },
   "outputs": [],
   "source": [
    "logSGD.plot_loss()"
   ],
   "id": "caea7aed83e4c25d"
  },
  {
   "cell_type": "code",
   "execution_count": null,
   "metadata": {
    "ExecuteTime": {
     "start_time": "2024-04-03T10:56:13.327824Z"
    }
   },
   "outputs": [],
   "source": [
    "logIRLS.plot_loss()"
   ],
   "id": "ceb58506ca49c67b"
  },
  {
   "cell_type": "code",
   "execution_count": null,
   "metadata": {
    "ExecuteTime": {
     "start_time": "2024-04-03T10:56:13.329114Z"
    }
   },
   "outputs": [],
   "source": [
    "parkinsonConvergence = {\"adam\": logAdam.get_params()[4],\n",
    "                       \"sgd\": logSGD.get_params()[4],\n",
    "                       \"irls\": logIRLS.get_params()[4]}"
   ],
   "id": "3ed6d879f1add4df"
  },
  {
   "cell_type": "code",
   "execution_count": null,
   "metadata": {
    "ExecuteTime": {
     "start_time": "2024-04-03T10:56:13.331515Z"
    }
   },
   "outputs": [],
   "source": [
    "for key, value in parkinsonConvergence.items():\n",
    "    np.save(f\"results/loss/{key}/parkinson\", np.array(value))"
   ],
   "id": "f6058b8fbea73f8d"
  },
  {
   "cell_type": "markdown",
   "metadata": {},
   "source": [
    "## Comparison with other models"
   ],
   "id": "f6b72ab1f5986bdc"
  },
  {
   "cell_type": "code",
   "execution_count": null,
   "metadata": {
    "ExecuteTime": {
     "start_time": "2024-04-03T10:56:13.335150Z"
    }
   },
   "outputs": [],
   "source": [
    "#All\n",
    "splitting_seeds = [42, 43, 44, 45, 46]\n",
    "\n",
    "# compAdam = []\n",
    "# compSGD = []\n",
    "# compIRLS = []\n",
    "compLDA = []\n",
    "compQDA = []\n",
    "compTree = []\n",
    "compForest = []\n",
    "\n",
    "for seed in splitting_seeds:\n",
    "    Xtrain, Xtest, ytrain, ytest = train_test_split(X, y, test_size=0.2, random_state=seed)\n",
    "    \n",
    "    scaler = StandardScaler()\n",
    "    Xtrain = scaler.fit_transform(Xtrain)\n",
    "    Xtest = scaler.transform(Xtest)\n",
    "\n",
    "    \n",
    "#     logAdam = LogisticRegression(input_dim=Xtrain.shape[1])\n",
    "#     logSGD = LogisticRegression(input_dim=Xtrain.shape[1])\n",
    "#     logIRLS = LogisticRegression(input_dim=Xtrain.shape[1])\n",
    "#     logAdam.train(Xtrain, ytrain, optimizer=AdamOptim(eta=0.01), epochs=500, batch_size=32, patience=5)\n",
    "#     logSGD.train(Xtrain, ytrain, optimizer=SGD(eta=0.01), epochs=500, batch_size=32, patience=5)\n",
    "#     logIRLS.train(Xtrain, ytrain, optimizer=IRLS(), epochs=500, batch_size=32, patience=5)\n",
    "    \n",
    "#     predAdam = logAdam.predict(Xtest)\n",
    "#     predSGD = logSGD.predict(Xtest)\n",
    "#     predIRLS = logIRLS.predict(Xtest)\n",
    "    \n",
    "#     compAdam.append(balanced_accuracy_score(ytest,predAdam.round()))\n",
    "#     compSGD.append(balanced_accuracy_score(ytest,predSGD.round()))\n",
    "#     compIRLS.append(balanced_accuracy_score(ytest,predIRLS.round()))\n",
    "    \n",
    "    lda, qda, tree, forest = fitComparisonModels(Xtrain, ytrain, Xtest)\n",
    "    \n",
    "    compLDA.append(balanced_accuracy_score(lda, ytest))\n",
    "    compQDA.append(balanced_accuracy_score(qda, ytest))\n",
    "    compTree.append(balanced_accuracy_score(tree, ytest))\n",
    "    compForest.append(balanced_accuracy_score(forest, ytest))\n",
    "    \n",
    "    \n",
    "parkinsonComp = {#\"adam\": compAdam,\n",
    "                #\"sgd\": compSGD,\n",
    "                #\"irls\": compIRLS,\n",
    "                \"lda\": compLDA,\n",
    "                \"qda\": compQDA,\n",
    "                \"dt\": compTree,\n",
    "                \"rf\": compForest}\n",
    "    \n"
   ],
   "id": "1261fb56b1308a37"
  },
  {
   "cell_type": "code",
   "execution_count": null,
   "metadata": {
    "scrolled": false,
    "ExecuteTime": {
     "start_time": "2024-04-03T10:56:13.339399Z"
    }
   },
   "outputs": [],
   "source": [
    "parkinsonComp"
   ],
   "id": "68c19619ef374ca6"
  },
  {
   "cell_type": "markdown",
   "metadata": {},
   "source": [
    "# Diabetes"
   ],
   "id": "382a95ee59ef161d"
  },
  {
   "cell_type": "markdown",
   "metadata": {},
   "source": [
    "## Balanced accuracy"
   ],
   "id": "7f230574295fcff0"
  },
  {
   "cell_type": "code",
   "execution_count": null,
   "metadata": {
    "ExecuteTime": {
     "start_time": "2024-04-03T10:56:13.343315Z"
    }
   },
   "outputs": [],
   "source": [
    "diabetes = pd.read_csv(\"data/small/diabetes.csv\")\n",
    "y = diabetes[\"Outcome\"].values\n",
    "X = diabetes.iloc[:, :-1].values"
   ],
   "id": "d5e31533791d6447"
  },
  {
   "cell_type": "code",
   "execution_count": null,
   "metadata": {
    "ExecuteTime": {
     "start_time": "2024-04-03T10:56:13.347020Z"
    }
   },
   "outputs": [],
   "source": [
    "#All\n",
    "splitting_seeds = [42, 43, 44, 45, 46]\n",
    "\n",
    "balancedAdam = []\n",
    "balancedSGD = []\n",
    "balancedIRLS = []\n",
    "\n",
    "for seed in splitting_seeds:\n",
    "    Xtrain, Xtest, ytrain, ytest = train_test_split(X, y, test_size=0.2, random_state=seed)\n",
    "    Xtrain, Xval, ytrain, yval = train_test_split(Xtrain, ytrain, test_size=0.2, random_state=seed)\n",
    "    \n",
    "    scaler = StandardScaler()\n",
    "    Xtrain = scaler.fit_transform(Xtrain)\n",
    "    Xval = scaler.transform(Xval)\n",
    "    Xtest = scaler.transform(Xtest)\n",
    "\n",
    "    \n",
    "    logAdam = LogisticRegression(input_dim=Xtrain.shape[1])\n",
    "    logSGD = LogisticRegression(input_dim=Xtrain.shape[1])\n",
    "    logIRLS = LogisticRegression(input_dim=Xtrain.shape[1])\n",
    "    logAdam.train(Xtrain, ytrain, optimizer=AdamOptim(eta=0.01), epochs=500, batch_size=32, X_val=Xval, y_val=yval, patience=5)\n",
    "    logSGD.train(Xtrain, ytrain, optimizer=SGD(eta=0.01), epochs=500, batch_size=32, X_val=Xval, y_val=yval, patience=5)\n",
    "    logIRLS.train(Xtrain, ytrain, optimizer=IRLS(), epochs=500, batch_size=Xtrain.shape[0], X_val=Xval, y_val=yval, patience=5)\n",
    "    \n",
    "    predAdam = logAdam.predict(Xtest)\n",
    "    predSGD = logSGD.predict(Xtest)\n",
    "    predIRLS = logIRLS.predict(Xtest)\n",
    "    \n",
    "    balancedAdam.append(balanced_accuracy_score(ytest,predAdam.round()))\n",
    "    balancedSGD.append(balanced_accuracy_score(ytest,predSGD.round()))\n",
    "    balancedIRLS.append(balanced_accuracy_score(ytest,predIRLS.round()))\n",
    "\n",
    "diabetesBalanced = {\"adam\": balancedAdam,\n",
    "                    \"sgd\": balancedSGD,\n",
    "                    \"irls\": balancedIRLS}"
   ],
   "id": "aa26c1955e6e2df7"
  },
  {
   "cell_type": "code",
   "execution_count": null,
   "metadata": {
    "scrolled": true,
    "ExecuteTime": {
     "start_time": "2024-04-03T10:56:13.351461Z"
    }
   },
   "outputs": [],
   "source": [
    "print(\"adam:\", balancedAdam)\n",
    "print(\"sgd:\", balancedSGD)\n",
    "print(\"IRLS:\", balancedIRLS)"
   ],
   "id": "45ac8eb58a94eff3"
  },
  {
   "cell_type": "markdown",
   "metadata": {},
   "source": [
    "## Convergence"
   ],
   "id": "d7b5b16554356fa4"
  },
  {
   "cell_type": "code",
   "execution_count": null,
   "metadata": {
    "ExecuteTime": {
     "start_time": "2024-04-03T10:56:13.354846Z"
    }
   },
   "outputs": [],
   "source": [
    "Xtrain, Xval, ytrain, yval = train_test_split(Xtrain, ytrain, test_size=0.2, random_state=1)\n",
    "scaler = StandardScaler()\n",
    "Xtrain = scaler.fit_transform(Xtrain)\n",
    "Xval = scaler.transform(Xval)\n",
    "\n",
    "logAdam = LogisticRegression(input_dim=Xtrain.shape[1])\n",
    "logSGD = LogisticRegression(input_dim=Xtrain.shape[1])\n",
    "logIRLS = LogisticRegression(input_dim=Xtrain.shape[1])\n",
    "logAdam.train(Xtrain, ytrain, optimizer=AdamOptim(eta=0.01), epochs=500, batch_size=32, X_val=Xval, y_val=yval, patience=5)\n",
    "logSGD.train(Xtrain, ytrain, optimizer=SGD(eta=0.01), epochs=500, batch_size=32, X_val=Xval, y_val=yval, patience=5)\n",
    "logIRLS.train(Xtrain, ytrain, optimizer=IRLS(), epochs=500, batch_size=Xtrain.shape[0], X_val=Xval, y_val=yval, patience=5)"
   ],
   "id": "73989dee31890b43"
  },
  {
   "cell_type": "code",
   "execution_count": null,
   "metadata": {
    "ExecuteTime": {
     "start_time": "2024-04-03T10:56:13.359335Z"
    }
   },
   "outputs": [],
   "source": [
    "logAdam.plot_loss()"
   ],
   "id": "8fa7495aca61ad8"
  },
  {
   "cell_type": "code",
   "execution_count": null,
   "metadata": {
    "ExecuteTime": {
     "start_time": "2024-04-03T10:56:13.362698Z"
    }
   },
   "outputs": [],
   "source": [
    "logSGD.plot_loss()"
   ],
   "id": "e8866cc261f529f0"
  },
  {
   "cell_type": "code",
   "execution_count": null,
   "metadata": {
    "ExecuteTime": {
     "start_time": "2024-04-03T10:56:13.364810Z"
    }
   },
   "outputs": [],
   "source": [
    "logIRLS.plot_loss()"
   ],
   "id": "a38b5a801ba297ef"
  },
  {
   "cell_type": "code",
   "execution_count": null,
   "metadata": {
    "ExecuteTime": {
     "start_time": "2024-04-03T10:56:13.370744Z"
    }
   },
   "outputs": [],
   "source": [
    "diabetesConvergence = {\"adam\": logAdam.get_params()[4],\n",
    "                       \"sgd\": logSGD.get_params()[4],\n",
    "                       \"irls\": logIRLS.get_params()[4]}"
   ],
   "id": "38fa71a17af80ea9"
  },
  {
   "cell_type": "code",
   "execution_count": null,
   "metadata": {
    "ExecuteTime": {
     "end_time": "2024-04-03T10:56:13.524380Z",
     "start_time": "2024-04-03T10:56:13.375110Z"
    }
   },
   "outputs": [],
   "source": [
    "for key, value in diabetesConvergence.items():\n",
    "    np.save(f\"results/loss/{key}/diabetes\", np.array(value))"
   ],
   "id": "3e0bd193c0290fd8"
  },
  {
   "cell_type": "markdown",
   "metadata": {},
   "source": [
    "## Comparison with othe models"
   ],
   "id": "a86f3b27f77b44d9"
  },
  {
   "cell_type": "code",
   "execution_count": null,
   "metadata": {
    "ExecuteTime": {
     "start_time": "2024-04-03T10:56:13.383329Z"
    }
   },
   "outputs": [],
   "source": [
    "#All\n",
    "splitting_seeds = [42, 43, 44, 45, 46]\n",
    "\n",
    "# compAdam = []\n",
    "# compSGD = []\n",
    "# compIRLS = []\n",
    "compLDA = []\n",
    "compQDA = []\n",
    "compTree = []\n",
    "compForest = []\n",
    "\n",
    "for seed in splitting_seeds:\n",
    "    Xtrain, Xtest, ytrain, ytest = train_test_split(X, y, test_size=0.2, random_state=seed)\n",
    "    \n",
    "    scaler = StandardScaler()\n",
    "    Xtrain = scaler.fit_transform(Xtrain)\n",
    "    Xtest = scaler.transform(Xtest)\n",
    "\n",
    "    \n",
    "#     logAdam = LogisticRegression(input_dim=Xtrain.shape[1])\n",
    "#     logSGD = LogisticRegression(input_dim=Xtrain.shape[1])\n",
    "#     logIRLS = LogisticRegression(input_dim=Xtrain.shape[1])\n",
    "#     logAdam.train(Xtrain, ytrain, optimizer=AdamOptim(eta=0.01), epochs=500, batch_size=32, patience=5)\n",
    "#     logSGD.train(Xtrain, ytrain, optimizer=SGD(eta=0.01), epochs=500, batch_size=32, patience=5)\n",
    "#     logIRLS.train(Xtrain, ytrain, optimizer=IRLS(), epochs=500, batch_size=32, patience=5)\n",
    "    \n",
    "#     predAdam = logAdam.predict(Xtest)\n",
    "#     predSGD = logSGD.predict(Xtest)\n",
    "#     predIRLS = logIRLS.predict(Xtest)\n",
    "    \n",
    "#     compAdam.append(balanced_accuracy_score(ytest,predAdam.round()))\n",
    "#     compSGD.append(balanced_accuracy_score(ytest,predSGD.round()))\n",
    "#     compIRLS.append(balanced_accuracy_score(ytest,predIRLS.round()))\n",
    "    \n",
    "    lda, qda, tree, forest = fitComparisonModels(Xtrain, ytrain, Xtest)\n",
    "    \n",
    "    compLDA.append(balanced_accuracy_score(lda, ytest))\n",
    "    compQDA.append(balanced_accuracy_score(qda, ytest))\n",
    "    compTree.append(balanced_accuracy_score(tree, ytest))\n",
    "    compForest.append(balanced_accuracy_score(forest, ytest))\n",
    "    \n",
    "    \n",
    "diabetesComp = {#\"adam\": compAdam,\n",
    "                #\"sgd\": compSGD,\n",
    "                #\"irls\": compIRLS,\n",
    "                \"lda\": compLDA,\n",
    "                \"qda\": compQDA,\n",
    "                \"dt\": compTree,\n",
    "                \"rf\": compForest}\n",
    "    \n"
   ],
   "id": "d3f984e428454331"
  },
  {
   "cell_type": "code",
   "execution_count": null,
   "metadata": {
    "ExecuteTime": {
     "start_time": "2024-04-03T10:56:13.388199Z"
    }
   },
   "outputs": [],
   "source": [
    "diabetesComp"
   ],
   "id": "a9d37c5f4a3cf925"
  },
  {
   "cell_type": "markdown",
   "metadata": {},
   "source": [
    "## Interactions"
   ],
   "id": "dd6ba95321450083"
  },
  {
   "cell_type": "code",
   "execution_count": null,
   "metadata": {
    "ExecuteTime": {
     "start_time": "2024-04-03T10:56:13.393432Z"
    }
   },
   "outputs": [],
   "source": [
    "Xint = createFeatureInteractions(X)"
   ],
   "id": "5d94da94b828fad3"
  },
  {
   "cell_type": "code",
   "execution_count": null,
   "metadata": {
    "ExecuteTime": {
     "start_time": "2024-04-03T10:56:13.395884Z"
    }
   },
   "outputs": [],
   "source": [
    "splitting_seeds = [42, 43, 44, 45, 46]\n",
    "\n",
    "intAdam = []\n",
    "intSGD = []\n",
    "intIRLS = []\n",
    "\n",
    "for seed in splitting_seeds:\n",
    "    Xtrain, Xtest, ytrain, ytest = train_test_split(Xint, y, test_size=0.2, random_state=seed)\n",
    "    Xtrain, Xval, ytrain, yval = train_test_split(Xtrain, ytrain, test_size=0.2, random_state=seed)\n",
    "    \n",
    "    scaler = StandardScaler()\n",
    "    Xtrain = scaler.fit_transform(Xtrain)\n",
    "    Xval = scaler.transform(Xval)\n",
    "    Xtest = scaler.transform(Xtest)\n",
    "\n",
    "    \n",
    "    logAdam = LogisticRegression(input_dim=Xtrain.shape[1])\n",
    "    logSGD = LogisticRegression(input_dim=Xtrain.shape[1])\n",
    "    logIRLS = LogisticRegression(input_dim=Xtrain.shape[1])\n",
    "    logAdam.train(Xtrain, ytrain, optimizer=AdamOptim(eta=0.01), epochs=500, batch_size=32, X_val=Xval, y_val=yval, patience=5)\n",
    "    logSGD.train(Xtrain, ytrain, optimizer=SGD(eta=0.01), epochs=500, batch_size=32, X_val=Xval, y_val=yval, patience=5)\n",
    "    logIRLS.train(Xtrain, ytrain, optimizer=IRLS(), epochs=500, batch_size=Xtrain.shape[0], X_val=Xval, y_val=yval, patience=5)\n",
    "    \n",
    "    predAdam = logAdam.predict(Xtest)\n",
    "    predSGD = logSGD.predict(Xtest)\n",
    "    predIRLS = logIRLS.predict(Xtest)\n",
    "    \n",
    "    intAdam.append(balanced_accuracy_score(ytest,predAdam.round()))\n",
    "    intSGD.append(balanced_accuracy_score(ytest,predSGD.round()))\n",
    "    intIRLS.append(balanced_accuracy_score(ytest,predIRLS.round()))\n",
    "    \n",
    "\n",
    "    \n",
    "diabetesInt = {\"adam\": intAdam,\n",
    "                    \"sgd\": intSGD,\n",
    "                    \"irls\": intIRLS}"
   ],
   "id": "8b0d1c0b4cfdb0df"
  },
  {
   "cell_type": "code",
   "execution_count": null,
   "metadata": {
    "scrolled": false,
    "ExecuteTime": {
     "start_time": "2024-04-03T10:56:13.398716Z"
    }
   },
   "outputs": [],
   "source": [
    "diabetesInt"
   ],
   "id": "e66436b96ccc0b8f"
  },
  {
   "cell_type": "code",
   "execution_count": null,
   "metadata": {
    "ExecuteTime": {
     "start_time": "2024-04-03T10:56:13.401458Z"
    }
   },
   "outputs": [],
   "source": [
    "diabetesIntConvergence = {\"adam\": logAdam.get_params()[4],\n",
    "                       \"sgd\": logSGD.get_params()[4],\n",
    "                       \"irls\": logIRLS.get_params()[4]}"
   ],
   "id": "caeac83e7e73f421"
  },
  {
   "cell_type": "code",
   "execution_count": null,
   "metadata": {
    "ExecuteTime": {
     "start_time": "2024-04-03T10:56:13.403443Z"
    }
   },
   "outputs": [],
   "source": [
    "for key, value in diabetesIntConvergence.items():\n",
    "    np.save(f\"results/loss/{key}/diabetesInt\", np.array(value))"
   ],
   "id": "cc7b4821423d1d97"
  },
  {
   "cell_type": "markdown",
   "metadata": {},
   "source": [
    "# wraping up the results"
   ],
   "id": "7850664de6c36b29"
  },
  {
   "cell_type": "code",
   "execution_count": null,
   "metadata": {
    "ExecuteTime": {
     "start_time": "2024-04-03T10:56:13.404993Z"
    }
   },
   "outputs": [],
   "source": [
    "balancedAccuracy = pd.DataFrame(columns=[\"data_set\", \"optimizer\", \"seed_42_acc\", \"seed_43_acc\", \"seed_44_acc\", \"seed_45_acc\", \"seed_46_acc\"])"
   ],
   "id": "fb1f11903e1af988"
  },
  {
   "cell_type": "code",
   "execution_count": null,
   "metadata": {
    "ExecuteTime": {
     "start_time": "2024-04-03T10:56:13.408914Z"
    }
   },
   "outputs": [],
   "source": [
    "balanced = {\"biodeg\": biodegBalanced,\n",
    "           \"parkinson\": parkinsonBalanced,\n",
    "           \"diabetes\": diabetesBalanced}\n",
    "for dataSetName, value in balanced.items():\n",
    "    for opt, acc in value.items():\n",
    "        balancedAccuracy.loc[balancedAccuracy.shape[0]] = [dataSetName+\"_data\", opt] + acc"
   ],
   "id": "f748587fa645bbf2"
  },
  {
   "cell_type": "code",
   "execution_count": null,
   "metadata": {
    "ExecuteTime": {
     "start_time": "2024-04-03T10:56:13.410763Z"
    }
   },
   "outputs": [],
   "source": [
    "comp = {\"biodeg\": biodegComp,\n",
    "           \"parkinson\": parkinsonComp,\n",
    "           \"diabetes\": diabetesComp}\n",
    "for dataSetName, value in comp.items():\n",
    "    for opt, acc in value.items():\n",
    "        balancedAccuracy.loc[balancedAccuracy.shape[0]] = [dataSetName+\"_data\", opt] + acc"
   ],
   "id": "72b92853e8f88a30"
  },
  {
   "cell_type": "code",
   "execution_count": null,
   "metadata": {
    "ExecuteTime": {
     "start_time": "2024-04-03T10:56:13.413345Z"
    }
   },
   "outputs": [],
   "source": [
    "for opt, acc in diabetesInt.items():\n",
    "    balancedAccuracy.loc[balancedAccuracy.shape[0]] = [\"diabetes_data\", opt+\"+int\"] + acc"
   ],
   "id": "41bfd0f9d09a4338"
  },
  {
   "cell_type": "code",
   "execution_count": null,
   "metadata": {
    "scrolled": true,
    "ExecuteTime": {
     "start_time": "2024-04-03T10:56:13.417025Z"
    }
   },
   "outputs": [],
   "source": [
    "balancedAccuracy"
   ],
   "id": "2a7f6b6ae133cb3a"
  },
  {
   "cell_type": "code",
   "execution_count": null,
   "metadata": {
    "ExecuteTime": {
     "start_time": "2024-04-03T10:56:13.418993Z"
    }
   },
   "outputs": [],
   "source": [
    "balancedAccuracy.to_csv(\"results/balancedAccuracy.csv\", index=False)"
   ],
   "id": "fe45bfe78593d602"
  }
 ],
 "metadata": {
  "kernelspec": {
   "display_name": "Python 3",
   "language": "python",
   "name": "python3"
  },
  "language_info": {
   "codemirror_mode": {
    "name": "ipython",
    "version": 3
   },
   "file_extension": ".py",
   "mimetype": "text/x-python",
   "name": "python",
   "nbconvert_exporter": "python",
   "pygments_lexer": "ipython3",
   "version": "3.7.6"
  }
 },
 "nbformat": 4,
 "nbformat_minor": 5
}
