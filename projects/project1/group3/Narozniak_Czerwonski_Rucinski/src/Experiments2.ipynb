{
 "cells": [
  {
   "cell_type": "code",
   "execution_count": 35,
   "id": "c08c727f-e73f-407c-b271-6545aa628be9",
   "metadata": {
    "ExecuteTime": {
     "end_time": "2024-04-03T11:45:32.652506Z",
     "start_time": "2024-04-03T11:45:32.505843Z"
    }
   },
   "outputs": [
    {
     "name": "stdout",
     "output_type": "stream",
     "text": [
      "The autoreload extension is already loaded. To reload it, use:\n",
      "  %reload_ext autoreload\n"
     ]
    }
   ],
   "source": [
    "%load_ext autoreload\n",
    "%autoreload 2"
   ]
  },
  {
   "cell_type": "markdown",
   "source": [
    "# Imports"
   ],
   "metadata": {
    "collapsed": false
   },
   "id": "2879f8d06c5096fb"
  },
  {
   "cell_type": "code",
   "execution_count": 36,
   "id": "initial_id",
   "metadata": {
    "ExecuteTime": {
     "end_time": "2024-04-03T11:45:32.676919Z",
     "start_time": "2024-04-03T11:45:32.591338Z"
    }
   },
   "outputs": [
    {
     "data": {
      "text/plain": "{'divide': 'ignore', 'over': 'ignore', 'under': 'ignore', 'invalid': 'ignore'}"
     },
     "execution_count": 36,
     "metadata": {},
     "output_type": "execute_result"
    }
   ],
   "source": [
    "from datasets import load_dataset\n",
    "from irls_optimizer import IRLS\n",
    "from Adam import AdamOptim\n",
    "from SGD import SGD\n",
    "from Logreg import LogisticRegression \n",
    "from utils import fitComparisonModels, createFeatureInteractions\n",
    "\n",
    "from sklearn.impute import SimpleImputer\n",
    "import numpy as np\n",
    "import pandas as pd\n",
    "from sklearn.preprocessing import LabelEncoder\n",
    "from sklearn.preprocessing import OrdinalEncoder\n",
    "from sklearn.preprocessing import StandardScaler\n",
    "from sklearn.model_selection import train_test_split\n",
    "from sklearn.metrics import balanced_accuracy_score\n",
    "import matplotlib.pyplot as plt\n",
    "\n",
    "np.seterr(divide = 'ignore') \n",
    "np.seterr(invalid='ignore')\n",
    "np.seterr(over ='ignore')"
   ]
  },
  {
   "cell_type": "markdown",
   "id": "175038e1-4394-4c2c-a2fa-98167c913f72",
   "metadata": {},
   "source": [
    "# Blood (small dataset)"
   ]
  },
  {
   "cell_type": "code",
   "execution_count": 37,
   "id": "2b862350-7631-48ab-8e0d-5317b627f326",
   "metadata": {
    "ExecuteTime": {
     "end_time": "2024-04-03T11:45:34.920303Z",
     "start_time": "2024-04-03T11:45:32.617200Z"
    }
   },
   "outputs": [
    {
     "name": "stdout",
     "output_type": "stream",
     "text": [
      "(748, 4)\n"
     ]
    },
    {
     "data": {
      "text/plain": "   months_since_last_donation  total_donation  total_blood_donated_in_cc  \\\n0                           2              50                      12500   \n1                           0              13                       3250   \n2                           1              16                       4000   \n3                           2              20                       5000   \n4                           1              24                       6000   \n\n   has_donated_last_month  \n0                       1  \n1                       1  \n2                       1  \n3                       1  \n4                       0  ",
      "text/html": "<div>\n<style scoped>\n    .dataframe tbody tr th:only-of-type {\n        vertical-align: middle;\n    }\n\n    .dataframe tbody tr th {\n        vertical-align: top;\n    }\n\n    .dataframe thead th {\n        text-align: right;\n    }\n</style>\n<table border=\"1\" class=\"dataframe\">\n  <thead>\n    <tr style=\"text-align: right;\">\n      <th></th>\n      <th>months_since_last_donation</th>\n      <th>total_donation</th>\n      <th>total_blood_donated_in_cc</th>\n      <th>has_donated_last_month</th>\n    </tr>\n  </thead>\n  <tbody>\n    <tr>\n      <th>0</th>\n      <td>2</td>\n      <td>50</td>\n      <td>12500</td>\n      <td>1</td>\n    </tr>\n    <tr>\n      <th>1</th>\n      <td>0</td>\n      <td>13</td>\n      <td>3250</td>\n      <td>1</td>\n    </tr>\n    <tr>\n      <th>2</th>\n      <td>1</td>\n      <td>16</td>\n      <td>4000</td>\n      <td>1</td>\n    </tr>\n    <tr>\n      <th>3</th>\n      <td>2</td>\n      <td>20</td>\n      <td>5000</td>\n      <td>1</td>\n    </tr>\n    <tr>\n      <th>4</th>\n      <td>1</td>\n      <td>24</td>\n      <td>6000</td>\n      <td>0</td>\n    </tr>\n  </tbody>\n</table>\n</div>"
     },
     "execution_count": 37,
     "metadata": {},
     "output_type": "execute_result"
    }
   ],
   "source": [
    "dataset_name = \"mstz/blood\"\n",
    "ds = load_dataset(dataset_name)\n",
    "\n",
    "Xy = ds[\"train\"].with_format(\"pandas\")[:]\n",
    "X = Xy.iloc[:, :-1]\n",
    "y = Xy.iloc[:, -1]\n",
    "print(Xy.shape)\n",
    "Xy.head()"
   ]
  },
  {
   "cell_type": "code",
   "outputs": [],
   "source": [
    "def optimizer_factory(name, **kwargs):\n",
    "    if name == \"irls\":\n",
    "        return IRLS()\n",
    "    elif name == \"adam\":\n",
    "        return AdamOptim(**kwargs)\n",
    "    elif name == \"sgd\":\n",
    "        return SGD(**kwargs)\n",
    "    else:\n",
    "        raise ValueError(\"irls, adam and sgd only supported\")"
   ],
   "metadata": {
    "collapsed": false,
    "ExecuteTime": {
     "end_time": "2024-04-03T11:45:34.941155Z",
     "start_time": "2024-04-03T11:45:34.915974Z"
    }
   },
   "id": "dc317ded118e054",
   "execution_count": 38
  },
  {
   "cell_type": "code",
   "outputs": [
    {
     "name": "stdout",
     "output_type": "stream",
     "text": [
      "Running irls\n"
     ]
    },
    {
     "name": "stderr",
     "output_type": "stream",
     "text": [
      "Epoch::   3%|▎         | 14/500 [00:00<00:16, 29.25it/s]\n"
     ]
    },
    {
     "name": "stdout",
     "output_type": "stream",
     "text": [
      "Early stopping after epoch 14\n",
      "Reverting to the weights corresponding to the lowest validation loss\n",
      "Running adam\n"
     ]
    },
    {
     "name": "stderr",
     "output_type": "stream",
     "text": [
      "Epoch:: 100%|██████████| 500/500 [00:01<00:00, 339.93it/s]\n"
     ]
    },
    {
     "name": "stdout",
     "output_type": "stream",
     "text": [
      "Running sgd\n"
     ]
    },
    {
     "name": "stderr",
     "output_type": "stream",
     "text": [
      "Epoch:: 100%|██████████| 500/500 [00:01<00:00, 386.90it/s]\n",
      "/Users/adam/.pyenv/versions/3.10.9/envs/flwr/lib/python3.10/site-packages/sklearn/discriminant_analysis.py:935: UserWarning: Variables are collinear\n",
      "  warnings.warn(\"Variables are collinear\")\n"
     ]
    },
    {
     "name": "stdout",
     "output_type": "stream",
     "text": [
      "Running irls\n"
     ]
    },
    {
     "name": "stderr",
     "output_type": "stream",
     "text": [
      "Epoch::   1%|          | 5/500 [00:00<00:14, 33.69it/s]\n"
     ]
    },
    {
     "name": "stdout",
     "output_type": "stream",
     "text": [
      "Early stopping after epoch 5\n",
      "Reverting to the weights corresponding to the lowest validation loss\n",
      "Running adam\n"
     ]
    },
    {
     "name": "stderr",
     "output_type": "stream",
     "text": [
      "Epoch::  69%|██████▉   | 345/500 [00:01<00:00, 328.17it/s]\n"
     ]
    },
    {
     "name": "stdout",
     "output_type": "stream",
     "text": [
      "Early stopping after epoch 345\n",
      "Reverting to the weights corresponding to the lowest validation loss\n",
      "Running sgd\n"
     ]
    },
    {
     "name": "stderr",
     "output_type": "stream",
     "text": [
      "Epoch::   9%|▉         | 47/500 [00:00<00:01, 352.00it/s]\n",
      "/Users/adam/.pyenv/versions/3.10.9/envs/flwr/lib/python3.10/site-packages/sklearn/discriminant_analysis.py:935: UserWarning: Variables are collinear\n",
      "  warnings.warn(\"Variables are collinear\")\n"
     ]
    },
    {
     "name": "stdout",
     "output_type": "stream",
     "text": [
      "Early stopping after epoch 47\n",
      "Reverting to the weights corresponding to the lowest validation loss\n",
      "Running irls\n"
     ]
    },
    {
     "name": "stderr",
     "output_type": "stream",
     "text": [
      "Epoch::   1%|▏         | 7/500 [00:00<00:09, 51.47it/s]\n"
     ]
    },
    {
     "name": "stdout",
     "output_type": "stream",
     "text": [
      "Early stopping after epoch 7\n",
      "Reverting to the weights corresponding to the lowest validation loss\n",
      "Running adam\n"
     ]
    },
    {
     "name": "stderr",
     "output_type": "stream",
     "text": [
      "Epoch:: 100%|██████████| 500/500 [00:02<00:00, 201.96it/s]\n"
     ]
    },
    {
     "name": "stdout",
     "output_type": "stream",
     "text": [
      "Running sgd\n"
     ]
    },
    {
     "name": "stderr",
     "output_type": "stream",
     "text": [
      "Epoch::  49%|████▊     | 243/500 [00:00<00:00, 362.46it/s]\n",
      "/Users/adam/.pyenv/versions/3.10.9/envs/flwr/lib/python3.10/site-packages/sklearn/discriminant_analysis.py:935: UserWarning: Variables are collinear\n",
      "  warnings.warn(\"Variables are collinear\")\n"
     ]
    },
    {
     "name": "stdout",
     "output_type": "stream",
     "text": [
      "Early stopping after epoch 243\n",
      "Reverting to the weights corresponding to the lowest validation loss\n",
      "Running irls\n"
     ]
    },
    {
     "name": "stderr",
     "output_type": "stream",
     "text": [
      "Epoch::   2%|▏         | 10/500 [00:00<00:22, 22.01it/s]\n"
     ]
    },
    {
     "name": "stdout",
     "output_type": "stream",
     "text": [
      "Early stopping after epoch 10\n",
      "Reverting to the weights corresponding to the lowest validation loss\n",
      "Running adam\n"
     ]
    },
    {
     "name": "stderr",
     "output_type": "stream",
     "text": [
      "Epoch:: 100%|██████████| 500/500 [00:01<00:00, 321.05it/s]\n"
     ]
    },
    {
     "name": "stdout",
     "output_type": "stream",
     "text": [
      "Running sgd\n"
     ]
    },
    {
     "name": "stderr",
     "output_type": "stream",
     "text": [
      "Epoch:: 100%|██████████| 500/500 [00:01<00:00, 404.23it/s]\n",
      "/Users/adam/.pyenv/versions/3.10.9/envs/flwr/lib/python3.10/site-packages/sklearn/discriminant_analysis.py:935: UserWarning: Variables are collinear\n",
      "  warnings.warn(\"Variables are collinear\")\n"
     ]
    },
    {
     "name": "stdout",
     "output_type": "stream",
     "text": [
      "Running irls\n"
     ]
    },
    {
     "name": "stderr",
     "output_type": "stream",
     "text": [
      "Epoch::   1%|          | 5/500 [00:00<00:14, 34.49it/s]\n"
     ]
    },
    {
     "name": "stdout",
     "output_type": "stream",
     "text": [
      "Early stopping after epoch 5\n",
      "Reverting to the weights corresponding to the lowest validation loss\n",
      "Running adam\n"
     ]
    },
    {
     "name": "stderr",
     "output_type": "stream",
     "text": [
      "Epoch:: 100%|██████████| 500/500 [00:01<00:00, 342.89it/s]\n"
     ]
    },
    {
     "name": "stdout",
     "output_type": "stream",
     "text": [
      "Running sgd\n"
     ]
    },
    {
     "name": "stderr",
     "output_type": "stream",
     "text": [
      "Epoch::  18%|█▊        | 90/500 [00:00<00:01, 347.60it/s]\n",
      "/Users/adam/.pyenv/versions/3.10.9/envs/flwr/lib/python3.10/site-packages/sklearn/discriminant_analysis.py:935: UserWarning: Variables are collinear\n",
      "  warnings.warn(\"Variables are collinear\")\n"
     ]
    },
    {
     "name": "stdout",
     "output_type": "stream",
     "text": [
      "Early stopping after epoch 90\n",
      "Reverting to the weights corresponding to the lowest validation loss\n"
     ]
    }
   ],
   "source": [
    "results = {}\n",
    "losses = {}\n",
    "\n",
    "splitting_seeds = [42, 43, 44, 45, 46]\n",
    "optimizer_to_kwargs = {\"irls\": {}, \"adam\": {\"eta\": 0.001}, \"sgd\": {\"eta\": 0.01}}\n",
    "\n",
    "for seed in splitting_seeds:\n",
    "    X_train, X_test, y_train, y_test = train_test_split(X, y, test_size=0.2, random_state=seed)\n",
    "    X_train, X_val, y_train, y_val = train_test_split(X_train, y_train, test_size=0.2, random_state=seed)\n",
    "    ss = StandardScaler()\n",
    "    ss.fit(X_train)\n",
    "    X_train = ss.transform(X_train)\n",
    "    X_val = ss.transform(X_val)\n",
    "    X_test = ss.transform(X_test)\n",
    "    for optimizer_name, kwargs in optimizer_to_kwargs.items():\n",
    "        print(f\"Running {optimizer_name}\")\n",
    "        optimizer = optimizer_factory(optimizer_name, **kwargs)\n",
    "        log_reg = LogisticRegression(input_dim=X_train.shape[1])\n",
    "        batch_size = 32\n",
    "        if isinstance(optimizer, IRLS):\n",
    "            batch_size = X_train.shape[0]\n",
    "        log_reg.train(X_train, y_train, X_val=X_val, y_val=y_val, optimizer=optimizer, patience=5, epochs=500, batch_size=batch_size)\n",
    "        \n",
    "        y_pred = log_reg.predict(X_test).round()\n",
    "        ba_score = balanced_accuracy_score(y_pred, y_test)\n",
    "        \n",
    "        # Store the results\n",
    "        results[(optimizer_name, seed)] = ba_score\n",
    "        if seed == 42:\n",
    "            losses[optimizer_name] = log_reg.losses\n",
    "    # Other models\n",
    "    y_lda, y_qda, y_dt, y_rf = fitComparisonModels(X_train, y_train, X_test)\n",
    "    models = ['lda', 'qda', 'dt', 'rf']\n",
    "    y_preds = [y_lda, y_qda, y_dt, y_rf]\n",
    "    \n",
    "    for model, y_pred in zip(models, y_preds):\n",
    "        ba_score = balanced_accuracy_score(y_test, y_pred)\n",
    "        results[(model, seed)] = ba_score\n",
    "\n",
    "# Converting results to DataFrame\n",
    "data = []\n",
    "for (model, seed), ba_score in results.items():\n",
    "    data.append({\"optimizer\": model, f\"seed_{seed}_acc\": ba_score})\n",
    "\n",
    "df = pd.DataFrame(data)\n",
    "df = df.groupby('optimizer').first().reset_index()\n",
    "df[\"data_set\"] = dataset_name\n",
    "df.index = df['data_set']\n",
    "df.drop('data_set', axis=1, inplace=True)\n",
    "df.to_csv(\"results/balanced_accuracy_2.csv\", index=True)\n",
    "\n",
    "for optimizer, loss in losses.items():\n",
    "    np.save(f\"results/loss/{optimizer}/{dataset_name.replace('/', '-')}.npy\", np.array(loss))\n"
   ],
   "metadata": {
    "collapsed": false,
    "ExecuteTime": {
     "end_time": "2024-04-03T11:45:48.378431Z",
     "start_time": "2024-04-03T11:45:34.937962Z"
    }
   },
   "id": "ab18e6964be351ad",
   "execution_count": 39
  },
  {
   "cell_type": "markdown",
   "source": [
    "# Blood (small dataset) with interactions"
   ],
   "metadata": {
    "collapsed": false
   },
   "id": "fbcbc0e489df325"
  },
  {
   "cell_type": "code",
   "outputs": [
    {
     "name": "stdout",
     "output_type": "stream",
     "text": [
      "Running irls+int\n"
     ]
    },
    {
     "name": "stderr",
     "output_type": "stream",
     "text": [
      "Epoch::   1%|          | 6/500 [00:00<00:13, 37.81it/s]\n"
     ]
    },
    {
     "name": "stdout",
     "output_type": "stream",
     "text": [
      "Early stopping after epoch 6\n",
      "Reverting to the weights corresponding to the lowest validation loss\n",
      "Running adam+int\n"
     ]
    },
    {
     "name": "stderr",
     "output_type": "stream",
     "text": [
      "Epoch:: 100%|██████████| 500/500 [00:01<00:00, 326.76it/s]\n"
     ]
    },
    {
     "name": "stdout",
     "output_type": "stream",
     "text": [
      "Running sgd+int\n"
     ]
    },
    {
     "name": "stderr",
     "output_type": "stream",
     "text": [
      "Epoch:: 100%|██████████| 500/500 [00:01<00:00, 388.93it/s]\n",
      "/Users/adam/.pyenv/versions/3.10.9/envs/flwr/lib/python3.10/site-packages/sklearn/discriminant_analysis.py:935: UserWarning: Variables are collinear\n",
      "  warnings.warn(\"Variables are collinear\")\n"
     ]
    },
    {
     "name": "stdout",
     "output_type": "stream",
     "text": [
      "Running irls+int\n"
     ]
    },
    {
     "name": "stderr",
     "output_type": "stream",
     "text": [
      "Epoch::   1%|          | 5/500 [00:00<00:07, 69.22it/s]\n"
     ]
    },
    {
     "name": "stdout",
     "output_type": "stream",
     "text": [
      "Early stopping after epoch 5\n",
      "Reverting to the weights corresponding to the lowest validation loss\n",
      "Running adam+int\n"
     ]
    },
    {
     "name": "stderr",
     "output_type": "stream",
     "text": [
      "Epoch::  67%|██████▋   | 336/500 [00:01<00:00, 331.46it/s]\n"
     ]
    },
    {
     "name": "stdout",
     "output_type": "stream",
     "text": [
      "Early stopping after epoch 336\n",
      "Reverting to the weights corresponding to the lowest validation loss\n",
      "Running sgd+int\n"
     ]
    },
    {
     "name": "stderr",
     "output_type": "stream",
     "text": [
      "Epoch::   9%|▉         | 47/500 [00:00<00:01, 382.82it/s]\n",
      "/Users/adam/.pyenv/versions/3.10.9/envs/flwr/lib/python3.10/site-packages/sklearn/discriminant_analysis.py:935: UserWarning: Variables are collinear\n",
      "  warnings.warn(\"Variables are collinear\")\n"
     ]
    },
    {
     "name": "stdout",
     "output_type": "stream",
     "text": [
      "Early stopping after epoch 47\n",
      "Reverting to the weights corresponding to the lowest validation loss\n",
      "Running irls+int\n"
     ]
    },
    {
     "name": "stderr",
     "output_type": "stream",
     "text": [
      "Epoch::   1%|          | 6/500 [00:00<00:12, 38.41it/s]\n"
     ]
    },
    {
     "name": "stdout",
     "output_type": "stream",
     "text": [
      "Early stopping after epoch 6\n",
      "Reverting to the weights corresponding to the lowest validation loss\n",
      "Running adam+int\n"
     ]
    },
    {
     "name": "stderr",
     "output_type": "stream",
     "text": [
      "Epoch:: 100%|██████████| 500/500 [00:02<00:00, 248.90it/s]\n"
     ]
    },
    {
     "name": "stdout",
     "output_type": "stream",
     "text": [
      "Running sgd+int\n"
     ]
    },
    {
     "name": "stderr",
     "output_type": "stream",
     "text": [
      "Epoch::  35%|███▍      | 173/500 [00:00<00:01, 277.74it/s]\n",
      "/Users/adam/.pyenv/versions/3.10.9/envs/flwr/lib/python3.10/site-packages/sklearn/discriminant_analysis.py:935: UserWarning: Variables are collinear\n",
      "  warnings.warn(\"Variables are collinear\")\n"
     ]
    },
    {
     "name": "stdout",
     "output_type": "stream",
     "text": [
      "Early stopping after epoch 173\n",
      "Reverting to the weights corresponding to the lowest validation loss\n",
      "Running irls+int\n"
     ]
    },
    {
     "name": "stderr",
     "output_type": "stream",
     "text": [
      "Epoch::   2%|▏         | 11/500 [00:00<00:06, 80.95it/s]\n"
     ]
    },
    {
     "name": "stdout",
     "output_type": "stream",
     "text": [
      "Early stopping after epoch 11\n",
      "Reverting to the weights corresponding to the lowest validation loss\n",
      "Running adam+int\n"
     ]
    },
    {
     "name": "stderr",
     "output_type": "stream",
     "text": [
      "Epoch:: 100%|██████████| 500/500 [00:01<00:00, 301.25it/s]\n"
     ]
    },
    {
     "name": "stdout",
     "output_type": "stream",
     "text": [
      "Running sgd+int\n"
     ]
    },
    {
     "name": "stderr",
     "output_type": "stream",
     "text": [
      "Epoch:: 100%|██████████| 500/500 [00:01<00:00, 333.23it/s]\n",
      "/Users/adam/.pyenv/versions/3.10.9/envs/flwr/lib/python3.10/site-packages/sklearn/discriminant_analysis.py:935: UserWarning: Variables are collinear\n",
      "  warnings.warn(\"Variables are collinear\")\n"
     ]
    },
    {
     "name": "stdout",
     "output_type": "stream",
     "text": [
      "Running irls+int\n"
     ]
    },
    {
     "name": "stderr",
     "output_type": "stream",
     "text": [
      "Epoch::   1%|          | 5/500 [00:00<00:16, 29.84it/s]\n"
     ]
    },
    {
     "name": "stdout",
     "output_type": "stream",
     "text": [
      "Early stopping after epoch 5\n",
      "Reverting to the weights corresponding to the lowest validation loss\n",
      "Running adam+int\n"
     ]
    },
    {
     "name": "stderr",
     "output_type": "stream",
     "text": [
      "Epoch:: 100%|██████████| 500/500 [00:01<00:00, 317.24it/s]\n"
     ]
    },
    {
     "name": "stdout",
     "output_type": "stream",
     "text": [
      "Running sgd+int\n"
     ]
    },
    {
     "name": "stderr",
     "output_type": "stream",
     "text": [
      "Epoch::  15%|█▍        | 74/500 [00:00<00:01, 376.04it/s]\n"
     ]
    },
    {
     "name": "stdout",
     "output_type": "stream",
     "text": [
      "Early stopping after epoch 74\n",
      "Reverting to the weights corresponding to the lowest validation loss\n"
     ]
    },
    {
     "name": "stderr",
     "output_type": "stream",
     "text": [
      "/Users/adam/.pyenv/versions/3.10.9/envs/flwr/lib/python3.10/site-packages/sklearn/discriminant_analysis.py:935: UserWarning: Variables are collinear\n",
      "  warnings.warn(\"Variables are collinear\")\n"
     ]
    }
   ],
   "source": [
    "results = {}\n",
    "losses = {}\n",
    "\n",
    "splitting_seeds = [42, 43, 44, 45, 46]\n",
    "optimizer_to_kwargs = {\"irls\": {}, \"adam\": {\"eta\": 0.001}, \"sgd\": {\"eta\": 0.01}}\n",
    "\n",
    "for seed in splitting_seeds:\n",
    "    X_int = createFeatureInteractions(X.values)\n",
    "    X_train, X_test, y_train, y_test = train_test_split(X_int, y, test_size=0.2, random_state=seed)\n",
    "    X_train, X_val, y_train, y_val = train_test_split(X_train, y_train, test_size=0.2, random_state=seed)\n",
    "    ss = StandardScaler()\n",
    "    ss.fit(X_train)\n",
    "    X_train = ss.transform(X_train)\n",
    "    X_val = ss.transform(X_val)\n",
    "    X_test = ss.transform(X_test)    \n",
    "    for optimizer_name, kwargs in optimizer_to_kwargs.items():\n",
    "        print(f\"Running {optimizer_name}+int\")\n",
    "        optimizer = optimizer_factory(optimizer_name, **kwargs)\n",
    "        log_reg = LogisticRegression(input_dim=X_train.shape[1])\n",
    "        batch_size = 32\n",
    "        if isinstance(optimizer, IRLS):\n",
    "            batch_size = X_train.shape[0]\n",
    "        log_reg.train(X_train, y_train, X_val=X_val, y_val=y_val, optimizer=optimizer, patience=5, epochs=500, batch_size=batch_size)\n",
    "        \n",
    "        y_pred = log_reg.predict(X_test).round()\n",
    "        ba_score = balanced_accuracy_score(y_pred, y_test)\n",
    "        \n",
    "        # Store the results\n",
    "        results[(optimizer_name+\"+int\", seed)] = ba_score\n",
    "        if seed == 42:\n",
    "            losses[optimizer_name] = log_reg.losses\n",
    "    # Other models\n",
    "    y_lda, y_qda, y_dt, y_rf = fitComparisonModels(X_train, y_train, X_test)\n",
    "    models = ['lda+int', 'qda+int', 'dt+int', 'rf+int']\n",
    "    y_preds = [y_lda, y_qda, y_dt, y_rf]\n",
    "    \n",
    "    for model, y_pred in zip(models, y_preds):\n",
    "        ba_score = balanced_accuracy_score(y_test, y_pred)\n",
    "        results[(model, seed)] = ba_score\n",
    "\n",
    "# Converting results to DataFrame\n",
    "data = []\n",
    "for (model, seed), ba_score in results.items():\n",
    "    data.append({\"optimizer\": model, f\"seed_{seed}_acc\": ba_score})\n",
    "\n",
    "df = pd.DataFrame(data)\n",
    "df = df.groupby('optimizer').first().reset_index()\n",
    "df[\"data_set\"] = dataset_name\n",
    "# multi_index = pd.MultiIndex.from_arrays([df['data_set'], df[\"optimizer\"]], names=['data_set', 'optimizer'])\n",
    "df.index = df['data_set']\n",
    "df.drop('data_set', axis=1, inplace=True)\n",
    "df.to_csv(\"results/balanced_accuracy_2.csv\", index=True, mode=\"a\",  header=False)\n",
    "\n",
    "\n",
    "for optimizer, loss in losses.items():\n",
    "    np.save(f\"results/loss/{optimizer}/{dataset_name.replace('/', '-')}Int.npy\", np.array(loss))"
   ],
   "metadata": {
    "collapsed": false,
    "ExecuteTime": {
     "end_time": "2024-04-03T11:46:01.042926Z",
     "start_time": "2024-04-03T11:45:48.382628Z"
    }
   },
   "id": "2f264571e6aa1c09",
   "execution_count": 40
  },
  {
   "cell_type": "markdown",
   "source": [
    "# UCI Shopper (big dataset)"
   ],
   "metadata": {},
   "id": "cbf00fe0-3d14-4621-890c-db7292253874"
  },
  {
   "cell_type": "code",
   "outputs": [
    {
     "name": "stdout",
     "output_type": "stream",
     "text": [
      "(12330, 18)\n"
     ]
    },
    {
     "data": {
      "text/plain": "   Administrative  Administrative_Duration  Informational  \\\n0               0                      0.0              0   \n1               0                      0.0              0   \n2               0                      0.0              0   \n3               0                      0.0              0   \n4               0                      0.0              0   \n\n   Informational_Duration  ProductRelated  ProductRelated_Duration  \\\n0                     0.0               1                 0.000000   \n1                     0.0               2                64.000000   \n2                     0.0               1                 0.000000   \n3                     0.0               2                 2.666667   \n4                     0.0              10               627.500000   \n\n   BounceRates  ExitRates  PageValues  SpecialDay Month  OperatingSystems  \\\n0         0.20       0.20         0.0         0.0   Feb                 1   \n1         0.00       0.10         0.0         0.0   Feb                 2   \n2         0.20       0.20         0.0         0.0   Feb                 4   \n3         0.05       0.14         0.0         0.0   Feb                 3   \n4         0.02       0.05         0.0         0.0   Feb                 3   \n\n   Browser  Region  TrafficType        VisitorType  Weekend  Revenue  \n0        1       1            1  Returning_Visitor    False        0  \n1        2       1            2  Returning_Visitor    False        0  \n2        1       9            3  Returning_Visitor    False        0  \n3        2       2            4  Returning_Visitor    False        0  \n4        3       1            4  Returning_Visitor     True        0  ",
      "text/html": "<div>\n<style scoped>\n    .dataframe tbody tr th:only-of-type {\n        vertical-align: middle;\n    }\n\n    .dataframe tbody tr th {\n        vertical-align: top;\n    }\n\n    .dataframe thead th {\n        text-align: right;\n    }\n</style>\n<table border=\"1\" class=\"dataframe\">\n  <thead>\n    <tr style=\"text-align: right;\">\n      <th></th>\n      <th>Administrative</th>\n      <th>Administrative_Duration</th>\n      <th>Informational</th>\n      <th>Informational_Duration</th>\n      <th>ProductRelated</th>\n      <th>ProductRelated_Duration</th>\n      <th>BounceRates</th>\n      <th>ExitRates</th>\n      <th>PageValues</th>\n      <th>SpecialDay</th>\n      <th>Month</th>\n      <th>OperatingSystems</th>\n      <th>Browser</th>\n      <th>Region</th>\n      <th>TrafficType</th>\n      <th>VisitorType</th>\n      <th>Weekend</th>\n      <th>Revenue</th>\n    </tr>\n  </thead>\n  <tbody>\n    <tr>\n      <th>0</th>\n      <td>0</td>\n      <td>0.0</td>\n      <td>0</td>\n      <td>0.0</td>\n      <td>1</td>\n      <td>0.000000</td>\n      <td>0.20</td>\n      <td>0.20</td>\n      <td>0.0</td>\n      <td>0.0</td>\n      <td>Feb</td>\n      <td>1</td>\n      <td>1</td>\n      <td>1</td>\n      <td>1</td>\n      <td>Returning_Visitor</td>\n      <td>False</td>\n      <td>0</td>\n    </tr>\n    <tr>\n      <th>1</th>\n      <td>0</td>\n      <td>0.0</td>\n      <td>0</td>\n      <td>0.0</td>\n      <td>2</td>\n      <td>64.000000</td>\n      <td>0.00</td>\n      <td>0.10</td>\n      <td>0.0</td>\n      <td>0.0</td>\n      <td>Feb</td>\n      <td>2</td>\n      <td>2</td>\n      <td>1</td>\n      <td>2</td>\n      <td>Returning_Visitor</td>\n      <td>False</td>\n      <td>0</td>\n    </tr>\n    <tr>\n      <th>2</th>\n      <td>0</td>\n      <td>0.0</td>\n      <td>0</td>\n      <td>0.0</td>\n      <td>1</td>\n      <td>0.000000</td>\n      <td>0.20</td>\n      <td>0.20</td>\n      <td>0.0</td>\n      <td>0.0</td>\n      <td>Feb</td>\n      <td>4</td>\n      <td>1</td>\n      <td>9</td>\n      <td>3</td>\n      <td>Returning_Visitor</td>\n      <td>False</td>\n      <td>0</td>\n    </tr>\n    <tr>\n      <th>3</th>\n      <td>0</td>\n      <td>0.0</td>\n      <td>0</td>\n      <td>0.0</td>\n      <td>2</td>\n      <td>2.666667</td>\n      <td>0.05</td>\n      <td>0.14</td>\n      <td>0.0</td>\n      <td>0.0</td>\n      <td>Feb</td>\n      <td>3</td>\n      <td>2</td>\n      <td>2</td>\n      <td>4</td>\n      <td>Returning_Visitor</td>\n      <td>False</td>\n      <td>0</td>\n    </tr>\n    <tr>\n      <th>4</th>\n      <td>0</td>\n      <td>0.0</td>\n      <td>0</td>\n      <td>0.0</td>\n      <td>10</td>\n      <td>627.500000</td>\n      <td>0.02</td>\n      <td>0.05</td>\n      <td>0.0</td>\n      <td>0.0</td>\n      <td>Feb</td>\n      <td>3</td>\n      <td>3</td>\n      <td>1</td>\n      <td>4</td>\n      <td>Returning_Visitor</td>\n      <td>True</td>\n      <td>0</td>\n    </tr>\n  </tbody>\n</table>\n</div>"
     },
     "execution_count": 41,
     "metadata": {},
     "output_type": "execute_result"
    }
   ],
   "source": [
    "dataset_name = \"jlh/uci-shopper\"\n",
    "ds = load_dataset(dataset_name)\n",
    "\n",
    "Xy = ds[\"train\"].with_format(\"pandas\")[:]\n",
    "X = Xy.iloc[:, :-1]\n",
    "y = Xy.iloc[:, -1]\n",
    "print(Xy.shape)\n",
    "Xy.head()"
   ],
   "metadata": {
    "ExecuteTime": {
     "end_time": "2024-04-03T11:46:03.667979Z",
     "start_time": "2024-04-03T11:46:01.042107Z"
    }
   },
   "id": "cb3cf6dd-2b4e-4a51-9da8-03f92dc7ef84",
   "execution_count": 41
  },
  {
   "cell_type": "code",
   "outputs": [],
   "source": [
    "oe = OrdinalEncoder()\n",
    "oe_cols = [\"Month\", \"VisitorType\", \"Weekend\"]\n",
    "oe.fit(X[oe_cols])\n",
    "X[oe_cols] = oe.transform(X[oe_cols])\n",
    "\n",
    "# seed = 42\n",
    "# X_train, X_test, y_train, y_test = train_test_split(X, y, test_size=0.2, random_state=seed)\n",
    "# X_train, X_val, y_train, y_val = train_test_split(X_train, y_train, test_size=0.2, random_state=seed)"
   ],
   "metadata": {
    "ExecuteTime": {
     "end_time": "2024-04-03T11:46:03.694979Z",
     "start_time": "2024-04-03T11:46:03.666091Z"
    }
   },
   "id": "5283f7d9-d9b0-46e5-9e7e-bfb3f8ca039a",
   "execution_count": 42
  },
  {
   "cell_type": "code",
   "outputs": [
    {
     "name": "stdout",
     "output_type": "stream",
     "text": [
      "Running irls\n"
     ]
    },
    {
     "name": "stderr",
     "output_type": "stream",
     "text": [
      "Epoch::   2%|▏         | 8/500 [00:07<07:18,  1.12it/s]\n"
     ]
    },
    {
     "name": "stdout",
     "output_type": "stream",
     "text": [
      "Early stopping after epoch 8\n",
      "Reverting to the weights corresponding to the lowest validation loss\n",
      "Running adam\n"
     ]
    },
    {
     "name": "stderr",
     "output_type": "stream",
     "text": [
      "Epoch::  32%|███▏      | 159/500 [00:14<00:31, 10.92it/s]\n"
     ]
    },
    {
     "name": "stdout",
     "output_type": "stream",
     "text": [
      "Early stopping after epoch 159\n",
      "Reverting to the weights corresponding to the lowest validation loss\n",
      "Running sgd\n"
     ]
    },
    {
     "name": "stderr",
     "output_type": "stream",
     "text": [
      "Epoch::   6%|▌         | 28/500 [00:02<00:41, 11.44it/s]\n"
     ]
    },
    {
     "name": "stdout",
     "output_type": "stream",
     "text": [
      "Early stopping after epoch 28\n",
      "Reverting to the weights corresponding to the lowest validation loss\n",
      "Running irls\n"
     ]
    },
    {
     "name": "stderr",
     "output_type": "stream",
     "text": [
      "Epoch::   3%|▎         | 16/500 [00:13<06:35,  1.22it/s]\n"
     ]
    },
    {
     "name": "stdout",
     "output_type": "stream",
     "text": [
      "Early stopping after epoch 16\n",
      "Reverting to the weights corresponding to the lowest validation loss\n",
      "Running adam\n"
     ]
    },
    {
     "name": "stderr",
     "output_type": "stream",
     "text": [
      "Epoch::  34%|███▍      | 171/500 [00:12<00:24, 13.18it/s]\n"
     ]
    },
    {
     "name": "stdout",
     "output_type": "stream",
     "text": [
      "Early stopping after epoch 171\n",
      "Reverting to the weights corresponding to the lowest validation loss\n",
      "Running sgd\n"
     ]
    },
    {
     "name": "stderr",
     "output_type": "stream",
     "text": [
      "Epoch::   8%|▊         | 38/500 [00:02<00:30, 15.17it/s]\n"
     ]
    },
    {
     "name": "stdout",
     "output_type": "stream",
     "text": [
      "Early stopping after epoch 38\n",
      "Reverting to the weights corresponding to the lowest validation loss\n",
      "Running irls\n"
     ]
    },
    {
     "name": "stderr",
     "output_type": "stream",
     "text": [
      "Epoch::   2%|▏         | 8/500 [00:06<06:37,  1.24it/s]\n"
     ]
    },
    {
     "name": "stdout",
     "output_type": "stream",
     "text": [
      "Early stopping after epoch 8\n",
      "Reverting to the weights corresponding to the lowest validation loss\n",
      "Running adam\n"
     ]
    },
    {
     "name": "stderr",
     "output_type": "stream",
     "text": [
      "Epoch::  32%|███▏      | 159/500 [00:11<00:25, 13.26it/s]\n"
     ]
    },
    {
     "name": "stdout",
     "output_type": "stream",
     "text": [
      "Early stopping after epoch 159\n",
      "Reverting to the weights corresponding to the lowest validation loss\n",
      "Running sgd\n"
     ]
    },
    {
     "name": "stderr",
     "output_type": "stream",
     "text": [
      "Epoch::   9%|▉         | 44/500 [00:03<00:35, 12.79it/s]\n"
     ]
    },
    {
     "name": "stdout",
     "output_type": "stream",
     "text": [
      "Early stopping after epoch 44\n",
      "Reverting to the weights corresponding to the lowest validation loss\n",
      "Running irls\n"
     ]
    },
    {
     "name": "stderr",
     "output_type": "stream",
     "text": [
      "Epoch::   2%|▏         | 12/500 [00:09<06:21,  1.28it/s]\n"
     ]
    },
    {
     "name": "stdout",
     "output_type": "stream",
     "text": [
      "Early stopping after epoch 12\n",
      "Reverting to the weights corresponding to the lowest validation loss\n",
      "Running adam\n"
     ]
    },
    {
     "name": "stderr",
     "output_type": "stream",
     "text": [
      "Epoch:: 100%|██████████| 500/500 [00:40<00:00, 12.28it/s]\n"
     ]
    },
    {
     "name": "stdout",
     "output_type": "stream",
     "text": [
      "Running sgd\n"
     ]
    },
    {
     "name": "stderr",
     "output_type": "stream",
     "text": [
      "Epoch::  38%|███▊      | 192/500 [00:12<00:20, 15.11it/s]\n"
     ]
    },
    {
     "name": "stdout",
     "output_type": "stream",
     "text": [
      "Early stopping after epoch 192\n",
      "Reverting to the weights corresponding to the lowest validation loss\n",
      "Running irls\n"
     ]
    },
    {
     "name": "stderr",
     "output_type": "stream",
     "text": [
      "Epoch::   1%|▏         | 7/500 [00:04<05:12,  1.58it/s]\n"
     ]
    },
    {
     "name": "stdout",
     "output_type": "stream",
     "text": [
      "Early stopping after epoch 7\n",
      "Reverting to the weights corresponding to the lowest validation loss\n",
      "Running adam\n"
     ]
    },
    {
     "name": "stderr",
     "output_type": "stream",
     "text": [
      "Epoch::  71%|███████▏  | 357/500 [00:22<00:08, 15.99it/s]\n"
     ]
    },
    {
     "name": "stdout",
     "output_type": "stream",
     "text": [
      "Early stopping after epoch 357\n",
      "Reverting to the weights corresponding to the lowest validation loss\n",
      "Running sgd\n"
     ]
    },
    {
     "name": "stderr",
     "output_type": "stream",
     "text": [
      "Epoch::   5%|▍         | 23/500 [00:01<00:29, 15.94it/s]\n"
     ]
    },
    {
     "name": "stdout",
     "output_type": "stream",
     "text": [
      "Early stopping after epoch 23\n",
      "Reverting to the weights corresponding to the lowest validation loss\n"
     ]
    }
   ],
   "source": [
    "results = {}\n",
    "losses = {}\n",
    "\n",
    "splitting_seeds = [42, 43, 44, 45, 46]\n",
    "optimizer_to_kwargs = {\"irls\": {}, \"adam\": {\"eta\": 0.001}, \"sgd\": {\"eta\": 0.01}}\n",
    "\n",
    "for seed in splitting_seeds:\n",
    "    X_train, X_test, y_train, y_test = train_test_split(X, y, test_size=0.2, random_state=seed)\n",
    "    X_train, X_val, y_train, y_val = train_test_split(X_train, y_train, test_size=0.2, random_state=seed)\n",
    "    ss = StandardScaler()\n",
    "    ss.fit(X_train)\n",
    "    X_train = ss.transform(X_train)\n",
    "    X_val = ss.transform(X_val)\n",
    "    X_test = ss.transform(X_test)\n",
    "    \n",
    "    for optimizer_name, kwargs in optimizer_to_kwargs.items():\n",
    "        print(f\"Running {optimizer_name}\")\n",
    "        optimizer = optimizer_factory(optimizer_name, **kwargs)\n",
    "        log_reg = LogisticRegression(input_dim=X_train.shape[1])\n",
    "        batch_size = 32\n",
    "        if isinstance(optimizer, IRLS):\n",
    "            batch_size = X_train.shape[0]\n",
    "        log_reg.train(X_train, y_train, X_val=X_val, y_val=y_val, optimizer=optimizer, patience=5, epochs=500, batch_size=batch_size)\n",
    "        \n",
    "        y_pred = log_reg.predict(X_test).round()\n",
    "        ba_score = balanced_accuracy_score(y_pred, y_test)\n",
    "        \n",
    "        # Store the results\n",
    "        results[(optimizer_name, seed)] = ba_score\n",
    "        if seed == 42:\n",
    "            losses[optimizer_name] = log_reg.losses\n",
    "    # Other models\n",
    "    y_lda, y_qda, y_dt, y_rf = fitComparisonModels(X_train, y_train, X_test)\n",
    "    models = ['lda', 'qda', 'dt', 'rf']\n",
    "    y_preds = [y_lda, y_qda, y_dt, y_rf]\n",
    "    \n",
    "    for model, y_pred in zip(models, y_preds):\n",
    "        ba_score = balanced_accuracy_score(y_test, y_pred)\n",
    "        results[(model, seed)] = ba_score\n",
    "\n",
    "# Converting results to DataFrame\n",
    "data = []\n",
    "for (model, seed), ba_score in results.items():\n",
    "    data.append({\"optimizer\": model, f\"seed_{seed}_acc\": ba_score})\n",
    "\n",
    "df = pd.DataFrame(data)\n",
    "df = df.groupby('optimizer').first().reset_index()\n",
    "df[\"data_set\"] = dataset_name\n",
    "# multi_index = pd.MultiIndex.from_arrays([df['data_set'], df[\"optimizer\"]], names=['data_set', 'optimizer'])\n",
    "df.index = df['data_set']\n",
    "df.drop('data_set', axis=1, inplace=True)\n",
    "df.to_csv(\"results/balanced_accuracy_2.csv\", index=True, mode=\"a\",  header=False)\n",
    "\n",
    "for optimizer, loss in losses.items():\n",
    "    np.save(f\"results/loss/{optimizer}/{dataset_name.replace('/', '-')}.npy\", np.array(loss))"
   ],
   "metadata": {
    "ExecuteTime": {
     "end_time": "2024-04-03T11:48:55.982710Z",
     "start_time": "2024-04-03T11:46:03.690336Z"
    }
   },
   "id": "56045943-805f-46fa-a891-9b5644f64645",
   "execution_count": 43
  },
  {
   "cell_type": "markdown",
   "source": [
    "# mstz/heart_failure (big dataset)"
   ],
   "metadata": {
    "collapsed": false
   },
   "id": "cdf47dce5d09a06e"
  },
  {
   "cell_type": "code",
   "outputs": [
    {
     "name": "stdout",
     "output_type": "stream",
     "text": [
      "(299, 13)\n"
     ]
    },
    {
     "data": {
      "text/plain": "   age  has_anaemia  creatinine_phosphokinase_concentration_in_blood  \\\n0   75        False                                            582.0   \n1   55        False                                           7861.0   \n2   65        False                                            146.0   \n3   50         True                                            111.0   \n4   65         True                                            160.0   \n\n   has_diabetes  heart_ejection_fraction  has_high_blood_pressure  \\\n0         False                     20.0                     True   \n1         False                     38.0                    False   \n2         False                     20.0                    False   \n3         False                     20.0                    False   \n4          True                     20.0                    False   \n\n   platelets_concentration_in_blood  serum_creatinine_concentration_in_blood  \\\n0                         265000.00                                      1.9   \n1                         263358.03                                      1.1   \n2                         162000.00                                      1.3   \n3                         210000.00                                      1.9   \n4                         327000.00                                      2.7   \n\n   serum_sodium_concentration_in_blood  is_male  is_smoker  days_in_study  \\\n0                                130.0     True      False              4   \n1                                136.0     True      False              6   \n2                                129.0     True       True              7   \n3                                137.0     True      False              7   \n4                                116.0    False      False              8   \n\n   is_dead  \n0        1  \n1        1  \n2        1  \n3        1  \n4        1  ",
      "text/html": "<div>\n<style scoped>\n    .dataframe tbody tr th:only-of-type {\n        vertical-align: middle;\n    }\n\n    .dataframe tbody tr th {\n        vertical-align: top;\n    }\n\n    .dataframe thead th {\n        text-align: right;\n    }\n</style>\n<table border=\"1\" class=\"dataframe\">\n  <thead>\n    <tr style=\"text-align: right;\">\n      <th></th>\n      <th>age</th>\n      <th>has_anaemia</th>\n      <th>creatinine_phosphokinase_concentration_in_blood</th>\n      <th>has_diabetes</th>\n      <th>heart_ejection_fraction</th>\n      <th>has_high_blood_pressure</th>\n      <th>platelets_concentration_in_blood</th>\n      <th>serum_creatinine_concentration_in_blood</th>\n      <th>serum_sodium_concentration_in_blood</th>\n      <th>is_male</th>\n      <th>is_smoker</th>\n      <th>days_in_study</th>\n      <th>is_dead</th>\n    </tr>\n  </thead>\n  <tbody>\n    <tr>\n      <th>0</th>\n      <td>75</td>\n      <td>False</td>\n      <td>582.0</td>\n      <td>False</td>\n      <td>20.0</td>\n      <td>True</td>\n      <td>265000.00</td>\n      <td>1.9</td>\n      <td>130.0</td>\n      <td>True</td>\n      <td>False</td>\n      <td>4</td>\n      <td>1</td>\n    </tr>\n    <tr>\n      <th>1</th>\n      <td>55</td>\n      <td>False</td>\n      <td>7861.0</td>\n      <td>False</td>\n      <td>38.0</td>\n      <td>False</td>\n      <td>263358.03</td>\n      <td>1.1</td>\n      <td>136.0</td>\n      <td>True</td>\n      <td>False</td>\n      <td>6</td>\n      <td>1</td>\n    </tr>\n    <tr>\n      <th>2</th>\n      <td>65</td>\n      <td>False</td>\n      <td>146.0</td>\n      <td>False</td>\n      <td>20.0</td>\n      <td>False</td>\n      <td>162000.00</td>\n      <td>1.3</td>\n      <td>129.0</td>\n      <td>True</td>\n      <td>True</td>\n      <td>7</td>\n      <td>1</td>\n    </tr>\n    <tr>\n      <th>3</th>\n      <td>50</td>\n      <td>True</td>\n      <td>111.0</td>\n      <td>False</td>\n      <td>20.0</td>\n      <td>False</td>\n      <td>210000.00</td>\n      <td>1.9</td>\n      <td>137.0</td>\n      <td>True</td>\n      <td>False</td>\n      <td>7</td>\n      <td>1</td>\n    </tr>\n    <tr>\n      <th>4</th>\n      <td>65</td>\n      <td>True</td>\n      <td>160.0</td>\n      <td>True</td>\n      <td>20.0</td>\n      <td>False</td>\n      <td>327000.00</td>\n      <td>2.7</td>\n      <td>116.0</td>\n      <td>False</td>\n      <td>False</td>\n      <td>8</td>\n      <td>1</td>\n    </tr>\n  </tbody>\n</table>\n</div>"
     },
     "execution_count": 44,
     "metadata": {},
     "output_type": "execute_result"
    }
   ],
   "source": [
    "dataset_name = \"mstz/heart_failure\"\n",
    "ds = load_dataset(dataset_name)\n",
    "\n",
    "Xy = ds[\"train\"].with_format(\"pandas\")[:]\n",
    "print(Xy.shape)\n",
    "Xy.head()"
   ],
   "metadata": {
    "collapsed": false,
    "ExecuteTime": {
     "end_time": "2024-04-03T11:48:58.457357Z",
     "start_time": "2024-04-03T11:48:55.985940Z"
    }
   },
   "id": "3427c95e271e6a6d",
   "execution_count": 44
  },
  {
   "cell_type": "code",
   "outputs": [
    {
     "data": {
      "text/plain": "   age  has_anaemia  creatinine_phosphokinase_concentration_in_blood  \\\n0   75          0.0                                            582.0   \n1   55          0.0                                           7861.0   \n2   65          0.0                                            146.0   \n3   50          1.0                                            111.0   \n4   65          1.0                                            160.0   \n\n   has_diabetes  heart_ejection_fraction  has_high_blood_pressure  \\\n0           0.0                     20.0                      1.0   \n1           0.0                     38.0                      0.0   \n2           0.0                     20.0                      0.0   \n3           0.0                     20.0                      0.0   \n4           1.0                     20.0                      0.0   \n\n   platelets_concentration_in_blood  serum_creatinine_concentration_in_blood  \\\n0                         265000.00                                      1.9   \n1                         263358.03                                      1.1   \n2                         162000.00                                      1.3   \n3                         210000.00                                      1.9   \n4                         327000.00                                      2.7   \n\n   serum_sodium_concentration_in_blood  is_male  is_smoker  days_in_study  \n0                                130.0      1.0        0.0              4  \n1                                136.0      1.0        0.0              6  \n2                                129.0      1.0        1.0              7  \n3                                137.0      1.0        0.0              7  \n4                                116.0      0.0        0.0              8  ",
      "text/html": "<div>\n<style scoped>\n    .dataframe tbody tr th:only-of-type {\n        vertical-align: middle;\n    }\n\n    .dataframe tbody tr th {\n        vertical-align: top;\n    }\n\n    .dataframe thead th {\n        text-align: right;\n    }\n</style>\n<table border=\"1\" class=\"dataframe\">\n  <thead>\n    <tr style=\"text-align: right;\">\n      <th></th>\n      <th>age</th>\n      <th>has_anaemia</th>\n      <th>creatinine_phosphokinase_concentration_in_blood</th>\n      <th>has_diabetes</th>\n      <th>heart_ejection_fraction</th>\n      <th>has_high_blood_pressure</th>\n      <th>platelets_concentration_in_blood</th>\n      <th>serum_creatinine_concentration_in_blood</th>\n      <th>serum_sodium_concentration_in_blood</th>\n      <th>is_male</th>\n      <th>is_smoker</th>\n      <th>days_in_study</th>\n    </tr>\n  </thead>\n  <tbody>\n    <tr>\n      <th>0</th>\n      <td>75</td>\n      <td>0.0</td>\n      <td>582.0</td>\n      <td>0.0</td>\n      <td>20.0</td>\n      <td>1.0</td>\n      <td>265000.00</td>\n      <td>1.9</td>\n      <td>130.0</td>\n      <td>1.0</td>\n      <td>0.0</td>\n      <td>4</td>\n    </tr>\n    <tr>\n      <th>1</th>\n      <td>55</td>\n      <td>0.0</td>\n      <td>7861.0</td>\n      <td>0.0</td>\n      <td>38.0</td>\n      <td>0.0</td>\n      <td>263358.03</td>\n      <td>1.1</td>\n      <td>136.0</td>\n      <td>1.0</td>\n      <td>0.0</td>\n      <td>6</td>\n    </tr>\n    <tr>\n      <th>2</th>\n      <td>65</td>\n      <td>0.0</td>\n      <td>146.0</td>\n      <td>0.0</td>\n      <td>20.0</td>\n      <td>0.0</td>\n      <td>162000.00</td>\n      <td>1.3</td>\n      <td>129.0</td>\n      <td>1.0</td>\n      <td>1.0</td>\n      <td>7</td>\n    </tr>\n    <tr>\n      <th>3</th>\n      <td>50</td>\n      <td>1.0</td>\n      <td>111.0</td>\n      <td>0.0</td>\n      <td>20.0</td>\n      <td>0.0</td>\n      <td>210000.00</td>\n      <td>1.9</td>\n      <td>137.0</td>\n      <td>1.0</td>\n      <td>0.0</td>\n      <td>7</td>\n    </tr>\n    <tr>\n      <th>4</th>\n      <td>65</td>\n      <td>1.0</td>\n      <td>160.0</td>\n      <td>1.0</td>\n      <td>20.0</td>\n      <td>0.0</td>\n      <td>327000.00</td>\n      <td>2.7</td>\n      <td>116.0</td>\n      <td>0.0</td>\n      <td>0.0</td>\n      <td>8</td>\n    </tr>\n  </tbody>\n</table>\n</div>"
     },
     "execution_count": 45,
     "metadata": {},
     "output_type": "execute_result"
    }
   ],
   "source": [
    "oe_cols = [\"has_anaemia\", \"has_diabetes\", \"has_high_blood_pressure\", \"is_male\", \"is_smoker\"]\n",
    "oe = OrdinalEncoder()\n",
    "oe.fit(Xy.loc[:, oe_cols])\n",
    "Xy.loc[:, oe_cols] = oe.transform(Xy[oe_cols])\n",
    "X = Xy.iloc[:, :-1]\n",
    "y = Xy.iloc[:, -1]\n",
    "X.head()"
   ],
   "metadata": {
    "collapsed": false,
    "ExecuteTime": {
     "end_time": "2024-04-03T11:48:58.486759Z",
     "start_time": "2024-04-03T11:48:58.457925Z"
    }
   },
   "id": "c1c880a27ddfc48a",
   "execution_count": 45
  },
  {
   "cell_type": "code",
   "outputs": [
    {
     "name": "stdout",
     "output_type": "stream",
     "text": [
      "Running irls\n"
     ]
    },
    {
     "name": "stderr",
     "output_type": "stream",
     "text": [
      "Epoch::   2%|▏         | 11/500 [00:00<00:09, 51.49it/s]\n"
     ]
    },
    {
     "name": "stdout",
     "output_type": "stream",
     "text": [
      "Early stopping after epoch 11\n",
      "Reverting to the weights corresponding to the lowest validation loss\n",
      "Running adam\n"
     ]
    },
    {
     "name": "stderr",
     "output_type": "stream",
     "text": [
      "Epoch:: 100%|██████████| 500/500 [00:00<00:00, 622.32it/s]\n"
     ]
    },
    {
     "name": "stdout",
     "output_type": "stream",
     "text": [
      "Running sgd\n"
     ]
    },
    {
     "name": "stderr",
     "output_type": "stream",
     "text": [
      "Epoch:: 100%|██████████| 500/500 [00:00<00:00, 835.69it/s]\n"
     ]
    },
    {
     "name": "stdout",
     "output_type": "stream",
     "text": [
      "Running irls\n"
     ]
    },
    {
     "name": "stderr",
     "output_type": "stream",
     "text": [
      "Epoch::   1%|▏         | 7/500 [00:00<00:10, 45.62it/s]\n"
     ]
    },
    {
     "name": "stdout",
     "output_type": "stream",
     "text": [
      "Early stopping after epoch 7\n",
      "Reverting to the weights corresponding to the lowest validation loss\n",
      "Running adam\n"
     ]
    },
    {
     "name": "stderr",
     "output_type": "stream",
     "text": [
      "Epoch:: 100%|██████████| 500/500 [00:00<00:00, 626.06it/s]\n"
     ]
    },
    {
     "name": "stdout",
     "output_type": "stream",
     "text": [
      "Running sgd\n"
     ]
    },
    {
     "name": "stderr",
     "output_type": "stream",
     "text": [
      "Epoch:: 100%|██████████| 500/500 [00:00<00:00, 802.56it/s]\n"
     ]
    },
    {
     "name": "stdout",
     "output_type": "stream",
     "text": [
      "Running irls\n"
     ]
    },
    {
     "name": "stderr",
     "output_type": "stream",
     "text": [
      "Epoch::   1%|          | 5/500 [00:00<00:07, 62.64it/s]\n"
     ]
    },
    {
     "name": "stdout",
     "output_type": "stream",
     "text": [
      "Early stopping after epoch 5\n",
      "Reverting to the weights corresponding to the lowest validation loss\n",
      "Running adam\n"
     ]
    },
    {
     "name": "stderr",
     "output_type": "stream",
     "text": [
      "Epoch:: 100%|██████████| 500/500 [00:00<00:00, 641.66it/s]\n"
     ]
    },
    {
     "name": "stdout",
     "output_type": "stream",
     "text": [
      "Running sgd\n"
     ]
    },
    {
     "name": "stderr",
     "output_type": "stream",
     "text": [
      "Epoch::  45%|████▍     | 224/500 [00:00<00:00, 752.87it/s]\n"
     ]
    },
    {
     "name": "stdout",
     "output_type": "stream",
     "text": [
      "Early stopping after epoch 224\n",
      "Reverting to the weights corresponding to the lowest validation loss\n",
      "Running irls\n"
     ]
    },
    {
     "name": "stderr",
     "output_type": "stream",
     "text": [
      "Epoch::   3%|▎         | 13/500 [00:00<00:06, 70.47it/s]\n"
     ]
    },
    {
     "name": "stdout",
     "output_type": "stream",
     "text": [
      "Early stopping after epoch 13\n",
      "Reverting to the weights corresponding to the lowest validation loss\n",
      "Running adam\n"
     ]
    },
    {
     "name": "stderr",
     "output_type": "stream",
     "text": [
      "Epoch:: 100%|██████████| 500/500 [00:00<00:00, 591.63it/s]\n"
     ]
    },
    {
     "name": "stdout",
     "output_type": "stream",
     "text": [
      "Running sgd\n"
     ]
    },
    {
     "name": "stderr",
     "output_type": "stream",
     "text": [
      "Epoch:: 100%|██████████| 500/500 [00:00<00:00, 811.15it/s]\n"
     ]
    },
    {
     "name": "stdout",
     "output_type": "stream",
     "text": [
      "Running irls\n"
     ]
    },
    {
     "name": "stderr",
     "output_type": "stream",
     "text": [
      "Epoch::   3%|▎         | 14/500 [00:00<00:05, 89.93it/s]\n"
     ]
    },
    {
     "name": "stdout",
     "output_type": "stream",
     "text": [
      "Early stopping after epoch 14\n",
      "Reverting to the weights corresponding to the lowest validation loss\n",
      "Running adam\n"
     ]
    },
    {
     "name": "stderr",
     "output_type": "stream",
     "text": [
      "Epoch:: 100%|██████████| 500/500 [00:00<00:00, 627.23it/s]\n"
     ]
    },
    {
     "name": "stdout",
     "output_type": "stream",
     "text": [
      "Running sgd\n"
     ]
    },
    {
     "name": "stderr",
     "output_type": "stream",
     "text": [
      "Epoch:: 100%|██████████| 500/500 [00:00<00:00, 815.54it/s]\n"
     ]
    }
   ],
   "source": [
    "results = {}\n",
    "losses = {}\n",
    "\n",
    "splitting_seeds = [42, 43, 44, 45, 46]\n",
    "optimizer_to_kwargs = {\"irls\": {}, \"adam\": {\"eta\": 0.001}, \"sgd\": {\"eta\": 0.01}}\n",
    "\n",
    "for seed in splitting_seeds:\n",
    "    X_train, X_test, y_train, y_test = train_test_split(X, y, test_size=0.2, random_state=seed)\n",
    "    X_train, X_val, y_train, y_val = train_test_split(X_train, y_train, test_size=0.2, random_state=seed)\n",
    "    ss = StandardScaler()\n",
    "    ss.fit(X_train)\n",
    "    X_train = ss.transform(X_train)\n",
    "    X_val = ss.transform(X_val)\n",
    "    X_test = ss.transform(X_test)\n",
    "    \n",
    "    for optimizer_name, kwargs in optimizer_to_kwargs.items():\n",
    "        print(f\"Running {optimizer_name}\")\n",
    "        optimizer = optimizer_factory(optimizer_name, **kwargs)\n",
    "        log_reg = LogisticRegression(input_dim=X_train.shape[1])\n",
    "        batch_size = 32\n",
    "        if isinstance(optimizer, IRLS):\n",
    "            batch_size = X_train.shape[0]\n",
    "        log_reg.train(X_train, y_train, X_val=X_val, y_val=y_val, optimizer=optimizer, patience=5, epochs=500, batch_size=batch_size)\n",
    "        \n",
    "        y_pred = log_reg.predict(X_test).round()\n",
    "        ba_score = balanced_accuracy_score(y_pred, y_test)\n",
    "        \n",
    "        # Store the results\n",
    "        results[(optimizer_name, seed)] = ba_score\n",
    "        if seed == 42:\n",
    "            losses[optimizer_name] = log_reg.losses\n",
    "    # Other models\n",
    "    y_lda, y_qda, y_dt, y_rf = fitComparisonModels(X_train, y_train, X_test)\n",
    "    models = ['lda', 'qda', 'dt', 'rf']\n",
    "    y_preds = [y_lda, y_qda, y_dt, y_rf]\n",
    "    \n",
    "    for model, y_pred in zip(models, y_preds):\n",
    "        ba_score = balanced_accuracy_score(y_test, y_pred)\n",
    "        results[(model, seed)] = ba_score\n",
    "\n",
    "# Converting results to DataFrame\n",
    "data = []\n",
    "for (model, seed), ba_score in results.items():\n",
    "    data.append({\"optimizer\": model, f\"seed_{seed}_acc\": ba_score})\n",
    "\n",
    "df = pd.DataFrame(data)\n",
    "df = df.groupby('optimizer').first().reset_index()\n",
    "df[\"data_set\"] = dataset_name\n",
    "# multi_index = pd.MultiIndex.from_arrays([df['data_set'], df[\"optimizer\"]], names=['data_set', 'optimizer'])\n",
    "df.index = df['data_set']\n",
    "df.drop('data_set', axis=1, inplace=True)\n",
    "df.to_csv(\"results/balanced_accuracy_2.csv\", index=True, mode=\"a\",  header=False)\n",
    "\n",
    "for optimizer, loss in losses.items():\n",
    "    np.save(f\"results/loss/{optimizer}/{dataset_name.replace('/', '-')}.npy\", np.array(loss))"
   ],
   "metadata": {
    "collapsed": false,
    "ExecuteTime": {
     "end_time": "2024-04-03T11:49:06.562705Z",
     "start_time": "2024-04-03T11:48:58.489275Z"
    }
   },
   "id": "205260a1b242c4fb",
   "execution_count": 46
  }
 ],
 "metadata": {
  "kernelspec": {
   "display_name": "flower",
   "language": "python",
   "name": "flower"
  },
  "language_info": {
   "codemirror_mode": {
    "name": "ipython",
    "version": 3
   },
   "file_extension": ".py",
   "mimetype": "text/x-python",
   "name": "python",
   "nbconvert_exporter": "python",
   "pygments_lexer": "ipython3",
   "version": "3.10.9"
  }
 },
 "nbformat": 4,
 "nbformat_minor": 5
}
