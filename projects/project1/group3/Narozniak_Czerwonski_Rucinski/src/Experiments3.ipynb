{
 "cells": [
  {
   "cell_type": "code",
   "execution_count": 11,
   "metadata": {
    "ExecuteTime": {
     "end_time": "2024-04-03T10:56:12.951094Z",
     "start_time": "2024-04-03T10:56:11.501130Z"
    }
   },
   "outputs": [],
   "source": [
    "import numpy as np\n",
    "import pandas as pd\n",
    "import matplotlib.pyplot as plt\n",
    "from Adam import AdamOptim\n",
    "from SGD import SGD\n",
    "from utils import *\n",
    "from sklearn.model_selection import train_test_split\n",
    "from sklearn.metrics import balanced_accuracy_score, accuracy_score\n",
    "from Logreg import LogisticRegression\n",
    "from irls_optimizer import IRLS\n",
    "from sklearn.preprocessing import LabelEncoder\n",
    "np.seterr(divide = 'ignore') \n",
    "np.seterr(invalid='ignore')\n",
    "np.seterr(over ='ignore')\n",
    "from sklearn.preprocessing import StandardScaler\n",
    "from scipy.io import arff"
   ],
   "id": "b30cb7f47a6ea8b4"
  },
  {
   "cell_type": "markdown",
   "metadata": {},
   "source": [
    "# Biodeg"
   ],
   "id": "c8a23cffbf99f58b"
  },
  {
   "cell_type": "markdown",
   "metadata": {},
   "source": [
    "## Balanced accuracy"
   ],
   "id": "ab5fa997c243151f"
  },
  {
   "cell_type": "code",
   "execution_count": 2,
   "metadata": {
    "ExecuteTime": {
     "end_time": "2024-04-03T10:56:13.248775Z",
     "start_time": "2024-04-03T10:56:12.951294Z"
    }
   },
   "outputs": [
    {
     "ename": "FileNotFoundError",
     "evalue": "[Errno 2] No such file or directory: 'data/big/biodeg.arff'",
     "output_type": "error",
     "traceback": [
      "\u001B[0;31m---------------------------------------------------------------------------\u001B[0m",
      "\u001B[0;31mFileNotFoundError\u001B[0m                         Traceback (most recent call last)",
      "Cell \u001B[0;32mIn[2], line 1\u001B[0m\n\u001B[0;32m----> 1\u001B[0m arff_file \u001B[38;5;241m=\u001B[39m \u001B[43marff\u001B[49m\u001B[38;5;241;43m.\u001B[39;49m\u001B[43mloadarff\u001B[49m\u001B[43m(\u001B[49m\u001B[38;5;124;43m'\u001B[39;49m\u001B[38;5;124;43mdata/big/biodeg.arff\u001B[39;49m\u001B[38;5;124;43m'\u001B[39;49m\u001B[43m)\u001B[49m\n\u001B[1;32m      2\u001B[0m df \u001B[38;5;241m=\u001B[39m pd\u001B[38;5;241m.\u001B[39mDataFrame(arff_file[\u001B[38;5;241m0\u001B[39m])\n",
      "File \u001B[0;32m~/.pyenv/versions/3.9.16/envs/DEaV/lib/python3.9/site-packages/scipy/io/arff/_arffread.py:800\u001B[0m, in \u001B[0;36mloadarff\u001B[0;34m(f)\u001B[0m\n\u001B[1;32m    798\u001B[0m     ofile \u001B[38;5;241m=\u001B[39m f\n\u001B[1;32m    799\u001B[0m \u001B[38;5;28;01melse\u001B[39;00m:\n\u001B[0;32m--> 800\u001B[0m     ofile \u001B[38;5;241m=\u001B[39m \u001B[38;5;28;43mopen\u001B[39;49m\u001B[43m(\u001B[49m\u001B[43mf\u001B[49m\u001B[43m,\u001B[49m\u001B[43m \u001B[49m\u001B[38;5;124;43m'\u001B[39;49m\u001B[38;5;124;43mrt\u001B[39;49m\u001B[38;5;124;43m'\u001B[39;49m\u001B[43m)\u001B[49m\n\u001B[1;32m    801\u001B[0m \u001B[38;5;28;01mtry\u001B[39;00m:\n\u001B[1;32m    802\u001B[0m     \u001B[38;5;28;01mreturn\u001B[39;00m _loadarff(ofile)\n",
      "\u001B[0;31mFileNotFoundError\u001B[0m: [Errno 2] No such file or directory: 'data/big/biodeg.arff'"
     ]
    }
   ],
   "source": [
    "arff_file = arff.loadarff('data/big/biodeg.arff')\n",
    "df = pd.DataFrame(arff_file[0])"
   ],
   "id": "606eba131b9c2042"
  },
  {
   "cell_type": "code",
   "execution_count": null,
   "metadata": {
    "ExecuteTime": {
     "end_time": "2024-04-03T10:56:13.373418Z",
     "start_time": "2024-04-03T10:56:13.269381Z"
    }
   },
   "outputs": [],
   "source": [
    "y = df.iloc[:,-1].astype(int).values -1\n",
    "X = df.iloc[:,:-1].values"
   ],
   "id": "f87a1008bd9102f9"
  },
  {
   "cell_type": "code",
   "execution_count": null,
   "metadata": {
    "ExecuteTime": {
     "start_time": "2024-04-03T10:56:13.272946Z"
    },
    "collapsed": true
   },
   "outputs": [],
   "source": [
    "#All\n",
    "splitting_seeds = [42, 43, 44, 45, 46]\n",
    "\n",
    "balancedAdam = []\n",
    "balancedSGD = []\n",
    "balancedIRLS = []\n",
    "\n",
    "for seed in splitting_seeds:\n",
    "    Xtrain, Xtest, ytrain, ytest = train_test_split(X, y, test_size=0.2, random_state=seed)\n",
    "    Xtrain, Xval, ytrain, yval = train_test_split(Xtrain, ytrain, test_size=0.2, random_state=seed)\n",
    "    \n",
    "    scaler = StandardScaler()\n",
    "    Xtrain = scaler.fit_transform(Xtrain)\n",
    "    Xval = scaler.transform(Xval)\n",
    "    Xtest = scaler.transform(Xtest)\n",
    "\n",
    "    \n",
    "    logAdam = LogisticRegression(input_dim=Xtrain.shape[1])\n",
    "    logSGD = LogisticRegression(input_dim=Xtrain.shape[1])\n",
    "    logIRLS = LogisticRegression(input_dim=Xtrain.shape[1])\n",
    "    logAdam.train(Xtrain, ytrain, optimizer=AdamOptim(eta=0.01), epochs=500, batch_size=32, X_val=Xval, y_val=yval, patience=5)\n",
    "    logSGD.train(Xtrain, ytrain, optimizer=SGD(eta=0.01), epochs=500, batch_size=32, X_val=Xval, y_val=yval, patience=5)\n",
    "    logIRLS.train(Xtrain, ytrain, optimizer=IRLS(), epochs=500, batch_size=Xtrain.shape[0], X_val=Xval, y_val=yval, patience=5)\n",
    "    \n",
    "    predAdam = logAdam.predict(Xtest)\n",
    "    predSGD = logSGD.predict(Xtest)\n",
    "    predIRLS = logIRLS.predict(Xtest)\n",
    "    \n",
    "    balancedAdam.append(balanced_accuracy_score(ytest,predAdam.round()))\n",
    "    balancedSGD.append(balanced_accuracy_score(ytest,predSGD.round()))\n",
    "    balancedIRLS.append(balanced_accuracy_score(ytest,predIRLS.round()))\n",
    "    \n",
    "\n",
    "    \n",
    "biodegBalanced = {\"adam\": balancedAdam,\n",
    "                    \"sgd\": balancedSGD,\n",
    "                    \"irls\": balancedIRLS}"
   ],
   "id": "47591c1f71fd6b0a"
  },
  {
   "cell_type": "code",
   "execution_count": null,
   "metadata": {
    "ExecuteTime": {
     "start_time": "2024-04-03T10:56:13.276741Z"
    },
    "scrolled": true
   },
   "outputs": [],
   "source": [
    "biodegBalanced"
   ],
   "id": "b70a6f92371a792b"
  },
  {
   "cell_type": "markdown",
   "metadata": {},
   "source": [
    "# Convergence"
   ],
   "id": "7741df19a667f65"
  },
  {
   "cell_type": "code",
   "execution_count": null,
   "metadata": {
    "ExecuteTime": {
     "start_time": "2024-04-03T10:56:13.281117Z"
    },
    "collapsed": true
   },
   "outputs": [],
   "source": [
    "Xtrain, Xtest, ytrain, ytest = train_test_split(X, y, test_size=0.2, random_state=2)\n",
    "Xtrain, Xval, ytrain, yval = train_test_split(Xtrain, ytrain, test_size=0.2, random_state=2)\n",
    "\n",
    "scaler = StandardScaler()\n",
    "Xtrain = scaler.fit_transform(Xtrain)\n",
    "Xval = scaler.transform(Xval)\n",
    "\n",
    "logAdam = LogisticRegression(input_dim=Xtrain.shape[1])\n",
    "logSGD = LogisticRegression(input_dim=Xtrain.shape[1])\n",
    "logIRLS = LogisticRegression(input_dim=Xtrain.shape[1])\n",
    "logAdam.train(Xtrain, ytrain, optimizer=AdamOptim(eta=0.01), epochs=500, batch_size=32, X_val=Xval, y_val=yval, patience=5)\n",
    "logSGD.train(Xtrain, ytrain, optimizer=SGD(eta=0.01), epochs=500, batch_size=32, X_val=Xval, y_val=yval, patience=5)\n",
    "logIRLS.train(Xtrain, ytrain, optimizer=IRLS(), epochs=500, batch_size=Xtrain.shape[0], X_val=Xval, y_val=yval, patience=5)\n",
    "\n",
    "biodegConvergence = {\"adam\": logAdam.get_params()[4],\n",
    "                       \"sgd\": logSGD.get_params()[4],\n",
    "                       \"irls\": logIRLS.get_params()[4]}"
   ],
   "id": "3f649ee334097998"
  },
  {
   "cell_type": "code",
   "execution_count": null,
   "metadata": {
    "ExecuteTime": {
     "start_time": "2024-04-03T10:56:13.284654Z"
    },
    "scrolled": true
   },
   "outputs": [],
   "source": [
    "logAdam.plot_loss()"
   ],
   "id": "ec800592e811fba0"
  },
  {
   "cell_type": "code",
   "execution_count": null,
   "metadata": {
    "ExecuteTime": {
     "start_time": "2024-04-03T10:56:13.287165Z"
    },
    "scrolled": true
   },
   "outputs": [],
   "source": [
    "logSGD.plot_loss()"
   ],
   "id": "a36759c7ef9f73f4"
  },
  {
   "cell_type": "code",
   "execution_count": null,
   "metadata": {
    "ExecuteTime": {
     "start_time": "2024-04-03T10:56:13.290090Z"
    },
    "scrolled": true
   },
   "outputs": [],
   "source": [
    "logIRLS.plot_loss()"
   ],
   "id": "b7a5bdda9d7d5fab"
  },
  {
   "cell_type": "code",
   "execution_count": null,
   "metadata": {
    "ExecuteTime": {
     "start_time": "2024-04-03T10:56:13.293386Z"
    }
   },
   "outputs": [],
   "source": [
    "for key, value in biodegConvergence.items():\n",
    "    np.save(f\"results/loss/{key}/biodeg\", np.array(value))"
   ],
   "id": "ccb0ba451b5c6c26"
  },
  {
   "cell_type": "markdown",
   "metadata": {},
   "source": [
    "## Comparison with other models"
   ],
   "id": "40d8acc56124a3a"
  },
  {
   "cell_type": "code",
   "execution_count": null,
   "metadata": {
    "ExecuteTime": {
     "start_time": "2024-04-03T10:56:13.297105Z"
    }
   },
   "outputs": [],
   "source": [
    "#All\n",
    "splitting_seeds = [42, 43, 44, 45, 46]\n",
    "\n",
    "# compAdam = []\n",
    "# compSGD = []\n",
    "# compIRLS = []\n",
    "compLDA = []\n",
    "compQDA = []\n",
    "compTree = []\n",
    "compForest = []\n",
    "\n",
    "for seed in splitting_seeds:\n",
    "    Xtrain, Xtest, ytrain, ytest = train_test_split(X, y, test_size=0.2, random_state=seed)\n",
    "    \n",
    "    scaler = StandardScaler()\n",
    "    Xtrain = scaler.fit_transform(Xtrain)\n",
    "    Xtest = scaler.transform(Xtest)\n",
    "\n",
    "    \n",
    "#     logAdam = LogisticRegression(input_dim=Xtrain.shape[1])\n",
    "#     logSGD = LogisticRegression(input_dim=Xtrain.shape[1])\n",
    "#     logIRLS = LogisticRegression(input_dim=Xtrain.shape[1])\n",
    "#     logAdam.train(Xtrain, ytrain, optimizer=AdamOptim(eta=0.01), epochs=500, batch_size=32, patience=5)\n",
    "#     logSGD.train(Xtrain, ytrain, optimizer=SGD(eta=0.01), epochs=500, batch_size=32, patience=5)\n",
    "#     logIRLS.train(Xtrain, ytrain, optimizer=IRLS(), epochs=500, batch_size=32, patience=5)\n",
    "    \n",
    "#     predAdam = logAdam.predict(Xtest)\n",
    "#     predSGD = logSGD.predict(Xtest)\n",
    "#     predIRLS = logIRLS.predict(Xtest)\n",
    "    \n",
    "#     compAdam.append(balanced_accuracy_score(ytest,predAdam.round()))\n",
    "#     compSGD.append(balanced_accuracy_score(ytest,predSGD.round()))\n",
    "#     compIRLS.append(balanced_accuracy_score(ytest,predIRLS.round()))\n",
    "    \n",
    "    lda, qda, tree, forest = fitComparisonModels(Xtrain, ytrain, Xtest)\n",
    "    \n",
    "    compLDA.append(balanced_accuracy_score(lda, ytest))\n",
    "    compQDA.append(balanced_accuracy_score(qda, ytest))\n",
    "    compTree.append(balanced_accuracy_score(tree, ytest))\n",
    "    compForest.append(balanced_accuracy_score(forest, ytest))\n",
    "    \n",
    "    \n",
    "biodegComp = { \"lda\": compLDA,\n",
    "                \"qda\": compQDA,\n",
    "                \"dt\": compTree,\n",
    "                \"rf\": compForest}\n",
    "    \n"
   ],
   "id": "8b6f708645b441db"
  },
  {
   "cell_type": "code",
   "execution_count": null,
   "metadata": {
    "ExecuteTime": {
     "start_time": "2024-04-03T10:56:13.301372Z"
    },
    "scrolled": false
   },
   "outputs": [],
   "source": [
    "biodegComp"
   ],
   "id": "c4e3fcc79aed2cc4"
  },
  {
   "cell_type": "markdown",
   "metadata": {},
   "source": [
    "# Parkinson"
   ],
   "id": "c85d0270e61e9eec"
  },
  {
   "cell_type": "markdown",
   "metadata": {},
   "source": [
    "## Balanced accuracy"
   ],
   "id": "8bccbc5d81f1743c"
  },
  {
   "cell_type": "code",
   "execution_count": null,
   "metadata": {
    "ExecuteTime": {
     "start_time": "2024-04-03T10:56:13.304515Z"
    }
   },
   "outputs": [],
   "source": [
    "parkinson = pd.read_csv(\"data/big/parkinsons.csv\")\n",
    "y = parkinson[\"status\"].values\n",
    "X = parkinson.drop(['name', 'status'], axis=1).values"
   ],
   "id": "d1c34349264cf5b2"
  },
  {
   "cell_type": "code",
   "execution_count": null,
   "metadata": {
    "ExecuteTime": {
     "start_time": "2024-04-03T10:56:13.307887Z"
    }
   },
   "outputs": [],
   "source": [
    "#All\n",
    "splitting_seeds = [42, 43, 44, 45, 46]\n",
    "\n",
    "balancedAdam = []\n",
    "balancedSGD = []\n",
    "balancedIRLS = []\n",
    "\n",
    "for seed in splitting_seeds:\n",
    "    Xtrain, Xtest, ytrain, ytest = train_test_split(X, y, test_size=0.2, random_state=seed)\n",
    "    Xtrain, Xval, ytrain, yval = train_test_split(Xtrain, ytrain, test_size=0.2, random_state=seed)\n",
    "    \n",
    "    scaler = StandardScaler()\n",
    "    Xtrain = scaler.fit_transform(Xtrain)\n",
    "    Xval = scaler.transform(Xval)\n",
    "    Xtest = scaler.transform(Xtest)\n",
    "\n",
    "    \n",
    "    logAdam = LogisticRegression(input_dim=Xtrain.shape[1])\n",
    "    logSGD = LogisticRegression(input_dim=Xtrain.shape[1])\n",
    "    logIRLS = LogisticRegression(input_dim=Xtrain.shape[1])\n",
    "    logAdam.train(Xtrain, ytrain, optimizer=AdamOptim(eta=0.01), epochs=500, batch_size=32, X_val=Xval, y_val=yval, patience=5)\n",
    "    logSGD.train(Xtrain, ytrain, optimizer=SGD(eta=0.01), epochs=500, batch_size=32, X_val=Xval, y_val=yval, patience=5)\n",
    "    logIRLS.train(Xtrain, ytrain, optimizer=IRLS(), epochs=500, batch_size=Xtrain.shape[0], X_val=Xval, y_val=yval, patience=5)\n",
    "    \n",
    "    predAdam = logAdam.predict(Xtest)\n",
    "    predSGD = logSGD.predict(Xtest)\n",
    "    predIRLS = logIRLS.predict(Xtest)\n",
    "    \n",
    "    balancedAdam.append(balanced_accuracy_score(ytest,predAdam.round()))\n",
    "    balancedSGD.append(balanced_accuracy_score(ytest,predSGD.round()))\n",
    "    balancedIRLS.append(balanced_accuracy_score(ytest,predIRLS.round()))\n",
    "    \n",
    "\n",
    "    \n",
    "parkinsonBalanced = {\"adam\": balancedAdam,\n",
    "                    \"sgd\": balancedSGD,\n",
    "                    \"irls\": balancedIRLS}"
   ],
   "id": "fe7959d8f63172db"
  },
  {
   "cell_type": "code",
   "execution_count": null,
   "metadata": {
    "ExecuteTime": {
     "start_time": "2024-04-03T10:56:13.312010Z"
    }
   },
   "outputs": [],
   "source": [
    "parkinsonBalanced = {\"adam\": balancedAdam,\n",
    "                    \"sgd\": balancedSGD,\n",
    "                    \"irls\": balancedIRLS}"
   ],
   "id": "472747ef876f799a"
  },
  {
   "cell_type": "markdown",
   "metadata": {},
   "source": [
    "## Convergence"
   ],
   "id": "4efd5b3a8e34e615"
  },
  {
   "cell_type": "code",
   "execution_count": null,
   "metadata": {
    "ExecuteTime": {
     "start_time": "2024-04-03T10:56:13.314631Z"
    },
    "scrolled": true
   },
   "outputs": [],
   "source": [
    "Xtrain, Xval, ytrain, yval = train_test_split(Xtrain, ytrain, test_size=0.2, random_state=1)\n",
    "scaler = StandardScaler()\n",
    "Xtrain = scaler.fit_transform(Xtrain)\n",
    "Xval = scaler.transform(Xval)\n",
    "\n",
    "logAdam = LogisticRegression(input_dim=Xtrain.shape[1])\n",
    "logSGD = LogisticRegression(input_dim=Xtrain.shape[1])\n",
    "logIRLS = LogisticRegression(input_dim=Xtrain.shape[1])\n",
    "logAdam.train(Xtrain, ytrain, optimizer=AdamOptim(eta=0.01), epochs=500, batch_size=32, X_val=Xval, y_val=yval, patience=5)\n",
    "logSGD.train(Xtrain, ytrain, optimizer=SGD(eta=0.01), epochs=500, batch_size=32, X_val=Xval, y_val=yval, patience=5)\n",
    "logIRLS.train(Xtrain, ytrain, optimizer=IRLS(), epochs=500, batch_size=Xtrain.shape[0], X_val=Xval, y_val=yval, patience=5)"
   ],
   "id": "f566a6dfec4265dd"
  },
  {
   "cell_type": "code",
   "execution_count": null,
   "metadata": {
    "ExecuteTime": {
     "start_time": "2024-04-03T10:56:13.318136Z"
    }
   },
   "outputs": [],
   "source": [
    "logAdam.plot_loss()"
   ],
   "id": "744f65a3ab48f732"
  },
  {
   "cell_type": "code",
   "execution_count": null,
   "metadata": {
    "ExecuteTime": {
     "start_time": "2024-04-03T10:56:13.324696Z"
    }
   },
   "outputs": [],
   "source": [
    "logSGD.plot_loss()"
   ],
   "id": "4c2f20cd9f6e789b"
  },
  {
   "cell_type": "code",
   "execution_count": null,
   "metadata": {
    "ExecuteTime": {
     "start_time": "2024-04-03T10:56:13.327824Z"
    }
   },
   "outputs": [],
   "source": [
    "logIRLS.plot_loss()"
   ],
   "id": "746b5eb3722701f5"
  },
  {
   "cell_type": "code",
   "execution_count": null,
   "metadata": {
    "ExecuteTime": {
     "start_time": "2024-04-03T10:56:13.329114Z"
    }
   },
   "outputs": [],
   "source": [
    "parkinsonConvergence = {\"adam\": logAdam.get_params()[4],\n",
    "                       \"sgd\": logSGD.get_params()[4],\n",
    "                       \"irls\": logIRLS.get_params()[4]}"
   ],
   "id": "c80a550f61039d2c"
  },
  {
   "cell_type": "code",
   "execution_count": null,
   "metadata": {
    "ExecuteTime": {
     "start_time": "2024-04-03T10:56:13.331515Z"
    }
   },
   "outputs": [],
   "source": [
    "for key, value in parkinsonConvergence.items():\n",
    "    np.save(f\"results/loss/{key}/parkinson\", np.array(value))"
   ],
   "id": "6d93782e7311df33"
  },
  {
   "cell_type": "markdown",
   "metadata": {},
   "source": [
    "## Comparison with other models"
   ],
   "id": "e18bff9118242ff5"
  },
  {
   "cell_type": "code",
   "execution_count": null,
   "metadata": {
    "ExecuteTime": {
     "start_time": "2024-04-03T10:56:13.335150Z"
    }
   },
   "outputs": [],
   "source": [
    "#All\n",
    "splitting_seeds = [42, 43, 44, 45, 46]\n",
    "\n",
    "# compAdam = []\n",
    "# compSGD = []\n",
    "# compIRLS = []\n",
    "compLDA = []\n",
    "compQDA = []\n",
    "compTree = []\n",
    "compForest = []\n",
    "\n",
    "for seed in splitting_seeds:\n",
    "    Xtrain, Xtest, ytrain, ytest = train_test_split(X, y, test_size=0.2, random_state=seed)\n",
    "    \n",
    "    scaler = StandardScaler()\n",
    "    Xtrain = scaler.fit_transform(Xtrain)\n",
    "    Xtest = scaler.transform(Xtest)\n",
    "\n",
    "    \n",
    "#     logAdam = LogisticRegression(input_dim=Xtrain.shape[1])\n",
    "#     logSGD = LogisticRegression(input_dim=Xtrain.shape[1])\n",
    "#     logIRLS = LogisticRegression(input_dim=Xtrain.shape[1])\n",
    "#     logAdam.train(Xtrain, ytrain, optimizer=AdamOptim(eta=0.01), epochs=500, batch_size=32, patience=5)\n",
    "#     logSGD.train(Xtrain, ytrain, optimizer=SGD(eta=0.01), epochs=500, batch_size=32, patience=5)\n",
    "#     logIRLS.train(Xtrain, ytrain, optimizer=IRLS(), epochs=500, batch_size=32, patience=5)\n",
    "    \n",
    "#     predAdam = logAdam.predict(Xtest)\n",
    "#     predSGD = logSGD.predict(Xtest)\n",
    "#     predIRLS = logIRLS.predict(Xtest)\n",
    "    \n",
    "#     compAdam.append(balanced_accuracy_score(ytest,predAdam.round()))\n",
    "#     compSGD.append(balanced_accuracy_score(ytest,predSGD.round()))\n",
    "#     compIRLS.append(balanced_accuracy_score(ytest,predIRLS.round()))\n",
    "    \n",
    "    lda, qda, tree, forest = fitComparisonModels(Xtrain, ytrain, Xtest)\n",
    "    \n",
    "    compLDA.append(balanced_accuracy_score(lda, ytest))\n",
    "    compQDA.append(balanced_accuracy_score(qda, ytest))\n",
    "    compTree.append(balanced_accuracy_score(tree, ytest))\n",
    "    compForest.append(balanced_accuracy_score(forest, ytest))\n",
    "    \n",
    "    \n",
    "parkinsonComp = {#\"adam\": compAdam,\n",
    "                #\"sgd\": compSGD,\n",
    "                #\"irls\": compIRLS,\n",
    "                \"lda\": compLDA,\n",
    "                \"qda\": compQDA,\n",
    "                \"dt\": compTree,\n",
    "                \"rf\": compForest}\n",
    "    \n"
   ],
   "id": "1344e292af9a7405"
  },
  {
   "cell_type": "code",
   "execution_count": null,
   "metadata": {
    "ExecuteTime": {
     "start_time": "2024-04-03T10:56:13.339399Z"
    },
    "scrolled": false
   },
   "outputs": [],
   "source": [
    "parkinsonComp"
   ],
   "id": "4a4c161fdc4fd84e"
  },
  {
   "cell_type": "markdown",
   "metadata": {},
   "source": [
    "# Diabetes"
   ],
   "id": "35ac049527e3f4e2"
  },
  {
   "cell_type": "markdown",
   "metadata": {},
   "source": [
    "## Balanced accuracy"
   ],
   "id": "48fc2950ea5f4d73"
  },
  {
   "cell_type": "code",
   "execution_count": 49,
   "metadata": {
    "ExecuteTime": {
     "start_time": "2024-04-03T10:56:13.343315Z"
    }
   },
   "outputs": [],
   "source": [
    "diabetes = pd.read_csv(\"data/small/diabetes.csv\")\n",
    "y = diabetes[\"Outcome\"].values\n",
    "X = diabetes.iloc[:, :-1].values"
   ],
   "id": "74d2a864effabdc8"
  },
  {
   "cell_type": "code",
   "execution_count": null,
   "metadata": {
    "ExecuteTime": {
     "start_time": "2024-04-03T10:56:13.347020Z"
    }
   },
   "outputs": [],
   "source": [
    "#All\n",
    "splitting_seeds = [42, 43, 44, 45, 46]\n",
    "\n",
    "balancedAdam = []\n",
    "balancedSGD = []\n",
    "balancedIRLS = []\n",
    "\n",
    "for seed in splitting_seeds:\n",
    "    Xtrain, Xtest, ytrain, ytest = train_test_split(X, y, test_size=0.2, random_state=seed)\n",
    "    Xtrain, Xval, ytrain, yval = train_test_split(Xtrain, ytrain, test_size=0.2, random_state=seed)\n",
    "    \n",
    "    scaler = StandardScaler()\n",
    "    Xtrain = scaler.fit_transform(Xtrain)\n",
    "    Xval = scaler.transform(Xval)\n",
    "    Xtest = scaler.transform(Xtest)\n",
    "\n",
    "    \n",
    "    logAdam = LogisticRegression(input_dim=Xtrain.shape[1])\n",
    "    logSGD = LogisticRegression(input_dim=Xtrain.shape[1])\n",
    "    logIRLS = LogisticRegression(input_dim=Xtrain.shape[1])\n",
    "    logAdam.train(Xtrain, ytrain, optimizer=AdamOptim(eta=0.01), epochs=500, batch_size=32, X_val=Xval, y_val=yval, patience=5)\n",
    "    logSGD.train(Xtrain, ytrain, optimizer=SGD(eta=0.01), epochs=500, batch_size=32, X_val=Xval, y_val=yval, patience=5)\n",
    "    logIRLS.train(Xtrain, ytrain, optimizer=IRLS(), epochs=500, batch_size=Xtrain.shape[0], X_val=Xval, y_val=yval, patience=5)\n",
    "    \n",
    "    predAdam = logAdam.predict(Xtest)\n",
    "    predSGD = logSGD.predict(Xtest)\n",
    "    predIRLS = logIRLS.predict(Xtest)\n",
    "    \n",
    "    balancedAdam.append(balanced_accuracy_score(ytest,predAdam.round()))\n",
    "    balancedSGD.append(balanced_accuracy_score(ytest,predSGD.round()))\n",
    "    balancedIRLS.append(balanced_accuracy_score(ytest,predIRLS.round()))\n",
    "\n",
    "diabetesBalanced = {\"adam\": balancedAdam,\n",
    "                    \"sgd\": balancedSGD,\n",
    "                    \"irls\": balancedIRLS}"
   ],
   "id": "92378bad0d016533"
  },
  {
   "cell_type": "code",
   "execution_count": null,
   "metadata": {
    "ExecuteTime": {
     "start_time": "2024-04-03T10:56:13.351461Z"
    },
    "scrolled": true
   },
   "outputs": [],
   "source": [
    "print(\"adam:\", balancedAdam)\n",
    "print(\"sgd:\", balancedSGD)\n",
    "print(\"IRLS:\", balancedIRLS)"
   ],
   "id": "512fbd86d45dd9b4"
  },
  {
   "cell_type": "markdown",
   "metadata": {},
   "source": [
    "## Convergence"
   ],
   "id": "ac692dd439573db5"
  },
  {
   "cell_type": "code",
   "execution_count": null,
   "metadata": {
    "ExecuteTime": {
     "start_time": "2024-04-03T10:56:13.354846Z"
    }
   },
   "outputs": [],
   "source": [
    "Xtrain, Xval, ytrain, yval = train_test_split(Xtrain, ytrain, test_size=0.2, random_state=1)\n",
    "scaler = StandardScaler()\n",
    "Xtrain = scaler.fit_transform(Xtrain)\n",
    "Xval = scaler.transform(Xval)\n",
    "\n",
    "logAdam = LogisticRegression(input_dim=Xtrain.shape[1])\n",
    "logSGD = LogisticRegression(input_dim=Xtrain.shape[1])\n",
    "logIRLS = LogisticRegression(input_dim=Xtrain.shape[1])\n",
    "logAdam.train(Xtrain, ytrain, optimizer=AdamOptim(eta=0.01), epochs=500, batch_size=32, X_val=Xval, y_val=yval, patience=5)\n",
    "logSGD.train(Xtrain, ytrain, optimizer=SGD(eta=0.01), epochs=500, batch_size=32, X_val=Xval, y_val=yval, patience=5)\n",
    "logIRLS.train(Xtrain, ytrain, optimizer=IRLS(), epochs=500, batch_size=Xtrain.shape[0], X_val=Xval, y_val=yval, patience=5)"
   ],
   "id": "1c0caeef1a9bd1d6"
  },
  {
   "cell_type": "code",
   "execution_count": null,
   "metadata": {
    "ExecuteTime": {
     "start_time": "2024-04-03T10:56:13.359335Z"
    }
   },
   "outputs": [],
   "source": [
    "logAdam.plot_loss()"
   ],
   "id": "74c7640a6dd6c9ec"
  },
  {
   "cell_type": "code",
   "execution_count": null,
   "metadata": {
    "ExecuteTime": {
     "start_time": "2024-04-03T10:56:13.362698Z"
    }
   },
   "outputs": [],
   "source": [
    "logSGD.plot_loss()"
   ],
   "id": "a823f0437fb3a102"
  },
  {
   "cell_type": "code",
   "execution_count": null,
   "metadata": {
    "ExecuteTime": {
     "start_time": "2024-04-03T10:56:13.364810Z"
    }
   },
   "outputs": [],
   "source": [
    "logIRLS.plot_loss()"
   ],
   "id": "b57e278367992e23"
  },
  {
   "cell_type": "code",
   "execution_count": null,
   "metadata": {
    "ExecuteTime": {
     "start_time": "2024-04-03T10:56:13.370744Z"
    }
   },
   "outputs": [],
   "source": [
    "diabetesConvergence = {\"adam\": logAdam.get_params()[4],\n",
    "                       \"sgd\": logSGD.get_params()[4],\n",
    "                       \"irls\": logIRLS.get_params()[4]}"
   ],
   "id": "a460ebbe960592b6"
  },
  {
   "cell_type": "code",
   "execution_count": null,
   "metadata": {
    "ExecuteTime": {
     "end_time": "2024-04-03T10:56:13.524380Z",
     "start_time": "2024-04-03T10:56:13.375110Z"
    }
   },
   "outputs": [],
   "source": [
    "for key, value in diabetesConvergence.items():\n",
    "    np.save(f\"results/loss/{key}/diabetes\", np.array(value))"
   ],
   "id": "adc056f255baaffa"
  },
  {
   "cell_type": "markdown",
   "metadata": {},
   "source": [
    "## Comparison with othe models"
   ],
   "id": "1660110bc9113377"
  },
  {
   "cell_type": "code",
   "execution_count": null,
   "metadata": {
    "ExecuteTime": {
     "start_time": "2024-04-03T10:56:13.383329Z"
    }
   },
   "outputs": [],
   "source": [
    "#All\n",
    "splitting_seeds = [42, 43, 44, 45, 46]\n",
    "\n",
    "# compAdam = []\n",
    "# compSGD = []\n",
    "# compIRLS = []\n",
    "compLDA = []\n",
    "compQDA = []\n",
    "compTree = []\n",
    "compForest = []\n",
    "\n",
    "for seed in splitting_seeds:\n",
    "    Xtrain, Xtest, ytrain, ytest = train_test_split(X, y, test_size=0.2, random_state=seed)\n",
    "    \n",
    "    scaler = StandardScaler()\n",
    "    Xtrain = scaler.fit_transform(Xtrain)\n",
    "    Xtest = scaler.transform(Xtest)\n",
    "\n",
    "    \n",
    "#     logAdam = LogisticRegression(input_dim=Xtrain.shape[1])\n",
    "#     logSGD = LogisticRegression(input_dim=Xtrain.shape[1])\n",
    "#     logIRLS = LogisticRegression(input_dim=Xtrain.shape[1])\n",
    "#     logAdam.train(Xtrain, ytrain, optimizer=AdamOptim(eta=0.01), epochs=500, batch_size=32, patience=5)\n",
    "#     logSGD.train(Xtrain, ytrain, optimizer=SGD(eta=0.01), epochs=500, batch_size=32, patience=5)\n",
    "#     logIRLS.train(Xtrain, ytrain, optimizer=IRLS(), epochs=500, batch_size=32, patience=5)\n",
    "    \n",
    "#     predAdam = logAdam.predict(Xtest)\n",
    "#     predSGD = logSGD.predict(Xtest)\n",
    "#     predIRLS = logIRLS.predict(Xtest)\n",
    "    \n",
    "#     compAdam.append(balanced_accuracy_score(ytest,predAdam.round()))\n",
    "#     compSGD.append(balanced_accuracy_score(ytest,predSGD.round()))\n",
    "#     compIRLS.append(balanced_accuracy_score(ytest,predIRLS.round()))\n",
    "    \n",
    "    lda, qda, tree, forest = fitComparisonModels(Xtrain, ytrain, Xtest)\n",
    "    \n",
    "    compLDA.append(balanced_accuracy_score(lda, ytest))\n",
    "    compQDA.append(balanced_accuracy_score(qda, ytest))\n",
    "    compTree.append(balanced_accuracy_score(tree, ytest))\n",
    "    compForest.append(balanced_accuracy_score(forest, ytest))\n",
    "    \n",
    "    \n",
    "diabetesComp = {#\"adam\": compAdam,\n",
    "                #\"sgd\": compSGD,\n",
    "                #\"irls\": compIRLS,\n",
    "                \"lda\": compLDA,\n",
    "                \"qda\": compQDA,\n",
    "                \"dt\": compTree,\n",
    "                \"rf\": compForest}\n",
    "    \n"
   ],
   "id": "d9f266eacb3069f5"
  },
  {
   "cell_type": "code",
   "execution_count": null,
   "metadata": {
    "ExecuteTime": {
     "start_time": "2024-04-03T10:56:13.388199Z"
    }
   },
   "outputs": [],
   "source": [
    "diabetesComp"
   ],
   "id": "419d988f7e5cf225"
  },
  {
   "cell_type": "markdown",
   "metadata": {},
   "source": [
    "## Interactions"
   ],
   "id": "ba68c7149e74f3a1"
  },
  {
   "cell_type": "code",
   "execution_count": 50,
   "metadata": {
    "ExecuteTime": {
     "start_time": "2024-04-03T10:56:13.393432Z"
    }
   },
   "outputs": [],
   "source": [
    "Xint = createFeatureInteractions(X)"
   ],
   "id": "a1c7b1844db04802"
  },
  {
   "cell_type": "code",
   "execution_count": null,
   "metadata": {
    "ExecuteTime": {
     "start_time": "2024-04-03T10:56:13.395884Z"
    }
   },
   "outputs": [],
   "source": [
    "splitting_seeds = [42, 43, 44, 45, 46]\n",
    "\n",
    "intAdam = []\n",
    "intSGD = []\n",
    "intIRLS = []\n",
    "\n",
    "for seed in splitting_seeds:\n",
    "    Xtrain, Xtest, ytrain, ytest = train_test_split(Xint, y, test_size=0.2, random_state=seed)\n",
    "    Xtrain, Xval, ytrain, yval = train_test_split(Xtrain, ytrain, test_size=0.2, random_state=seed)\n",
    "    \n",
    "    scaler = StandardScaler()\n",
    "    Xtrain = scaler.fit_transform(Xtrain)\n",
    "    Xval = scaler.transform(Xval)\n",
    "    Xtest = scaler.transform(Xtest)\n",
    "\n",
    "    \n",
    "    logAdam = LogisticRegression(input_dim=Xtrain.shape[1])\n",
    "    logSGD = LogisticRegression(input_dim=Xtrain.shape[1])\n",
    "    logIRLS = LogisticRegression(input_dim=Xtrain.shape[1])\n",
    "    logAdam.train(Xtrain, ytrain, optimizer=AdamOptim(eta=0.01), epochs=500, batch_size=32, X_val=Xval, y_val=yval, patience=5)\n",
    "    logSGD.train(Xtrain, ytrain, optimizer=SGD(eta=0.01), epochs=500, batch_size=32, X_val=Xval, y_val=yval, patience=5)\n",
    "    logIRLS.train(Xtrain, ytrain, optimizer=IRLS(), epochs=500, batch_size=Xtrain.shape[0], X_val=Xval, y_val=yval, patience=5)\n",
    "    \n",
    "    predAdam = logAdam.predict(Xtest)\n",
    "    predSGD = logSGD.predict(Xtest)\n",
    "    predIRLS = logIRLS.predict(Xtest)\n",
    "    \n",
    "    intAdam.append(balanced_accuracy_score(ytest,predAdam.round()))\n",
    "    intSGD.append(balanced_accuracy_score(ytest,predSGD.round()))\n",
    "    intIRLS.append(balanced_accuracy_score(ytest,predIRLS.round()))\n",
    "    \n",
    "\n",
    "    \n",
    "diabetesInt = {\"adam\": intAdam,\n",
    "                    \"sgd\": intSGD,\n",
    "                    \"irls\": intIRLS}"
   ],
   "id": "a87d8c6dab338193"
  },
  {
   "cell_type": "code",
   "execution_count": 51,
   "metadata": {},
   "outputs": [],
   "source": [
    "#All\n",
    "splitting_seeds = [42, 43, 44, 45, 46]\n",
    "\n",
    "# compAdam = []\n",
    "# compSGD = []\n",
    "# compIRLS = []\n",
    "compLDA = []\n",
    "compQDA = []\n",
    "compTree = []\n",
    "compForest = []\n",
    "\n",
    "for seed in splitting_seeds:\n",
    "    Xtrain, Xtest, ytrain, ytest = train_test_split(Xint, y, test_size=0.2, random_state=seed)\n",
    "    \n",
    "    scaler = StandardScaler()\n",
    "    Xtrain = scaler.fit_transform(Xtrain)\n",
    "    Xtest = scaler.transform(Xtest)\n",
    "\n",
    "    \n",
    "#     logAdam = LogisticRegression(input_dim=Xtrain.shape[1])\n",
    "#     logSGD = LogisticRegression(input_dim=Xtrain.shape[1])\n",
    "#     logIRLS = LogisticRegression(input_dim=Xtrain.shape[1])\n",
    "#     logAdam.train(Xtrain, ytrain, optimizer=AdamOptim(eta=0.01), epochs=500, batch_size=32, patience=5)\n",
    "#     logSGD.train(Xtrain, ytrain, optimizer=SGD(eta=0.01), epochs=500, batch_size=32, patience=5)\n",
    "#     logIRLS.train(Xtrain, ytrain, optimizer=IRLS(), epochs=500, batch_size=32, patience=5)\n",
    "    \n",
    "#     predAdam = logAdam.predict(Xtest)\n",
    "#     predSGD = logSGD.predict(Xtest)\n",
    "#     predIRLS = logIRLS.predict(Xtest)\n",
    "    \n",
    "#     compAdam.append(balanced_accuracy_score(ytest,predAdam.round()))\n",
    "#     compSGD.append(balanced_accuracy_score(ytest,predSGD.round()))\n",
    "#     compIRLS.append(balanced_accuracy_score(ytest,predIRLS.round()))\n",
    "    \n",
    "    lda, qda, tree, forest = fitComparisonModels(Xtrain, ytrain, Xtest)\n",
    "    \n",
    "    compLDA.append(balanced_accuracy_score(lda, ytest))\n",
    "    compQDA.append(balanced_accuracy_score(qda, ytest))\n",
    "    compTree.append(balanced_accuracy_score(tree, ytest))\n",
    "    compForest.append(balanced_accuracy_score(forest, ytest))\n",
    "    \n",
    "    \n",
    "diabetesIntComp = {#\"adam\": compAdam,\n",
    "                #\"sgd\": compSGD,\n",
    "                #\"irls\": compIRLS,\n",
    "                \"lda\": compLDA,\n",
    "                \"qda\": compQDA,\n",
    "                \"dt\": compTree,\n",
    "                \"rf\": compForest}\n",
    "    \n"
   ],
   "id": "f6aa97bf833c155"
  },
  {
   "cell_type": "code",
   "execution_count": 52,
   "metadata": {
    "ExecuteTime": {
     "start_time": "2024-04-03T10:56:13.398716Z"
    },
    "scrolled": false
   },
   "outputs": [
    {
     "data": {
      "text/plain": [
       "{'lda': [0.7974065598779558,\n",
       "  0.8021101705312231,\n",
       "  0.7983511285308825,\n",
       "  0.7596558496212475,\n",
       "  0.7927899686520377],\n",
       " 'qda': [0.823069403714565,\n",
       "  0.817120236102046,\n",
       "  0.7819449927622055,\n",
       "  0.7658904579319804,\n",
       "  0.7953333956794164],\n",
       " 'dt': [0.9784894194832083,\n",
       "  0.9796115477230029,\n",
       "  0.9605615161499254,\n",
       "  0.9622908186341023,\n",
       "  0.9582816505416356],\n",
       " 'rf': [0.9892447097416042,\n",
       "  0.9893333333333334,\n",
       "  0.9752710317800852,\n",
       "  0.9719728425541465,\n",
       "  0.9757041858377287]}"
      ]
     },
     "execution_count": 52,
     "metadata": {},
     "output_type": "execute_result"
    }
   ],
   "source": [
    "diabetesIntComp"
   ],
   "id": "bd951eb855592918"
  },
  {
   "cell_type": "code",
   "execution_count": null,
   "metadata": {
    "ExecuteTime": {
     "start_time": "2024-04-03T10:56:13.401458Z"
    }
   },
   "outputs": [],
   "source": [
    "diabetesIntConvergence = {\"adam\": logAdam.get_params()[4],\n",
    "                       \"sgd\": logSGD.get_params()[4],\n",
    "                       \"irls\": logIRLS.get_params()[4]}"
   ],
   "id": "aacb5f9ef2f51e0e"
  },
  {
   "cell_type": "code",
   "execution_count": null,
   "metadata": {
    "ExecuteTime": {
     "start_time": "2024-04-03T10:56:13.403443Z"
    }
   },
   "outputs": [],
   "source": [
    "for key, value in diabetesIntConvergence.items():\n",
    "    np.save(f\"results/loss/{key}/diabetesInt\", np.array(value))"
   ],
   "id": "71f23ca99e03cb47"
  },
  {
   "cell_type": "markdown",
   "metadata": {},
   "source": [
    "# wraping up the results"
   ],
   "id": "49dccda7eae1e610"
  },
  {
   "cell_type": "code",
   "execution_count": null,
   "metadata": {
    "ExecuteTime": {
     "start_time": "2024-04-03T10:56:13.404993Z"
    }
   },
   "outputs": [],
   "source": [
    "balancedAccuracy = pd.DataFrame(columns=[\"data_set\", \"optimizer\", \"seed_42_acc\", \"seed_43_acc\", \"seed_44_acc\", \"seed_45_acc\", \"seed_46_acc\"])"
   ],
   "id": "38bcf618d111497c"
  },
  {
   "cell_type": "code",
   "execution_count": null,
   "metadata": {
    "ExecuteTime": {
     "start_time": "2024-04-03T10:56:13.408914Z"
    }
   },
   "outputs": [],
   "source": [
    "balanced = {\"biodeg\": biodegBalanced,\n",
    "           \"parkinson\": parkinsonBalanced,\n",
    "           \"diabetes\": diabetesBalanced}\n",
    "for dataSetName, value in balanced.items():\n",
    "    for opt, acc in value.items():\n",
    "        balancedAccuracy.loc[balancedAccuracy.shape[0]] = [dataSetName+\"_data\", opt] + acc"
   ],
   "id": "45e9459882e37bc6"
  },
  {
   "cell_type": "code",
   "execution_count": null,
   "metadata": {
    "ExecuteTime": {
     "start_time": "2024-04-03T10:56:13.410763Z"
    }
   },
   "outputs": [],
   "source": [
    "comp = {\"biodeg\": biodegComp,\n",
    "           \"parkinson\": parkinsonComp,\n",
    "           \"diabetes\": diabetesComp}\n",
    "for dataSetName, value in comp.items():\n",
    "    for opt, acc in value.items():\n",
    "        balancedAccuracy.loc[balancedAccuracy.shape[0]] = [dataSetName+\"_data\", opt] + acc"
   ],
   "id": "19ce6e7e07269516"
  },
  {
   "cell_type": "code",
   "execution_count": null,
   "metadata": {
    "ExecuteTime": {
     "start_time": "2024-04-03T10:56:13.413345Z"
    }
   },
   "outputs": [],
   "source": [
    "for opt, acc in diabetesInt.items():\n",
    "    balancedAccuracy.loc[balancedAccuracy.shape[0]] = [\"diabetes_data\", opt+\"+int\"] + acc"
   ],
   "id": "301530f86ad1a01b"
  },
  {
   "cell_type": "code",
   "execution_count": 55,
   "metadata": {
    "ExecuteTime": {
     "start_time": "2024-04-03T10:56:13.417025Z"
    },
    "scrolled": true
   },
   "outputs": [
    {
     "data": {
      "text/html": [
       "<div>\n",
       "<style scoped>\n",
       "    .dataframe tbody tr th:only-of-type {\n",
       "        vertical-align: middle;\n",
       "    }\n",
       "\n",
       "    .dataframe tbody tr th {\n",
       "        vertical-align: top;\n",
       "    }\n",
       "\n",
       "    .dataframe thead th {\n",
       "        text-align: right;\n",
       "    }\n",
       "</style>\n",
       "<table border=\"1\" class=\"dataframe\">\n",
       "  <thead>\n",
       "    <tr style=\"text-align: right;\">\n",
       "      <th></th>\n",
       "      <th>data_set</th>\n",
       "      <th>optimizer</th>\n",
       "      <th>seed_42_acc</th>\n",
       "      <th>seed_43_acc</th>\n",
       "      <th>seed_44_acc</th>\n",
       "      <th>seed_45_acc</th>\n",
       "      <th>seed_46_acc</th>\n",
       "    </tr>\n",
       "  </thead>\n",
       "  <tbody>\n",
       "    <tr>\n",
       "      <th>0</th>\n",
       "      <td>biodeg_data</td>\n",
       "      <td>adam</td>\n",
       "      <td>0.853137</td>\n",
       "      <td>0.846035</td>\n",
       "      <td>0.855349</td>\n",
       "      <td>0.873536</td>\n",
       "      <td>0.860490</td>\n",
       "    </tr>\n",
       "    <tr>\n",
       "      <th>1</th>\n",
       "      <td>biodeg_data</td>\n",
       "      <td>sgd</td>\n",
       "      <td>0.864167</td>\n",
       "      <td>0.860651</td>\n",
       "      <td>0.862977</td>\n",
       "      <td>0.860234</td>\n",
       "      <td>0.849461</td>\n",
       "    </tr>\n",
       "    <tr>\n",
       "      <th>2</th>\n",
       "      <td>biodeg_data</td>\n",
       "      <td>irls</td>\n",
       "      <td>0.853824</td>\n",
       "      <td>0.831420</td>\n",
       "      <td>0.808837</td>\n",
       "      <td>0.881179</td>\n",
       "      <td>0.850147</td>\n",
       "    </tr>\n",
       "    <tr>\n",
       "      <th>3</th>\n",
       "      <td>parkinson_data</td>\n",
       "      <td>adam</td>\n",
       "      <td>0.667411</td>\n",
       "      <td>0.812500</td>\n",
       "      <td>0.757143</td>\n",
       "      <td>0.824286</td>\n",
       "      <td>0.748276</td>\n",
       "    </tr>\n",
       "    <tr>\n",
       "      <th>4</th>\n",
       "      <td>parkinson_data</td>\n",
       "      <td>sgd</td>\n",
       "      <td>0.683036</td>\n",
       "      <td>0.875000</td>\n",
       "      <td>0.797143</td>\n",
       "      <td>0.852857</td>\n",
       "      <td>0.681034</td>\n",
       "    </tr>\n",
       "    <tr>\n",
       "      <th>5</th>\n",
       "      <td>parkinson_data</td>\n",
       "      <td>irls</td>\n",
       "      <td>0.738839</td>\n",
       "      <td>0.968750</td>\n",
       "      <td>0.852857</td>\n",
       "      <td>0.872857</td>\n",
       "      <td>0.763793</td>\n",
       "    </tr>\n",
       "    <tr>\n",
       "      <th>6</th>\n",
       "      <td>diabetes_data</td>\n",
       "      <td>adam</td>\n",
       "      <td>0.764069</td>\n",
       "      <td>0.746000</td>\n",
       "      <td>0.728917</td>\n",
       "      <td>0.719246</td>\n",
       "      <td>0.737562</td>\n",
       "    </tr>\n",
       "    <tr>\n",
       "      <th>7</th>\n",
       "      <td>diabetes_data</td>\n",
       "      <td>sgd</td>\n",
       "      <td>0.747614</td>\n",
       "      <td>0.742667</td>\n",
       "      <td>0.719516</td>\n",
       "      <td>0.719246</td>\n",
       "      <td>0.735640</td>\n",
       "    </tr>\n",
       "    <tr>\n",
       "      <th>8</th>\n",
       "      <td>diabetes_data</td>\n",
       "      <td>irls</td>\n",
       "      <td>0.737410</td>\n",
       "      <td>0.746000</td>\n",
       "      <td>0.728917</td>\n",
       "      <td>0.719246</td>\n",
       "      <td>0.733774</td>\n",
       "    </tr>\n",
       "    <tr>\n",
       "      <th>9</th>\n",
       "      <td>biodeg_data</td>\n",
       "      <td>lda</td>\n",
       "      <td>0.837645</td>\n",
       "      <td>0.874608</td>\n",
       "      <td>0.843720</td>\n",
       "      <td>0.854879</td>\n",
       "      <td>0.844853</td>\n",
       "    </tr>\n",
       "    <tr>\n",
       "      <th>10</th>\n",
       "      <td>biodeg_data</td>\n",
       "      <td>qda</td>\n",
       "      <td>0.738547</td>\n",
       "      <td>0.687618</td>\n",
       "      <td>0.731146</td>\n",
       "      <td>0.720667</td>\n",
       "      <td>0.691610</td>\n",
       "    </tr>\n",
       "    <tr>\n",
       "      <th>11</th>\n",
       "      <td>biodeg_data</td>\n",
       "      <td>dt</td>\n",
       "      <td>0.812678</td>\n",
       "      <td>0.788221</td>\n",
       "      <td>0.814995</td>\n",
       "      <td>0.833652</td>\n",
       "      <td>0.782621</td>\n",
       "    </tr>\n",
       "    <tr>\n",
       "      <th>12</th>\n",
       "      <td>biodeg_data</td>\n",
       "      <td>rf</td>\n",
       "      <td>0.886069</td>\n",
       "      <td>0.834558</td>\n",
       "      <td>0.832466</td>\n",
       "      <td>0.887670</td>\n",
       "      <td>0.883793</td>\n",
       "    </tr>\n",
       "    <tr>\n",
       "      <th>13</th>\n",
       "      <td>parkinson_data</td>\n",
       "      <td>lda</td>\n",
       "      <td>0.787879</td>\n",
       "      <td>0.937500</td>\n",
       "      <td>0.865385</td>\n",
       "      <td>0.931034</td>\n",
       "      <td>0.810484</td>\n",
       "    </tr>\n",
       "    <tr>\n",
       "      <th>14</th>\n",
       "      <td>parkinson_data</td>\n",
       "      <td>qda</td>\n",
       "      <td>0.944444</td>\n",
       "      <td>0.858871</td>\n",
       "      <td>0.883117</td>\n",
       "      <td>0.883117</td>\n",
       "      <td>0.914286</td>\n",
       "    </tr>\n",
       "    <tr>\n",
       "      <th>15</th>\n",
       "      <td>parkinson_data</td>\n",
       "      <td>dt</td>\n",
       "      <td>0.886364</td>\n",
       "      <td>0.782759</td>\n",
       "      <td>0.804167</td>\n",
       "      <td>0.944286</td>\n",
       "      <td>0.766667</td>\n",
       "    </tr>\n",
       "    <tr>\n",
       "      <th>16</th>\n",
       "      <td>parkinson_data</td>\n",
       "      <td>rf</td>\n",
       "      <td>0.970588</td>\n",
       "      <td>0.937500</td>\n",
       "      <td>0.923077</td>\n",
       "      <td>0.980769</td>\n",
       "      <td>0.911111</td>\n",
       "    </tr>\n",
       "    <tr>\n",
       "      <th>17</th>\n",
       "      <td>diabetes_data</td>\n",
       "      <td>lda</td>\n",
       "      <td>0.787354</td>\n",
       "      <td>0.793103</td>\n",
       "      <td>0.759446</td>\n",
       "      <td>0.748525</td>\n",
       "      <td>0.766990</td>\n",
       "    </tr>\n",
       "    <tr>\n",
       "      <th>18</th>\n",
       "      <td>diabetes_data</td>\n",
       "      <td>qda</td>\n",
       "      <td>0.788086</td>\n",
       "      <td>0.753447</td>\n",
       "      <td>0.718334</td>\n",
       "      <td>0.713280</td>\n",
       "      <td>0.746429</td>\n",
       "    </tr>\n",
       "    <tr>\n",
       "      <th>19</th>\n",
       "      <td>diabetes_data</td>\n",
       "      <td>dt</td>\n",
       "      <td>0.974194</td>\n",
       "      <td>0.980769</td>\n",
       "      <td>0.967601</td>\n",
       "      <td>0.974004</td>\n",
       "      <td>0.964088</td>\n",
       "    </tr>\n",
       "    <tr>\n",
       "      <th>20</th>\n",
       "      <td>diabetes_data</td>\n",
       "      <td>rf</td>\n",
       "      <td>0.978489</td>\n",
       "      <td>0.979944</td>\n",
       "      <td>0.975271</td>\n",
       "      <td>0.971973</td>\n",
       "      <td>0.988693</td>\n",
       "    </tr>\n",
       "    <tr>\n",
       "      <th>21</th>\n",
       "      <td>diabetes_data</td>\n",
       "      <td>adam+int</td>\n",
       "      <td>0.757818</td>\n",
       "      <td>0.780667</td>\n",
       "      <td>0.761538</td>\n",
       "      <td>0.738330</td>\n",
       "      <td>0.762268</td>\n",
       "    </tr>\n",
       "    <tr>\n",
       "      <th>22</th>\n",
       "      <td>diabetes_data</td>\n",
       "      <td>sgd+int</td>\n",
       "      <td>0.754416</td>\n",
       "      <td>0.758667</td>\n",
       "      <td>0.744160</td>\n",
       "      <td>0.734414</td>\n",
       "      <td>0.752714</td>\n",
       "    </tr>\n",
       "    <tr>\n",
       "      <th>23</th>\n",
       "      <td>diabetes_data</td>\n",
       "      <td>irls+int</td>\n",
       "      <td>0.769447</td>\n",
       "      <td>0.768667</td>\n",
       "      <td>0.753989</td>\n",
       "      <td>0.725319</td>\n",
       "      <td>0.752883</td>\n",
       "    </tr>\n",
       "    <tr>\n",
       "      <th>24</th>\n",
       "      <td>daibetes_data</td>\n",
       "      <td>lda+int</td>\n",
       "      <td>0.797407</td>\n",
       "      <td>0.802110</td>\n",
       "      <td>0.798351</td>\n",
       "      <td>0.759656</td>\n",
       "      <td>0.792790</td>\n",
       "    </tr>\n",
       "    <tr>\n",
       "      <th>25</th>\n",
       "      <td>daibetes_data</td>\n",
       "      <td>qda+int</td>\n",
       "      <td>0.823069</td>\n",
       "      <td>0.817120</td>\n",
       "      <td>0.781945</td>\n",
       "      <td>0.765890</td>\n",
       "      <td>0.795333</td>\n",
       "    </tr>\n",
       "    <tr>\n",
       "      <th>26</th>\n",
       "      <td>daibetes_data</td>\n",
       "      <td>dt+int</td>\n",
       "      <td>0.978489</td>\n",
       "      <td>0.979612</td>\n",
       "      <td>0.960562</td>\n",
       "      <td>0.962291</td>\n",
       "      <td>0.958282</td>\n",
       "    </tr>\n",
       "    <tr>\n",
       "      <th>27</th>\n",
       "      <td>daibetes_data</td>\n",
       "      <td>rf+int</td>\n",
       "      <td>0.989245</td>\n",
       "      <td>0.989333</td>\n",
       "      <td>0.975271</td>\n",
       "      <td>0.971973</td>\n",
       "      <td>0.975704</td>\n",
       "    </tr>\n",
       "  </tbody>\n",
       "</table>\n",
       "</div>"
      ],
      "text/plain": [
       "          data_set optimizer  seed_42_acc  seed_43_acc  seed_44_acc  \\\n",
       "0      biodeg_data      adam     0.853137     0.846035     0.855349   \n",
       "1      biodeg_data       sgd     0.864167     0.860651     0.862977   \n",
       "2      biodeg_data      irls     0.853824     0.831420     0.808837   \n",
       "3   parkinson_data      adam     0.667411     0.812500     0.757143   \n",
       "4   parkinson_data       sgd     0.683036     0.875000     0.797143   \n",
       "5   parkinson_data      irls     0.738839     0.968750     0.852857   \n",
       "6    diabetes_data      adam     0.764069     0.746000     0.728917   \n",
       "7    diabetes_data       sgd     0.747614     0.742667     0.719516   \n",
       "8    diabetes_data      irls     0.737410     0.746000     0.728917   \n",
       "9      biodeg_data       lda     0.837645     0.874608     0.843720   \n",
       "10     biodeg_data       qda     0.738547     0.687618     0.731146   \n",
       "11     biodeg_data        dt     0.812678     0.788221     0.814995   \n",
       "12     biodeg_data        rf     0.886069     0.834558     0.832466   \n",
       "13  parkinson_data       lda     0.787879     0.937500     0.865385   \n",
       "14  parkinson_data       qda     0.944444     0.858871     0.883117   \n",
       "15  parkinson_data        dt     0.886364     0.782759     0.804167   \n",
       "16  parkinson_data        rf     0.970588     0.937500     0.923077   \n",
       "17   diabetes_data       lda     0.787354     0.793103     0.759446   \n",
       "18   diabetes_data       qda     0.788086     0.753447     0.718334   \n",
       "19   diabetes_data        dt     0.974194     0.980769     0.967601   \n",
       "20   diabetes_data        rf     0.978489     0.979944     0.975271   \n",
       "21   diabetes_data  adam+int     0.757818     0.780667     0.761538   \n",
       "22   diabetes_data   sgd+int     0.754416     0.758667     0.744160   \n",
       "23   diabetes_data  irls+int     0.769447     0.768667     0.753989   \n",
       "24   daibetes_data   lda+int     0.797407     0.802110     0.798351   \n",
       "25   daibetes_data   qda+int     0.823069     0.817120     0.781945   \n",
       "26   daibetes_data    dt+int     0.978489     0.979612     0.960562   \n",
       "27   daibetes_data    rf+int     0.989245     0.989333     0.975271   \n",
       "\n",
       "    seed_45_acc  seed_46_acc  \n",
       "0      0.873536     0.860490  \n",
       "1      0.860234     0.849461  \n",
       "2      0.881179     0.850147  \n",
       "3      0.824286     0.748276  \n",
       "4      0.852857     0.681034  \n",
       "5      0.872857     0.763793  \n",
       "6      0.719246     0.737562  \n",
       "7      0.719246     0.735640  \n",
       "8      0.719246     0.733774  \n",
       "9      0.854879     0.844853  \n",
       "10     0.720667     0.691610  \n",
       "11     0.833652     0.782621  \n",
       "12     0.887670     0.883793  \n",
       "13     0.931034     0.810484  \n",
       "14     0.883117     0.914286  \n",
       "15     0.944286     0.766667  \n",
       "16     0.980769     0.911111  \n",
       "17     0.748525     0.766990  \n",
       "18     0.713280     0.746429  \n",
       "19     0.974004     0.964088  \n",
       "20     0.971973     0.988693  \n",
       "21     0.738330     0.762268  \n",
       "22     0.734414     0.752714  \n",
       "23     0.725319     0.752883  \n",
       "24     0.759656     0.792790  \n",
       "25     0.765890     0.795333  \n",
       "26     0.962291     0.958282  \n",
       "27     0.971973     0.975704  "
      ]
     },
     "execution_count": 55,
     "metadata": {},
     "output_type": "execute_result"
    }
   ],
   "source": [
    "balancedAccuracy"
   ],
   "id": "a1b2fb16fdceb1e0"
  },
  {
   "cell_type": "code",
   "execution_count": 56,
   "metadata": {
    "ExecuteTime": {
     "start_time": "2024-04-03T10:56:13.418993Z"
    }
   },
   "outputs": [],
   "source": [
    "balancedAccuracy.to_csv(\"results/balance_accuracy_3.csv\", index=False)"
   ],
   "id": "7862f3ca9dada5ef"
  },
  {
   "cell_type": "code",
   "execution_count": 54,
   "metadata": {},
   "outputs": [],
   "source": [
    "balancedAccuracy = pd.read_csv(\"results/balance_accuracy_3.csv\")\n",
    "for opt, acc in diabetesIntComp.items():\n",
    "        balancedAccuracy.loc[balancedAccuracy.shape[0]] = [\"daibetes_data\", opt+\"+int\"] + acc"
   ],
   "id": "2b093206473e68ca"
  },
  {
   "cell_type": "code",
   "execution_count": null,
   "metadata": {},
   "outputs": [],
   "source": [],
   "id": "ebff6d2692258120"
  },
  {
   "cell_type": "markdown",
   "metadata": {},
   "source": [
    "# Plots"
   ],
   "id": "6c34e25d4308e08a"
  },
  {
   "cell_type": "markdown",
   "metadata": {},
   "source": [
    "## Loss"
   ],
   "id": "11c03d62f8e8d793"
  },
  {
   "cell_type": "code",
   "execution_count": 57,
   "metadata": {
    "scrolled": true
   },
   "outputs": [],
   "source": [
    "import ast\n",
    "with open(file_path, 'r') as file:\n",
    "    # Read each line using a loop\n",
    "    skip_first_line = True\n",
    "    \n",
    "    for line in file:\n",
    "        if skip_first_line:\n",
    "            skip_first_line = False\n",
    "            continue      \n",
    "        parts = line.strip().split(',')\n",
    "        lista = ','.join(parts[2:])\n",
    "        lista = lista.strip()\n",
    "        loss = np.array(ast.literal_eval(lista))\n",
    "        opt = parts[1].strip()\n",
    "        dataSet = parts[0].strip()\n",
    "        try:\n",
    "            np.save(f\"results/loss/{opt}/{dataSet}\", loss)\n",
    "        except:\n",
    "            dataSet += \"Int\"\n",
    "            opt = opt.split(\"+\")[0]\n",
    "            np.save(f\"results/loss/{opt}/{dataSet}\", loss)"
   ],
   "id": "b8caeba08f330ffe"
  },
  {
   "cell_type": "code",
   "execution_count": 42,
   "metadata": {
    "scrolled": false
   },
   "outputs": [
    {
     "data": {
      "text/plain": [
       "'[0.4256747085092538, 0.3350668882183697, 0.28988213888136743, 0.2626156594560849, 0.24427071012890195, 0.23103322849234267, 0.22100356810845903, 0.21312601713233456, 0.20676539907141644, 0.20151583998247943, 0.19710543634125377, 0.19334495735245408, 0.1900985066089237, 0.18726588551065, 0.18477154169144253, 0.1825573960798763, 0.1805780448580153, 0.17879746494625282, 0.17718669942080686, 0.1757221981217846, 0.17438460634435426, 0.17315786621708842, 0.17202854027180003, 0.17098529550327626, 0.1700185050852104, 0.16911993751609802, 0.16828251154429708, 0.1675001011499615, 0.16676737902179112, 0.16607968992634436, 0.16543294750035412, 0.16482354955142736, 0.1642483080987089, 0.16370439123866987, 0.16318927456294702, 0.16270070034200923, 0.1622366430608729, 0.16179528018026268, 0.1613749672197148, 0.1609742164336437, 0.1605916784888344, 0.1602261266607525, 0.15987644315290142, 0.15954160721307828, 0.1592206847764996, 0.15891281941125648, 0.15861722437856018, 0.15833317565055235, 0.15806000575331658, 0.1577970983232808, 0.15754388328220278, 0.15729983255009347, 0.15706445622724075, 0.15683729918640207, 0.15661793802456253, 0.15640597833067021, 0.1562010522317132, 0.15600281618454062, 0.15581094898514203, 0.1556251499707493, 0.15544513739327656, 0.1552706469453139, 0.155101430422211, 0.15493725450577814, 0.15477789965689387, 0.15462315910576316, 0.1544728379299364, 0.15432675221129066, 0.15418472826416502, 0.1540466019277678, 0.15391221791664514, 0.15378142922374505, 0.15365409657116044, 0.1535300879041646, 0.15340927792457798, 0.1532915476599851, 0.15317678406558502, 0.15306487965583368, 0.15295573216332528, 0.15284924422255078, 0.15274532307647848, 0.1526438803040305, 0.1525448315667448, 0.15244809637305906, 0.15235359785881017, 0.1522612625826566, 0.15217102033524355, 0.1520828039610524, 0.15199654919196542, 0.15191219449164847, 0.15182968090992335, 0.151748951946437, 0.15166995342287343, 0.15159263336315218, 0.1515169418809979, 0.15144283107437723, 0.15137025492628786, 0.1512991692114975, 0.1512295314087971, 0.15116130061840713, 0.151094437484132, 0.1510289041200382, 0.15096466404128267, 0.15090168209881083, 0.15083992441778066, 0.15077935833927472, 0.15071995236532648, 0.15066167610684902, 0.15060450023438357, 0.15054839643150117, 0.1504933373506079, 0.15043929657116328, 0.15038624855992397, 0.15033416863338306, 0.15028303292201067, 0.15023281833635313, 0.1501835025348403, 0.15013506389315312, 0.15008748147514478, 0.1500407350051318, 0.1499948048415857, 0.14994967195203124, 0.1499053178892103, 0.1498617247683057, 0.1498188752451993, 0.14977675249595881, 0.1497353401969398, 0.14969462250608612, 0.14965458404490264, 0.14961520988136004, 0.1495764855134252, 0.14953839685351722, 0.14950093021344027, 0.1494640722900673, 0.14942781015175297, 0.14939213122508177, 0.14935702328245337, 0.14932247442998126, 0.1492884730960071, 0.1492550080200882, 0.14922206824241196, 0.14918964309369204, 0.14915772218537676, 0.14912629540040176, 0.14909535288420503, 0.14906488503608753, 0.14903488250110314, 0.14900533616190226, 0.14897623713139876, 0.1489475767451909, 0.14891934655469125, 0.14889153832026206, 0.14886414400482503, 0.14883715576744994, 0.1488105659574229, 0.14878436710839993, 0.14875855193288168, 0.1487331133167693, 0.14870804431421136, 0.1486833381425859, 0.14865898817763795, 0.1486349879490462, 0.14861133113558928, 0.14858801156123375, 0.14856502319061865, 0.14854236012523747, 0.14852001659950764, 0.14849798697693825, 0.14847626574673078, 0.1484548475199393, 0.14843372702644358, 0.14841289911149272, 0.14839235873260329, 0.14837210095646364, 0.1483521209560051, 0.14833241400761574, 0.14831297548825964, 0.1482938008729641, 0.14827488573207698, 0.14825622572891287, 0.14823781661711, 0.14821965423857367, 0.1482017345209936, 0.1481840534757841, 0.1481666071958431, 0.14814939185342393, 0.14813240369841021, 0.1481156390561286, 0.14809909432553772, 0.14808276597743483, 0.1480666505526404, 0.14805074466025506, 0.14803504497610578, 0.14801954824104688, 0.14800425125946473, 0.1479891508976377, 0.1479742440822309, 0.14795952779913618, 0.14794499909180236, 0.1479306550599104, 0.1479164928582728, 0.1479025096952028, 0.14788870283162683, 0.14787506957961744, 0.14786160730140355, 0.14784831340801793, 0.14783518535848994, 0.14782222065843859, 0.14780941685923743, 0.14779677155698795, 0.14778428239123984, 0.14777194704454308, 0.1477597632410342, 0.14774772874581754, 0.14773584136376447, 0.14772409893898678, 0.14771249935382083, 0.1477010405280201, 0.14768972041786657, 0.14767853701553893, 0.14766748834843998, 0.14765657247804076, 0.14764578749951696, 0.14763513154106833, 0.1476246027628442, 0.147614199356896, 0.1476039195457598, 0.14759376158269055, 0.1475837237501243, 0.14757380435972922, 0.14756400175180523, 0.14755431429406538, 0.1475447403818977, 0.14753527843727654, 0.14752592690841337, 0.1475166842691844, 0.14750754901882798, 0.1474985196808906, 0.14748959480356272, 0.14748077295831372, 0.14747205274026637, 0.14746343276692836, 0.14745491167865782, 0.14744648813729483, 0.1474381608264539, 0.14742992845070377, 0.14742178973543077, 0.14741374342611432, 0.14740578828851536, 0.14739792310737024, 0.14739014668711398, 0.1473824578507262, 0.14737485543954812, 0.14736733831335735, 0.1473599053494779, 0.14735255544267656, 0.1473452875048084, 0.14733810046465443, 0.14733099326749893, 0.1473239648747791, 0.1473170142638702, 0.14731014042759458, 0.14730334237440823, 0.14729661912758607, 0.1472899697252655, 0.14728339322008543, 0.14727688867915123, 0.14727045518314338, 0.1472640918270669, 0.1472577977188799, 0.1472515719802883, 0.1472454137457721, 0.14723932216284522, 0.1472332963913541, 0.14722733560370715, 0.14722143898446116, 0.14721560573018647, 0.1472098350488638, 0.14720412616059486, 0.147198478296269, 0.14719289069830338, 0.14718736262001741, 0.14718189332528372, 0.14717648208890516, 0.14717112819593495, 0.14716583094164826, 0.14716058963152442, 0.14715540358058235, 0.14715027211412238, 0.14714519456670902, 0.1471401702822638, 0.14713519861425592, 0.1471302789251444, 0.14712541058588866, 0.1471205929772526, 0.14711582548755386, 0.14711110751469664, 0.14710643846406676, 0.14710181774981396, 0.1470972447942547, 0.14709271902742566, 0.14708823988737044, 0.14708380681995709, 0.14707941927827636, 0.14707507672362832, 0.1470707786239364, 0.14706652445466226, 0.14706231369865388, 0.14705814584539578, 0.14705402039171223, 0.1470499368408529, 0.14704589470304114, 0.14704189349473265, 0.14703793273927182, 0.14703401196642393, 0.14703013071198498, 0.1470262885178408, 0.1470224849324902, 0.14701871950994644, 0.14701499181026675, 0.1470113013997363, 0.14700764784976264, 0.14700403073770635, 0.14700044964670922, 0.14699690416486416, 0.1469933938861695, 0.14698991840960987, 0.14698647733936526, 0.14698307028542454, 0.14697969686198056, 0.14697635668862458, 0.14697304939010253, 0.1469697745953782, 0.14696653193906628, 0.1469633210597033, 0.14696014160099774, 0.1469569932108931, 0.14695387554203368, 0.1469507882515336, 0.14694773100063788, 0.14694470345500327, 0.1469417052850922, 0.14693873616449493, 0.1469357957719861, 0.14693288378953206, 0.14692999990363462, 0.14692714380459154, 0.14692431518659052, 0.14692151374792256, 0.14691873919012086, 0.1469159912188186, 0.14691326954343414, 0.1469105738766311, 0.14690790393497813, 0.14690525943819427, 0.14690264010993176, 0.14690004567690562, 0.14689747586958068, 0.14689493042118104, 0.14689240906872084, 0.146889911552357, 0.146887437614955, 0.14688498700314015, 0.1468825594665364, 0.14688015475767646, 0.14687777263203594, 0.14687541284794914, 0.14687307516723286, 0.146870759354059, 0.14686846517569424, 0.14686619240219403, 0.14686394080644602, 0.14686171016373867, 0.14685950025252686, 0.1468573108536448, 0.14685514175035294, 0.14685299272936406, 0.14685086357883356, 0.14684875409024034, 0.14684666405697913, 0.14684459327540014, 0.14684254154401416, 0.14684050866354567, 0.14683849443750122, 0.14683649867173737, 0.14683452117364598, 0.14683256175373105, 0.14683062022416843, 0.14682869639976204, 0.1468267900973845, 0.14682490113540478, 0.14682302933543595, 0.14682117452048576, 0.14681933651567416, 0.14681751514805444, 0.1468157102469549, 0.14681392164367094, 0.14681214917115584, 0.14681039266476048, 0.1468086519615319, 0.14680692689989644, 0.14680521732094787, 0.14680352306733854, 0.14680184398296472, 0.1468001799142668, 0.14679853070911264, 0.14679689621729775, 0.14679527628995898, 0.14679367078007854, 0.14679207954272167, 0.14679050243390013, 0.1467889393119081, 0.1467873900361826, 0.14678585446781792, 0.1467843324699492, 0.1467828239066022, 0.14678132864349158, 0.1467798465482715, 0.14677837748980024, 0.1467769213381016, 0.14677547796504029, 0.14677404724400858, 0.14677262904932278, 0.14677122325733505, 0.14676982974511216, 0.14676844839169878, 0.14676707907693515, 0.14676572168229093, 0.1467643760905508, 0.14676304218607616, 0.14676171985390227, 0.14676040898028878, 0.1467591094535775, 0.146757821162698, 0.1467565439980209, 0.14675527785074116, 0.14675402261388953, 0.14675277818097085, 0.14675154444742847, 0.14675032130927743, 0.1467491086632227, 0.14674790640889662, 0.146746714444616, 0.1467455326714288, 0.14674436099143867, 0.14674319930671076, 0.14674204752138004, 0.1467409055405682, 0.14673977326959026, 0.14673865061593117, 0.14673753748676102, 0.146736433791693, 0.14673533943997846, 0.1467342543425003, 0.14673317841129013, 0.14673211155904264, 0.14673105369956332, 0.14673000474680686, 0.14672896461705887, 0.14672793322577082, 0.14672691049132747, 0.14672589633060032, 0.1467248906636844, 0.146723893409755, 0.1467229044902307, 0.14672192382588672, 0.14672095133939025, 0.14671998695401156, 0.14671903059392574, 0.1467180821835504, 0.14671714164882232, 0.1467162089160512, 0.14671528391206293, 0.1467143665653265, 0.1467134568038182, 0.14671255455729237, 0.14671165975596118, 0.14671077233080854, 0.1467098922130796, 0.14670901933509067, 0.14670815363005243, 0.1467072950315607, 0.1467064434742454, 0.14670559889259485, 0.14670476122243636, 0.14670393040076402, 0.1467031063638862, 0.14670228905008786, 0.14670147839744327, 0.1467006743446394, 0.14669987683180735, 0.1466990857988269, 0.14669830118649332, 0.14669752293633911, 0.1466967509901126, 0.14669598529078873, 0.14669522578136365, 0.14669447240569958, 0.1466937251083427, 0.14669298383348084]'"
      ]
     },
     "execution_count": 42,
     "metadata": {},
     "output_type": "execute_result"
    }
   ],
   "source": [
    "lista"
   ],
   "id": "49c8dee815b602a2"
  }
 ],
 "metadata": {
  "kernelspec": {
   "display_name": "Python 3",
   "language": "python",
   "name": "python3"
  },
  "language_info": {
   "codemirror_mode": {
    "name": "ipython",
    "version": 3
   },
   "file_extension": ".py",
   "mimetype": "text/x-python",
   "name": "python",
   "nbconvert_exporter": "python",
   "pygments_lexer": "ipython3",
   "version": "3.7.6"
  }
 },
 "nbformat": 4,
 "nbformat_minor": 5
}
