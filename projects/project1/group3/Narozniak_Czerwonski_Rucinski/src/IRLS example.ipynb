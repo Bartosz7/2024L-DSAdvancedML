{
 "cells": [
  {
   "cell_type": "code",
   "execution_count": 24,
   "id": "c08c727f-e73f-407c-b271-6545aa628be9",
   "metadata": {
    "ExecuteTime": {
     "end_time": "2024-04-03T01:28:14.077122Z",
     "start_time": "2024-04-03T01:28:14.036214Z"
    }
   },
   "outputs": [
    {
     "name": "stdout",
     "output_type": "stream",
     "text": [
      "The autoreload extension is already loaded. To reload it, use:\n",
      "  %reload_ext autoreload\n"
     ]
    }
   ],
   "source": [
    "%load_ext autoreload\n",
    "%autoreload 2"
   ]
  },
  {
   "cell_type": "markdown",
   "source": [
    "# Imports"
   ],
   "metadata": {
    "collapsed": false
   },
   "id": "2879f8d06c5096fb"
  },
  {
   "cell_type": "code",
   "execution_count": 25,
   "id": "initial_id",
   "metadata": {
    "ExecuteTime": {
     "end_time": "2024-04-03T01:28:14.285843Z",
     "start_time": "2024-04-03T01:28:14.078240Z"
    }
   },
   "outputs": [
    {
     "data": {
      "text/plain": "{'divide': 'ignore', 'over': 'ignore', 'under': 'ignore', 'invalid': 'ignore'}"
     },
     "execution_count": 25,
     "metadata": {},
     "output_type": "execute_result"
    }
   ],
   "source": [
    "from datasets import load_dataset\n",
    "from irls_optimizer import IRLS\n",
    "from Adam import AdamOptim\n",
    "from SGD import SGD\n",
    "from Logreg import LogisticRegression \n",
    "from utils import fitComparisonModels, createFeatureInteractions\n",
    "\n",
    "from sklearn.impute import SimpleImputer\n",
    "import numpy as np\n",
    "import pandas as pd\n",
    "from sklearn.preprocessing import LabelEncoder\n",
    "from sklearn.preprocessing import OrdinalEncoder\n",
    "from sklearn.preprocessing import StandardScaler\n",
    "from sklearn.model_selection import train_test_split\n",
    "from sklearn.metrics import balanced_accuracy_score\n",
    "import matplotlib.pyplot as plt\n",
    "\n",
    "np.seterr(divide = 'ignore') \n",
    "np.seterr(invalid='ignore')\n",
    "np.seterr(over ='ignore')"
   ]
  },
  {
   "cell_type": "markdown",
   "id": "175038e1-4394-4c2c-a2fa-98167c913f72",
   "metadata": {},
   "source": [
    "# Blood (small dataset)"
   ]
  },
  {
   "cell_type": "code",
   "execution_count": 26,
   "id": "2b862350-7631-48ab-8e0d-5317b627f326",
   "metadata": {
    "ExecuteTime": {
     "end_time": "2024-04-03T01:28:16.363415Z",
     "start_time": "2024-04-03T01:28:14.097637Z"
    }
   },
   "outputs": [
    {
     "name": "stdout",
     "output_type": "stream",
     "text": [
      "(748, 4)\n"
     ]
    },
    {
     "data": {
      "text/plain": "   months_since_last_donation  total_donation  total_blood_donated_in_cc  \\\n0                           2              50                      12500   \n1                           0              13                       3250   \n2                           1              16                       4000   \n3                           2              20                       5000   \n4                           1              24                       6000   \n\n   has_donated_last_month  \n0                       1  \n1                       1  \n2                       1  \n3                       1  \n4                       0  ",
      "text/html": "<div>\n<style scoped>\n    .dataframe tbody tr th:only-of-type {\n        vertical-align: middle;\n    }\n\n    .dataframe tbody tr th {\n        vertical-align: top;\n    }\n\n    .dataframe thead th {\n        text-align: right;\n    }\n</style>\n<table border=\"1\" class=\"dataframe\">\n  <thead>\n    <tr style=\"text-align: right;\">\n      <th></th>\n      <th>months_since_last_donation</th>\n      <th>total_donation</th>\n      <th>total_blood_donated_in_cc</th>\n      <th>has_donated_last_month</th>\n    </tr>\n  </thead>\n  <tbody>\n    <tr>\n      <th>0</th>\n      <td>2</td>\n      <td>50</td>\n      <td>12500</td>\n      <td>1</td>\n    </tr>\n    <tr>\n      <th>1</th>\n      <td>0</td>\n      <td>13</td>\n      <td>3250</td>\n      <td>1</td>\n    </tr>\n    <tr>\n      <th>2</th>\n      <td>1</td>\n      <td>16</td>\n      <td>4000</td>\n      <td>1</td>\n    </tr>\n    <tr>\n      <th>3</th>\n      <td>2</td>\n      <td>20</td>\n      <td>5000</td>\n      <td>1</td>\n    </tr>\n    <tr>\n      <th>4</th>\n      <td>1</td>\n      <td>24</td>\n      <td>6000</td>\n      <td>0</td>\n    </tr>\n  </tbody>\n</table>\n</div>"
     },
     "execution_count": 26,
     "metadata": {},
     "output_type": "execute_result"
    }
   ],
   "source": [
    "dataset_name = \"mstz/blood\"\n",
    "ds = load_dataset(dataset_name)\n",
    "\n",
    "Xy = ds[\"train\"].with_format(\"pandas\")[:]\n",
    "X = Xy.iloc[:, :-1]\n",
    "y = Xy.iloc[:, -1]\n",
    "print(Xy.shape)\n",
    "Xy.head()"
   ]
  },
  {
   "cell_type": "code",
   "outputs": [],
   "source": [
    "def optimizer_factory(name, **kwargs):\n",
    "    if name == \"irls\":\n",
    "        return IRLS()\n",
    "    elif name == \"adam\":\n",
    "        return AdamOptim(**kwargs)\n",
    "    elif name == \"sgd\":\n",
    "        return SGD(**kwargs)\n",
    "    else:\n",
    "        raise ValueError(\"irls, adam and sgd only supported\")"
   ],
   "metadata": {
    "collapsed": false,
    "ExecuteTime": {
     "end_time": "2024-04-03T01:28:16.395950Z",
     "start_time": "2024-04-03T01:28:16.365176Z"
    }
   },
   "id": "dc317ded118e054",
   "execution_count": 27
  },
  {
   "cell_type": "code",
   "outputs": [
    {
     "name": "stdout",
     "output_type": "stream",
     "text": [
      "Running irls\n"
     ]
    },
    {
     "name": "stderr",
     "output_type": "stream",
     "text": [
      "Epoch::  14%|█▍        | 14/100 [00:00<00:01, 44.75it/s]\n"
     ]
    },
    {
     "name": "stdout",
     "output_type": "stream",
     "text": [
      "Early stopping after epoch 14\n",
      "Reverting to the weights corresponding to the lowest validation loss\n",
      "Running adam\n"
     ]
    },
    {
     "name": "stderr",
     "output_type": "stream",
     "text": [
      "Epoch:: 100%|██████████| 100/100 [00:00<00:00, 473.14it/s]\n"
     ]
    },
    {
     "name": "stdout",
     "output_type": "stream",
     "text": [
      "Running sgd\n"
     ]
    },
    {
     "name": "stderr",
     "output_type": "stream",
     "text": [
      "Epoch:: 100%|██████████| 100/100 [00:00<00:00, 1287.20it/s]\n",
      "/Users/adam/.pyenv/versions/3.10.9/envs/flwr/lib/python3.10/site-packages/sklearn/discriminant_analysis.py:935: UserWarning: Variables are collinear\n",
      "  warnings.warn(\"Variables are collinear\")\n"
     ]
    },
    {
     "name": "stdout",
     "output_type": "stream",
     "text": [
      "Running irls\n"
     ]
    },
    {
     "name": "stderr",
     "output_type": "stream",
     "text": [
      "Epoch::   5%|▌         | 5/100 [00:00<00:01, 74.43it/s]\n"
     ]
    },
    {
     "name": "stdout",
     "output_type": "stream",
     "text": [
      "Early stopping after epoch 5\n",
      "Reverting to the weights corresponding to the lowest validation loss\n",
      "Running adam\n"
     ]
    },
    {
     "name": "stderr",
     "output_type": "stream",
     "text": [
      "Epoch:: 100%|██████████| 100/100 [00:00<00:00, 836.23it/s]\n"
     ]
    },
    {
     "name": "stdout",
     "output_type": "stream",
     "text": [
      "Running sgd\n"
     ]
    },
    {
     "name": "stderr",
     "output_type": "stream",
     "text": [
      "Epoch:: 100%|██████████| 100/100 [00:00<00:00, 1125.53it/s]\n",
      "/Users/adam/.pyenv/versions/3.10.9/envs/flwr/lib/python3.10/site-packages/sklearn/discriminant_analysis.py:935: UserWarning: Variables are collinear\n",
      "  warnings.warn(\"Variables are collinear\")\n"
     ]
    },
    {
     "name": "stdout",
     "output_type": "stream",
     "text": [
      "Running irls\n"
     ]
    },
    {
     "name": "stderr",
     "output_type": "stream",
     "text": [
      "Epoch::   7%|▋         | 7/100 [00:00<00:02, 44.39it/s]\n"
     ]
    },
    {
     "name": "stdout",
     "output_type": "stream",
     "text": [
      "Early stopping after epoch 7\n",
      "Reverting to the weights corresponding to the lowest validation loss\n",
      "Running adam\n"
     ]
    },
    {
     "name": "stderr",
     "output_type": "stream",
     "text": [
      "Epoch:: 100%|██████████| 100/100 [00:00<00:00, 975.98it/s]\n"
     ]
    },
    {
     "name": "stdout",
     "output_type": "stream",
     "text": [
      "Running sgd\n"
     ]
    },
    {
     "name": "stderr",
     "output_type": "stream",
     "text": [
      "Epoch:: 100%|██████████| 100/100 [00:00<00:00, 784.77it/s]\n",
      "/Users/adam/.pyenv/versions/3.10.9/envs/flwr/lib/python3.10/site-packages/sklearn/discriminant_analysis.py:935: UserWarning: Variables are collinear\n",
      "  warnings.warn(\"Variables are collinear\")\n"
     ]
    },
    {
     "name": "stdout",
     "output_type": "stream",
     "text": [
      "Running irls\n"
     ]
    },
    {
     "name": "stderr",
     "output_type": "stream",
     "text": [
      "Epoch::  10%|█         | 10/100 [00:00<00:02, 40.02it/s]\n"
     ]
    },
    {
     "name": "stdout",
     "output_type": "stream",
     "text": [
      "Early stopping after epoch 10\n",
      "Reverting to the weights corresponding to the lowest validation loss\n",
      "Running adam\n"
     ]
    },
    {
     "name": "stderr",
     "output_type": "stream",
     "text": [
      "Epoch:: 100%|██████████| 100/100 [00:00<00:00, 705.83it/s]\n"
     ]
    },
    {
     "name": "stdout",
     "output_type": "stream",
     "text": [
      "Running sgd\n"
     ]
    },
    {
     "name": "stderr",
     "output_type": "stream",
     "text": [
      "Epoch:: 100%|██████████| 100/100 [00:00<00:00, 1114.84it/s]\n",
      "/Users/adam/.pyenv/versions/3.10.9/envs/flwr/lib/python3.10/site-packages/sklearn/discriminant_analysis.py:935: UserWarning: Variables are collinear\n",
      "  warnings.warn(\"Variables are collinear\")\n"
     ]
    },
    {
     "name": "stdout",
     "output_type": "stream",
     "text": [
      "Running irls\n"
     ]
    },
    {
     "name": "stderr",
     "output_type": "stream",
     "text": [
      "Epoch::   5%|▌         | 5/100 [00:00<00:02, 44.24it/s]"
     ]
    },
    {
     "name": "stdout",
     "output_type": "stream",
     "text": [
      "Early stopping after epoch 5\n",
      "Reverting to the weights corresponding to the lowest validation loss\n"
     ]
    },
    {
     "name": "stderr",
     "output_type": "stream",
     "text": [
      "\n"
     ]
    },
    {
     "name": "stdout",
     "output_type": "stream",
     "text": [
      "Running adam\n"
     ]
    },
    {
     "name": "stderr",
     "output_type": "stream",
     "text": [
      "Epoch:: 100%|██████████| 100/100 [00:00<00:00, 1503.65it/s]\n"
     ]
    },
    {
     "name": "stdout",
     "output_type": "stream",
     "text": [
      "Running sgd\n"
     ]
    },
    {
     "name": "stderr",
     "output_type": "stream",
     "text": [
      "Epoch:: 100%|██████████| 100/100 [00:00<00:00, 1537.16it/s]\n",
      "/Users/adam/.pyenv/versions/3.10.9/envs/flwr/lib/python3.10/site-packages/sklearn/discriminant_analysis.py:935: UserWarning: Variables are collinear\n",
      "  warnings.warn(\"Variables are collinear\")\n"
     ]
    }
   ],
   "source": [
    "results = {}\n",
    "losses = {}\n",
    "\n",
    "splitting_seeds = [42, 43, 44, 45, 46]\n",
    "optimizer_to_kwargs = {\"irls\": {}, \"adam\": {\"eta\": 0.001}, \"sgd\": {\"eta\": 0.01}}\n",
    "\n",
    "for seed in splitting_seeds:\n",
    "    X_train, X_test, y_train, y_test = train_test_split(X, y, test_size=0.2, random_state=seed)\n",
    "    X_train, X_val, y_train, y_val = train_test_split(X_train, y_train, test_size=0.2, random_state=seed)\n",
    "    ss = StandardScaler()\n",
    "    ss.fit(X_train)\n",
    "    X_train = ss.transform(X_train)\n",
    "    X_val = ss.transform(X_val)\n",
    "    X_test = ss.transform(X_test)\n",
    "    for optimizer_name, kwargs in optimizer_to_kwargs.items():\n",
    "        print(f\"Running {optimizer_name}\")\n",
    "        optimizer = optimizer_factory(optimizer_name, **kwargs)\n",
    "        log_reg = LogisticRegression(input_dim=X_train.shape[1])\n",
    "        log_reg.train(X_train, y_train, X_val=X_val, y_val=y_val, optimizer=optimizer, patience=5, epochs=100, batch_size=X_train.shape[0])\n",
    "        \n",
    "        y_pred = log_reg.predict(X_test).round()\n",
    "        ba_score = balanced_accuracy_score(y_pred, y_test)\n",
    "        \n",
    "        # Store the results\n",
    "        results[(optimizer_name, seed)] = ba_score\n",
    "        if seed == 42:\n",
    "            losses[optimizer_name] = log_reg.losses\n",
    "    # Other models\n",
    "    y_lda, y_qda, y_dt, y_rf = fitComparisonModels(X_train, y_train, X_test)\n",
    "    models = ['lda', 'qda', 'dt', 'rf']\n",
    "    y_preds = [y_lda, y_qda, y_dt, y_rf]\n",
    "    \n",
    "    for model, y_pred in zip(models, y_preds):\n",
    "        ba_score = balanced_accuracy_score(y_test, y_pred)\n",
    "        results[(model, seed)] = ba_score\n",
    "\n",
    "# Converting results to DataFrame\n",
    "data = []\n",
    "for (model, seed), ba_score in results.items():\n",
    "    data.append({\"optimizer\": model, f\"seed_{seed}_acc\": ba_score})\n",
    "\n",
    "df = pd.DataFrame(data)\n",
    "df = df.groupby('optimizer').first().reset_index()\n",
    "df[\"data_set\"] = dataset_name\n",
    "df.index = df['data_set']\n",
    "df.drop('data_set', axis=1, inplace=True)\n",
    "df.to_csv(\"model_performance.csv\", index=True)\n",
    "\n",
    "for optimizer, loss in losses.items():\n",
    "    np.save(f\"results/loss/{optimizer}/{dataset_name.replace('/', '-')}.npy\", np.array(loss))\n"
   ],
   "metadata": {
    "collapsed": false,
    "ExecuteTime": {
     "end_time": "2024-04-03T01:28:19.362057Z",
     "start_time": "2024-04-03T01:28:16.383738Z"
    }
   },
   "id": "ab18e6964be351ad",
   "execution_count": 28
  },
  {
   "cell_type": "markdown",
   "source": [
    "# Blood (small dataset) with interactions"
   ],
   "metadata": {
    "collapsed": false
   },
   "id": "fbcbc0e489df325"
  },
  {
   "cell_type": "code",
   "outputs": [
    {
     "name": "stdout",
     "output_type": "stream",
     "text": [
      "Running irls+int\n"
     ]
    },
    {
     "name": "stderr",
     "output_type": "stream",
     "text": [
      "Epoch::   6%|▌         | 6/100 [00:00<00:03, 30.07it/s]"
     ]
    },
    {
     "name": "stdout",
     "output_type": "stream",
     "text": [
      "Early stopping after epoch 6\n",
      "Reverting to the weights corresponding to the lowest validation loss\n"
     ]
    },
    {
     "name": "stderr",
     "output_type": "stream",
     "text": [
      "\n"
     ]
    },
    {
     "name": "stdout",
     "output_type": "stream",
     "text": [
      "Running adam+int\n"
     ]
    },
    {
     "name": "stderr",
     "output_type": "stream",
     "text": [
      "Epoch::   7%|▋         | 7/100 [00:00<00:00, 534.35it/s]\n"
     ]
    },
    {
     "name": "stdout",
     "output_type": "stream",
     "text": [
      "Early stopping after epoch 7\n",
      "Reverting to the weights corresponding to the lowest validation loss\n",
      "Running sgd+int\n"
     ]
    },
    {
     "name": "stderr",
     "output_type": "stream",
     "text": [
      "Epoch::   4%|▍         | 4/100 [00:00<00:00, 440.24it/s]"
     ]
    },
    {
     "name": "stdout",
     "output_type": "stream",
     "text": [
      "Early stopping after epoch 4\n",
      "Reverting to the weights corresponding to the lowest validation loss\n"
     ]
    },
    {
     "name": "stderr",
     "output_type": "stream",
     "text": [
      "\n",
      "/Users/adam/.pyenv/versions/3.10.9/envs/flwr/lib/python3.10/site-packages/sklearn/metrics/_classification.py:2399: UserWarning: y_pred contains classes not in y_true\n",
      "  warnings.warn(\"y_pred contains classes not in y_true\")\n",
      "/Users/adam/.pyenv/versions/3.10.9/envs/flwr/lib/python3.10/site-packages/sklearn/discriminant_analysis.py:935: UserWarning: Variables are collinear\n",
      "  warnings.warn(\"Variables are collinear\")\n"
     ]
    },
    {
     "name": "stdout",
     "output_type": "stream",
     "text": [
      "Running irls+int\n"
     ]
    },
    {
     "name": "stderr",
     "output_type": "stream",
     "text": [
      "Epoch::   5%|▌         | 5/100 [00:00<00:03, 26.02it/s]\n"
     ]
    },
    {
     "name": "stdout",
     "output_type": "stream",
     "text": [
      "Early stopping after epoch 5\n",
      "Reverting to the weights corresponding to the lowest validation loss\n",
      "Running adam+int\n"
     ]
    },
    {
     "name": "stderr",
     "output_type": "stream",
     "text": [
      "Epoch::   8%|▊         | 8/100 [00:00<00:00, 1164.84it/s]\n"
     ]
    },
    {
     "name": "stdout",
     "output_type": "stream",
     "text": [
      "Early stopping after epoch 8\n",
      "Reverting to the weights corresponding to the lowest validation loss\n",
      "Running sgd+int\n"
     ]
    },
    {
     "name": "stderr",
     "output_type": "stream",
     "text": [
      "Epoch::   4%|▍         | 4/100 [00:00<00:00, 272.01it/s]\n",
      "/Users/adam/.pyenv/versions/3.10.9/envs/flwr/lib/python3.10/site-packages/sklearn/metrics/_classification.py:2399: UserWarning: y_pred contains classes not in y_true\n",
      "  warnings.warn(\"y_pred contains classes not in y_true\")\n",
      "/Users/adam/.pyenv/versions/3.10.9/envs/flwr/lib/python3.10/site-packages/sklearn/discriminant_analysis.py:935: UserWarning: Variables are collinear\n",
      "  warnings.warn(\"Variables are collinear\")\n"
     ]
    },
    {
     "name": "stdout",
     "output_type": "stream",
     "text": [
      "Early stopping after epoch 4\n",
      "Reverting to the weights corresponding to the lowest validation loss\n",
      "Running irls+int\n"
     ]
    },
    {
     "name": "stderr",
     "output_type": "stream",
     "text": [
      "Epoch::   6%|▌         | 6/100 [00:00<00:04, 21.63it/s]\n"
     ]
    },
    {
     "name": "stdout",
     "output_type": "stream",
     "text": [
      "Early stopping after epoch 6\n",
      "Reverting to the weights corresponding to the lowest validation loss\n",
      "Running adam+int\n"
     ]
    },
    {
     "name": "stderr",
     "output_type": "stream",
     "text": [
      "Epoch::   7%|▋         | 7/100 [00:00<00:00, 767.44it/s]\n"
     ]
    },
    {
     "name": "stdout",
     "output_type": "stream",
     "text": [
      "Early stopping after epoch 7\n",
      "Reverting to the weights corresponding to the lowest validation loss\n",
      "Running sgd+int\n"
     ]
    },
    {
     "name": "stderr",
     "output_type": "stream",
     "text": [
      "Epoch::   4%|▍         | 4/100 [00:00<00:00, 150.48it/s]\n",
      "/Users/adam/.pyenv/versions/3.10.9/envs/flwr/lib/python3.10/site-packages/sklearn/metrics/_classification.py:2399: UserWarning: y_pred contains classes not in y_true\n",
      "  warnings.warn(\"y_pred contains classes not in y_true\")\n",
      "/Users/adam/.pyenv/versions/3.10.9/envs/flwr/lib/python3.10/site-packages/sklearn/discriminant_analysis.py:935: UserWarning: Variables are collinear\n",
      "  warnings.warn(\"Variables are collinear\")\n"
     ]
    },
    {
     "name": "stdout",
     "output_type": "stream",
     "text": [
      "Early stopping after epoch 4\n",
      "Reverting to the weights corresponding to the lowest validation loss\n",
      "Running irls+int\n"
     ]
    },
    {
     "name": "stderr",
     "output_type": "stream",
     "text": [
      "Epoch::  11%|█         | 11/100 [00:00<00:01, 48.19it/s]\n"
     ]
    },
    {
     "name": "stdout",
     "output_type": "stream",
     "text": [
      "Early stopping after epoch 11\n",
      "Reverting to the weights corresponding to the lowest validation loss\n",
      "Running adam+int\n"
     ]
    },
    {
     "name": "stderr",
     "output_type": "stream",
     "text": [
      "Epoch::   6%|▌         | 6/100 [00:00<00:00, 642.13it/s]\n",
      "/Users/adam/.pyenv/versions/3.10.9/envs/flwr/lib/python3.10/site-packages/sklearn/metrics/_classification.py:2399: UserWarning: y_pred contains classes not in y_true\n",
      "  warnings.warn(\"y_pred contains classes not in y_true\")\n"
     ]
    },
    {
     "name": "stdout",
     "output_type": "stream",
     "text": [
      "Early stopping after epoch 6\n",
      "Reverting to the weights corresponding to the lowest validation loss\n",
      "Running sgd+int\n"
     ]
    },
    {
     "name": "stderr",
     "output_type": "stream",
     "text": [
      "Epoch::   4%|▍         | 4/100 [00:00<00:00, 487.34it/s]\n",
      "/Users/adam/.pyenv/versions/3.10.9/envs/flwr/lib/python3.10/site-packages/sklearn/metrics/_classification.py:2399: UserWarning: y_pred contains classes not in y_true\n",
      "  warnings.warn(\"y_pred contains classes not in y_true\")\n",
      "/Users/adam/.pyenv/versions/3.10.9/envs/flwr/lib/python3.10/site-packages/sklearn/discriminant_analysis.py:935: UserWarning: Variables are collinear\n",
      "  warnings.warn(\"Variables are collinear\")\n"
     ]
    },
    {
     "name": "stdout",
     "output_type": "stream",
     "text": [
      "Early stopping after epoch 4\n",
      "Reverting to the weights corresponding to the lowest validation loss\n",
      "Running irls+int\n"
     ]
    },
    {
     "name": "stderr",
     "output_type": "stream",
     "text": [
      "Epoch::   5%|▌         | 5/100 [00:00<00:01, 53.28it/s]\n"
     ]
    },
    {
     "name": "stdout",
     "output_type": "stream",
     "text": [
      "Early stopping after epoch 5\n",
      "Reverting to the weights corresponding to the lowest validation loss\n",
      "Running adam+int\n"
     ]
    },
    {
     "name": "stderr",
     "output_type": "stream",
     "text": [
      "Epoch::   6%|▌         | 6/100 [00:00<00:00, 1057.65it/s]\n",
      "/Users/adam/.pyenv/versions/3.10.9/envs/flwr/lib/python3.10/site-packages/sklearn/metrics/_classification.py:2399: UserWarning: y_pred contains classes not in y_true\n",
      "  warnings.warn(\"y_pred contains classes not in y_true\")\n"
     ]
    },
    {
     "name": "stdout",
     "output_type": "stream",
     "text": [
      "Early stopping after epoch 6\n",
      "Reverting to the weights corresponding to the lowest validation loss\n",
      "Running sgd+int\n"
     ]
    },
    {
     "name": "stderr",
     "output_type": "stream",
     "text": [
      "Epoch::   4%|▍         | 4/100 [00:00<00:00, 307.30it/s]\n",
      "/Users/adam/.pyenv/versions/3.10.9/envs/flwr/lib/python3.10/site-packages/sklearn/metrics/_classification.py:2399: UserWarning: y_pred contains classes not in y_true\n",
      "  warnings.warn(\"y_pred contains classes not in y_true\")\n",
      "/Users/adam/.pyenv/versions/3.10.9/envs/flwr/lib/python3.10/site-packages/sklearn/discriminant_analysis.py:935: UserWarning: Variables are collinear\n",
      "  warnings.warn(\"Variables are collinear\")\n"
     ]
    },
    {
     "name": "stdout",
     "output_type": "stream",
     "text": [
      "Early stopping after epoch 4\n",
      "Reverting to the weights corresponding to the lowest validation loss\n"
     ]
    }
   ],
   "source": [
    "results = {}\n",
    "losses = {}\n",
    "\n",
    "splitting_seeds = [42, 43, 44, 45, 46]\n",
    "optimizer_to_kwargs = {\"irls\": {}, \"adam\": {\"eta\": 0.001}, \"sgd\": {\"eta\": 0.01}}\n",
    "\n",
    "for seed in splitting_seeds:\n",
    "    X_int = createFeatureInteractions(X.values)\n",
    "    X_train, X_test, y_train, y_test = train_test_split(X_int, y, test_size=0.2, random_state=seed)\n",
    "    X_train, X_val, y_train, y_val = train_test_split(X_train, y_train, test_size=0.2, random_state=seed)\n",
    "        \n",
    "    for optimizer_name, kwargs in optimizer_to_kwargs.items():\n",
    "        print(f\"Running {optimizer_name}+int\")\n",
    "        optimizer = optimizer_factory(optimizer_name, **kwargs)\n",
    "        log_reg = LogisticRegression(input_dim=X_train.shape[1])\n",
    "        log_reg.train(X_train, y_train, X_val=X_val, y_val=y_val, optimizer=optimizer, patience=5, epochs=100, batch_size=X_train.shape[0])\n",
    "        \n",
    "        y_pred = log_reg.predict(X_test).round()\n",
    "        ba_score = balanced_accuracy_score(y_pred, y_test)\n",
    "        \n",
    "        # Store the results\n",
    "        results[(optimizer_name+\"+int\", seed)] = ba_score\n",
    "        if seed == 42:\n",
    "            losses[optimizer_name] = log_reg.losses\n",
    "    # Other models\n",
    "    y_lda, y_qda, y_dt, y_rf = fitComparisonModels(X_train, y_train, X_test)\n",
    "    models = ['lda+int', 'qda+int', 'dt+int', 'rf+int']\n",
    "    y_preds = [y_lda, y_qda, y_dt, y_rf]\n",
    "    \n",
    "    for model, y_pred in zip(models, y_preds):\n",
    "        ba_score = balanced_accuracy_score(y_test, y_pred)\n",
    "        results[(model, seed)] = ba_score\n",
    "\n",
    "# Converting results to DataFrame\n",
    "data = []\n",
    "for (model, seed), ba_score in results.items():\n",
    "    data.append({\"optimizer\": model, f\"seed_{seed}_acc\": ba_score})\n",
    "\n",
    "df = pd.DataFrame(data)\n",
    "df = df.groupby('optimizer').first().reset_index()\n",
    "df[\"data_set\"] = dataset_name\n",
    "# multi_index = pd.MultiIndex.from_arrays([df['data_set'], df[\"optimizer\"]], names=['data_set', 'optimizer'])\n",
    "df.index = df['data_set']\n",
    "df.drop('data_set', axis=1, inplace=True)\n",
    "df.to_csv(\"model_performance.csv\", index=True, mode=\"a\",  header=False)\n",
    "\n",
    "\n",
    "for optimizer, loss in losses.items():\n",
    "    np.save(f\"results/loss/{optimizer}/{dataset_name.replace('/', '-')}Int.npy\", np.array(loss))"
   ],
   "metadata": {
    "collapsed": false,
    "ExecuteTime": {
     "end_time": "2024-04-03T01:28:21.439815Z",
     "start_time": "2024-04-03T01:28:19.248206Z"
    }
   },
   "id": "2f264571e6aa1c09",
   "execution_count": 29
  },
  {
   "cell_type": "markdown",
   "source": [
    "# UCI Shopper (big dataset)"
   ],
   "metadata": {},
   "id": "cbf00fe0-3d14-4621-890c-db7292253874"
  },
  {
   "cell_type": "code",
   "outputs": [
    {
     "name": "stdout",
     "output_type": "stream",
     "text": [
      "(12330, 18)\n"
     ]
    },
    {
     "data": {
      "text/plain": "   Administrative  Administrative_Duration  Informational  \\\n0               0                      0.0              0   \n1               0                      0.0              0   \n2               0                      0.0              0   \n3               0                      0.0              0   \n4               0                      0.0              0   \n\n   Informational_Duration  ProductRelated  ProductRelated_Duration  \\\n0                     0.0               1                 0.000000   \n1                     0.0               2                64.000000   \n2                     0.0               1                 0.000000   \n3                     0.0               2                 2.666667   \n4                     0.0              10               627.500000   \n\n   BounceRates  ExitRates  PageValues  SpecialDay Month  OperatingSystems  \\\n0         0.20       0.20         0.0         0.0   Feb                 1   \n1         0.00       0.10         0.0         0.0   Feb                 2   \n2         0.20       0.20         0.0         0.0   Feb                 4   \n3         0.05       0.14         0.0         0.0   Feb                 3   \n4         0.02       0.05         0.0         0.0   Feb                 3   \n\n   Browser  Region  TrafficType        VisitorType  Weekend  Revenue  \n0        1       1            1  Returning_Visitor    False        0  \n1        2       1            2  Returning_Visitor    False        0  \n2        1       9            3  Returning_Visitor    False        0  \n3        2       2            4  Returning_Visitor    False        0  \n4        3       1            4  Returning_Visitor     True        0  ",
      "text/html": "<div>\n<style scoped>\n    .dataframe tbody tr th:only-of-type {\n        vertical-align: middle;\n    }\n\n    .dataframe tbody tr th {\n        vertical-align: top;\n    }\n\n    .dataframe thead th {\n        text-align: right;\n    }\n</style>\n<table border=\"1\" class=\"dataframe\">\n  <thead>\n    <tr style=\"text-align: right;\">\n      <th></th>\n      <th>Administrative</th>\n      <th>Administrative_Duration</th>\n      <th>Informational</th>\n      <th>Informational_Duration</th>\n      <th>ProductRelated</th>\n      <th>ProductRelated_Duration</th>\n      <th>BounceRates</th>\n      <th>ExitRates</th>\n      <th>PageValues</th>\n      <th>SpecialDay</th>\n      <th>Month</th>\n      <th>OperatingSystems</th>\n      <th>Browser</th>\n      <th>Region</th>\n      <th>TrafficType</th>\n      <th>VisitorType</th>\n      <th>Weekend</th>\n      <th>Revenue</th>\n    </tr>\n  </thead>\n  <tbody>\n    <tr>\n      <th>0</th>\n      <td>0</td>\n      <td>0.0</td>\n      <td>0</td>\n      <td>0.0</td>\n      <td>1</td>\n      <td>0.000000</td>\n      <td>0.20</td>\n      <td>0.20</td>\n      <td>0.0</td>\n      <td>0.0</td>\n      <td>Feb</td>\n      <td>1</td>\n      <td>1</td>\n      <td>1</td>\n      <td>1</td>\n      <td>Returning_Visitor</td>\n      <td>False</td>\n      <td>0</td>\n    </tr>\n    <tr>\n      <th>1</th>\n      <td>0</td>\n      <td>0.0</td>\n      <td>0</td>\n      <td>0.0</td>\n      <td>2</td>\n      <td>64.000000</td>\n      <td>0.00</td>\n      <td>0.10</td>\n      <td>0.0</td>\n      <td>0.0</td>\n      <td>Feb</td>\n      <td>2</td>\n      <td>2</td>\n      <td>1</td>\n      <td>2</td>\n      <td>Returning_Visitor</td>\n      <td>False</td>\n      <td>0</td>\n    </tr>\n    <tr>\n      <th>2</th>\n      <td>0</td>\n      <td>0.0</td>\n      <td>0</td>\n      <td>0.0</td>\n      <td>1</td>\n      <td>0.000000</td>\n      <td>0.20</td>\n      <td>0.20</td>\n      <td>0.0</td>\n      <td>0.0</td>\n      <td>Feb</td>\n      <td>4</td>\n      <td>1</td>\n      <td>9</td>\n      <td>3</td>\n      <td>Returning_Visitor</td>\n      <td>False</td>\n      <td>0</td>\n    </tr>\n    <tr>\n      <th>3</th>\n      <td>0</td>\n      <td>0.0</td>\n      <td>0</td>\n      <td>0.0</td>\n      <td>2</td>\n      <td>2.666667</td>\n      <td>0.05</td>\n      <td>0.14</td>\n      <td>0.0</td>\n      <td>0.0</td>\n      <td>Feb</td>\n      <td>3</td>\n      <td>2</td>\n      <td>2</td>\n      <td>4</td>\n      <td>Returning_Visitor</td>\n      <td>False</td>\n      <td>0</td>\n    </tr>\n    <tr>\n      <th>4</th>\n      <td>0</td>\n      <td>0.0</td>\n      <td>0</td>\n      <td>0.0</td>\n      <td>10</td>\n      <td>627.500000</td>\n      <td>0.02</td>\n      <td>0.05</td>\n      <td>0.0</td>\n      <td>0.0</td>\n      <td>Feb</td>\n      <td>3</td>\n      <td>3</td>\n      <td>1</td>\n      <td>4</td>\n      <td>Returning_Visitor</td>\n      <td>True</td>\n      <td>0</td>\n    </tr>\n  </tbody>\n</table>\n</div>"
     },
     "execution_count": 30,
     "metadata": {},
     "output_type": "execute_result"
    }
   ],
   "source": [
    "dataset_name = \"jlh/uci-shopper\"\n",
    "ds = load_dataset(dataset_name)\n",
    "\n",
    "Xy = ds[\"train\"].with_format(\"pandas\")[:]\n",
    "X = Xy.iloc[:, :-1]\n",
    "y = Xy.iloc[:, -1]\n",
    "print(Xy.shape)\n",
    "Xy.head()"
   ],
   "metadata": {
    "ExecuteTime": {
     "end_time": "2024-04-03T01:28:24.038147Z",
     "start_time": "2024-04-03T01:28:21.439279Z"
    }
   },
   "id": "cb3cf6dd-2b4e-4a51-9da8-03f92dc7ef84",
   "execution_count": 30
  },
  {
   "cell_type": "code",
   "outputs": [],
   "source": [
    "oe = OrdinalEncoder()\n",
    "oe_cols = [\"Month\", \"VisitorType\", \"Weekend\"]\n",
    "oe.fit(X[oe_cols])\n",
    "X[oe_cols] = oe.transform(X[oe_cols])\n",
    "\n",
    "# seed = 42\n",
    "# X_train, X_test, y_train, y_test = train_test_split(X, y, test_size=0.2, random_state=seed)\n",
    "# X_train, X_val, y_train, y_val = train_test_split(X_train, y_train, test_size=0.2, random_state=seed)"
   ],
   "metadata": {
    "ExecuteTime": {
     "end_time": "2024-04-03T01:28:24.092037Z",
     "start_time": "2024-04-03T01:28:24.028061Z"
    }
   },
   "id": "5283f7d9-d9b0-46e5-9e7e-bfb3f8ca039a",
   "execution_count": 31
  },
  {
   "cell_type": "code",
   "outputs": [
    {
     "name": "stdout",
     "output_type": "stream",
     "text": [
      "Running irls\n"
     ]
    },
    {
     "name": "stderr",
     "output_type": "stream",
     "text": [
      "Epoch::   8%|▊         | 8/100 [00:07<01:27,  1.05it/s]\n"
     ]
    },
    {
     "name": "stdout",
     "output_type": "stream",
     "text": [
      "Early stopping after epoch 8\n",
      "Reverting to the weights corresponding to the lowest validation loss\n",
      "Running adam\n"
     ]
    },
    {
     "name": "stderr",
     "output_type": "stream",
     "text": [
      "Epoch::  13%|█▎        | 13/100 [00:00<00:01, 44.37it/s]\n"
     ]
    },
    {
     "name": "stdout",
     "output_type": "stream",
     "text": [
      "Early stopping after epoch 13\n",
      "Reverting to the weights corresponding to the lowest validation loss\n",
      "Running sgd\n"
     ]
    },
    {
     "name": "stderr",
     "output_type": "stream",
     "text": [
      "Epoch::   4%|▍         | 4/100 [00:00<00:01, 62.18it/s]\n",
      "/Users/adam/.pyenv/versions/3.10.9/envs/flwr/lib/python3.10/site-packages/sklearn/metrics/_classification.py:2399: UserWarning: y_pred contains classes not in y_true\n",
      "  warnings.warn(\"y_pred contains classes not in y_true\")\n"
     ]
    },
    {
     "name": "stdout",
     "output_type": "stream",
     "text": [
      "Early stopping after epoch 4\n",
      "Reverting to the weights corresponding to the lowest validation loss\n",
      "Running irls\n"
     ]
    },
    {
     "name": "stderr",
     "output_type": "stream",
     "text": [
      "Epoch::  12%|█▏        | 12/100 [00:07<00:56,  1.54it/s]\n"
     ]
    },
    {
     "name": "stdout",
     "output_type": "stream",
     "text": [
      "Early stopping after epoch 12\n",
      "Reverting to the weights corresponding to the lowest validation loss\n",
      "Running adam\n"
     ]
    },
    {
     "name": "stderr",
     "output_type": "stream",
     "text": [
      "Epoch:: 100%|██████████| 100/100 [00:01<00:00, 96.09it/s]\n"
     ]
    },
    {
     "name": "stdout",
     "output_type": "stream",
     "text": [
      "Running sgd\n"
     ]
    },
    {
     "name": "stderr",
     "output_type": "stream",
     "text": [
      "Epoch::   4%|▍         | 4/100 [00:00<00:01, 64.53it/s]\n",
      "/Users/adam/.pyenv/versions/3.10.9/envs/flwr/lib/python3.10/site-packages/sklearn/metrics/_classification.py:2399: UserWarning: y_pred contains classes not in y_true\n",
      "  warnings.warn(\"y_pred contains classes not in y_true\")\n"
     ]
    },
    {
     "name": "stdout",
     "output_type": "stream",
     "text": [
      "Early stopping after epoch 4\n",
      "Reverting to the weights corresponding to the lowest validation loss\n",
      "Running irls\n"
     ]
    },
    {
     "name": "stderr",
     "output_type": "stream",
     "text": [
      "Epoch::   8%|▊         | 8/100 [00:05<01:00,  1.51it/s]\n"
     ]
    },
    {
     "name": "stdout",
     "output_type": "stream",
     "text": [
      "Early stopping after epoch 8\n",
      "Reverting to the weights corresponding to the lowest validation loss\n",
      "Running adam\n"
     ]
    },
    {
     "name": "stderr",
     "output_type": "stream",
     "text": [
      "Epoch:: 100%|██████████| 100/100 [00:01<00:00, 92.90it/s]\n"
     ]
    },
    {
     "name": "stdout",
     "output_type": "stream",
     "text": [
      "Running sgd\n"
     ]
    },
    {
     "name": "stderr",
     "output_type": "stream",
     "text": [
      "Epoch::   4%|▍         | 4/100 [00:00<00:02, 44.93it/s]\n",
      "/Users/adam/.pyenv/versions/3.10.9/envs/flwr/lib/python3.10/site-packages/sklearn/metrics/_classification.py:2399: UserWarning: y_pred contains classes not in y_true\n",
      "  warnings.warn(\"y_pred contains classes not in y_true\")\n"
     ]
    },
    {
     "name": "stdout",
     "output_type": "stream",
     "text": [
      "Early stopping after epoch 4\n",
      "Reverting to the weights corresponding to the lowest validation loss\n",
      "Running irls\n"
     ]
    },
    {
     "name": "stderr",
     "output_type": "stream",
     "text": [
      "Epoch::  12%|█▏        | 12/100 [00:07<00:56,  1.57it/s]\n"
     ]
    },
    {
     "name": "stdout",
     "output_type": "stream",
     "text": [
      "Early stopping after epoch 12\n",
      "Reverting to the weights corresponding to the lowest validation loss\n",
      "Running adam\n"
     ]
    },
    {
     "name": "stderr",
     "output_type": "stream",
     "text": [
      "Epoch:: 100%|██████████| 100/100 [00:01<00:00, 97.27it/s]\n"
     ]
    },
    {
     "name": "stdout",
     "output_type": "stream",
     "text": [
      "Running sgd\n"
     ]
    },
    {
     "name": "stderr",
     "output_type": "stream",
     "text": [
      "Epoch::   6%|▌         | 6/100 [00:00<00:02, 41.26it/s]\n"
     ]
    },
    {
     "name": "stdout",
     "output_type": "stream",
     "text": [
      "Early stopping after epoch 6\n",
      "Reverting to the weights corresponding to the lowest validation loss\n"
     ]
    },
    {
     "name": "stderr",
     "output_type": "stream",
     "text": [
      "/Users/adam/.pyenv/versions/3.10.9/envs/flwr/lib/python3.10/site-packages/sklearn/metrics/_classification.py:2399: UserWarning: y_pred contains classes not in y_true\n",
      "  warnings.warn(\"y_pred contains classes not in y_true\")\n"
     ]
    },
    {
     "name": "stdout",
     "output_type": "stream",
     "text": [
      "Running irls\n"
     ]
    },
    {
     "name": "stderr",
     "output_type": "stream",
     "text": [
      "Epoch::   7%|▋         | 7/100 [00:04<01:03,  1.46it/s]\n"
     ]
    },
    {
     "name": "stdout",
     "output_type": "stream",
     "text": [
      "Early stopping after epoch 7\n",
      "Reverting to the weights corresponding to the lowest validation loss\n",
      "Running adam\n"
     ]
    },
    {
     "name": "stderr",
     "output_type": "stream",
     "text": [
      "Epoch:: 100%|██████████| 100/100 [00:00<00:00, 106.89it/s]\n"
     ]
    },
    {
     "name": "stdout",
     "output_type": "stream",
     "text": [
      "Running sgd\n"
     ]
    },
    {
     "name": "stderr",
     "output_type": "stream",
     "text": [
      "Epoch::   4%|▍         | 4/100 [00:00<00:01, 59.29it/s]\n",
      "/Users/adam/.pyenv/versions/3.10.9/envs/flwr/lib/python3.10/site-packages/sklearn/metrics/_classification.py:2399: UserWarning: y_pred contains classes not in y_true\n",
      "  warnings.warn(\"y_pred contains classes not in y_true\")\n"
     ]
    },
    {
     "name": "stdout",
     "output_type": "stream",
     "text": [
      "Early stopping after epoch 4\n",
      "Reverting to the weights corresponding to the lowest validation loss\n"
     ]
    }
   ],
   "source": [
    "results = {}\n",
    "losses = {}\n",
    "\n",
    "splitting_seeds = [42, 43, 44, 45, 46]\n",
    "optimizer_to_kwargs = {\"irls\": {}, \"adam\": {\"eta\": 0.001}, \"sgd\": {\"eta\": 0.01}}\n",
    "\n",
    "for seed in splitting_seeds:\n",
    "    X_train, X_test, y_train, y_test = train_test_split(X, y, test_size=0.2, random_state=seed)\n",
    "    X_train, X_val, y_train, y_val = train_test_split(X_train, y_train, test_size=0.2, random_state=seed)\n",
    "    \n",
    "    for optimizer_name, kwargs in optimizer_to_kwargs.items():\n",
    "        print(f\"Running {optimizer_name}\")\n",
    "        optimizer = optimizer_factory(optimizer_name, **kwargs)\n",
    "        log_reg = LogisticRegression(input_dim=X_train.shape[1])\n",
    "        log_reg.train(X_train, y_train, X_val=X_val, y_val=y_val, optimizer=optimizer, patience=5, epochs=100, batch_size=X_train.shape[0])\n",
    "        \n",
    "        y_pred = log_reg.predict(X_test).round()\n",
    "        ba_score = balanced_accuracy_score(y_pred, y_test)\n",
    "        \n",
    "        # Store the results\n",
    "        results[(optimizer_name, seed)] = ba_score\n",
    "        if seed == 42:\n",
    "            losses[optimizer_name] = log_reg.losses\n",
    "    # Other models\n",
    "    y_lda, y_qda, y_dt, y_rf = fitComparisonModels(X_train, y_train, X_test)\n",
    "    models = ['lda', 'qda', 'dt', 'rf']\n",
    "    y_preds = [y_lda, y_qda, y_dt, y_rf]\n",
    "    \n",
    "    for model, y_pred in zip(models, y_preds):\n",
    "        ba_score = balanced_accuracy_score(y_test, y_pred)\n",
    "        results[(model, seed)] = ba_score\n",
    "\n",
    "# Converting results to DataFrame\n",
    "data = []\n",
    "for (model, seed), ba_score in results.items():\n",
    "    data.append({\"optimizer\": model, f\"seed_{seed}_acc\": ba_score})\n",
    "\n",
    "df = pd.DataFrame(data)\n",
    "df = df.groupby('optimizer').first().reset_index()\n",
    "df[\"data_set\"] = dataset_name\n",
    "# multi_index = pd.MultiIndex.from_arrays([df['data_set'], df[\"optimizer\"]], names=['data_set', 'optimizer'])\n",
    "df.index = df['data_set']\n",
    "df.drop('data_set', axis=1, inplace=True)\n",
    "df.to_csv(\"model_performance.csv\", index=True, mode=\"a\",  header=False)\n",
    "\n",
    "for optimizer, loss in losses.items():\n",
    "    np.save(f\"results/loss/{optimizer}/{dataset_name.replace('/', '-')}.npy\", np.array(loss))"
   ],
   "metadata": {
    "ExecuteTime": {
     "end_time": "2024-04-03T01:29:08.952461Z",
     "start_time": "2024-04-03T01:28:24.057589Z"
    }
   },
   "id": "56045943-805f-46fa-a891-9b5644f64645",
   "execution_count": 32
  },
  {
   "cell_type": "markdown",
   "source": [
    "# mstz/heart_failure (big dataset)"
   ],
   "metadata": {
    "collapsed": false
   },
   "id": "cdf47dce5d09a06e"
  },
  {
   "cell_type": "code",
   "outputs": [
    {
     "name": "stdout",
     "output_type": "stream",
     "text": [
      "(299, 13)\n"
     ]
    },
    {
     "data": {
      "text/plain": "   age  has_anaemia  creatinine_phosphokinase_concentration_in_blood  \\\n0   75        False                                            582.0   \n1   55        False                                           7861.0   \n2   65        False                                            146.0   \n3   50         True                                            111.0   \n4   65         True                                            160.0   \n\n   has_diabetes  heart_ejection_fraction  has_high_blood_pressure  \\\n0         False                     20.0                     True   \n1         False                     38.0                    False   \n2         False                     20.0                    False   \n3         False                     20.0                    False   \n4          True                     20.0                    False   \n\n   platelets_concentration_in_blood  serum_creatinine_concentration_in_blood  \\\n0                         265000.00                                      1.9   \n1                         263358.03                                      1.1   \n2                         162000.00                                      1.3   \n3                         210000.00                                      1.9   \n4                         327000.00                                      2.7   \n\n   serum_sodium_concentration_in_blood  is_male  is_smoker  days_in_study  \\\n0                                130.0     True      False              4   \n1                                136.0     True      False              6   \n2                                129.0     True       True              7   \n3                                137.0     True      False              7   \n4                                116.0    False      False              8   \n\n   is_dead  \n0        1  \n1        1  \n2        1  \n3        1  \n4        1  ",
      "text/html": "<div>\n<style scoped>\n    .dataframe tbody tr th:only-of-type {\n        vertical-align: middle;\n    }\n\n    .dataframe tbody tr th {\n        vertical-align: top;\n    }\n\n    .dataframe thead th {\n        text-align: right;\n    }\n</style>\n<table border=\"1\" class=\"dataframe\">\n  <thead>\n    <tr style=\"text-align: right;\">\n      <th></th>\n      <th>age</th>\n      <th>has_anaemia</th>\n      <th>creatinine_phosphokinase_concentration_in_blood</th>\n      <th>has_diabetes</th>\n      <th>heart_ejection_fraction</th>\n      <th>has_high_blood_pressure</th>\n      <th>platelets_concentration_in_blood</th>\n      <th>serum_creatinine_concentration_in_blood</th>\n      <th>serum_sodium_concentration_in_blood</th>\n      <th>is_male</th>\n      <th>is_smoker</th>\n      <th>days_in_study</th>\n      <th>is_dead</th>\n    </tr>\n  </thead>\n  <tbody>\n    <tr>\n      <th>0</th>\n      <td>75</td>\n      <td>False</td>\n      <td>582.0</td>\n      <td>False</td>\n      <td>20.0</td>\n      <td>True</td>\n      <td>265000.00</td>\n      <td>1.9</td>\n      <td>130.0</td>\n      <td>True</td>\n      <td>False</td>\n      <td>4</td>\n      <td>1</td>\n    </tr>\n    <tr>\n      <th>1</th>\n      <td>55</td>\n      <td>False</td>\n      <td>7861.0</td>\n      <td>False</td>\n      <td>38.0</td>\n      <td>False</td>\n      <td>263358.03</td>\n      <td>1.1</td>\n      <td>136.0</td>\n      <td>True</td>\n      <td>False</td>\n      <td>6</td>\n      <td>1</td>\n    </tr>\n    <tr>\n      <th>2</th>\n      <td>65</td>\n      <td>False</td>\n      <td>146.0</td>\n      <td>False</td>\n      <td>20.0</td>\n      <td>False</td>\n      <td>162000.00</td>\n      <td>1.3</td>\n      <td>129.0</td>\n      <td>True</td>\n      <td>True</td>\n      <td>7</td>\n      <td>1</td>\n    </tr>\n    <tr>\n      <th>3</th>\n      <td>50</td>\n      <td>True</td>\n      <td>111.0</td>\n      <td>False</td>\n      <td>20.0</td>\n      <td>False</td>\n      <td>210000.00</td>\n      <td>1.9</td>\n      <td>137.0</td>\n      <td>True</td>\n      <td>False</td>\n      <td>7</td>\n      <td>1</td>\n    </tr>\n    <tr>\n      <th>4</th>\n      <td>65</td>\n      <td>True</td>\n      <td>160.0</td>\n      <td>True</td>\n      <td>20.0</td>\n      <td>False</td>\n      <td>327000.00</td>\n      <td>2.7</td>\n      <td>116.0</td>\n      <td>False</td>\n      <td>False</td>\n      <td>8</td>\n      <td>1</td>\n    </tr>\n  </tbody>\n</table>\n</div>"
     },
     "execution_count": 33,
     "metadata": {},
     "output_type": "execute_result"
    }
   ],
   "source": [
    "dataset_name = \"mstz/heart_failure\"\n",
    "ds = load_dataset(dataset_name)\n",
    "\n",
    "Xy = ds[\"train\"].with_format(\"pandas\")[:]\n",
    "print(Xy.shape)\n",
    "Xy.head()"
   ],
   "metadata": {
    "collapsed": false,
    "ExecuteTime": {
     "end_time": "2024-04-03T01:29:11.328163Z",
     "start_time": "2024-04-03T01:29:08.951563Z"
    }
   },
   "id": "3427c95e271e6a6d",
   "execution_count": 33
  },
  {
   "cell_type": "code",
   "outputs": [
    {
     "data": {
      "text/plain": "   age  has_anaemia  creatinine_phosphokinase_concentration_in_blood  \\\n0   75          0.0                                            582.0   \n1   55          0.0                                           7861.0   \n2   65          0.0                                            146.0   \n3   50          1.0                                            111.0   \n4   65          1.0                                            160.0   \n\n   has_diabetes  heart_ejection_fraction  has_high_blood_pressure  \\\n0           0.0                     20.0                      1.0   \n1           0.0                     38.0                      0.0   \n2           0.0                     20.0                      0.0   \n3           0.0                     20.0                      0.0   \n4           1.0                     20.0                      0.0   \n\n   platelets_concentration_in_blood  serum_creatinine_concentration_in_blood  \\\n0                         265000.00                                      1.9   \n1                         263358.03                                      1.1   \n2                         162000.00                                      1.3   \n3                         210000.00                                      1.9   \n4                         327000.00                                      2.7   \n\n   serum_sodium_concentration_in_blood  is_male  is_smoker  days_in_study  \n0                                130.0      1.0        0.0              4  \n1                                136.0      1.0        0.0              6  \n2                                129.0      1.0        1.0              7  \n3                                137.0      1.0        0.0              7  \n4                                116.0      0.0        0.0              8  ",
      "text/html": "<div>\n<style scoped>\n    .dataframe tbody tr th:only-of-type {\n        vertical-align: middle;\n    }\n\n    .dataframe tbody tr th {\n        vertical-align: top;\n    }\n\n    .dataframe thead th {\n        text-align: right;\n    }\n</style>\n<table border=\"1\" class=\"dataframe\">\n  <thead>\n    <tr style=\"text-align: right;\">\n      <th></th>\n      <th>age</th>\n      <th>has_anaemia</th>\n      <th>creatinine_phosphokinase_concentration_in_blood</th>\n      <th>has_diabetes</th>\n      <th>heart_ejection_fraction</th>\n      <th>has_high_blood_pressure</th>\n      <th>platelets_concentration_in_blood</th>\n      <th>serum_creatinine_concentration_in_blood</th>\n      <th>serum_sodium_concentration_in_blood</th>\n      <th>is_male</th>\n      <th>is_smoker</th>\n      <th>days_in_study</th>\n    </tr>\n  </thead>\n  <tbody>\n    <tr>\n      <th>0</th>\n      <td>75</td>\n      <td>0.0</td>\n      <td>582.0</td>\n      <td>0.0</td>\n      <td>20.0</td>\n      <td>1.0</td>\n      <td>265000.00</td>\n      <td>1.9</td>\n      <td>130.0</td>\n      <td>1.0</td>\n      <td>0.0</td>\n      <td>4</td>\n    </tr>\n    <tr>\n      <th>1</th>\n      <td>55</td>\n      <td>0.0</td>\n      <td>7861.0</td>\n      <td>0.0</td>\n      <td>38.0</td>\n      <td>0.0</td>\n      <td>263358.03</td>\n      <td>1.1</td>\n      <td>136.0</td>\n      <td>1.0</td>\n      <td>0.0</td>\n      <td>6</td>\n    </tr>\n    <tr>\n      <th>2</th>\n      <td>65</td>\n      <td>0.0</td>\n      <td>146.0</td>\n      <td>0.0</td>\n      <td>20.0</td>\n      <td>0.0</td>\n      <td>162000.00</td>\n      <td>1.3</td>\n      <td>129.0</td>\n      <td>1.0</td>\n      <td>1.0</td>\n      <td>7</td>\n    </tr>\n    <tr>\n      <th>3</th>\n      <td>50</td>\n      <td>1.0</td>\n      <td>111.0</td>\n      <td>0.0</td>\n      <td>20.0</td>\n      <td>0.0</td>\n      <td>210000.00</td>\n      <td>1.9</td>\n      <td>137.0</td>\n      <td>1.0</td>\n      <td>0.0</td>\n      <td>7</td>\n    </tr>\n    <tr>\n      <th>4</th>\n      <td>65</td>\n      <td>1.0</td>\n      <td>160.0</td>\n      <td>1.0</td>\n      <td>20.0</td>\n      <td>0.0</td>\n      <td>327000.00</td>\n      <td>2.7</td>\n      <td>116.0</td>\n      <td>0.0</td>\n      <td>0.0</td>\n      <td>8</td>\n    </tr>\n  </tbody>\n</table>\n</div>"
     },
     "execution_count": 34,
     "metadata": {},
     "output_type": "execute_result"
    }
   ],
   "source": [
    "oe_cols = [\"has_anaemia\", \"has_diabetes\", \"has_high_blood_pressure\", \"is_male\", \"is_smoker\"]\n",
    "oe = OrdinalEncoder()\n",
    "oe.fit(Xy.loc[:, oe_cols])\n",
    "Xy.loc[:, oe_cols] = oe.transform(Xy[oe_cols])\n",
    "X = Xy.iloc[:, :-1]\n",
    "y = Xy.iloc[:, -1]\n",
    "X.head()"
   ],
   "metadata": {
    "collapsed": false,
    "ExecuteTime": {
     "end_time": "2024-04-03T01:29:11.343234Z",
     "start_time": "2024-04-03T01:29:11.325409Z"
    }
   },
   "id": "c1c880a27ddfc48a",
   "execution_count": 34
  },
  {
   "cell_type": "code",
   "outputs": [
    {
     "name": "stdout",
     "output_type": "stream",
     "text": [
      "Running irls\n"
     ]
    },
    {
     "name": "stderr",
     "output_type": "stream",
     "text": [
      "Epoch::  15%|█▌        | 15/100 [00:00<00:01, 84.25it/s]\n"
     ]
    },
    {
     "name": "stdout",
     "output_type": "stream",
     "text": [
      "Early stopping after epoch 15\n",
      "Reverting to the weights corresponding to the lowest validation loss\n",
      "Running adam\n"
     ]
    },
    {
     "name": "stderr",
     "output_type": "stream",
     "text": [
      "Epoch::   7%|▋         | 7/100 [00:00<00:00, 384.47it/s]\n",
      "/Users/adam/.pyenv/versions/3.10.9/envs/flwr/lib/python3.10/site-packages/sklearn/metrics/_classification.py:2399: UserWarning: y_pred contains classes not in y_true\n",
      "  warnings.warn(\"y_pred contains classes not in y_true\")\n"
     ]
    },
    {
     "name": "stdout",
     "output_type": "stream",
     "text": [
      "Early stopping after epoch 7\n",
      "Reverting to the weights corresponding to the lowest validation loss\n",
      "Running sgd\n"
     ]
    },
    {
     "name": "stderr",
     "output_type": "stream",
     "text": [
      "Epoch::   4%|▍         | 4/100 [00:00<00:00, 513.76it/s]\n",
      "/Users/adam/.pyenv/versions/3.10.9/envs/flwr/lib/python3.10/site-packages/sklearn/metrics/_classification.py:2399: UserWarning: y_pred contains classes not in y_true\n",
      "  warnings.warn(\"y_pred contains classes not in y_true\")\n"
     ]
    },
    {
     "name": "stdout",
     "output_type": "stream",
     "text": [
      "Early stopping after epoch 4\n",
      "Reverting to the weights corresponding to the lowest validation loss\n",
      "Running irls\n"
     ]
    },
    {
     "name": "stderr",
     "output_type": "stream",
     "text": [
      "Epoch::   7%|▋         | 7/100 [00:00<00:00, 163.17it/s]\n"
     ]
    },
    {
     "name": "stdout",
     "output_type": "stream",
     "text": [
      "Early stopping after epoch 7\n",
      "Reverting to the weights corresponding to the lowest validation loss\n",
      "Running adam\n"
     ]
    },
    {
     "name": "stderr",
     "output_type": "stream",
     "text": [
      "Epoch::  14%|█▍        | 14/100 [00:00<00:00, 510.70it/s]\n"
     ]
    },
    {
     "name": "stdout",
     "output_type": "stream",
     "text": [
      "Early stopping after epoch 14\n",
      "Reverting to the weights corresponding to the lowest validation loss\n",
      "Running sgd\n"
     ]
    },
    {
     "name": "stderr",
     "output_type": "stream",
     "text": [
      "Epoch::   4%|▍         | 4/100 [00:00<00:00, 291.14it/s]\n",
      "/Users/adam/.pyenv/versions/3.10.9/envs/flwr/lib/python3.10/site-packages/sklearn/metrics/_classification.py:2399: UserWarning: y_pred contains classes not in y_true\n",
      "  warnings.warn(\"y_pred contains classes not in y_true\")\n"
     ]
    },
    {
     "name": "stdout",
     "output_type": "stream",
     "text": [
      "Early stopping after epoch 4\n",
      "Reverting to the weights corresponding to the lowest validation loss\n",
      "Running irls\n"
     ]
    },
    {
     "name": "stderr",
     "output_type": "stream",
     "text": [
      "Epoch::   5%|▌         | 5/100 [00:00<00:00, 121.44it/s]\n"
     ]
    },
    {
     "name": "stdout",
     "output_type": "stream",
     "text": [
      "Early stopping after epoch 5\n",
      "Reverting to the weights corresponding to the lowest validation loss\n",
      "Running adam\n"
     ]
    },
    {
     "name": "stderr",
     "output_type": "stream",
     "text": [
      "Epoch::   8%|▊         | 8/100 [00:00<00:00, 241.23it/s]\n",
      "/Users/adam/.pyenv/versions/3.10.9/envs/flwr/lib/python3.10/site-packages/sklearn/metrics/_classification.py:2399: UserWarning: y_pred contains classes not in y_true\n",
      "  warnings.warn(\"y_pred contains classes not in y_true\")\n"
     ]
    },
    {
     "name": "stdout",
     "output_type": "stream",
     "text": [
      "Early stopping after epoch 8\n",
      "Reverting to the weights corresponding to the lowest validation loss\n",
      "Running sgd\n"
     ]
    },
    {
     "name": "stderr",
     "output_type": "stream",
     "text": [
      "Epoch::   4%|▍         | 4/100 [00:00<00:00, 298.57it/s]\n",
      "/Users/adam/.pyenv/versions/3.10.9/envs/flwr/lib/python3.10/site-packages/sklearn/metrics/_classification.py:2399: UserWarning: y_pred contains classes not in y_true\n",
      "  warnings.warn(\"y_pred contains classes not in y_true\")\n"
     ]
    },
    {
     "name": "stdout",
     "output_type": "stream",
     "text": [
      "Early stopping after epoch 4\n",
      "Reverting to the weights corresponding to the lowest validation loss\n",
      "Running irls\n"
     ]
    },
    {
     "name": "stderr",
     "output_type": "stream",
     "text": [
      "Epoch::  13%|█▎        | 13/100 [00:00<00:00, 219.88it/s]\n"
     ]
    },
    {
     "name": "stdout",
     "output_type": "stream",
     "text": [
      "Early stopping after epoch 13\n",
      "Reverting to the weights corresponding to the lowest validation loss\n",
      "Running adam\n"
     ]
    },
    {
     "name": "stderr",
     "output_type": "stream",
     "text": [
      "Epoch::   9%|▉         | 9/100 [00:00<00:00, 323.06it/s]\n",
      "/Users/adam/.pyenv/versions/3.10.9/envs/flwr/lib/python3.10/site-packages/sklearn/metrics/_classification.py:2399: UserWarning: y_pred contains classes not in y_true\n",
      "  warnings.warn(\"y_pred contains classes not in y_true\")\n"
     ]
    },
    {
     "name": "stdout",
     "output_type": "stream",
     "text": [
      "Early stopping after epoch 9\n",
      "Reverting to the weights corresponding to the lowest validation loss\n",
      "Running sgd\n"
     ]
    },
    {
     "name": "stderr",
     "output_type": "stream",
     "text": [
      "Epoch::   4%|▍         | 4/100 [00:00<00:00, 227.64it/s]\n",
      "/Users/adam/.pyenv/versions/3.10.9/envs/flwr/lib/python3.10/site-packages/sklearn/metrics/_classification.py:2399: UserWarning: y_pred contains classes not in y_true\n",
      "  warnings.warn(\"y_pred contains classes not in y_true\")\n"
     ]
    },
    {
     "name": "stdout",
     "output_type": "stream",
     "text": [
      "Early stopping after epoch 4\n",
      "Reverting to the weights corresponding to the lowest validation loss\n",
      "Running irls\n"
     ]
    },
    {
     "name": "stderr",
     "output_type": "stream",
     "text": [
      "Epoch::  10%|█         | 10/100 [00:00<00:01, 62.91it/s]\n"
     ]
    },
    {
     "name": "stdout",
     "output_type": "stream",
     "text": [
      "Early stopping after epoch 10\n",
      "Reverting to the weights corresponding to the lowest validation loss\n",
      "Running adam\n"
     ]
    },
    {
     "name": "stderr",
     "output_type": "stream",
     "text": [
      "Epoch::  10%|█         | 10/100 [00:00<00:00, 309.91it/s]\n",
      "/Users/adam/.pyenv/versions/3.10.9/envs/flwr/lib/python3.10/site-packages/sklearn/metrics/_classification.py:2399: UserWarning: y_pred contains classes not in y_true\n",
      "  warnings.warn(\"y_pred contains classes not in y_true\")\n"
     ]
    },
    {
     "name": "stdout",
     "output_type": "stream",
     "text": [
      "Early stopping after epoch 10\n",
      "Reverting to the weights corresponding to the lowest validation loss\n",
      "Running sgd\n"
     ]
    },
    {
     "name": "stderr",
     "output_type": "stream",
     "text": [
      "Epoch::   4%|▍         | 4/100 [00:00<00:00, 555.33it/s]\n",
      "/Users/adam/.pyenv/versions/3.10.9/envs/flwr/lib/python3.10/site-packages/sklearn/metrics/_classification.py:2399: UserWarning: y_pred contains classes not in y_true\n",
      "  warnings.warn(\"y_pred contains classes not in y_true\")\n"
     ]
    },
    {
     "name": "stdout",
     "output_type": "stream",
     "text": [
      "Early stopping after epoch 4\n",
      "Reverting to the weights corresponding to the lowest validation loss\n"
     ]
    }
   ],
   "source": [
    "results = {}\n",
    "losses = {}\n",
    "\n",
    "splitting_seeds = [42, 43, 44, 45, 46]\n",
    "optimizer_to_kwargs = {\"irls\": {}, \"adam\": {\"eta\": 0.001}, \"sgd\": {\"eta\": 0.01}}\n",
    "\n",
    "for seed in splitting_seeds:\n",
    "    X_train, X_test, y_train, y_test = train_test_split(X, y, test_size=0.2, random_state=seed)\n",
    "    X_train, X_val, y_train, y_val = train_test_split(X_train, y_train, test_size=0.2, random_state=seed)\n",
    "    \n",
    "    for optimizer_name, kwargs in optimizer_to_kwargs.items():\n",
    "        print(f\"Running {optimizer_name}\")\n",
    "        optimizer = optimizer_factory(optimizer_name, **kwargs)\n",
    "        log_reg = LogisticRegression(input_dim=X_train.shape[1])\n",
    "        log_reg.train(X_train, y_train, X_val=X_val, y_val=y_val, optimizer=optimizer, patience=5, epochs=100, batch_size=X_train.shape[0])\n",
    "        \n",
    "        y_pred = log_reg.predict(X_test).round()\n",
    "        ba_score = balanced_accuracy_score(y_pred, y_test)\n",
    "        \n",
    "        # Store the results\n",
    "        results[(optimizer_name, seed)] = ba_score\n",
    "        if seed == 42:\n",
    "            losses[optimizer_name] = log_reg.losses\n",
    "    # Other models\n",
    "    y_lda, y_qda, y_dt, y_rf = fitComparisonModels(X_train, y_train, X_test)\n",
    "    models = ['lda', 'qda', 'dt', 'rf']\n",
    "    y_preds = [y_lda, y_qda, y_dt, y_rf]\n",
    "    \n",
    "    for model, y_pred in zip(models, y_preds):\n",
    "        ba_score = balanced_accuracy_score(y_test, y_pred)\n",
    "        results[(model, seed)] = ba_score\n",
    "\n",
    "# Converting results to DataFrame\n",
    "data = []\n",
    "for (model, seed), ba_score in results.items():\n",
    "    data.append({\"optimizer\": model, f\"seed_{seed}_acc\": ba_score})\n",
    "\n",
    "df = pd.DataFrame(data)\n",
    "df = df.groupby('optimizer').first().reset_index()\n",
    "df[\"data_set\"] = dataset_name\n",
    "# multi_index = pd.MultiIndex.from_arrays([df['data_set'], df[\"optimizer\"]], names=['data_set', 'optimizer'])\n",
    "df.index = df['data_set']\n",
    "df.drop('data_set', axis=1, inplace=True)\n",
    "df.to_csv(\"model_performance.csv\", index=True, mode=\"a\",  header=False)\n",
    "\n",
    "for optimizer, loss in losses.items():\n",
    "    np.save(f\"results/loss/{optimizer}/{dataset_name.replace('/', '-')}.npy\", np.array(loss))"
   ],
   "metadata": {
    "collapsed": false,
    "ExecuteTime": {
     "end_time": "2024-04-03T01:29:13.027596Z",
     "start_time": "2024-04-03T01:29:11.342822Z"
    }
   },
   "id": "205260a1b242c4fb",
   "execution_count": 35
  }
 ],
 "metadata": {
  "kernelspec": {
   "display_name": "flower",
   "language": "python",
   "name": "flower"
  },
  "language_info": {
   "codemirror_mode": {
    "name": "ipython",
    "version": 3
   },
   "file_extension": ".py",
   "mimetype": "text/x-python",
   "name": "python",
   "nbconvert_exporter": "python",
   "pygments_lexer": "ipython3",
   "version": "3.10.9"
  }
 },
 "nbformat": 4,
 "nbformat_minor": 5
}
