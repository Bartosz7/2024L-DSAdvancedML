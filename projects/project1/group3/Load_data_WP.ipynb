{
  "nbformat": 4,
  "nbformat_minor": 0,
  "metadata": {
    "colab": {
      "provenance": []
    },
    "kernelspec": {
      "name": "python3",
      "display_name": "Python 3"
    },
    "language_info": {
      "name": "python"
    }
  },
  "cells": [
    {
      "cell_type": "markdown",
      "source": [
        "# Data Loading\n",
        "\n",
        "*   https://archive.ics.uci.edu/dataset/151/connectionist+bench+sonar+mines+vs+rocks\n",
        "*   https://scikit-learn.org/stable/modules/generated/sklearn.datasets.load_breast_cancer.html\n",
        "* https://archive.ics.uci.edu/dataset/52/ionosphere\n",
        "\n"
      ],
      "metadata": {
        "id": "VXW9HGv97xFZ"
      }
    },
    {
      "cell_type": "code",
      "source": [
        "!pip install ucimlrepo"
      ],
      "metadata": {
        "colab": {
          "base_uri": "https://localhost:8080/"
        },
        "id": "SeUE4Al58SMu",
        "outputId": "cbff777b-c91c-4c3a-cfee-6d0dbb7484ec"
      },
      "execution_count": 4,
      "outputs": [
        {
          "output_type": "stream",
          "name": "stdout",
          "text": [
            "Collecting ucimlrepo\n",
            "  Downloading ucimlrepo-0.0.6-py3-none-any.whl (8.0 kB)\n",
            "Installing collected packages: ucimlrepo\n",
            "Successfully installed ucimlrepo-0.0.6\n"
          ]
        }
      ]
    },
    {
      "cell_type": "code",
      "source": [
        "from ucimlrepo import fetch_ucirepo\n",
        "import matplotlib.pyplot as plt"
      ],
      "metadata": {
        "id": "_Niu-UDwDonj"
      },
      "execution_count": 5,
      "outputs": []
    },
    {
      "cell_type": "markdown",
      "source": [
        "## Connectionist Bench (Sonar, Mines vs. Rocks)\n",
        "\n",
        "\n",
        "*   Each pattern is a set of 60 numbers in the range 0.0 to 1.0.  Each number represents the energy within a particular frequency band, integrated over a certain period of time.  The integration aperture for higher frequencies occur later in time, since these frequencies are transmitted later during the chirp.\n",
        "\n",
        "*   The label associated with each record contains the letter \"R\" if the object is a rock and \"M\" if it is a mine (metal cylinder).\n",
        "\n"
      ],
      "metadata": {
        "id": "wtZBgpug7_8H"
      }
    },
    {
      "cell_type": "code",
      "execution_count": null,
      "metadata": {
        "id": "UVZxRud67Old"
      },
      "outputs": [],
      "source": [
        "def fetch_sonar():\n",
        "  # fetch dataset\n",
        "  connectionist_bench_sonar_mines_vs_rocks = fetch_ucirepo(id=151)\n",
        "\n",
        "  # data (as pandas dataframes)\n",
        "  X = connectionist_bench_sonar_mines_vs_rocks.data.features\n",
        "  y = connectionist_bench_sonar_mines_vs_rocks.data.targets\n",
        "\n",
        "  missing_values_features = X.isnull().sum().sum()  # Checking is null with every feature, then sum\n",
        "  missing_values_targets = y.isnull().sum().sum()\n",
        "\n",
        "  if missing_values_features == 0 and missing_values_targets == 0:\n",
        "      print(\"No missing data in features and targets.\")\n",
        "  else:\n",
        "      print(f\"Missing data detected! Features missing values: {missing_values_features}, Targets missing values: {missing_values_targets}\")\n",
        "\n",
        "  #Mapping target classes R - rock to 0, M - mine to 1\n",
        "  y['class'] = y['class'].replace({'R': 0, 'M': 1})\n",
        "  target_counts = y['class'].value_counts()\n",
        "\n",
        "\n",
        "  plt.figure(figsize=(8, 6))\n",
        "  target_counts.plot.pie(autopct='%1.1f%%', startangle=90, labels=['Rock (0)', 'Mine (1)'], colors=['blue', 'orange'])\n",
        "  plt.title('Distribution of Target Classes in Sonar Dataset')\n",
        "  plt.ylabel('')  # Hide the y-label\n",
        "  plt.show()\n",
        "\n",
        "  print(\"Tail features sonar data\", X.tail)\n",
        "  print(\"Tail targets sonar data\", y.tail)\n",
        "\n",
        "  return X, y"
      ]
    },
    {
      "cell_type": "code",
      "source": [
        "sonar_X, sonar_y = fetch_sonar()"
      ],
      "metadata": {
        "colab": {
          "base_uri": "https://localhost:8080/",
          "height": 1000
        },
        "id": "psBvJXNC9RuQ",
        "outputId": "bb7271ff-9fb3-43a7-888f-544270a2cf68"
      },
      "execution_count": null,
      "outputs": [
        {
          "output_type": "stream",
          "name": "stdout",
          "text": [
            "No missing data in features and targets.\n"
          ]
        },
        {
          "output_type": "stream",
          "name": "stderr",
          "text": [
            "<ipython-input-60-03ef8c751f9a>:18: SettingWithCopyWarning: \n",
            "A value is trying to be set on a copy of a slice from a DataFrame.\n",
            "Try using .loc[row_indexer,col_indexer] = value instead\n",
            "\n",
            "See the caveats in the documentation: https://pandas.pydata.org/pandas-docs/stable/user_guide/indexing.html#returning-a-view-versus-a-copy\n",
            "  y['class'] = y['class'].replace({'R': 0, 'M': 1})\n"
          ]
        },
        {
          "output_type": "display_data",
          "data": {
            "text/plain": [
              "<Figure size 800x600 with 1 Axes>"
            ],
            "image/png": "[encoded data removed]"
          },
          "metadata": {}
        },
        {
          "output_type": "stream",
          "name": "stdout",
          "text": [
            "Tail features sonar data <bound method NDFrame.tail of      Attribute1  Attribute2  Attribute3  Attribute4  Attribute5  Attribute6  \\\n",
            "0        0.0200      0.0371      0.0428      0.0207      0.0954      0.0986   \n",
            "1        0.0453      0.0523      0.0843      0.0689      0.1183      0.2583   \n",
            "2        0.0262      0.0582      0.1099      0.1083      0.0974      0.2280   \n",
            "3        0.0100      0.0171      0.0623      0.0205      0.0205      0.0368   \n",
            "4        0.0762      0.0666      0.0481      0.0394      0.0590      0.0649   \n",
            "..          ...         ...         ...         ...         ...         ...   \n",
            "203      0.0187      0.0346      0.0168      0.0177      0.0393      0.1630   \n",
            "204      0.0323      0.0101      0.0298      0.0564      0.0760      0.0958   \n",
            "205      0.0522      0.0437      0.0180      0.0292      0.0351      0.1171   \n",
            "206      0.0303      0.0353      0.0490      0.0608      0.0167      0.1354   \n",
            "207      0.0260      0.0363      0.0136      0.0272      0.0214      0.0338   \n",
            "\n",
            "     Attribute7  Attribute8  Attribute9  Attribute10  ...  Attribute51  \\\n",
            "0        0.1539      0.1601      0.3109       0.2111  ...       0.0232   \n",
            "1        0.2156      0.3481      0.3337       0.2872  ...       0.0125   \n",
            "2        0.2431      0.3771      0.5598       0.6194  ...       0.0033   \n",
            "3        0.1098      0.1276      0.0598       0.1264  ...       0.0241   \n",
            "4        0.1209      0.2467      0.3564       0.4459  ...       0.0156   \n",
            "..          ...         ...         ...          ...  ...          ...   \n",
            "203      0.2028      0.1694      0.2328       0.2684  ...       0.0203   \n",
            "204      0.0990      0.1018      0.1030       0.2154  ...       0.0051   \n",
            "205      0.1257      0.1178      0.1258       0.2529  ...       0.0155   \n",
            "206      0.1465      0.1123      0.1945       0.2354  ...       0.0042   \n",
            "207      0.0655      0.1400      0.1843       0.2354  ...       0.0181   \n",
            "\n",
            "     Attribute52  Attribute53  Attribute54  Attribute55  Attribute56  \\\n",
            "0         0.0027       0.0065       0.0159       0.0072       0.0167   \n",
            "1         0.0084       0.0089       0.0048       0.0094       0.0191   \n",
            "2         0.0232       0.0166       0.0095       0.0180       0.0244   \n",
            "3         0.0121       0.0036       0.0150       0.0085       0.0073   \n",
            "4         0.0031       0.0054       0.0105       0.0110       0.0015   \n",
            "..           ...          ...          ...          ...          ...   \n",
            "203       0.0116       0.0098       0.0199       0.0033       0.0101   \n",
            "204       0.0061       0.0093       0.0135       0.0063       0.0063   \n",
            "205       0.0160       0.0029       0.0051       0.0062       0.0089   \n",
            "206       0.0086       0.0046       0.0126       0.0036       0.0035   \n",
            "207       0.0146       0.0129       0.0047       0.0039       0.0061   \n",
            "\n",
            "     Attribute57  Attribute58  Attribute59  Attribute60  \n",
            "0         0.0180       0.0084       0.0090       0.0032  \n",
            "1         0.0140       0.0049       0.0052       0.0044  \n",
            "2         0.0316       0.0164       0.0095       0.0078  \n",
            "3         0.0050       0.0044       0.0040       0.0117  \n",
            "4         0.0072       0.0048       0.0107       0.0094  \n",
            "..           ...          ...          ...          ...  \n",
            "203       0.0065       0.0115       0.0193       0.0157  \n",
            "204       0.0034       0.0032       0.0062       0.0067  \n",
            "205       0.0140       0.0138       0.0077       0.0031  \n",
            "206       0.0034       0.0079       0.0036       0.0048  \n",
            "207       0.0040       0.0036       0.0061       0.0115  \n",
            "\n",
            "[208 rows x 60 columns]>\n",
            "Tail targets sonar data <bound method NDFrame.tail of      class\n",
            "0        0\n",
            "1        0\n",
            "2        0\n",
            "3        0\n",
            "4        0\n",
            "..     ...\n",
            "203      1\n",
            "204      1\n",
            "205      1\n",
            "206      1\n",
            "207      1\n",
            "\n",
            "[208 rows x 1 columns]>\n"
          ]
        }
      ]
    },
    {
      "cell_type": "markdown",
      "source": [
        "##  UCI ML Breast Cancer Wisconsin (Diagnostic) dataset"
      ],
      "metadata": {
        "id": "RBcxOI9DD6dD"
      }
    },
    {
      "cell_type": "code",
      "source": [
        "from sklearn.datasets import load_breast_cancer\n",
        "import pandas as pd\n",
        "import numpy as np\n",
        "data = load_breast_cancer()\n",
        "print(data['data'])\n",
        "print(data.feature_names)\n",
        "\n",
        "df_describe = pd.DataFrame(data['data'])\n",
        "print(df_describe.describe())\n",
        "print(\"Target data is already prepared for binary classification. Example: \", data.target[[10, 50, 60]])"
      ],
      "metadata": {
        "colab": {
          "base_uri": "https://localhost:8080/"
        },
        "id": "-JoNnCS_ESsg",
        "outputId": "ff9a4694-ea40-4549-999f-b86535ce2b28"
      },
      "execution_count": 12,
      "outputs": [
        {
          "output_type": "stream",
          "name": "stdout",
          "text": [
            "[[1.799e+01 1.038e+01 1.228e+02 ... 2.654e-01 4.601e-01 1.189e-01]\n",
            " [2.057e+01 1.777e+01 1.329e+02 ... 1.860e-01 2.750e-01 8.902e-02]\n",
            " [1.969e+01 2.125e+01 1.300e+02 ... 2.430e-01 3.613e-01 8.758e-02]\n",
            " ...\n",
            " [1.660e+01 2.808e+01 1.083e+02 ... 1.418e-01 2.218e-01 7.820e-02]\n",
            " [2.060e+01 2.933e+01 1.401e+02 ... 2.650e-01 4.087e-01 1.240e-01]\n",
            " [7.760e+00 2.454e+01 4.792e+01 ... 0.000e+00 2.871e-01 7.039e-02]]\n",
            "['mean radius' 'mean texture' 'mean perimeter' 'mean area'\n",
            " 'mean smoothness' 'mean compactness' 'mean concavity'\n",
            " 'mean concave points' 'mean symmetry' 'mean fractal dimension'\n",
            " 'radius error' 'texture error' 'perimeter error' 'area error'\n",
            " 'smoothness error' 'compactness error' 'concavity error'\n",
            " 'concave points error' 'symmetry error' 'fractal dimension error'\n",
            " 'worst radius' 'worst texture' 'worst perimeter' 'worst area'\n",
            " 'worst smoothness' 'worst compactness' 'worst concavity'\n",
            " 'worst concave points' 'worst symmetry' 'worst fractal dimension']\n",
            "               0           1           2            3           4   \\\n",
            "count  569.000000  569.000000  569.000000   569.000000  569.000000   \n",
            "mean    14.127292   19.289649   91.969033   654.889104    0.096360   \n",
            "std      3.524049    4.301036   24.298981   351.914129    0.014064   \n",
            "min      6.981000    9.710000   43.790000   143.500000    0.052630   \n",
            "25%     11.700000   16.170000   75.170000   420.300000    0.086370   \n",
            "50%     13.370000   18.840000   86.240000   551.100000    0.095870   \n",
            "75%     15.780000   21.800000  104.100000   782.700000    0.105300   \n",
            "max     28.110000   39.280000  188.500000  2501.000000    0.163400   \n",
            "\n",
            "               5           6           7           8           9   ...  \\\n",
            "count  569.000000  569.000000  569.000000  569.000000  569.000000  ...   \n",
            "mean     0.104341    0.088799    0.048919    0.181162    0.062798  ...   \n",
            "std      0.052813    0.079720    0.038803    0.027414    0.007060  ...   \n",
            "min      0.019380    0.000000    0.000000    0.106000    0.049960  ...   \n",
            "25%      0.064920    0.029560    0.020310    0.161900    0.057700  ...   \n",
            "50%      0.092630    0.061540    0.033500    0.179200    0.061540  ...   \n",
            "75%      0.130400    0.130700    0.074000    0.195700    0.066120  ...   \n",
            "max      0.345400    0.426800    0.201200    0.304000    0.097440  ...   \n",
            "\n",
            "               20          21          22           23          24  \\\n",
            "count  569.000000  569.000000  569.000000   569.000000  569.000000   \n",
            "mean    16.269190   25.677223  107.261213   880.583128    0.132369   \n",
            "std      4.833242    6.146258   33.602542   569.356993    0.022832   \n",
            "min      7.930000   12.020000   50.410000   185.200000    0.071170   \n",
            "25%     13.010000   21.080000   84.110000   515.300000    0.116600   \n",
            "50%     14.970000   25.410000   97.660000   686.500000    0.131300   \n",
            "75%     18.790000   29.720000  125.400000  1084.000000    0.146000   \n",
            "max     36.040000   49.540000  251.200000  4254.000000    0.222600   \n",
            "\n",
            "               25          26          27          28          29  \n",
            "count  569.000000  569.000000  569.000000  569.000000  569.000000  \n",
            "mean     0.254265    0.272188    0.114606    0.290076    0.083946  \n",
            "std      0.157336    0.208624    0.065732    0.061867    0.018061  \n",
            "min      0.027290    0.000000    0.000000    0.156500    0.055040  \n",
            "25%      0.147200    0.114500    0.064930    0.250400    0.071460  \n",
            "50%      0.211900    0.226700    0.099930    0.282200    0.080040  \n",
            "75%      0.339100    0.382900    0.161400    0.317900    0.092080  \n",
            "max      1.058000    1.252000    0.291000    0.663800    0.207500  \n",
            "\n",
            "[8 rows x 30 columns]\n",
            "Target data is already prepared for binary classification. Example:  [0 1 1]\n"
          ]
        }
      ]
    },
    {
      "cell_type": "code",
      "source": [
        "import seaborn as sns\n",
        "plt.figure(figsize=(12, 8))\n",
        "correlation_matrix = df_describe.corr()\n",
        "sns.heatmap(df_describe.corr(), cmap='viridis')"
      ],
      "metadata": {
        "colab": {
          "base_uri": "https://localhost:8080/",
          "height": 699
        },
        "id": "L6kfErEmRZw9",
        "outputId": "aeedbffb-79e9-4f5b-ab77-329d2d0cbec1"
      },
      "execution_count": 7,
      "outputs": [
        {
          "output_type": "execute_result",
          "data": {
            "text/plain": [
              "<Axes: >"
            ]
          },
          "metadata": {},
          "execution_count": 7
        },
        {
          "output_type": "display_data",
          "data": {
            "text/plain": [
              "<Figure size 1200x800 with 2 Axes>"
            ],
            "image/png": "[encoded data removed]"
          },
          "metadata": {}
        }
      ]
    },
    {
      "cell_type": "code",
      "source": [
        "threshold = 0.9\n",
        "highly_correlated = np.where(np.abs(correlation_matrix) > threshold)\n",
        "correlated_features = set()\n",
        "\n",
        "# Iterate over the indices of highly correlated features\n",
        "for x, y in zip(*highly_correlated):\n",
        "    if x != y and x < y:  # Ensure not to include self-correlation and only include one pair of each feature\n",
        "        feature1 = correlation_matrix.index[x]\n",
        "        feature2 = correlation_matrix.columns[y]\n",
        "        correlation = correlation_matrix.iloc[x, y]\n",
        "        correlated_features.add((feature1, feature2, correlation))\n",
        "print(\"Highly Correlated Features:\")\n",
        "for feature1, feature2, correlation in correlated_features:\n",
        "    print(f\"{feature1} - {feature2}: {correlation:.2f}\")\n",
        "\n",
        "features_to_remove = set()\n",
        "for feature1, feature2, _ in correlated_features:\n",
        "    features_to_remove.add(feature2)\n",
        "\n",
        "# Remove highly correlated features from the dataset\n",
        "data_filtered = df_describe.drop(columns=features_to_remove)\n",
        "\n",
        "print(\"\\nRemoved Features:\")\n",
        "print(features_to_remove)\n",
        "print(\"Shape of the filtered dataset:\", data_filtered.shape)\n",
        "\n"
      ],
      "metadata": {
        "colab": {
          "base_uri": "https://localhost:8080/"
        },
        "id": "omU7SL1AB25g",
        "outputId": "d35144ea-6fae-465c-f1ff-def1d7d0f16c"
      },
      "execution_count": 17,
      "outputs": [
        {
          "output_type": "stream",
          "name": "stdout",
          "text": [
            "Highly Correlated Features:\n",
            "0 - 3: 0.99\n",
            "0 - 23: 0.94\n",
            "0 - 22: 0.97\n",
            "0 - 2: 1.00\n",
            "10 - 13: 0.95\n",
            "10 - 12: 0.97\n",
            "2 - 23: 0.94\n",
            "22 - 23: 0.98\n",
            "2 - 20: 0.97\n",
            "7 - 27: 0.91\n",
            "12 - 13: 0.94\n",
            "2 - 22: 0.97\n",
            "20 - 23: 0.98\n",
            "2 - 3: 0.99\n",
            "3 - 20: 0.96\n",
            "0 - 20: 0.97\n",
            "1 - 21: 0.91\n",
            "20 - 22: 0.99\n",
            "3 - 23: 0.96\n",
            "6 - 7: 0.92\n",
            "3 - 22: 0.96\n",
            "\n",
            "Removed Features:\n",
            "{2, 3, 7, 12, 13, 20, 21, 22, 23, 27}\n",
            "Shape of the filtered dataset: (569, 20)\n"
          ]
        }
      ]
    },
    {
      "cell_type": "code",
      "source": [
        "X_breast = data_filtered\n",
        "Y_breast = data.target\n",
        "print(type(X_breast), type(Y_breast))\n",
        "X_breast, Y_breast"
      ],
      "metadata": {
        "colab": {
          "base_uri": "https://localhost:8080/"
        },
        "id": "N25CdMXBKXwd",
        "outputId": "31b9cb67-ed6c-4379-893f-3a2f395e9ad3"
      },
      "execution_count": 25,
      "outputs": [
        {
          "output_type": "stream",
          "name": "stdout",
          "text": [
            "<class 'pandas.core.frame.DataFrame'> <class 'numpy.ndarray'>\n"
          ]
        },
        {
          "output_type": "execute_result",
          "data": {
            "text/plain": [
              "(        0      1        4        5        6       8        9       10      11  \\\n",
              " 0    17.99  10.38  0.11840  0.27760  0.30010  0.2419  0.07871  1.0950  0.9053   \n",
              " 1    20.57  17.77  0.08474  0.07864  0.08690  0.1812  0.05667  0.5435  0.7339   \n",
              " 2    19.69  21.25  0.10960  0.15990  0.19740  0.2069  0.05999  0.7456  0.7869   \n",
              " 3    11.42  20.38  0.14250  0.28390  0.24140  0.2597  0.09744  0.4956  1.1560   \n",
              " 4    20.29  14.34  0.10030  0.13280  0.19800  0.1809  0.05883  0.7572  0.7813   \n",
              " ..     ...    ...      ...      ...      ...     ...      ...     ...     ...   \n",
              " 564  21.56  22.39  0.11100  0.11590  0.24390  0.1726  0.05623  1.1760  1.2560   \n",
              " 565  20.13  28.25  0.09780  0.10340  0.14400  0.1752  0.05533  0.7655  2.4630   \n",
              " 566  16.60  28.08  0.08455  0.10230  0.09251  0.1590  0.05648  0.4564  1.0750   \n",
              " 567  20.60  29.33  0.11780  0.27700  0.35140  0.2397  0.07016  0.7260  1.5950   \n",
              " 568   7.76  24.54  0.05263  0.04362  0.00000  0.1587  0.05884  0.3857  1.4280   \n",
              " \n",
              "            14       15       16       17       18        19       24       25  \\\n",
              " 0    0.006399  0.04904  0.05373  0.01587  0.03003  0.006193  0.16220  0.66560   \n",
              " 1    0.005225  0.01308  0.01860  0.01340  0.01389  0.003532  0.12380  0.18660   \n",
              " 2    0.006150  0.04006  0.03832  0.02058  0.02250  0.004571  0.14440  0.42450   \n",
              " 3    0.009110  0.07458  0.05661  0.01867  0.05963  0.009208  0.20980  0.86630   \n",
              " 4    0.011490  0.02461  0.05688  0.01885  0.01756  0.005115  0.13740  0.20500   \n",
              " ..        ...      ...      ...      ...      ...       ...      ...      ...   \n",
              " 564  0.010300  0.02891  0.05198  0.02454  0.01114  0.004239  0.14100  0.21130   \n",
              " 565  0.005769  0.02423  0.03950  0.01678  0.01898  0.002498  0.11660  0.19220   \n",
              " 566  0.005903  0.03731  0.04730  0.01557  0.01318  0.003892  0.11390  0.30940   \n",
              " 567  0.006522  0.06158  0.07117  0.01664  0.02324  0.006185  0.16500  0.86810   \n",
              " 568  0.007189  0.00466  0.00000  0.00000  0.02676  0.002783  0.08996  0.06444   \n",
              " \n",
              "          26      28       29  \n",
              " 0    0.7119  0.4601  0.11890  \n",
              " 1    0.2416  0.2750  0.08902  \n",
              " 2    0.4504  0.3613  0.08758  \n",
              " 3    0.6869  0.6638  0.17300  \n",
              " 4    0.4000  0.2364  0.07678  \n",
              " ..      ...     ...      ...  \n",
              " 564  0.4107  0.2060  0.07115  \n",
              " 565  0.3215  0.2572  0.06637  \n",
              " 566  0.3403  0.2218  0.07820  \n",
              " 567  0.9387  0.4087  0.12400  \n",
              " 568  0.0000  0.2871  0.07039  \n",
              " \n",
              " [569 rows x 20 columns],\n",
              " array([0, 0, 0, 0, 0, 0, 0, 0, 0, 0, 0, 0, 0, 0, 0, 0, 0, 0, 0, 1, 1, 1,\n",
              "        0, 0, 0, 0, 0, 0, 0, 0, 0, 0, 0, 0, 0, 0, 0, 1, 0, 0, 0, 0, 0, 0,\n",
              "        0, 0, 1, 0, 1, 1, 1, 1, 1, 0, 0, 1, 0, 0, 1, 1, 1, 1, 0, 1, 0, 0,\n",
              "        1, 1, 1, 1, 0, 1, 0, 0, 1, 0, 1, 0, 0, 1, 1, 1, 0, 0, 1, 0, 0, 0,\n",
              "        1, 1, 1, 0, 1, 1, 0, 0, 1, 1, 1, 0, 0, 1, 1, 1, 1, 0, 1, 1, 0, 1,\n",
              "        1, 1, 1, 1, 1, 1, 1, 0, 0, 0, 1, 0, 0, 1, 1, 1, 0, 0, 1, 0, 1, 0,\n",
              "        0, 1, 0, 0, 1, 1, 0, 1, 1, 0, 1, 1, 1, 1, 0, 1, 1, 1, 1, 1, 1, 1,\n",
              "        1, 1, 0, 1, 1, 1, 1, 0, 0, 1, 0, 1, 1, 0, 0, 1, 1, 0, 0, 1, 1, 1,\n",
              "        1, 0, 1, 1, 0, 0, 0, 1, 0, 1, 0, 1, 1, 1, 0, 1, 1, 0, 0, 1, 0, 0,\n",
              "        0, 0, 1, 0, 0, 0, 1, 0, 1, 0, 1, 1, 0, 1, 0, 0, 0, 0, 1, 1, 0, 0,\n",
              "        1, 1, 1, 0, 1, 1, 1, 1, 1, 0, 0, 1, 1, 0, 1, 1, 0, 0, 1, 0, 1, 1,\n",
              "        1, 1, 0, 1, 1, 1, 1, 1, 0, 1, 0, 0, 0, 0, 0, 0, 0, 0, 0, 0, 0, 0,\n",
              "        0, 0, 1, 1, 1, 1, 1, 1, 0, 1, 0, 1, 1, 0, 1, 1, 0, 1, 0, 0, 1, 1,\n",
              "        1, 1, 1, 1, 1, 1, 1, 1, 1, 1, 1, 0, 1, 1, 0, 1, 0, 1, 1, 1, 1, 1,\n",
              "        1, 1, 1, 1, 1, 1, 1, 1, 1, 0, 1, 1, 1, 0, 1, 0, 1, 1, 1, 1, 0, 0,\n",
              "        0, 1, 1, 1, 1, 0, 1, 0, 1, 0, 1, 1, 1, 0, 1, 1, 1, 1, 1, 1, 1, 0,\n",
              "        0, 0, 1, 1, 1, 1, 1, 1, 1, 1, 1, 1, 1, 0, 0, 1, 0, 0, 0, 1, 0, 0,\n",
              "        1, 1, 1, 1, 1, 0, 1, 1, 1, 1, 1, 0, 1, 1, 1, 0, 1, 1, 0, 0, 1, 1,\n",
              "        1, 1, 1, 1, 0, 1, 1, 1, 1, 1, 1, 1, 0, 1, 1, 1, 1, 1, 0, 1, 1, 0,\n",
              "        1, 1, 1, 1, 1, 1, 1, 1, 1, 1, 1, 1, 0, 1, 0, 0, 1, 0, 1, 1, 1, 1,\n",
              "        1, 0, 1, 1, 0, 1, 0, 1, 1, 0, 1, 0, 1, 1, 1, 1, 1, 1, 1, 1, 0, 0,\n",
              "        1, 1, 1, 1, 1, 1, 0, 1, 1, 1, 1, 1, 1, 1, 1, 1, 1, 0, 1, 1, 1, 1,\n",
              "        1, 1, 1, 0, 1, 0, 1, 1, 0, 1, 1, 1, 1, 1, 0, 0, 1, 0, 1, 0, 1, 1,\n",
              "        1, 1, 1, 0, 1, 1, 0, 1, 0, 1, 0, 0, 1, 1, 1, 0, 1, 1, 1, 1, 1, 1,\n",
              "        1, 1, 1, 1, 1, 0, 1, 0, 0, 1, 1, 1, 1, 1, 1, 1, 1, 1, 1, 1, 1, 1,\n",
              "        1, 1, 1, 1, 1, 1, 1, 1, 1, 1, 1, 1, 0, 0, 0, 0, 0, 0, 1]))"
            ]
          },
          "metadata": {},
          "execution_count": 25
        }
      ]
    },
    {
      "cell_type": "markdown",
      "source": [
        "# Ionosphere\n",
        "\n",
        "\n",
        "*   This system consists of a phased array of 16 high-frequency antennas with a total transmitted power on the order of 6.4 kilowatts.\n",
        "*   The targets were free electrons in the ionosphere. \"Good\" radar returns are those showing evidence of some type of structure in the ionosphere.  \"Bad\" returns are those that do not; their signals pass through the ionosphere.\n",
        "\n"
      ],
      "metadata": {
        "id": "MVj3fT7BHImk"
      }
    },
    {
      "cell_type": "code",
      "source": [
        "def fetch_ionsphere():\n",
        "  # fetch dataset\n",
        "  ionosphere = fetch_ucirepo(id=52)\n",
        "\n",
        "  # data (as pandas dataframes)\n",
        "  X = ionosphere.data.features\n",
        "  y = ionosphere.data.targets\n",
        "\n",
        "  missing_values_features = X.isnull().sum().sum()  # Checking is null with every feature, then sum\n",
        "  missing_values_targets = y.isnull().sum().sum()\n",
        "\n",
        "  if missing_values_features == 0 and missing_values_targets == 0:\n",
        "      print(\"No missing data in features and targets.\")\n",
        "  else:\n",
        "      print(f\"Missing data detected! Features missing values: {missing_values_features}, Targets missing values: {missing_values_targets}\")\n",
        "\n",
        "  #Mapping target classes b - bad to 0, g - good to 1\n",
        "  y['Class'] = y['Class'].replace({'b': 0, 'g': 1})\n",
        "\n",
        "  target_counts = y.value_counts()\n",
        "  plt.figure(figsize=(8, 6))\n",
        "  target_counts.plot.pie(autopct='%1.1f%%', startangle=90, labels=['Bad (0)', 'Good (1)'], colors=['red', 'green'])\n",
        "  plt.title('Distribution of Target Classes in Ionosphere Dataset')\n",
        "  plt.ylabel('')\n",
        "  plt.show()\n",
        "\n",
        "  print(\"Tail features ionsphere data\", X.tail)\n",
        "  print(\"Tail targets ionsphere data\", y.tail)\n",
        "\n",
        "  return X, y\n"
      ],
      "metadata": {
        "id": "jjLOTXySHUss"
      },
      "execution_count": 21,
      "outputs": []
    },
    {
      "cell_type": "code",
      "source": [
        "ionsphere_X, ionsphere_y = fetch_ionsphere()"
      ],
      "metadata": {
        "colab": {
          "base_uri": "https://localhost:8080/",
          "height": 1000
        },
        "id": "xYETmQKiI7lz",
        "outputId": "72296228-7dad-4b13-cfc1-0a10b68c4ed2"
      },
      "execution_count": 22,
      "outputs": [
        {
          "output_type": "stream",
          "name": "stdout",
          "text": [
            "No missing data in features and targets.\n"
          ]
        },
        {
          "output_type": "stream",
          "name": "stderr",
          "text": [
            "<ipython-input-21-f42a10e74cdc>:18: SettingWithCopyWarning: \n",
            "A value is trying to be set on a copy of a slice from a DataFrame.\n",
            "Try using .loc[row_indexer,col_indexer] = value instead\n",
            "\n",
            "See the caveats in the documentation: https://pandas.pydata.org/pandas-docs/stable/user_guide/indexing.html#returning-a-view-versus-a-copy\n",
            "  y['Class'] = y['Class'].replace({'b': 0, 'g': 1})\n"
          ]
        },
        {
          "output_type": "display_data",
          "data": {
            "text/plain": [
              "<Figure size 800x600 with 1 Axes>"
            ],
            "image/png": "[encoded data removed]"
          },
          "metadata": {}
        },
        {
          "output_type": "stream",
          "name": "stdout",
          "text": [
            "Tail features ionsphere data <bound method NDFrame.tail of      Attribute1  Attribute2  Attribute3  Attribute4  Attribute5  Attribute6  \\\n",
            "0             1           0     0.99539    -0.05889     0.85243     0.02306   \n",
            "1             1           0     1.00000    -0.18829     0.93035    -0.36156   \n",
            "2             1           0     1.00000    -0.03365     1.00000     0.00485   \n",
            "3             1           0     1.00000    -0.45161     1.00000     1.00000   \n",
            "4             1           0     1.00000    -0.02401     0.94140     0.06531   \n",
            "..          ...         ...         ...         ...         ...         ...   \n",
            "346           1           0     0.83508     0.08298     0.73739    -0.14706   \n",
            "347           1           0     0.95113     0.00419     0.95183    -0.02723   \n",
            "348           1           0     0.94701    -0.00034     0.93207    -0.03227   \n",
            "349           1           0     0.90608    -0.01657     0.98122    -0.01989   \n",
            "350           1           0     0.84710     0.13533     0.73638    -0.06151   \n",
            "\n",
            "     Attribute7  Attribute8  Attribute9  Attribute10  ...  Attribute25  \\\n",
            "0       0.83398    -0.37708     1.00000      0.03760  ...      0.56811   \n",
            "1      -0.10868    -0.93597     1.00000     -0.04549  ...     -0.20332   \n",
            "2       1.00000    -0.12062     0.88965      0.01198  ...      0.57528   \n",
            "3       0.71216    -1.00000     0.00000      0.00000  ...      1.00000   \n",
            "4       0.92106    -0.23255     0.77152     -0.16399  ...      0.03286   \n",
            "..          ...         ...         ...          ...  ...          ...   \n",
            "346     0.84349    -0.05567     0.90441     -0.04622  ...      0.95378   \n",
            "347     0.93438    -0.01920     0.94590      0.01606  ...      0.94520   \n",
            "348     0.95177    -0.03431     0.95584      0.02446  ...      0.93988   \n",
            "349     0.95691    -0.03646     0.85746      0.00110  ...      0.91050   \n",
            "350     0.87873     0.08260     0.88928     -0.09139  ...      0.86467   \n",
            "\n",
            "     Attribute26  Attribute27  Attribute28  Attribute29  Attribute30  \\\n",
            "0       -0.51171      0.41078     -0.46168      0.21266     -0.34090   \n",
            "1       -0.26569     -0.20468     -0.18401     -0.19040     -0.11593   \n",
            "2       -0.40220      0.58984     -0.22145      0.43100     -0.17365   \n",
            "3        0.90695      0.51613      1.00000      1.00000     -0.20099   \n",
            "4       -0.65158      0.13290     -0.53206      0.02431     -0.62197   \n",
            "..           ...          ...          ...          ...          ...   \n",
            "346     -0.04202      0.83479      0.00123      1.00000      0.12815   \n",
            "347      0.01361      0.93522      0.04925      0.93159      0.08168   \n",
            "348      0.03193      0.92489      0.02542      0.92120      0.02242   \n",
            "349     -0.02099      0.89147     -0.07760      0.82983     -0.17238   \n",
            "350     -0.15114      0.81147     -0.04822      0.78207     -0.00703   \n",
            "\n",
            "     Attribute31  Attribute32  Attribute33  Attribute34  \n",
            "0        0.42267     -0.54487      0.18641     -0.45300  \n",
            "1       -0.16626     -0.06288     -0.13738     -0.02447  \n",
            "2        0.60436     -0.24180      0.56045     -0.38238  \n",
            "3        0.25682      1.00000     -0.32382      1.00000  \n",
            "4       -0.05707     -0.59573     -0.04608     -0.65697  \n",
            "..           ...          ...          ...          ...  \n",
            "346      0.86660     -0.10714      0.90546     -0.04307  \n",
            "347      0.94066     -0.00035      0.91483      0.04712  \n",
            "348      0.92459      0.00442      0.92697     -0.00577  \n",
            "349      0.96022     -0.03757      0.87403     -0.16243  \n",
            "350      0.75747     -0.06678      0.85764     -0.06151  \n",
            "\n",
            "[351 rows x 34 columns]>\n",
            "Tail targets ionsphere data <bound method NDFrame.tail of      Class\n",
            "0        1\n",
            "1        0\n",
            "2        1\n",
            "3        0\n",
            "4        1\n",
            "..     ...\n",
            "346      1\n",
            "347      1\n",
            "348      1\n",
            "349      1\n",
            "350      1\n",
            "\n",
            "[351 rows x 1 columns]>\n"
          ]
        }
      ]
    },
    {
      "cell_type": "code",
      "source": [
        "print(type(ionsphere_X), type(ionsphere_y))"
      ],
      "metadata": {
        "colab": {
          "base_uri": "https://localhost:8080/"
        },
        "id": "EOEio-VYKuDa",
        "outputId": "15981dbd-4336-49f5-c3d6-2847dc025ee8"
      },
      "execution_count": 24,
      "outputs": [
        {
          "output_type": "stream",
          "name": "stdout",
          "text": [
            "<class 'pandas.core.frame.DataFrame'> <class 'pandas.core.frame.DataFrame'>\n"
          ]
        }
      ]
    }
  ]
}